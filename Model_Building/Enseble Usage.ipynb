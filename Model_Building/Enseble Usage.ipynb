{
 "cells": [
  {
   "cell_type": "markdown",
   "metadata": {},
   "source": [
    "# Scoring function"
   ]
  },
  {
   "cell_type": "code",
   "execution_count": null,
   "metadata": {},
   "outputs": [],
   "source": [
    "from sklearn.metrics import f1_score, confusion_matrix, precision_score, accuracy_score\n",
    "\n",
    "def score(y_true, y_pred):\n",
    "    A = confusion_matrix(y_true, y_pred)\n",
    "    print(\n",
    "    f''' \n",
    "    F1 score              | {round(f1_score(y_true, y_pred)*100, 2)}        \\n\n",
    "    -----------------------------\n",
    "    Precision score       | {round(precision_score(y_true, y_pred)*100, 2)} \\n\n",
    "    -----------------------------\n",
    "    Accuracy              | {round(accuracy_score(y_true, y_pred)*100, 2)}  \\n\n",
    "    -----------------------------\n",
    "    Confusion matrix | {A[0,0]} {A[0,1]}\n",
    "                       {A[1,0]} {A[1,1]}\n",
    "    '''\n",
    "    )"
   ]
  },
  {
   "cell_type": "markdown",
   "metadata": {},
   "source": [
    "# Preprocessing"
   ]
  },
  {
   "cell_type": "code",
   "execution_count": null,
   "metadata": {},
   "outputs": [],
   "source": [
    "import pandas as pd\n",
    "from joblib import load\n",
    "\n",
    "ord_encoder     = load('./models/encoders/ordinal_encoder.joblib')\n",
    "one_hot_encoder = load('./models/encoders/one_hot_encoder.joblib')\n",
    "std_sc          = load('./models/encoders/standard_scaler.joblib')\n",
    "\n",
    "def preprocessing(df):\n",
    "    df = df.drop(index=df.loc[df['loan_status']=='Current', :].index)\n",
    "    X = df.loc[df['sub_grade'].apply(lambda row: False if row[0] in ['A', 'B','C'] else True), :]\n",
    "    y = X['loan_status'].replace({'Defaulted':0, 'FullyPaid':1})\n",
    "    X = X.iloc[:, :-1]\n",
    "    \n",
    "    X_ord  = ord_encoder.transform(X)\n",
    "\n",
    "    X_oh   = one_hot_encoder.transform(X)\n",
    "\n",
    "    drop_first = ['term_1', 'home_ownership_1', 'purpose_1','addr_state_1',\n",
    "                  'initial_list_status_1','sub_grade_1','emp_length_1']\n",
    "    X_oh  = X_oh.drop(columns = drop_first)\n",
    "    \n",
    "    X_oh   = std_sc.transform(X_oh)\n",
    "    \n",
    "    return X_ord, X_oh, y"
   ]
  },
  {
   "cell_type": "markdown",
   "metadata": {},
   "source": [
    "# Load models"
   ]
  },
  {
   "cell_type": "code",
   "execution_count": null,
   "metadata": {},
   "outputs": [],
   "source": [
    "from tensorflow.keras.models import load_model\n",
    "from joblib import load\n",
    "\n",
    "model_rf    = load('./models/RandomForest_1.joblib')\n",
    "model_xgb   = load('./models/XGBoost_1.joblib')\n",
    "model_rf2   = load('./models/RandomForest_2.joblib')\n",
    "model_xgb2  = load('./models/XGBoost_2.joblib')\n",
    "model_lgbm  = load('./models/LGBM_1.joblib')\n",
    "model_logit = load('./models/logit.joblib')\n",
    "model_nn    = load_model('./models/shallowNN_1')\n",
    "\n",
    "models_ord = [model_rf, model_xgb, model_rf2, model_xgb2, model_lgbm] \n",
    "models_oh  = [model_logit, model_nn]"
   ]
  },
  {
   "cell_type": "markdown",
   "metadata": {},
   "source": [
    "# Ensemble models"
   ]
  },
  {
   "cell_type": "code",
   "execution_count": null,
   "metadata": {},
   "outputs": [],
   "source": [
    "from functools import reduce\n",
    "\n",
    "def ensemble(X_ord, X_oh, models_ord, models_oh, treshold = None):\n",
    "    if treshold == None:\n",
    "        treshold = (len(models_ord)+ len(models_oh))//2 + 1\n",
    "    predictions = []\n",
    "    for model in models_ord:\n",
    "        predictions.append(pd.Series(model.predict(X_ord)))\n",
    "    for model in models_oh:\n",
    "        predictions.append(pd.Series(model.predict(X_oh).reshape(-1)).apply(lambda x: 1 if x > .5 else 0))\n",
    "    \n",
    "    y_sum = reduce(lambda x, y: x+y, predictions)\n",
    "    return y_sum.apply(lambda x: 1 if x >= treshold else 0)"
   ]
  },
  {
   "cell_type": "markdown",
   "metadata": {},
   "source": [
    "# Testing"
   ]
  },
  {
   "cell_type": "code",
   "execution_count": null,
   "metadata": {},
   "outputs": [],
   "source": [
    "test2017 =  pd.read_csv('/Users/ivanpassoni/Google Drive/LendingClubData/ml datasets/accepted_2017_ml.csv',\n",
    "                        low_memory = False)\n",
    "\n",
    "X_2017_ord, X_2017_oh, y = preprocessing(test2017)\n",
    "\n",
    "y_pred = ensemble(X_2017_ord, X_2017_oh, models_ord, models_oh, 7)\n",
    "\n",
    "score(y, y_pred)\n",
    "\n",
    "# Base\n",
    "import numpy as np\n",
    "print('Base case:')\n",
    "score(y, pd.Series(np.ones(len(y))))"
   ]
  }
 ],
 "metadata": {
  "kernelspec": {
   "display_name": "Python 3",
   "language": "python",
   "name": "python3"
  },
  "language_info": {
   "codemirror_mode": {
    "name": "ipython",
    "version": 3
   },
   "file_extension": ".py",
   "mimetype": "text/x-python",
   "name": "python",
   "nbconvert_exporter": "python",
   "pygments_lexer": "ipython3",
   "version": "3.7.4"
  }
 },
 "nbformat": 4,
 "nbformat_minor": 2
}
