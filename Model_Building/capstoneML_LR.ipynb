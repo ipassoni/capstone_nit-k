{
 "cells": [
  {
   "cell_type": "code",
   "execution_count": 1,
   "metadata": {},
   "outputs": [],
   "source": [
    "%matplotlib inline\n",
    "import matplotlib.pyplot as plt\n",
    "import numpy  as np\n",
    "import pandas as pd\n",
    "import seaborn as sns\n",
    "import re\n",
    "from scipy.stats import norm\n",
    "from sklearn.preprocessing import StandardScaler\n",
    "from scipy import stats\n",
    "from sklearn.preprocessing import OneHotEncoder\n",
    "from sklearn.model_selection import train_test_split"
   ]
  },
  {
   "cell_type": "code",
   "execution_count": 2,
   "metadata": {},
   "outputs": [],
   "source": [
    "dtypes = {'issue_d': 'str', 'last_pymnt_d': 'str'}\n",
    "parse_dates = ['issue_d', 'last_pymnt_d']\n",
    "accepted = pd.read_csv(\"C:\\\\Users\\\\nilli\\\\Downloads\\\\accepted_b_2015_clean.csv\",\n",
    "                       dtype=dtypes, parse_dates=parse_dates)"
   ]
  },
  {
   "cell_type": "code",
   "execution_count": 4,
   "metadata": {},
   "outputs": [
    {
     "data": {
      "text/plain": [
       "Index(['term', 'grade', 'sub_grade', 'emp_title', 'emp_length',\n",
       "       'home_ownership', 'verification_status', 'loan_status', 'pymnt_plan',\n",
       "       'url', 'purpose', 'title', 'zip_code', 'addr_state', 'earliest_cr_line',\n",
       "       'initial_list_status', 'last_credit_pull_d', 'application_type',\n",
       "       'hardship_flag', 'disbursement_method', 'debt_settlement_flag'],\n",
       "      dtype='object')"
      ]
     },
     "execution_count": 4,
     "metadata": {},
     "output_type": "execute_result"
    }
   ],
   "source": [
    "accepted.select_dtypes(include = 'object').columns"
   ]
  },
  {
   "cell_type": "code",
   "execution_count": 5,
   "metadata": {},
   "outputs": [],
   "source": [
    "accepted[\"term\"] = accepted[\"term\"].apply(lambda x: re.sub('months', '',x)).astype('int64')  "
   ]
  },
  {
   "cell_type": "code",
   "execution_count": 6,
   "metadata": {},
   "outputs": [],
   "source": [
    "accepted[\"emp_length\"] = accepted['emp_length'].apply(lambda x: re.sub('years', '',x))#.astype('int64')"
   ]
  },
  {
   "cell_type": "code",
   "execution_count": 7,
   "metadata": {},
   "outputs": [],
   "source": [
    "accepted[\"emp_length\"] = accepted['emp_length'].apply(lambda x: re.sub('year', '',x))"
   ]
  },
  {
   "cell_type": "code",
   "execution_count": 8,
   "metadata": {},
   "outputs": [],
   "source": [
    "accepted[\"emp_length\"] = accepted['emp_length'].apply(lambda x: re.sub('< 1 ', '0',x))"
   ]
  },
  {
   "cell_type": "code",
   "execution_count": 9,
   "metadata": {},
   "outputs": [],
   "source": [
    "accepted[\"emp_length\"] = accepted[\"emp_length\"].str.replace(r'\\D', '', ).astype('int64')"
   ]
  },
  {
   "cell_type": "code",
   "execution_count": 10,
   "metadata": {},
   "outputs": [
    {
     "data": {
      "text/plain": [
       "10    0.319656\n",
       "2     0.134311\n",
       "3     0.078722\n",
       "0     0.078045\n",
       "5     0.066406\n",
       "1     0.063732\n",
       "4     0.060294\n",
       "6     0.056297\n",
       "7     0.056264\n",
       "8     0.048055\n",
       "9     0.038217\n",
       "Name: emp_length, dtype: float64"
      ]
     },
     "execution_count": 10,
     "metadata": {},
     "output_type": "execute_result"
    }
   ],
   "source": [
    "# accepted[\"emp_length\"].unique()\n",
    "accepted[\"emp_length\"].value_counts()/ len(accepted['emp_length'])"
   ]
  },
  {
   "cell_type": "code",
   "execution_count": 11,
   "metadata": {},
   "outputs": [
    {
     "data": {
      "text/plain": [
       "count    453647.000000\n",
       "mean          5.798310\n",
       "std           3.637896\n",
       "min           0.000000\n",
       "25%           2.000000\n",
       "50%           6.000000\n",
       "75%          10.000000\n",
       "max          10.000000\n",
       "Name: emp_length, dtype: float64"
      ]
     },
     "execution_count": 11,
     "metadata": {},
     "output_type": "execute_result"
    }
   ],
   "source": [
    "accepted[\"emp_length\"].describe()"
   ]
  },
  {
   "cell_type": "code",
   "execution_count": 12,
   "metadata": {},
   "outputs": [],
   "source": [
    "#Let's create categories for annual_income since most of the bad loans are located below 100k\n",
    "accepted['employ_cat'] = np.nan\n",
    "lst = [accepted]\n",
    "\n",
    "for col in lst:\n",
    "    col.loc[col[\"emp_length\"] <3, 'employ_cat'] = 'under_three'\n",
    "    col.loc[(col[\"emp_length\"] >= 3) & (col[\"emp_length\"] <= 9), 'employ_cat'] = 'between_three_ten'\n",
    "    col.loc[col[\"emp_length\"] >= 10, 'employ_cat'] = 'Over_ten'"
   ]
  },
  {
   "cell_type": "code",
   "execution_count": 13,
   "metadata": {},
   "outputs": [
    {
     "data": {
      "text/plain": [
       "between_three_ten    183389\n",
       "Over_ten             145011\n",
       "under_three          125247\n",
       "Name: employ_cat, dtype: int64"
      ]
     },
     "execution_count": 13,
     "metadata": {},
     "output_type": "execute_result"
    }
   ],
   "source": [
    "accepted['employ_cat'].value_counts()"
   ]
  },
  {
   "cell_type": "code",
   "execution_count": 16,
   "metadata": {},
   "outputs": [],
   "source": [
    "#categories for annual_income since most of the bad loans are located below 100k\n",
    "accepted['income_cat'] = np.nan\n",
    "lst = [accepted]\n",
    "\n",
    "for col in lst:\n",
    "    col.loc[col['annual_inc'] <= 100000, 'income_cat'] = 'Low'\n",
    "    col.loc[(col['annual_inc'] > 100000) & (col['annual_inc'] <= 200000), 'income_cat'] = 'Medium'\n",
    "    col.loc[col['annual_inc'] > 200000, 'income_cat'] = 'High'"
   ]
  },
  {
   "cell_type": "code",
   "execution_count": 77,
   "metadata": {},
   "outputs": [
    {
     "data": {
      "text/plain": [
       "1    378514\n",
       "2     67606\n",
       "3      7527\n",
       "Name: income_cat, dtype: int64"
      ]
     },
     "execution_count": 77,
     "metadata": {},
     "output_type": "execute_result"
    }
   ],
   "source": [
    "accepted['income_cat'].value_counts()"
   ]
  },
  {
   "cell_type": "code",
   "execution_count": 18,
   "metadata": {},
   "outputs": [],
   "source": [
    "accepted['issue_d'].head()\n",
    "dt_series = pd.to_datetime(accepted['issue_d'])\n",
    "accepted['year'] = dt_series.dt.year"
   ]
  },
  {
   "cell_type": "code",
   "execution_count": null,
   "metadata": {},
   "outputs": [],
   "source": []
  },
  {
   "cell_type": "code",
   "execution_count": 19,
   "metadata": {},
   "outputs": [],
   "source": [
    "accepted.groupby(['income_cat', 'purpose'], as_index=False).int_rate.mean()\n",
    "group_dti_purpose = accepted.groupby(['income_cat', 'purpose'], as_index=False).funded_amnt.mean()\n",
    "loan_a = group_dti_purpose['funded_amnt'].values"
   ]
  },
  {
   "cell_type": "code",
   "execution_count": 20,
   "metadata": {},
   "outputs": [
    {
     "data": {
      "text/html": [
       "<div>\n",
       "<style scoped>\n",
       "    .dataframe tbody tr th:only-of-type {\n",
       "        vertical-align: middle;\n",
       "    }\n",
       "\n",
       "    .dataframe tbody tr th {\n",
       "        vertical-align: top;\n",
       "    }\n",
       "\n",
       "    .dataframe thead th {\n",
       "        text-align: right;\n",
       "    }\n",
       "</style>\n",
       "<table border=\"1\" class=\"dataframe\">\n",
       "  <thead>\n",
       "    <tr style=\"text-align: right;\">\n",
       "      <th></th>\n",
       "      <th>income_cat</th>\n",
       "      <th>purpose</th>\n",
       "      <th>funded_amnt</th>\n",
       "    </tr>\n",
       "  </thead>\n",
       "  <tbody>\n",
       "    <tr>\n",
       "      <th>0</th>\n",
       "      <td>High</td>\n",
       "      <td>car</td>\n",
       "      <td>14267.857143</td>\n",
       "    </tr>\n",
       "    <tr>\n",
       "      <th>1</th>\n",
       "      <td>High</td>\n",
       "      <td>credit_card</td>\n",
       "      <td>25292.954244</td>\n",
       "    </tr>\n",
       "    <tr>\n",
       "      <th>2</th>\n",
       "      <td>High</td>\n",
       "      <td>debt_consolidation</td>\n",
       "      <td>24798.220043</td>\n",
       "    </tr>\n",
       "    <tr>\n",
       "      <th>3</th>\n",
       "      <td>High</td>\n",
       "      <td>educational</td>\n",
       "      <td>11000.000000</td>\n",
       "    </tr>\n",
       "    <tr>\n",
       "      <th>4</th>\n",
       "      <td>High</td>\n",
       "      <td>home_improvement</td>\n",
       "      <td>23745.907738</td>\n",
       "    </tr>\n",
       "    <tr>\n",
       "      <th>5</th>\n",
       "      <td>High</td>\n",
       "      <td>house</td>\n",
       "      <td>26466.304348</td>\n",
       "    </tr>\n",
       "    <tr>\n",
       "      <th>6</th>\n",
       "      <td>High</td>\n",
       "      <td>major_purchase</td>\n",
       "      <td>19280.585106</td>\n",
       "    </tr>\n",
       "    <tr>\n",
       "      <th>7</th>\n",
       "      <td>High</td>\n",
       "      <td>medical</td>\n",
       "      <td>17331.701031</td>\n",
       "    </tr>\n",
       "    <tr>\n",
       "      <th>8</th>\n",
       "      <td>High</td>\n",
       "      <td>moving</td>\n",
       "      <td>19066.363636</td>\n",
       "    </tr>\n",
       "    <tr>\n",
       "      <th>9</th>\n",
       "      <td>High</td>\n",
       "      <td>other</td>\n",
       "      <td>20982.611111</td>\n",
       "    </tr>\n",
       "    <tr>\n",
       "      <th>10</th>\n",
       "      <td>High</td>\n",
       "      <td>renewable_energy</td>\n",
       "      <td>17500.000000</td>\n",
       "    </tr>\n",
       "    <tr>\n",
       "      <th>11</th>\n",
       "      <td>High</td>\n",
       "      <td>small_business</td>\n",
       "      <td>24992.431973</td>\n",
       "    </tr>\n",
       "    <tr>\n",
       "      <th>12</th>\n",
       "      <td>High</td>\n",
       "      <td>vacation</td>\n",
       "      <td>11430.434783</td>\n",
       "    </tr>\n",
       "    <tr>\n",
       "      <th>13</th>\n",
       "      <td>High</td>\n",
       "      <td>wedding</td>\n",
       "      <td>20389.285714</td>\n",
       "    </tr>\n",
       "    <tr>\n",
       "      <th>14</th>\n",
       "      <td>Low</td>\n",
       "      <td>car</td>\n",
       "      <td>7580.268817</td>\n",
       "    </tr>\n",
       "    <tr>\n",
       "      <th>15</th>\n",
       "      <td>Low</td>\n",
       "      <td>credit_card</td>\n",
       "      <td>13250.868125</td>\n",
       "    </tr>\n",
       "    <tr>\n",
       "      <th>16</th>\n",
       "      <td>Low</td>\n",
       "      <td>debt_consolidation</td>\n",
       "      <td>13732.905384</td>\n",
       "    </tr>\n",
       "    <tr>\n",
       "      <th>17</th>\n",
       "      <td>Low</td>\n",
       "      <td>educational</td>\n",
       "      <td>6019.657534</td>\n",
       "    </tr>\n",
       "    <tr>\n",
       "      <th>18</th>\n",
       "      <td>Low</td>\n",
       "      <td>home_improvement</td>\n",
       "      <td>11956.286335</td>\n",
       "    </tr>\n",
       "    <tr>\n",
       "      <th>19</th>\n",
       "      <td>Low</td>\n",
       "      <td>house</td>\n",
       "      <td>13130.790960</td>\n",
       "    </tr>\n",
       "    <tr>\n",
       "      <th>20</th>\n",
       "      <td>Low</td>\n",
       "      <td>major_purchase</td>\n",
       "      <td>9231.009706</td>\n",
       "    </tr>\n",
       "    <tr>\n",
       "      <th>21</th>\n",
       "      <td>Low</td>\n",
       "      <td>medical</td>\n",
       "      <td>7815.663130</td>\n",
       "    </tr>\n",
       "    <tr>\n",
       "      <th>22</th>\n",
       "      <td>Low</td>\n",
       "      <td>moving</td>\n",
       "      <td>6472.777341</td>\n",
       "    </tr>\n",
       "    <tr>\n",
       "      <th>23</th>\n",
       "      <td>Low</td>\n",
       "      <td>other</td>\n",
       "      <td>8445.894889</td>\n",
       "    </tr>\n",
       "    <tr>\n",
       "      <th>24</th>\n",
       "      <td>Low</td>\n",
       "      <td>renewable_energy</td>\n",
       "      <td>8710.614035</td>\n",
       "    </tr>\n",
       "    <tr>\n",
       "      <th>25</th>\n",
       "      <td>Low</td>\n",
       "      <td>small_business</td>\n",
       "      <td>13095.292645</td>\n",
       "    </tr>\n",
       "    <tr>\n",
       "      <th>26</th>\n",
       "      <td>Low</td>\n",
       "      <td>vacation</td>\n",
       "      <td>5668.398419</td>\n",
       "    </tr>\n",
       "    <tr>\n",
       "      <th>27</th>\n",
       "      <td>Low</td>\n",
       "      <td>wedding</td>\n",
       "      <td>9665.673317</td>\n",
       "    </tr>\n",
       "    <tr>\n",
       "      <th>28</th>\n",
       "      <td>Medium</td>\n",
       "      <td>car</td>\n",
       "      <td>10736.958333</td>\n",
       "    </tr>\n",
       "    <tr>\n",
       "      <th>29</th>\n",
       "      <td>Medium</td>\n",
       "      <td>credit_card</td>\n",
       "      <td>20800.546674</td>\n",
       "    </tr>\n",
       "    <tr>\n",
       "      <th>30</th>\n",
       "      <td>Medium</td>\n",
       "      <td>debt_consolidation</td>\n",
       "      <td>21176.639334</td>\n",
       "    </tr>\n",
       "    <tr>\n",
       "      <th>31</th>\n",
       "      <td>Medium</td>\n",
       "      <td>educational</td>\n",
       "      <td>11565.000000</td>\n",
       "    </tr>\n",
       "    <tr>\n",
       "      <th>32</th>\n",
       "      <td>Medium</td>\n",
       "      <td>home_improvement</td>\n",
       "      <td>17924.074564</td>\n",
       "    </tr>\n",
       "    <tr>\n",
       "      <th>33</th>\n",
       "      <td>Medium</td>\n",
       "      <td>house</td>\n",
       "      <td>20518.656716</td>\n",
       "    </tr>\n",
       "    <tr>\n",
       "      <th>34</th>\n",
       "      <td>Medium</td>\n",
       "      <td>major_purchase</td>\n",
       "      <td>14808.157895</td>\n",
       "    </tr>\n",
       "    <tr>\n",
       "      <th>35</th>\n",
       "      <td>Medium</td>\n",
       "      <td>medical</td>\n",
       "      <td>12665.596677</td>\n",
       "    </tr>\n",
       "    <tr>\n",
       "      <th>36</th>\n",
       "      <td>Medium</td>\n",
       "      <td>moving</td>\n",
       "      <td>12526.977401</td>\n",
       "    </tr>\n",
       "    <tr>\n",
       "      <th>37</th>\n",
       "      <td>Medium</td>\n",
       "      <td>other</td>\n",
       "      <td>14284.568463</td>\n",
       "    </tr>\n",
       "    <tr>\n",
       "      <th>38</th>\n",
       "      <td>Medium</td>\n",
       "      <td>renewable_energy</td>\n",
       "      <td>14882.142857</td>\n",
       "    </tr>\n",
       "    <tr>\n",
       "      <th>39</th>\n",
       "      <td>Medium</td>\n",
       "      <td>small_business</td>\n",
       "      <td>20402.126152</td>\n",
       "    </tr>\n",
       "    <tr>\n",
       "      <th>40</th>\n",
       "      <td>Medium</td>\n",
       "      <td>vacation</td>\n",
       "      <td>8212.241379</td>\n",
       "    </tr>\n",
       "    <tr>\n",
       "      <th>41</th>\n",
       "      <td>Medium</td>\n",
       "      <td>wedding</td>\n",
       "      <td>14138.500000</td>\n",
       "    </tr>\n",
       "  </tbody>\n",
       "</table>\n",
       "</div>"
      ],
      "text/plain": [
       "   income_cat             purpose   funded_amnt\n",
       "0        High                 car  14267.857143\n",
       "1        High         credit_card  25292.954244\n",
       "2        High  debt_consolidation  24798.220043\n",
       "3        High         educational  11000.000000\n",
       "4        High    home_improvement  23745.907738\n",
       "5        High               house  26466.304348\n",
       "6        High      major_purchase  19280.585106\n",
       "7        High             medical  17331.701031\n",
       "8        High              moving  19066.363636\n",
       "9        High               other  20982.611111\n",
       "10       High    renewable_energy  17500.000000\n",
       "11       High      small_business  24992.431973\n",
       "12       High            vacation  11430.434783\n",
       "13       High             wedding  20389.285714\n",
       "14        Low                 car   7580.268817\n",
       "15        Low         credit_card  13250.868125\n",
       "16        Low  debt_consolidation  13732.905384\n",
       "17        Low         educational   6019.657534\n",
       "18        Low    home_improvement  11956.286335\n",
       "19        Low               house  13130.790960\n",
       "20        Low      major_purchase   9231.009706\n",
       "21        Low             medical   7815.663130\n",
       "22        Low              moving   6472.777341\n",
       "23        Low               other   8445.894889\n",
       "24        Low    renewable_energy   8710.614035\n",
       "25        Low      small_business  13095.292645\n",
       "26        Low            vacation   5668.398419\n",
       "27        Low             wedding   9665.673317\n",
       "28     Medium                 car  10736.958333\n",
       "29     Medium         credit_card  20800.546674\n",
       "30     Medium  debt_consolidation  21176.639334\n",
       "31     Medium         educational  11565.000000\n",
       "32     Medium    home_improvement  17924.074564\n",
       "33     Medium               house  20518.656716\n",
       "34     Medium      major_purchase  14808.157895\n",
       "35     Medium             medical  12665.596677\n",
       "36     Medium              moving  12526.977401\n",
       "37     Medium               other  14284.568463\n",
       "38     Medium    renewable_energy  14882.142857\n",
       "39     Medium      small_business  20402.126152\n",
       "40     Medium            vacation   8212.241379\n",
       "41     Medium             wedding  14138.500000"
      ]
     },
     "execution_count": 20,
     "metadata": {},
     "output_type": "execute_result"
    }
   ],
   "source": [
    "group_dti_purpose "
   ]
  },
  {
   "cell_type": "code",
   "execution_count": 21,
   "metadata": {},
   "outputs": [
    {
     "data": {
      "text/html": [
       "<div>\n",
       "<style scoped>\n",
       "    .dataframe tbody tr th:only-of-type {\n",
       "        vertical-align: middle;\n",
       "    }\n",
       "\n",
       "    .dataframe tbody tr th {\n",
       "        vertical-align: top;\n",
       "    }\n",
       "\n",
       "    .dataframe thead th {\n",
       "        text-align: right;\n",
       "    }\n",
       "</style>\n",
       "<table border=\"1\" class=\"dataframe\">\n",
       "  <thead>\n",
       "    <tr style=\"text-align: right;\">\n",
       "      <th></th>\n",
       "      <th>income_cat</th>\n",
       "      <th>purpose</th>\n",
       "      <th>int_rate</th>\n",
       "    </tr>\n",
       "  </thead>\n",
       "  <tbody>\n",
       "    <tr>\n",
       "      <th>0</th>\n",
       "      <td>High</td>\n",
       "      <td>car</td>\n",
       "      <td>10.453000</td>\n",
       "    </tr>\n",
       "    <tr>\n",
       "      <th>1</th>\n",
       "      <td>High</td>\n",
       "      <td>credit_card</td>\n",
       "      <td>11.792971</td>\n",
       "    </tr>\n",
       "    <tr>\n",
       "      <th>2</th>\n",
       "      <td>High</td>\n",
       "      <td>debt_consolidation</td>\n",
       "      <td>13.412477</td>\n",
       "    </tr>\n",
       "    <tr>\n",
       "      <th>3</th>\n",
       "      <td>High</td>\n",
       "      <td>educational</td>\n",
       "      <td>11.420000</td>\n",
       "    </tr>\n",
       "    <tr>\n",
       "      <th>4</th>\n",
       "      <td>High</td>\n",
       "      <td>home_improvement</td>\n",
       "      <td>13.035308</td>\n",
       "    </tr>\n",
       "    <tr>\n",
       "      <th>5</th>\n",
       "      <td>High</td>\n",
       "      <td>house</td>\n",
       "      <td>15.745362</td>\n",
       "    </tr>\n",
       "    <tr>\n",
       "      <th>6</th>\n",
       "      <td>High</td>\n",
       "      <td>major_purchase</td>\n",
       "      <td>12.733777</td>\n",
       "    </tr>\n",
       "    <tr>\n",
       "      <th>7</th>\n",
       "      <td>High</td>\n",
       "      <td>medical</td>\n",
       "      <td>14.969691</td>\n",
       "    </tr>\n",
       "    <tr>\n",
       "      <th>8</th>\n",
       "      <td>High</td>\n",
       "      <td>moving</td>\n",
       "      <td>16.211273</td>\n",
       "    </tr>\n",
       "    <tr>\n",
       "      <th>9</th>\n",
       "      <td>High</td>\n",
       "      <td>other</td>\n",
       "      <td>15.770333</td>\n",
       "    </tr>\n",
       "    <tr>\n",
       "      <th>10</th>\n",
       "      <td>High</td>\n",
       "      <td>renewable_energy</td>\n",
       "      <td>15.153333</td>\n",
       "    </tr>\n",
       "    <tr>\n",
       "      <th>11</th>\n",
       "      <td>High</td>\n",
       "      <td>small_business</td>\n",
       "      <td>16.673265</td>\n",
       "    </tr>\n",
       "    <tr>\n",
       "      <th>12</th>\n",
       "      <td>High</td>\n",
       "      <td>vacation</td>\n",
       "      <td>14.279130</td>\n",
       "    </tr>\n",
       "    <tr>\n",
       "      <th>13</th>\n",
       "      <td>High</td>\n",
       "      <td>wedding</td>\n",
       "      <td>14.477143</td>\n",
       "    </tr>\n",
       "    <tr>\n",
       "      <th>14</th>\n",
       "      <td>Low</td>\n",
       "      <td>car</td>\n",
       "      <td>12.223680</td>\n",
       "    </tr>\n",
       "    <tr>\n",
       "      <th>15</th>\n",
       "      <td>Low</td>\n",
       "      <td>credit_card</td>\n",
       "      <td>12.644436</td>\n",
       "    </tr>\n",
       "    <tr>\n",
       "      <th>16</th>\n",
       "      <td>Low</td>\n",
       "      <td>debt_consolidation</td>\n",
       "      <td>14.150453</td>\n",
       "    </tr>\n",
       "    <tr>\n",
       "      <th>17</th>\n",
       "      <td>Low</td>\n",
       "      <td>educational</td>\n",
       "      <td>12.141753</td>\n",
       "    </tr>\n",
       "    <tr>\n",
       "      <th>18</th>\n",
       "      <td>Low</td>\n",
       "      <td>home_improvement</td>\n",
       "      <td>13.662282</td>\n",
       "    </tr>\n",
       "    <tr>\n",
       "      <th>19</th>\n",
       "      <td>Low</td>\n",
       "      <td>house</td>\n",
       "      <td>15.223537</td>\n",
       "    </tr>\n",
       "    <tr>\n",
       "      <th>20</th>\n",
       "      <td>Low</td>\n",
       "      <td>major_purchase</td>\n",
       "      <td>12.916791</td>\n",
       "    </tr>\n",
       "    <tr>\n",
       "      <th>21</th>\n",
       "      <td>Low</td>\n",
       "      <td>medical</td>\n",
       "      <td>15.236279</td>\n",
       "    </tr>\n",
       "    <tr>\n",
       "      <th>22</th>\n",
       "      <td>Low</td>\n",
       "      <td>moving</td>\n",
       "      <td>15.988257</td>\n",
       "    </tr>\n",
       "    <tr>\n",
       "      <th>23</th>\n",
       "      <td>Low</td>\n",
       "      <td>other</td>\n",
       "      <td>15.662321</td>\n",
       "    </tr>\n",
       "    <tr>\n",
       "      <th>24</th>\n",
       "      <td>Low</td>\n",
       "      <td>renewable_energy</td>\n",
       "      <td>15.127544</td>\n",
       "    </tr>\n",
       "    <tr>\n",
       "      <th>25</th>\n",
       "      <td>Low</td>\n",
       "      <td>small_business</td>\n",
       "      <td>15.752077</td>\n",
       "    </tr>\n",
       "    <tr>\n",
       "      <th>26</th>\n",
       "      <td>Low</td>\n",
       "      <td>vacation</td>\n",
       "      <td>15.085100</td>\n",
       "    </tr>\n",
       "    <tr>\n",
       "      <th>27</th>\n",
       "      <td>Low</td>\n",
       "      <td>wedding</td>\n",
       "      <td>14.076983</td>\n",
       "    </tr>\n",
       "    <tr>\n",
       "      <th>28</th>\n",
       "      <td>Medium</td>\n",
       "      <td>car</td>\n",
       "      <td>11.101217</td>\n",
       "    </tr>\n",
       "    <tr>\n",
       "      <th>29</th>\n",
       "      <td>Medium</td>\n",
       "      <td>credit_card</td>\n",
       "      <td>11.840265</td>\n",
       "    </tr>\n",
       "    <tr>\n",
       "      <th>30</th>\n",
       "      <td>Medium</td>\n",
       "      <td>debt_consolidation</td>\n",
       "      <td>13.607752</td>\n",
       "    </tr>\n",
       "    <tr>\n",
       "      <th>31</th>\n",
       "      <td>Medium</td>\n",
       "      <td>educational</td>\n",
       "      <td>11.688250</td>\n",
       "    </tr>\n",
       "    <tr>\n",
       "      <th>32</th>\n",
       "      <td>Medium</td>\n",
       "      <td>home_improvement</td>\n",
       "      <td>13.016007</td>\n",
       "    </tr>\n",
       "    <tr>\n",
       "      <th>33</th>\n",
       "      <td>Medium</td>\n",
       "      <td>house</td>\n",
       "      <td>15.060075</td>\n",
       "    </tr>\n",
       "    <tr>\n",
       "      <th>34</th>\n",
       "      <td>Medium</td>\n",
       "      <td>major_purchase</td>\n",
       "      <td>12.053164</td>\n",
       "    </tr>\n",
       "    <tr>\n",
       "      <th>35</th>\n",
       "      <td>Medium</td>\n",
       "      <td>medical</td>\n",
       "      <td>15.179879</td>\n",
       "    </tr>\n",
       "    <tr>\n",
       "      <th>36</th>\n",
       "      <td>Medium</td>\n",
       "      <td>moving</td>\n",
       "      <td>15.976921</td>\n",
       "    </tr>\n",
       "    <tr>\n",
       "      <th>37</th>\n",
       "      <td>Medium</td>\n",
       "      <td>other</td>\n",
       "      <td>15.374487</td>\n",
       "    </tr>\n",
       "    <tr>\n",
       "      <th>38</th>\n",
       "      <td>Medium</td>\n",
       "      <td>renewable_energy</td>\n",
       "      <td>14.646607</td>\n",
       "    </tr>\n",
       "    <tr>\n",
       "      <th>39</th>\n",
       "      <td>Medium</td>\n",
       "      <td>small_business</td>\n",
       "      <td>16.510128</td>\n",
       "    </tr>\n",
       "    <tr>\n",
       "      <th>40</th>\n",
       "      <td>Medium</td>\n",
       "      <td>vacation</td>\n",
       "      <td>14.767552</td>\n",
       "    </tr>\n",
       "    <tr>\n",
       "      <th>41</th>\n",
       "      <td>Medium</td>\n",
       "      <td>wedding</td>\n",
       "      <td>14.588167</td>\n",
       "    </tr>\n",
       "  </tbody>\n",
       "</table>\n",
       "</div>"
      ],
      "text/plain": [
       "   income_cat             purpose   int_rate\n",
       "0        High                 car  10.453000\n",
       "1        High         credit_card  11.792971\n",
       "2        High  debt_consolidation  13.412477\n",
       "3        High         educational  11.420000\n",
       "4        High    home_improvement  13.035308\n",
       "5        High               house  15.745362\n",
       "6        High      major_purchase  12.733777\n",
       "7        High             medical  14.969691\n",
       "8        High              moving  16.211273\n",
       "9        High               other  15.770333\n",
       "10       High    renewable_energy  15.153333\n",
       "11       High      small_business  16.673265\n",
       "12       High            vacation  14.279130\n",
       "13       High             wedding  14.477143\n",
       "14        Low                 car  12.223680\n",
       "15        Low         credit_card  12.644436\n",
       "16        Low  debt_consolidation  14.150453\n",
       "17        Low         educational  12.141753\n",
       "18        Low    home_improvement  13.662282\n",
       "19        Low               house  15.223537\n",
       "20        Low      major_purchase  12.916791\n",
       "21        Low             medical  15.236279\n",
       "22        Low              moving  15.988257\n",
       "23        Low               other  15.662321\n",
       "24        Low    renewable_energy  15.127544\n",
       "25        Low      small_business  15.752077\n",
       "26        Low            vacation  15.085100\n",
       "27        Low             wedding  14.076983\n",
       "28     Medium                 car  11.101217\n",
       "29     Medium         credit_card  11.840265\n",
       "30     Medium  debt_consolidation  13.607752\n",
       "31     Medium         educational  11.688250\n",
       "32     Medium    home_improvement  13.016007\n",
       "33     Medium               house  15.060075\n",
       "34     Medium      major_purchase  12.053164\n",
       "35     Medium             medical  15.179879\n",
       "36     Medium              moving  15.976921\n",
       "37     Medium               other  15.374487\n",
       "38     Medium    renewable_energy  14.646607\n",
       "39     Medium      small_business  16.510128\n",
       "40     Medium            vacation  14.767552\n",
       "41     Medium             wedding  14.588167"
      ]
     },
     "execution_count": 21,
     "metadata": {},
     "output_type": "execute_result"
    }
   ],
   "source": [
    "accepted.groupby(['income_cat', 'purpose'], as_index=False).int_rate.mean()"
   ]
  },
  {
   "cell_type": "code",
   "execution_count": 22,
   "metadata": {},
   "outputs": [
    {
     "data": {
      "text/html": [
       "<div>\n",
       "<style scoped>\n",
       "    .dataframe tbody tr th:only-of-type {\n",
       "        vertical-align: middle;\n",
       "    }\n",
       "\n",
       "    .dataframe tbody tr th {\n",
       "        vertical-align: top;\n",
       "    }\n",
       "\n",
       "    .dataframe thead th {\n",
       "        text-align: right;\n",
       "    }\n",
       "</style>\n",
       "<table border=\"1\" class=\"dataframe\">\n",
       "  <thead>\n",
       "    <tr style=\"text-align: right;\">\n",
       "      <th></th>\n",
       "      <th>term</th>\n",
       "      <th>grade</th>\n",
       "      <th>emp_length</th>\n",
       "      <th>purpose</th>\n",
       "      <th>year</th>\n",
       "      <th>income_cat</th>\n",
       "    </tr>\n",
       "  </thead>\n",
       "  <tbody>\n",
       "    <tr>\n",
       "      <th>0</th>\n",
       "      <td>36</td>\n",
       "      <td>A</td>\n",
       "      <td>8</td>\n",
       "      <td>credit_card</td>\n",
       "      <td>2014</td>\n",
       "      <td>Low</td>\n",
       "    </tr>\n",
       "    <tr>\n",
       "      <th>1</th>\n",
       "      <td>60</td>\n",
       "      <td>C</td>\n",
       "      <td>10</td>\n",
       "      <td>debt_consolidation</td>\n",
       "      <td>2014</td>\n",
       "      <td>Low</td>\n",
       "    </tr>\n",
       "    <tr>\n",
       "      <th>2</th>\n",
       "      <td>36</td>\n",
       "      <td>C</td>\n",
       "      <td>10</td>\n",
       "      <td>debt_consolidation</td>\n",
       "      <td>2014</td>\n",
       "      <td>Low</td>\n",
       "    </tr>\n",
       "    <tr>\n",
       "      <th>3</th>\n",
       "      <td>36</td>\n",
       "      <td>C</td>\n",
       "      <td>0</td>\n",
       "      <td>debt_consolidation</td>\n",
       "      <td>2014</td>\n",
       "      <td>Low</td>\n",
       "    </tr>\n",
       "    <tr>\n",
       "      <th>4</th>\n",
       "      <td>60</td>\n",
       "      <td>D</td>\n",
       "      <td>6</td>\n",
       "      <td>credit_card</td>\n",
       "      <td>2014</td>\n",
       "      <td>Low</td>\n",
       "    </tr>\n",
       "    <tr>\n",
       "      <th>...</th>\n",
       "      <td>...</td>\n",
       "      <td>...</td>\n",
       "      <td>...</td>\n",
       "      <td>...</td>\n",
       "      <td>...</td>\n",
       "      <td>...</td>\n",
       "    </tr>\n",
       "    <tr>\n",
       "      <th>453642</th>\n",
       "      <td>36</td>\n",
       "      <td>D</td>\n",
       "      <td>7</td>\n",
       "      <td>debt_consolidation</td>\n",
       "      <td>2012</td>\n",
       "      <td>Low</td>\n",
       "    </tr>\n",
       "    <tr>\n",
       "      <th>453643</th>\n",
       "      <td>36</td>\n",
       "      <td>C</td>\n",
       "      <td>3</td>\n",
       "      <td>small_business</td>\n",
       "      <td>2012</td>\n",
       "      <td>Low</td>\n",
       "    </tr>\n",
       "    <tr>\n",
       "      <th>453644</th>\n",
       "      <td>36</td>\n",
       "      <td>C</td>\n",
       "      <td>3</td>\n",
       "      <td>small_business</td>\n",
       "      <td>2012</td>\n",
       "      <td>Medium</td>\n",
       "    </tr>\n",
       "    <tr>\n",
       "      <th>453645</th>\n",
       "      <td>36</td>\n",
       "      <td>D</td>\n",
       "      <td>2</td>\n",
       "      <td>other</td>\n",
       "      <td>2012</td>\n",
       "      <td>Low</td>\n",
       "    </tr>\n",
       "    <tr>\n",
       "      <th>453646</th>\n",
       "      <td>60</td>\n",
       "      <td>C</td>\n",
       "      <td>7</td>\n",
       "      <td>credit_card</td>\n",
       "      <td>2012</td>\n",
       "      <td>Low</td>\n",
       "    </tr>\n",
       "  </tbody>\n",
       "</table>\n",
       "<p>453647 rows × 6 columns</p>\n",
       "</div>"
      ],
      "text/plain": [
       "        term grade  emp_length             purpose  year income_cat\n",
       "0         36     A           8         credit_card  2014        Low\n",
       "1         60     C          10  debt_consolidation  2014        Low\n",
       "2         36     C          10  debt_consolidation  2014        Low\n",
       "3         36     C           0  debt_consolidation  2014        Low\n",
       "4         60     D           6         credit_card  2014        Low\n",
       "...      ...   ...         ...                 ...   ...        ...\n",
       "453642    36     D           7  debt_consolidation  2012        Low\n",
       "453643    36     C           3      small_business  2012        Low\n",
       "453644    36     C           3      small_business  2012     Medium\n",
       "453645    36     D           2               other  2012        Low\n",
       "453646    60     C           7         credit_card  2012        Low\n",
       "\n",
       "[453647 rows x 6 columns]"
      ]
     },
     "execution_count": 22,
     "metadata": {},
     "output_type": "execute_result"
    }
   ],
   "source": [
    "dc= accepted[['term', 'grade', \"emp_length\",'purpose','year','income_cat']]\n",
    "dc"
   ]
  },
  {
   "cell_type": "code",
   "execution_count": 23,
   "metadata": {},
   "outputs": [
    {
     "data": {
      "text/plain": [
       "Index(['id', 'loan_amnt', 'funded_amnt', 'funded_amnt_inv', 'term', 'int_rate',\n",
       "       'installment', 'emp_length', 'annual_inc', 'dti', 'delinq_2yrs',\n",
       "       'fico_range_low', 'fico_range_high', 'inq_last_6mths',\n",
       "       'mths_since_last_delinq', 'open_acc', 'pub_rec', 'revol_bal',\n",
       "       'revol_util', 'total_acc', 'out_prncp', 'out_prncp_inv', 'total_pymnt',\n",
       "       'total_pymnt_inv', 'total_rec_prncp', 'total_rec_int',\n",
       "       'total_rec_late_fee', 'recoveries', 'collection_recovery_fee',\n",
       "       'last_pymnt_amnt', 'last_fico_range_high', 'last_fico_range_low',\n",
       "       'collections_12_mths_ex_med', 'policy_code', 'acc_now_delinq',\n",
       "       'tot_coll_amt', 'tot_cur_bal', 'total_rev_hi_lim',\n",
       "       'acc_open_past_24mths', 'avg_cur_bal', 'bc_open_to_buy', 'bc_util',\n",
       "       'chargeoff_within_12_mths', 'delinq_amnt', 'mo_sin_old_il_acct',\n",
       "       'mo_sin_old_rev_tl_op', 'mo_sin_rcnt_rev_tl_op', 'mo_sin_rcnt_tl',\n",
       "       'mort_acc', 'mths_since_recent_bc', 'mths_since_recent_inq',\n",
       "       'num_accts_ever_120_pd', 'num_actv_bc_tl', 'num_actv_rev_tl',\n",
       "       'num_bc_sats', 'num_bc_tl', 'num_il_tl', 'num_op_rev_tl',\n",
       "       'num_rev_accts', 'num_rev_tl_bal_gt_0', 'num_sats', 'num_tl_120dpd_2m',\n",
       "       'num_tl_30dpd', 'num_tl_90g_dpd_24m', 'num_tl_op_past_12m',\n",
       "       'pct_tl_nvr_dlq', 'percent_bc_gt_75', 'pub_rec_bankruptcies',\n",
       "       'tax_liens', 'tot_hi_cred_lim', 'total_bal_ex_mort', 'total_bc_limit',\n",
       "       'total_il_high_credit_limit', 'duration_days', 'invest_return',\n",
       "       'invest_return_per', 'duration_months', 'year'],\n",
       "      dtype='object')"
      ]
     },
     "execution_count": 23,
     "metadata": {},
     "output_type": "execute_result"
    }
   ],
   "source": [
    "accepted.select_dtypes(include = ['int64', 'float64']).columns"
   ]
  },
  {
   "cell_type": "code",
   "execution_count": 24,
   "metadata": {},
   "outputs": [],
   "source": [
    "#accepted['fico_mid'] = (accepted['fico_range_high'] + accepted['fico_range_low'])/2"
   ]
  },
  {
   "cell_type": "code",
   "execution_count": 25,
   "metadata": {},
   "outputs": [],
   "source": [
    "# dn =accepted[['funded_amnt','int_rate','annual_inc','term', 'dti','delinq_2yrs', 'fico_mid']]\n",
    "#dn =accepted[['funded_amnt','int_rate','annual_inc','term', 'dti', 'fico_range_low','emp_length', 'fico_range_high']]\n",
    "\n"
   ]
  },
  {
   "cell_type": "code",
   "execution_count": 26,
   "metadata": {},
   "outputs": [],
   "source": [
    "#dn.corr()"
   ]
  },
  {
   "cell_type": "code",
   "execution_count": 27,
   "metadata": {},
   "outputs": [],
   "source": [
    "grade_ord = {'A': 7,'B': 6,'C': 5,'D': 4,'E': 3,'F': 2,'G': 1}\n",
    "accepted['grade']= accepted['grade'].map(grade_ord)               "
   ]
  },
  {
   "cell_type": "code",
   "execution_count": 28,
   "metadata": {},
   "outputs": [],
   "source": [
    "# accepted['grade'] = gradeo"
   ]
  },
  {
   "cell_type": "code",
   "execution_count": 29,
   "metadata": {},
   "outputs": [],
   "source": [
    "income_cat_ord = {'Low':1, 'Medium':2, 'High':3}\n",
    "accepted['income_cat'] = accepted['income_cat'].map(income_cat_ord) "
   ]
  },
  {
   "cell_type": "code",
   "execution_count": null,
   "metadata": {},
   "outputs": [],
   "source": []
  },
  {
   "cell_type": "code",
   "execution_count": 30,
   "metadata": {},
   "outputs": [],
   "source": [
    "loan_status_cat_ord = {'Defaulted':0, 'FullyPaid':1}\n",
    "accepted['loan_status'] = accepted['loan_status'].map(loan_status_cat_ord) "
   ]
  },
  {
   "cell_type": "code",
   "execution_count": 31,
   "metadata": {},
   "outputs": [],
   "source": [
    "# df =accepted[['funded_amnt','int_rate','annual_inc','term', 'dti','delinq_2yrs', \n",
    "#               'fico_mid','grade', \"emp_length\",'purpose','income_cat']]\n",
    "\n",
    "# df =accepted[['funded_amnt','int_rate','annual_inc','term', 'dti','grade','purpose',\n",
    "#               'fico_range_low','emp_length', 'fico_range_high','loan_status']]\n",
    "\n",
    "df =accepted[['funded_amnt','int_rate','annual_inc','term', 'dti',\n",
    "              'fico_range_low','emp_length', 'fico_range_high']]"
   ]
  },
  {
   "cell_type": "code",
   "execution_count": 32,
   "metadata": {},
   "outputs": [
    {
     "data": {
      "text/html": [
       "<div>\n",
       "<style scoped>\n",
       "    .dataframe tbody tr th:only-of-type {\n",
       "        vertical-align: middle;\n",
       "    }\n",
       "\n",
       "    .dataframe tbody tr th {\n",
       "        vertical-align: top;\n",
       "    }\n",
       "\n",
       "    .dataframe thead th {\n",
       "        text-align: right;\n",
       "    }\n",
       "</style>\n",
       "<table border=\"1\" class=\"dataframe\">\n",
       "  <thead>\n",
       "    <tr style=\"text-align: right;\">\n",
       "      <th></th>\n",
       "      <th>funded_amnt</th>\n",
       "      <th>int_rate</th>\n",
       "      <th>annual_inc</th>\n",
       "      <th>term</th>\n",
       "      <th>dti</th>\n",
       "      <th>fico_range_low</th>\n",
       "      <th>emp_length</th>\n",
       "      <th>fico_range_high</th>\n",
       "      <th>grade</th>\n",
       "      <th>loan_status</th>\n",
       "    </tr>\n",
       "  </thead>\n",
       "  <tbody>\n",
       "    <tr>\n",
       "      <th>0</th>\n",
       "      <td>10400.0</td>\n",
       "      <td>6.99</td>\n",
       "      <td>58000.0</td>\n",
       "      <td>36</td>\n",
       "      <td>14.92</td>\n",
       "      <td>710.0</td>\n",
       "      <td>8</td>\n",
       "      <td>714.0</td>\n",
       "      <td>7</td>\n",
       "      <td>0</td>\n",
       "    </tr>\n",
       "    <tr>\n",
       "      <th>1</th>\n",
       "      <td>15000.0</td>\n",
       "      <td>12.39</td>\n",
       "      <td>78000.0</td>\n",
       "      <td>60</td>\n",
       "      <td>12.03</td>\n",
       "      <td>750.0</td>\n",
       "      <td>10</td>\n",
       "      <td>754.0</td>\n",
       "      <td>5</td>\n",
       "      <td>1</td>\n",
       "    </tr>\n",
       "    <tr>\n",
       "      <th>2</th>\n",
       "      <td>9600.0</td>\n",
       "      <td>13.66</td>\n",
       "      <td>69000.0</td>\n",
       "      <td>36</td>\n",
       "      <td>25.81</td>\n",
       "      <td>680.0</td>\n",
       "      <td>10</td>\n",
       "      <td>684.0</td>\n",
       "      <td>5</td>\n",
       "      <td>1</td>\n",
       "    </tr>\n",
       "    <tr>\n",
       "      <th>3</th>\n",
       "      <td>7650.0</td>\n",
       "      <td>13.66</td>\n",
       "      <td>50000.0</td>\n",
       "      <td>36</td>\n",
       "      <td>34.81</td>\n",
       "      <td>685.0</td>\n",
       "      <td>0</td>\n",
       "      <td>689.0</td>\n",
       "      <td>5</td>\n",
       "      <td>0</td>\n",
       "    </tr>\n",
       "    <tr>\n",
       "      <th>4</th>\n",
       "      <td>21425.0</td>\n",
       "      <td>15.59</td>\n",
       "      <td>63800.0</td>\n",
       "      <td>60</td>\n",
       "      <td>18.49</td>\n",
       "      <td>685.0</td>\n",
       "      <td>6</td>\n",
       "      <td>689.0</td>\n",
       "      <td>4</td>\n",
       "      <td>1</td>\n",
       "    </tr>\n",
       "    <tr>\n",
       "      <th>...</th>\n",
       "      <td>...</td>\n",
       "      <td>...</td>\n",
       "      <td>...</td>\n",
       "      <td>...</td>\n",
       "      <td>...</td>\n",
       "      <td>...</td>\n",
       "      <td>...</td>\n",
       "      <td>...</td>\n",
       "      <td>...</td>\n",
       "      <td>...</td>\n",
       "    </tr>\n",
       "    <tr>\n",
       "      <th>453642</th>\n",
       "      <td>20500.0</td>\n",
       "      <td>16.77</td>\n",
       "      <td>60000.0</td>\n",
       "      <td>36</td>\n",
       "      <td>16.40</td>\n",
       "      <td>700.0</td>\n",
       "      <td>7</td>\n",
       "      <td>704.0</td>\n",
       "      <td>4</td>\n",
       "      <td>1</td>\n",
       "    </tr>\n",
       "    <tr>\n",
       "      <th>453643</th>\n",
       "      <td>15000.0</td>\n",
       "      <td>15.27</td>\n",
       "      <td>57600.0</td>\n",
       "      <td>36</td>\n",
       "      <td>8.35</td>\n",
       "      <td>680.0</td>\n",
       "      <td>3</td>\n",
       "      <td>684.0</td>\n",
       "      <td>5</td>\n",
       "      <td>1</td>\n",
       "    </tr>\n",
       "    <tr>\n",
       "      <th>453644</th>\n",
       "      <td>35000.0</td>\n",
       "      <td>15.96</td>\n",
       "      <td>160000.0</td>\n",
       "      <td>36</td>\n",
       "      <td>4.90</td>\n",
       "      <td>720.0</td>\n",
       "      <td>3</td>\n",
       "      <td>724.0</td>\n",
       "      <td>5</td>\n",
       "      <td>1</td>\n",
       "    </tr>\n",
       "    <tr>\n",
       "      <th>453645</th>\n",
       "      <td>12000.0</td>\n",
       "      <td>16.29</td>\n",
       "      <td>35000.0</td>\n",
       "      <td>36</td>\n",
       "      <td>12.93</td>\n",
       "      <td>675.0</td>\n",
       "      <td>2</td>\n",
       "      <td>679.0</td>\n",
       "      <td>4</td>\n",
       "      <td>0</td>\n",
       "    </tr>\n",
       "    <tr>\n",
       "      <th>453646</th>\n",
       "      <td>7775.0</td>\n",
       "      <td>15.27</td>\n",
       "      <td>50000.0</td>\n",
       "      <td>60</td>\n",
       "      <td>5.50</td>\n",
       "      <td>715.0</td>\n",
       "      <td>7</td>\n",
       "      <td>719.0</td>\n",
       "      <td>5</td>\n",
       "      <td>1</td>\n",
       "    </tr>\n",
       "  </tbody>\n",
       "</table>\n",
       "<p>453647 rows × 10 columns</p>\n",
       "</div>"
      ],
      "text/plain": [
       "        funded_amnt  int_rate  annual_inc  term    dti  fico_range_low  \\\n",
       "0           10400.0      6.99     58000.0    36  14.92           710.0   \n",
       "1           15000.0     12.39     78000.0    60  12.03           750.0   \n",
       "2            9600.0     13.66     69000.0    36  25.81           680.0   \n",
       "3            7650.0     13.66     50000.0    36  34.81           685.0   \n",
       "4           21425.0     15.59     63800.0    60  18.49           685.0   \n",
       "...             ...       ...         ...   ...    ...             ...   \n",
       "453642      20500.0     16.77     60000.0    36  16.40           700.0   \n",
       "453643      15000.0     15.27     57600.0    36   8.35           680.0   \n",
       "453644      35000.0     15.96    160000.0    36   4.90           720.0   \n",
       "453645      12000.0     16.29     35000.0    36  12.93           675.0   \n",
       "453646       7775.0     15.27     50000.0    60   5.50           715.0   \n",
       "\n",
       "        emp_length  fico_range_high  grade  loan_status  \n",
       "0                8            714.0      7            0  \n",
       "1               10            754.0      5            1  \n",
       "2               10            684.0      5            1  \n",
       "3                0            689.0      5            0  \n",
       "4                6            689.0      4            1  \n",
       "...            ...              ...    ...          ...  \n",
       "453642           7            704.0      4            1  \n",
       "453643           3            684.0      5            1  \n",
       "453644           3            724.0      5            1  \n",
       "453645           2            679.0      4            0  \n",
       "453646           7            719.0      5            1  \n",
       "\n",
       "[453647 rows x 10 columns]"
      ]
     },
     "execution_count": 32,
     "metadata": {},
     "output_type": "execute_result"
    }
   ],
   "source": [
    "#####\n",
    "dnn =accepted[['funded_amnt','int_rate','annual_inc','term', 'dti', 'fico_range_low','emp_length', 'fico_range_high','grade','loan_status']]\n",
    "dnn"
   ]
  },
  {
   "cell_type": "code",
   "execution_count": 33,
   "metadata": {},
   "outputs": [
    {
     "data": {
      "text/html": [
       "<div>\n",
       "<style scoped>\n",
       "    .dataframe tbody tr th:only-of-type {\n",
       "        vertical-align: middle;\n",
       "    }\n",
       "\n",
       "    .dataframe tbody tr th {\n",
       "        vertical-align: top;\n",
       "    }\n",
       "\n",
       "    .dataframe thead th {\n",
       "        text-align: right;\n",
       "    }\n",
       "</style>\n",
       "<table border=\"1\" class=\"dataframe\">\n",
       "  <thead>\n",
       "    <tr style=\"text-align: right;\">\n",
       "      <th></th>\n",
       "      <th>funded_amnt</th>\n",
       "      <th>int_rate</th>\n",
       "      <th>annual_inc</th>\n",
       "      <th>term</th>\n",
       "      <th>dti</th>\n",
       "      <th>fico_range_low</th>\n",
       "      <th>emp_length</th>\n",
       "      <th>fico_range_high</th>\n",
       "      <th>grade</th>\n",
       "      <th>loan_status</th>\n",
       "    </tr>\n",
       "  </thead>\n",
       "  <tbody>\n",
       "    <tr>\n",
       "      <th>funded_amnt</th>\n",
       "      <td>1.000000</td>\n",
       "      <td>0.163956</td>\n",
       "      <td>0.371911</td>\n",
       "      <td>0.401712</td>\n",
       "      <td>0.053609</td>\n",
       "      <td>0.102555</td>\n",
       "      <td>0.129892</td>\n",
       "      <td>0.102554</td>\n",
       "      <td>-0.157811</td>\n",
       "      <td>-0.057663</td>\n",
       "    </tr>\n",
       "    <tr>\n",
       "      <th>int_rate</th>\n",
       "      <td>0.163956</td>\n",
       "      <td>1.000000</td>\n",
       "      <td>-0.046972</td>\n",
       "      <td>0.445421</td>\n",
       "      <td>0.157369</td>\n",
       "      <td>-0.502135</td>\n",
       "      <td>0.026557</td>\n",
       "      <td>-0.502132</td>\n",
       "      <td>-0.951612</td>\n",
       "      <td>-0.228207</td>\n",
       "    </tr>\n",
       "    <tr>\n",
       "      <th>annual_inc</th>\n",
       "      <td>0.371911</td>\n",
       "      <td>-0.046972</td>\n",
       "      <td>1.000000</td>\n",
       "      <td>0.067911</td>\n",
       "      <td>-0.189287</td>\n",
       "      <td>0.094710</td>\n",
       "      <td>0.093500</td>\n",
       "      <td>0.094710</td>\n",
       "      <td>0.039077</td>\n",
       "      <td>0.049932</td>\n",
       "    </tr>\n",
       "    <tr>\n",
       "      <th>term</th>\n",
       "      <td>0.401712</td>\n",
       "      <td>0.445421</td>\n",
       "      <td>0.067911</td>\n",
       "      <td>1.000000</td>\n",
       "      <td>0.081117</td>\n",
       "      <td>-0.004186</td>\n",
       "      <td>0.084482</td>\n",
       "      <td>-0.004186</td>\n",
       "      <td>-0.450824</td>\n",
       "      <td>-0.178129</td>\n",
       "    </tr>\n",
       "    <tr>\n",
       "      <th>dti</th>\n",
       "      <td>0.053609</td>\n",
       "      <td>0.157369</td>\n",
       "      <td>-0.189287</td>\n",
       "      <td>0.081117</td>\n",
       "      <td>1.000000</td>\n",
       "      <td>-0.111698</td>\n",
       "      <td>0.038574</td>\n",
       "      <td>-0.111700</td>\n",
       "      <td>-0.143500</td>\n",
       "      <td>-0.089888</td>\n",
       "    </tr>\n",
       "    <tr>\n",
       "      <th>fico_range_low</th>\n",
       "      <td>0.102555</td>\n",
       "      <td>-0.502135</td>\n",
       "      <td>0.094710</td>\n",
       "      <td>-0.004186</td>\n",
       "      <td>-0.111698</td>\n",
       "      <td>1.000000</td>\n",
       "      <td>0.010825</td>\n",
       "      <td>1.000000</td>\n",
       "      <td>0.467726</td>\n",
       "      <td>0.117705</td>\n",
       "    </tr>\n",
       "    <tr>\n",
       "      <th>emp_length</th>\n",
       "      <td>0.129892</td>\n",
       "      <td>0.026557</td>\n",
       "      <td>0.093500</td>\n",
       "      <td>0.084482</td>\n",
       "      <td>0.038574</td>\n",
       "      <td>0.010825</td>\n",
       "      <td>1.000000</td>\n",
       "      <td>0.010826</td>\n",
       "      <td>-0.015946</td>\n",
       "      <td>0.006993</td>\n",
       "    </tr>\n",
       "    <tr>\n",
       "      <th>fico_range_high</th>\n",
       "      <td>0.102554</td>\n",
       "      <td>-0.502132</td>\n",
       "      <td>0.094710</td>\n",
       "      <td>-0.004186</td>\n",
       "      <td>-0.111700</td>\n",
       "      <td>1.000000</td>\n",
       "      <td>0.010826</td>\n",
       "      <td>1.000000</td>\n",
       "      <td>0.467723</td>\n",
       "      <td>0.117704</td>\n",
       "    </tr>\n",
       "    <tr>\n",
       "      <th>grade</th>\n",
       "      <td>-0.157811</td>\n",
       "      <td>-0.951612</td>\n",
       "      <td>0.039077</td>\n",
       "      <td>-0.450824</td>\n",
       "      <td>-0.143500</td>\n",
       "      <td>0.467726</td>\n",
       "      <td>-0.015946</td>\n",
       "      <td>0.467723</td>\n",
       "      <td>1.000000</td>\n",
       "      <td>0.230671</td>\n",
       "    </tr>\n",
       "    <tr>\n",
       "      <th>loan_status</th>\n",
       "      <td>-0.057663</td>\n",
       "      <td>-0.228207</td>\n",
       "      <td>0.049932</td>\n",
       "      <td>-0.178129</td>\n",
       "      <td>-0.089888</td>\n",
       "      <td>0.117705</td>\n",
       "      <td>0.006993</td>\n",
       "      <td>0.117704</td>\n",
       "      <td>0.230671</td>\n",
       "      <td>1.000000</td>\n",
       "    </tr>\n",
       "  </tbody>\n",
       "</table>\n",
       "</div>"
      ],
      "text/plain": [
       "                 funded_amnt  int_rate  annual_inc      term       dti  \\\n",
       "funded_amnt         1.000000  0.163956    0.371911  0.401712  0.053609   \n",
       "int_rate            0.163956  1.000000   -0.046972  0.445421  0.157369   \n",
       "annual_inc          0.371911 -0.046972    1.000000  0.067911 -0.189287   \n",
       "term                0.401712  0.445421    0.067911  1.000000  0.081117   \n",
       "dti                 0.053609  0.157369   -0.189287  0.081117  1.000000   \n",
       "fico_range_low      0.102555 -0.502135    0.094710 -0.004186 -0.111698   \n",
       "emp_length          0.129892  0.026557    0.093500  0.084482  0.038574   \n",
       "fico_range_high     0.102554 -0.502132    0.094710 -0.004186 -0.111700   \n",
       "grade              -0.157811 -0.951612    0.039077 -0.450824 -0.143500   \n",
       "loan_status        -0.057663 -0.228207    0.049932 -0.178129 -0.089888   \n",
       "\n",
       "                 fico_range_low  emp_length  fico_range_high     grade  \\\n",
       "funded_amnt            0.102555    0.129892         0.102554 -0.157811   \n",
       "int_rate              -0.502135    0.026557        -0.502132 -0.951612   \n",
       "annual_inc             0.094710    0.093500         0.094710  0.039077   \n",
       "term                  -0.004186    0.084482        -0.004186 -0.450824   \n",
       "dti                   -0.111698    0.038574        -0.111700 -0.143500   \n",
       "fico_range_low         1.000000    0.010825         1.000000  0.467726   \n",
       "emp_length             0.010825    1.000000         0.010826 -0.015946   \n",
       "fico_range_high        1.000000    0.010826         1.000000  0.467723   \n",
       "grade                  0.467726   -0.015946         0.467723  1.000000   \n",
       "loan_status            0.117705    0.006993         0.117704  0.230671   \n",
       "\n",
       "                 loan_status  \n",
       "funded_amnt        -0.057663  \n",
       "int_rate           -0.228207  \n",
       "annual_inc          0.049932  \n",
       "term               -0.178129  \n",
       "dti                -0.089888  \n",
       "fico_range_low      0.117705  \n",
       "emp_length          0.006993  \n",
       "fico_range_high     0.117704  \n",
       "grade               0.230671  \n",
       "loan_status         1.000000  "
      ]
     },
     "execution_count": 33,
     "metadata": {},
     "output_type": "execute_result"
    }
   ],
   "source": [
    "dnn.corr()"
   ]
  },
  {
   "cell_type": "code",
   "execution_count": 34,
   "metadata": {},
   "outputs": [],
   "source": [
    "# from sklearn.preprocessing import OneHotEncoder\n",
    "\n",
    "# #dummify purpose column\n",
    "# purpose_ohe = OneHotEncoder( drop='first', sparse = False )\n",
    "# purpose_enc = purpose_ohe.fit_transform( df[['purpose']] )\n",
    "# purpose_enc = pd.DataFrame( purpose_enc, columns=purpose_ohe.get_feature_names(['purpose']) )\n",
    "# df = pd.concat( (df.drop([\"purpose\"], axis=1).reset_index(drop = True), purpose_enc), axis = 1 )\n"
   ]
  },
  {
   "cell_type": "code",
   "execution_count": 35,
   "metadata": {},
   "outputs": [
    {
     "data": {
      "text/html": [
       "<div>\n",
       "<style scoped>\n",
       "    .dataframe tbody tr th:only-of-type {\n",
       "        vertical-align: middle;\n",
       "    }\n",
       "\n",
       "    .dataframe tbody tr th {\n",
       "        vertical-align: top;\n",
       "    }\n",
       "\n",
       "    .dataframe thead th {\n",
       "        text-align: right;\n",
       "    }\n",
       "</style>\n",
       "<table border=\"1\" class=\"dataframe\">\n",
       "  <thead>\n",
       "    <tr style=\"text-align: right;\">\n",
       "      <th></th>\n",
       "      <th>funded_amnt</th>\n",
       "      <th>int_rate</th>\n",
       "      <th>annual_inc</th>\n",
       "      <th>term</th>\n",
       "      <th>dti</th>\n",
       "      <th>fico_range_low</th>\n",
       "      <th>emp_length</th>\n",
       "      <th>fico_range_high</th>\n",
       "    </tr>\n",
       "  </thead>\n",
       "  <tbody>\n",
       "    <tr>\n",
       "      <th>0</th>\n",
       "      <td>10400.0</td>\n",
       "      <td>6.99</td>\n",
       "      <td>58000.0</td>\n",
       "      <td>36</td>\n",
       "      <td>14.92</td>\n",
       "      <td>710.0</td>\n",
       "      <td>8</td>\n",
       "      <td>714.0</td>\n",
       "    </tr>\n",
       "    <tr>\n",
       "      <th>1</th>\n",
       "      <td>15000.0</td>\n",
       "      <td>12.39</td>\n",
       "      <td>78000.0</td>\n",
       "      <td>60</td>\n",
       "      <td>12.03</td>\n",
       "      <td>750.0</td>\n",
       "      <td>10</td>\n",
       "      <td>754.0</td>\n",
       "    </tr>\n",
       "    <tr>\n",
       "      <th>2</th>\n",
       "      <td>9600.0</td>\n",
       "      <td>13.66</td>\n",
       "      <td>69000.0</td>\n",
       "      <td>36</td>\n",
       "      <td>25.81</td>\n",
       "      <td>680.0</td>\n",
       "      <td>10</td>\n",
       "      <td>684.0</td>\n",
       "    </tr>\n",
       "    <tr>\n",
       "      <th>3</th>\n",
       "      <td>7650.0</td>\n",
       "      <td>13.66</td>\n",
       "      <td>50000.0</td>\n",
       "      <td>36</td>\n",
       "      <td>34.81</td>\n",
       "      <td>685.0</td>\n",
       "      <td>0</td>\n",
       "      <td>689.0</td>\n",
       "    </tr>\n",
       "    <tr>\n",
       "      <th>4</th>\n",
       "      <td>21425.0</td>\n",
       "      <td>15.59</td>\n",
       "      <td>63800.0</td>\n",
       "      <td>60</td>\n",
       "      <td>18.49</td>\n",
       "      <td>685.0</td>\n",
       "      <td>6</td>\n",
       "      <td>689.0</td>\n",
       "    </tr>\n",
       "  </tbody>\n",
       "</table>\n",
       "</div>"
      ],
      "text/plain": [
       "   funded_amnt  int_rate  annual_inc  term    dti  fico_range_low  emp_length  \\\n",
       "0      10400.0      6.99     58000.0    36  14.92           710.0           8   \n",
       "1      15000.0     12.39     78000.0    60  12.03           750.0          10   \n",
       "2       9600.0     13.66     69000.0    36  25.81           680.0          10   \n",
       "3       7650.0     13.66     50000.0    36  34.81           685.0           0   \n",
       "4      21425.0     15.59     63800.0    60  18.49           685.0           6   \n",
       "\n",
       "   fico_range_high  \n",
       "0            714.0  \n",
       "1            754.0  \n",
       "2            684.0  \n",
       "3            689.0  \n",
       "4            689.0  "
      ]
     },
     "execution_count": 35,
     "metadata": {},
     "output_type": "execute_result"
    }
   ],
   "source": [
    "df.head()"
   ]
  },
  {
   "cell_type": "code",
   "execution_count": 36,
   "metadata": {},
   "outputs": [
    {
     "data": {
      "text/plain": [
       "(453647, 8)"
      ]
     },
     "execution_count": 36,
     "metadata": {},
     "output_type": "execute_result"
    }
   ],
   "source": [
    "df.shape"
   ]
  },
  {
   "cell_type": "code",
   "execution_count": 37,
   "metadata": {},
   "outputs": [],
   "source": [
    "X = df"
   ]
  },
  {
   "cell_type": "code",
   "execution_count": null,
   "metadata": {},
   "outputs": [],
   "source": []
  },
  {
   "cell_type": "code",
   "execution_count": 38,
   "metadata": {},
   "outputs": [],
   "source": [
    "# accepted['loan_status']\n"
   ]
  },
  {
   "cell_type": "code",
   "execution_count": 39,
   "metadata": {},
   "outputs": [
    {
     "data": {
      "text/plain": [
       "1    376150\n",
       "0     77497\n",
       "Name: loan_status, dtype: int64"
      ]
     },
     "execution_count": 39,
     "metadata": {},
     "output_type": "execute_result"
    }
   ],
   "source": [
    "accepted['loan_status'].value_counts()"
   ]
  },
  {
   "cell_type": "code",
   "execution_count": 40,
   "metadata": {},
   "outputs": [],
   "source": [
    "Y =accepted['loan_status']\n"
   ]
  },
  {
   "cell_type": "code",
   "execution_count": 41,
   "metadata": {},
   "outputs": [
    {
     "name": "stdout",
     "output_type": "stream",
     "text": [
      "(362917, 8)\n",
      "(362917,)\n"
     ]
    }
   ],
   "source": [
    "#np.random.seed(0)\n",
    "from sklearn.model_selection import train_test_split\n",
    "\n",
    "Xtrain, Xtest, ytrain, ytest = train_test_split( X,Y, test_size = 0.2 ,random_state=42 )\n",
    "print(Xtrain.shape)\n",
    "print(ytrain.shape)"
   ]
  },
  {
   "cell_type": "code",
   "execution_count": 42,
   "metadata": {},
   "outputs": [
    {
     "data": {
      "text/html": [
       "<div>\n",
       "<style scoped>\n",
       "    .dataframe tbody tr th:only-of-type {\n",
       "        vertical-align: middle;\n",
       "    }\n",
       "\n",
       "    .dataframe tbody tr th {\n",
       "        vertical-align: top;\n",
       "    }\n",
       "\n",
       "    .dataframe thead th {\n",
       "        text-align: right;\n",
       "    }\n",
       "</style>\n",
       "<table border=\"1\" class=\"dataframe\">\n",
       "  <thead>\n",
       "    <tr style=\"text-align: right;\">\n",
       "      <th></th>\n",
       "      <th>funded_amnt</th>\n",
       "      <th>int_rate</th>\n",
       "      <th>annual_inc</th>\n",
       "      <th>term</th>\n",
       "      <th>dti</th>\n",
       "      <th>fico_range_low</th>\n",
       "      <th>emp_length</th>\n",
       "      <th>fico_range_high</th>\n",
       "    </tr>\n",
       "  </thead>\n",
       "  <tbody>\n",
       "    <tr>\n",
       "      <th>0</th>\n",
       "      <td>0.220601</td>\n",
       "      <td>0.870349</td>\n",
       "      <td>-0.191115</td>\n",
       "      <td>-0.586438</td>\n",
       "      <td>-1.013048</td>\n",
       "      <td>-0.688897</td>\n",
       "      <td>1.155058</td>\n",
       "      <td>-0.688893</td>\n",
       "    </tr>\n",
       "    <tr>\n",
       "      <th>1</th>\n",
       "      <td>0.099497</td>\n",
       "      <td>0.870349</td>\n",
       "      <td>-0.297576</td>\n",
       "      <td>-0.586438</td>\n",
       "      <td>-1.905528</td>\n",
       "      <td>-1.174373</td>\n",
       "      <td>1.155058</td>\n",
       "      <td>-1.174365</td>\n",
       "    </tr>\n",
       "    <tr>\n",
       "      <th>2</th>\n",
       "      <td>-0.506023</td>\n",
       "      <td>0.645894</td>\n",
       "      <td>0.148799</td>\n",
       "      <td>1.705211</td>\n",
       "      <td>0.794892</td>\n",
       "      <td>-0.850723</td>\n",
       "      <td>1.155058</td>\n",
       "      <td>-0.850717</td>\n",
       "    </tr>\n",
       "    <tr>\n",
       "      <th>3</th>\n",
       "      <td>1.673847</td>\n",
       "      <td>2.546883</td>\n",
       "      <td>0.539700</td>\n",
       "      <td>1.705211</td>\n",
       "      <td>0.492292</td>\n",
       "      <td>-0.041595</td>\n",
       "      <td>-0.768767</td>\n",
       "      <td>-0.041597</td>\n",
       "    </tr>\n",
       "    <tr>\n",
       "      <th>4</th>\n",
       "      <td>-0.566575</td>\n",
       "      <td>0.483280</td>\n",
       "      <td>-0.225107</td>\n",
       "      <td>-0.586438</td>\n",
       "      <td>1.600549</td>\n",
       "      <td>-0.850723</td>\n",
       "      <td>-1.318431</td>\n",
       "      <td>-0.850717</td>\n",
       "    </tr>\n",
       "  </tbody>\n",
       "</table>\n",
       "</div>"
      ],
      "text/plain": [
       "   funded_amnt  int_rate  annual_inc      term       dti  fico_range_low  \\\n",
       "0     0.220601  0.870349   -0.191115 -0.586438 -1.013048       -0.688897   \n",
       "1     0.099497  0.870349   -0.297576 -0.586438 -1.905528       -1.174373   \n",
       "2    -0.506023  0.645894    0.148799  1.705211  0.794892       -0.850723   \n",
       "3     1.673847  2.546883    0.539700  1.705211  0.492292       -0.041595   \n",
       "4    -0.566575  0.483280   -0.225107 -0.586438  1.600549       -0.850723   \n",
       "\n",
       "   emp_length  fico_range_high  \n",
       "0    1.155058        -0.688893  \n",
       "1    1.155058        -1.174365  \n",
       "2    1.155058        -0.850717  \n",
       "3   -0.768767        -0.041597  \n",
       "4   -1.318431        -0.850717  "
      ]
     },
     "execution_count": 42,
     "metadata": {},
     "output_type": "execute_result"
    }
   ],
   "source": [
    "from sklearn.preprocessing import StandardScaler\n",
    "ss = StandardScaler()\n",
    "Xtrain = pd.DataFrame( ss.fit_transform(Xtrain), columns = Xtrain.columns)\n",
    "Xtrain.head()\n",
    "Xtest = pd.DataFrame( ss.fit_transform(Xtest), columns = Xtest.columns)\n",
    "Xtest.head()"
   ]
  },
  {
   "cell_type": "code",
   "execution_count": 43,
   "metadata": {},
   "outputs": [
    {
     "data": {
      "text/plain": [
       "GridSearchCV(cv=5, error_score=nan,\n",
       "             estimator=LogisticRegression(C=1.0, class_weight='balanced',\n",
       "                                          dual=False, fit_intercept=True,\n",
       "                                          intercept_scaling=1, l1_ratio=None,\n",
       "                                          max_iter=100, multi_class='ovr',\n",
       "                                          n_jobs=None, penalty='l2',\n",
       "                                          random_state=None, solver='liblinear',\n",
       "                                          tol=0.0001, verbose=0,\n",
       "                                          warm_start=False),\n",
       "             iid='deprecated', n_jobs=-1,\n",
       "             param_grid={'C': array([1.e-03, 1.e-02, 1.e-01, 1.e+00, 1.e+01, 1.e+02, 1.e+03])},\n",
       "             pre_dispatch='2*n_jobs', refit=True, return_train_score=False,\n",
       "             scoring=None, verbose=0)"
      ]
     },
     "execution_count": 43,
     "metadata": {},
     "output_type": "execute_result"
    }
   ],
   "source": [
    "from sklearn. linear_model import LogisticRegression\n",
    "from sklearn.model_selection import GridSearchCV\n",
    "#logit = LogisticRegression( class_weight='balanced')\n",
    "#logit = LogisticRegression( )\n",
    "logit = LogisticRegression( class_weight='balanced',multi_class='ovr',solver='liblinear')\n",
    "param_grid={\"C\":np.logspace(-3,3,7)}\n",
    "#param_grid={\"C\":np.linspace(1,1000,20)}\n",
    "#param_grid={\"C\":np.linspace(10,1000,20)}\n",
    "logit_cv=GridSearchCV(logit, param_grid, cv =5, n_jobs = -1)\n",
    "logit_cv.fit(Xtrain,ytrain)\n",
    "\n",
    "\n",
    "# C=1.0, class_weight=None, dual=False, fit_intercept=True,\n",
    "#           intercept_scaling=1, max_iter=100, multi_class='ovr', n_jobs=1,\n",
    "#           penalty='l2', random_state=None, solver='liblinear', tol=0.0001,\n",
    "#           verbose=0, warm_start=False\n",
    "            \n",
    "           # solver='lbfgs',"
   ]
  },
  {
   "cell_type": "code",
   "execution_count": 44,
   "metadata": {},
   "outputs": [
    {
     "data": {
      "text/plain": [
       "{'C': 1.0}"
      ]
     },
     "execution_count": 44,
     "metadata": {},
     "output_type": "execute_result"
    }
   ],
   "source": [
    "#best hyperparemeter\n",
    "logit_cv.best_params_ \n"
   ]
  },
  {
   "cell_type": "markdown",
   "metadata": {},
   "source": [
    "{'C': 53.578947368421055}"
   ]
  },
  {
   "cell_type": "code",
   "execution_count": 45,
   "metadata": {},
   "outputs": [],
   "source": [
    "from sklearn.metrics import classification_report, roc_auc_score"
   ]
  },
  {
   "cell_type": "code",
   "execution_count": 46,
   "metadata": {},
   "outputs": [
    {
     "data": {
      "text/plain": [
       "0.6929786859230131"
      ]
     },
     "execution_count": 46,
     "metadata": {},
     "output_type": "execute_result"
    }
   ],
   "source": [
    "roc=roc_auc_score(ytest, logit_cv.predict_proba(Xtest)[:,1])\n",
    "roc"
   ]
  },
  {
   "cell_type": "code",
   "execution_count": 47,
   "metadata": {},
   "outputs": [],
   "source": [
    "# auc = roc_auc_score(Y,logit_cv.predict(X))\n",
    "# auc"
   ]
  },
  {
   "cell_type": "code",
   "execution_count": null,
   "metadata": {},
   "outputs": [],
   "source": []
  },
  {
   "cell_type": "code",
   "execution_count": 48,
   "metadata": {},
   "outputs": [
    {
     "data": {
      "text/plain": [
       "array([[0.5089866 , 0.4910134 ],\n",
       "       [0.50439092, 0.49560908],\n",
       "       [0.65675965, 0.34324035],\n",
       "       ...,\n",
       "       [0.47516339, 0.52483661],\n",
       "       [0.66557658, 0.33442342],\n",
       "       [0.49486881, 0.50513119]])"
      ]
     },
     "execution_count": 48,
     "metadata": {},
     "output_type": "execute_result"
    }
   ],
   "source": [
    "logit_cv.predict_proba(Xtest)"
   ]
  },
  {
   "cell_type": "code",
   "execution_count": 49,
   "metadata": {},
   "outputs": [
    {
     "data": {
      "text/plain": [
       "0.6484926344708672"
      ]
     },
     "execution_count": 49,
     "metadata": {},
     "output_type": "execute_result"
    }
   ],
   "source": [
    "#best score\n",
    "logit_cv.best_score_"
   ]
  },
  {
   "cell_type": "code",
   "execution_count": 50,
   "metadata": {},
   "outputs": [
    {
     "data": {
      "text/plain": [
       "0.6485587613696796"
      ]
     },
     "execution_count": 50,
     "metadata": {},
     "output_type": "execute_result"
    }
   ],
   "source": [
    "logit_cv.score(Xtrain,ytrain)"
   ]
  },
  {
   "cell_type": "code",
   "execution_count": 51,
   "metadata": {},
   "outputs": [
    {
     "data": {
      "text/plain": [
       "0.6509203130166428"
      ]
     },
     "execution_count": 51,
     "metadata": {},
     "output_type": "execute_result"
    }
   ],
   "source": [
    "logit_cv.score(Xtest,ytest)"
   ]
  },
  {
   "cell_type": "code",
   "execution_count": 52,
   "metadata": {},
   "outputs": [
    {
     "data": {
      "text/plain": [
       "array([[ 9631,  5742],\n",
       "       [25930, 49427]], dtype=int64)"
      ]
     },
     "execution_count": 52,
     "metadata": {},
     "output_type": "execute_result"
    }
   ],
   "source": [
    "from sklearn.metrics import confusion_matrix,classification_report\n",
    "confusion_matrix(ytest, logit_cv.predict(Xtest))"
   ]
  },
  {
   "cell_type": "code",
   "execution_count": 53,
   "metadata": {},
   "outputs": [
    {
     "name": "stdout",
     "output_type": "stream",
     "text": [
      "              precision    recall  f1-score   support\n",
      "\n",
      "           0       0.27      0.63      0.38     15373\n",
      "           1       0.90      0.66      0.76     75357\n",
      "\n",
      "    accuracy                           0.65     90730\n",
      "   macro avg       0.58      0.64      0.57     90730\n",
      "weighted avg       0.79      0.65      0.69     90730\n",
      "\n"
     ]
    }
   ],
   "source": [
    "print(classification_report(ytest, logit_cv.predict(Xtest)))"
   ]
  },
  {
   "cell_type": "code",
   "execution_count": null,
   "metadata": {},
   "outputs": [],
   "source": []
  },
  {
   "cell_type": "markdown",
   "metadata": {},
   "source": [
    "To handle the imbalance in the dataset,the class weight was as 'balanced' in the logistic regression model.\n",
    "Thisimplies the sampling of the small class to match the weight of the bigger class"
   ]
  },
  {
   "cell_type": "code",
   "execution_count": 54,
   "metadata": {},
   "outputs": [
    {
     "data": {
      "text/plain": [
       "Index(['funded_amnt', 'int_rate', 'annual_inc', 'term', 'dti',\n",
       "       'fico_range_low', 'emp_length', 'fico_range_high'],\n",
       "      dtype='object')"
      ]
     },
     "execution_count": 54,
     "metadata": {},
     "output_type": "execute_result"
    }
   ],
   "source": [
    "df.columns"
   ]
  },
  {
   "cell_type": "code",
   "execution_count": 55,
   "metadata": {},
   "outputs": [],
   "source": [
    "df2 =accepted[['funded_amnt','int_rate','annual_inc','term', 'dti', 'fico_range_low',\n",
    "          'emp_length', 'fico_range_high','grade','loan_status']]"
   ]
  },
  {
   "cell_type": "code",
   "execution_count": 56,
   "metadata": {},
   "outputs": [
    {
     "data": {
      "text/plain": [
       "1    77497\n",
       "0    77497\n",
       "Name: loan_status, dtype: int64"
      ]
     },
     "execution_count": 56,
     "metadata": {},
     "output_type": "execute_result"
    }
   ],
   "source": [
    "from sklearn.utils import resample\n",
    "#Separate majority and minority classes\n",
    "df_majority = df2[df2['loan_status']==1]\n",
    "df_minority = df2[df2['loan_status']==0]\n",
    " \n",
    "# Downsample majority class\n",
    "df_majority_downsampled = resample(df_majority, \n",
    "                                 replace=False,    # sample without replacement\n",
    "                                 n_samples=77497,     # to match minority class\n",
    "                                 random_state=123) # reproducible results\n",
    " \n",
    "# Combine minority class with downsampled majority class\n",
    "df_downsampled = pd.concat([df_majority_downsampled, df_minority])\n",
    " \n",
    "# Display new class counts\n",
    "df_downsampled.loan_status.value_counts()\n",
    "# 1    49\n",
    "# 0    49\n",
    "# Name: balance, dtype: int64"
   ]
  },
  {
   "cell_type": "code",
   "execution_count": 57,
   "metadata": {},
   "outputs": [
    {
     "data": {
      "text/plain": [
       "(154994, 9)"
      ]
     },
     "execution_count": 57,
     "metadata": {},
     "output_type": "execute_result"
    }
   ],
   "source": [
    "X2 = df_downsampled[['funded_amnt','int_rate','annual_inc','term', 'dti', 'fico_range_low',\n",
    "          'emp_length', 'fico_range_high','grade']]\n",
    "X2.shape"
   ]
  },
  {
   "cell_type": "code",
   "execution_count": 58,
   "metadata": {},
   "outputs": [
    {
     "data": {
      "text/plain": [
       "(154994,)"
      ]
     },
     "execution_count": 58,
     "metadata": {},
     "output_type": "execute_result"
    }
   ],
   "source": [
    "Y2 =df_downsampled['loan_status']\n",
    "Y2.shape"
   ]
  },
  {
   "cell_type": "code",
   "execution_count": 59,
   "metadata": {},
   "outputs": [
    {
     "name": "stdout",
     "output_type": "stream",
     "text": [
      "(123995, 9)\n",
      "(123995,)\n"
     ]
    }
   ],
   "source": [
    "from sklearn.model_selection import train_test_split\n",
    "\n",
    "X2train, X2test, y2train, y2test = train_test_split( X2,Y2, test_size = 0.2 ,random_state=42 )\n",
    "print(X2train.shape)\n",
    "print(y2train.shape)"
   ]
  },
  {
   "cell_type": "code",
   "execution_count": 60,
   "metadata": {},
   "outputs": [
    {
     "data": {
      "text/html": [
       "<div>\n",
       "<style scoped>\n",
       "    .dataframe tbody tr th:only-of-type {\n",
       "        vertical-align: middle;\n",
       "    }\n",
       "\n",
       "    .dataframe tbody tr th {\n",
       "        vertical-align: top;\n",
       "    }\n",
       "\n",
       "    .dataframe thead th {\n",
       "        text-align: right;\n",
       "    }\n",
       "</style>\n",
       "<table border=\"1\" class=\"dataframe\">\n",
       "  <thead>\n",
       "    <tr style=\"text-align: right;\">\n",
       "      <th></th>\n",
       "      <th>funded_amnt</th>\n",
       "      <th>int_rate</th>\n",
       "      <th>annual_inc</th>\n",
       "      <th>term</th>\n",
       "      <th>dti</th>\n",
       "      <th>fico_range_low</th>\n",
       "      <th>emp_length</th>\n",
       "      <th>fico_range_high</th>\n",
       "      <th>grade</th>\n",
       "    </tr>\n",
       "  </thead>\n",
       "  <tbody>\n",
       "    <tr>\n",
       "      <th>0</th>\n",
       "      <td>1.242246</td>\n",
       "      <td>-0.381373</td>\n",
       "      <td>2.729055</td>\n",
       "      <td>-0.694058</td>\n",
       "      <td>0.295829</td>\n",
       "      <td>0.238535</td>\n",
       "      <td>-1.590592</td>\n",
       "      <td>0.238525</td>\n",
       "      <td>0.782769</td>\n",
       "    </tr>\n",
       "    <tr>\n",
       "      <th>1</th>\n",
       "      <td>0.343193</td>\n",
       "      <td>0.358689</td>\n",
       "      <td>-0.653875</td>\n",
       "      <td>1.440801</td>\n",
       "      <td>0.103482</td>\n",
       "      <td>-0.787150</td>\n",
       "      <td>-0.765402</td>\n",
       "      <td>-0.787137</td>\n",
       "      <td>0.055247</td>\n",
       "    </tr>\n",
       "    <tr>\n",
       "      <th>2</th>\n",
       "      <td>0.882624</td>\n",
       "      <td>0.795998</td>\n",
       "      <td>0.297574</td>\n",
       "      <td>1.440801</td>\n",
       "      <td>0.152834</td>\n",
       "      <td>-0.958098</td>\n",
       "      <td>1.160042</td>\n",
       "      <td>-0.958080</td>\n",
       "      <td>-0.672276</td>\n",
       "    </tr>\n",
       "    <tr>\n",
       "      <th>3</th>\n",
       "      <td>-0.555861</td>\n",
       "      <td>-0.448651</td>\n",
       "      <td>-0.653875</td>\n",
       "      <td>-0.694058</td>\n",
       "      <td>-0.154666</td>\n",
       "      <td>-0.103360</td>\n",
       "      <td>-1.315528</td>\n",
       "      <td>-0.103362</td>\n",
       "      <td>0.782769</td>\n",
       "    </tr>\n",
       "    <tr>\n",
       "      <th>4</th>\n",
       "      <td>0.403129</td>\n",
       "      <td>0.347476</td>\n",
       "      <td>-0.125292</td>\n",
       "      <td>1.440801</td>\n",
       "      <td>-0.145808</td>\n",
       "      <td>-0.445255</td>\n",
       "      <td>-1.040465</td>\n",
       "      <td>-0.445250</td>\n",
       "      <td>0.055247</td>\n",
       "    </tr>\n",
       "  </tbody>\n",
       "</table>\n",
       "</div>"
      ],
      "text/plain": [
       "   funded_amnt  int_rate  annual_inc      term       dti  fico_range_low  \\\n",
       "0     1.242246 -0.381373    2.729055 -0.694058  0.295829        0.238535   \n",
       "1     0.343193  0.358689   -0.653875  1.440801  0.103482       -0.787150   \n",
       "2     0.882624  0.795998    0.297574  1.440801  0.152834       -0.958098   \n",
       "3    -0.555861 -0.448651   -0.653875 -0.694058 -0.154666       -0.103360   \n",
       "4     0.403129  0.347476   -0.125292  1.440801 -0.145808       -0.445255   \n",
       "\n",
       "   emp_length  fico_range_high     grade  \n",
       "0   -1.590592         0.238525  0.782769  \n",
       "1   -0.765402        -0.787137  0.055247  \n",
       "2    1.160042        -0.958080 -0.672276  \n",
       "3   -1.315528        -0.103362  0.782769  \n",
       "4   -1.040465        -0.445250  0.055247  "
      ]
     },
     "execution_count": 60,
     "metadata": {},
     "output_type": "execute_result"
    }
   ],
   "source": [
    "from sklearn.preprocessing import StandardScaler\n",
    "ss = StandardScaler()\n",
    "X2train = pd.DataFrame( ss.fit_transform(X2train), columns = X2train.columns)\n",
    "X2train.head()\n",
    "X2test = pd.DataFrame( ss.fit_transform(X2test), columns = X2test.columns)\n",
    "X2test.head()"
   ]
  },
  {
   "cell_type": "code",
   "execution_count": 67,
   "metadata": {},
   "outputs": [
    {
     "data": {
      "text/plain": [
       "GridSearchCV(cv=5, error_score=nan,\n",
       "             estimator=LogisticRegression(C=1.0, class_weight='balanced',\n",
       "                                          dual=False, fit_intercept=True,\n",
       "                                          intercept_scaling=1, l1_ratio=None,\n",
       "                                          max_iter=100, multi_class='ovr',\n",
       "                                          n_jobs=None, penalty='l2',\n",
       "                                          random_state=None, solver='liblinear',\n",
       "                                          tol=0.0001, verbose=0,\n",
       "                                          warm_start=False),\n",
       "             iid='deprecated', n_jobs=-1,\n",
       "             param_grid={'C': array([1.e-03, 1.e-02, 1.e-01, 1.e+00, 1.e+01, 1.e+02, 1.e+03])},\n",
       "             pre_dispatch='2*n_jobs', refit=True, return_train_score=False,\n",
       "             scoring=None, verbose=0)"
      ]
     },
     "execution_count": 67,
     "metadata": {},
     "output_type": "execute_result"
    }
   ],
   "source": [
    "from sklearn. linear_model import LogisticRegression\n",
    "from sklearn.model_selection import GridSearchCV\n",
    "#logit = LogisticRegression( class_weight='balanced')\n",
    "#logit = LogisticRegression( )\n",
    "logit = LogisticRegression( class_weight='balanced',multi_class='ovr',solver='liblinear')\n",
    "param_grid={\"C\":np.logspace(-3,3,7)}\n",
    "#param_grid={\"C\":np.linspace(1,1000,20)}\n",
    "#param_grid={\"C\":np.linspace(10,1000,20)}\n",
    "logit_cv=GridSearchCV(logit, param_grid, cv =5, n_jobs = -1)\n",
    "logit_cv.fit(X2train,y2train)"
   ]
  },
  {
   "cell_type": "code",
   "execution_count": 68,
   "metadata": {},
   "outputs": [
    {
     "data": {
      "text/plain": [
       "{'C': 1.0}"
      ]
     },
     "execution_count": 68,
     "metadata": {},
     "output_type": "execute_result"
    }
   ],
   "source": [
    "logit_cv.best_params_ "
   ]
  },
  {
   "cell_type": "code",
   "execution_count": 69,
   "metadata": {},
   "outputs": [],
   "source": [
    "from sklearn.metrics import classification_report, roc_auc_score"
   ]
  },
  {
   "cell_type": "code",
   "execution_count": 70,
   "metadata": {},
   "outputs": [
    {
     "data": {
      "text/plain": [
       "0.6952235952493924"
      ]
     },
     "execution_count": 70,
     "metadata": {},
     "output_type": "execute_result"
    }
   ],
   "source": [
    "roc2=roc_auc_score(y2test, logit_cv.predict_proba(X2test)[:,1])\n",
    "roc2"
   ]
  },
  {
   "cell_type": "code",
   "execution_count": 71,
   "metadata": {},
   "outputs": [
    {
     "data": {
      "text/plain": [
       "array([[ 9727,  5892],\n",
       "       [ 5220, 10160]], dtype=int64)"
      ]
     },
     "execution_count": 71,
     "metadata": {},
     "output_type": "execute_result"
    }
   ],
   "source": [
    "from sklearn.metrics import confusion_matrix,classification_report\n",
    "confusion_matrix(y2test, logit_cv.predict(X2test))"
   ]
  },
  {
   "cell_type": "code",
   "execution_count": 72,
   "metadata": {
    "scrolled": true
   },
   "outputs": [
    {
     "name": "stdout",
     "output_type": "stream",
     "text": [
      "              precision    recall  f1-score   support\n",
      "\n",
      "           0       0.65      0.62      0.64     15619\n",
      "           1       0.63      0.66      0.65     15380\n",
      "\n",
      "    accuracy                           0.64     30999\n",
      "   macro avg       0.64      0.64      0.64     30999\n",
      "weighted avg       0.64      0.64      0.64     30999\n",
      "\n"
     ]
    }
   ],
   "source": [
    "print(classification_report(y2test, logit_cv.predict(X2test)))"
   ]
  },
  {
   "cell_type": "code",
   "execution_count": null,
   "metadata": {},
   "outputs": [],
   "source": []
  }
 ],
 "metadata": {
  "kernelspec": {
   "display_name": "Python 3",
   "language": "python",
   "name": "python3"
  },
  "language_info": {
   "codemirror_mode": {
    "name": "ipython",
    "version": 3
   },
   "file_extension": ".py",
   "mimetype": "text/x-python",
   "name": "python",
   "nbconvert_exporter": "python",
   "pygments_lexer": "ipython3",
   "version": "3.7.6"
  }
 },
 "nbformat": 4,
 "nbformat_minor": 4
}
