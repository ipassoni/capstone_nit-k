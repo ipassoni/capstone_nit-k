{
 "cells": [
  {
   "cell_type": "markdown",
   "metadata": {},
   "source": [
    "## Risk and Return Analysis of Loans\n",
    "\n",
    "### - Survival Analysis of Loans\n",
    "\n",
    "*Refer to combined jupyter notebook\n",
    "      \n",
    "### - Good Loans and Bad Loans\n",
    "- Good loans: loans with high maturity (paid to the full term (36 months or 60 months)\n",
    "- Bad loans: loans with low maturity (Charged off or late payment or entering to grace period, before reaching the maturity)\n",
    "\n",
    "*Refer to combined jupter notebook\n",
    "\n",
    "### - Default Ratios and Return Ratios of High-Interest Rate Grades\n",
    "- Median Return Rate (percentage) of Grade F and G\n",
    "- Time series analysis of Grade F and G\n",
    "- Loans reaching high maturity with long terms (60 months)"
   ]
  },
  {
   "cell_type": "code",
   "execution_count": 94,
   "metadata": {},
   "outputs": [],
   "source": [
    "%matplotlib inline\n",
    "import numpy  as np\n",
    "import pandas as pd\n",
    "import matplotlib.pyplot as plt\n",
    "import seaborn as sns\n",
    "import matplotlib.ticker as ticker"
   ]
  },
  {
   "cell_type": "code",
   "execution_count": 54,
   "metadata": {},
   "outputs": [],
   "source": [
    "accepted = pd.read_csv(\"accepted_b_2015_clean.csv\")"
   ]
  },
  {
   "cell_type": "code",
   "execution_count": 3,
   "metadata": {},
   "outputs": [
    {
     "data": {
      "text/plain": [
       "Index(['id', 'loan_amnt', 'funded_amnt', 'funded_amnt_inv', 'term', 'int_rate',\n",
       "       'installment', 'grade', 'sub_grade', 'emp_title', 'emp_length',\n",
       "       'home_ownership', 'annual_inc', 'verification_status', 'issue_d',\n",
       "       'loan_status', 'pymnt_plan', 'url', 'purpose', 'title', 'zip_code',\n",
       "       'addr_state', 'dti', 'delinq_2yrs', 'earliest_cr_line',\n",
       "       'fico_range_low', 'fico_range_high', 'inq_last_6mths',\n",
       "       'mths_since_last_delinq', 'open_acc', 'pub_rec', 'revol_bal',\n",
       "       'revol_util', 'total_acc', 'initial_list_status', 'out_prncp',\n",
       "       'out_prncp_inv', 'total_pymnt', 'total_pymnt_inv', 'total_rec_prncp',\n",
       "       'total_rec_int', 'total_rec_late_fee', 'recoveries',\n",
       "       'collection_recovery_fee', 'last_pymnt_d', 'last_pymnt_amnt',\n",
       "       'last_credit_pull_d', 'last_fico_range_high', 'last_fico_range_low',\n",
       "       'collections_12_mths_ex_med', 'policy_code', 'application_type',\n",
       "       'acc_now_delinq', 'tot_coll_amt', 'tot_cur_bal', 'total_rev_hi_lim',\n",
       "       'acc_open_past_24mths', 'avg_cur_bal', 'bc_open_to_buy', 'bc_util',\n",
       "       'chargeoff_within_12_mths', 'delinq_amnt', 'mo_sin_old_il_acct',\n",
       "       'mo_sin_old_rev_tl_op', 'mo_sin_rcnt_rev_tl_op', 'mo_sin_rcnt_tl',\n",
       "       'mort_acc', 'mths_since_recent_bc', 'mths_since_recent_inq',\n",
       "       'num_accts_ever_120_pd', 'num_actv_bc_tl', 'num_actv_rev_tl',\n",
       "       'num_bc_sats', 'num_bc_tl', 'num_il_tl', 'num_op_rev_tl',\n",
       "       'num_rev_accts', 'num_rev_tl_bal_gt_0', 'num_sats', 'num_tl_120dpd_2m',\n",
       "       'num_tl_30dpd', 'num_tl_90g_dpd_24m', 'num_tl_op_past_12m',\n",
       "       'pct_tl_nvr_dlq', 'percent_bc_gt_75', 'pub_rec_bankruptcies',\n",
       "       'tax_liens', 'tot_hi_cred_lim', 'total_bal_ex_mort', 'total_bc_limit',\n",
       "       'total_il_high_credit_limit', 'hardship_flag', 'disbursement_method',\n",
       "       'debt_settlement_flag', 'duration_days', 'invest_return',\n",
       "       'invest_return_per', 'duration_months'],\n",
       "      dtype='object')"
      ]
     },
     "execution_count": 3,
     "metadata": {},
     "output_type": "execute_result"
    }
   ],
   "source": [
    "accepted.columns"
   ]
  },
  {
   "cell_type": "code",
   "execution_count": 4,
   "metadata": {},
   "outputs": [
    {
     "data": {
      "text/plain": [
       "FullyPaid    376150\n",
       "Defaulted     77497\n",
       "Name: loan_status, dtype: int64"
      ]
     },
     "execution_count": 4,
     "metadata": {},
     "output_type": "execute_result"
    }
   ],
   "source": [
    "accepted[\"loan_status\"].value_counts() \n",
    "\n",
    "#See the combined jupyter notebook for the definition of Fully_Paid and Defaulted"
   ]
  },
  {
   "cell_type": "code",
   "execution_count": 5,
   "metadata": {},
   "outputs": [
    {
     "data": {
      "text/plain": [
       " 36 months    337581\n",
       " 60 months    116066\n",
       "Name: term, dtype: int64"
      ]
     },
     "execution_count": 5,
     "metadata": {},
     "output_type": "execute_result"
    }
   ],
   "source": [
    "accepted[\"term\"].value_counts() "
   ]
  },
  {
   "cell_type": "code",
   "execution_count": 55,
   "metadata": {},
   "outputs": [],
   "source": [
    "#invest_return_return returns return rates: payment-prinicial/principal (percentage)\n",
    "accepted['invest_return_rate_monthly'] = ((accepted['total_pymnt'] - accepted['funded_amnt'])/accepted['funded_amnt'])*100/accepted[\"duration_months\"]\n",
    "accepted['invest_return'] = accepted['total_pymnt'] - accepted['funded_amnt']"
   ]
  },
  {
   "cell_type": "code",
   "execution_count": 41,
   "metadata": {},
   "outputs": [],
   "source": [
    "def major_formatter(x, pos):\n",
    "    return x.upper().replace(\"_\", \"\")"
   ]
  },
  {
   "cell_type": "code",
   "execution_count": 48,
   "metadata": {},
   "outputs": [
    {
     "name": "stderr",
     "output_type": "stream",
     "text": [
      "No handles with labels found to put in legend.\n"
     ]
    },
    {
     "data": {
      "text/plain": [
       "<matplotlib.legend.Legend at 0x12bbee9d0>"
      ]
     },
     "execution_count": 48,
     "metadata": {},
     "output_type": "execute_result"
    },
    {
     "data": {
      "image/png": "[encoded data removed]",
      "text/plain": [
       "<Figure size 720x360 with 1 Axes>"
      ]
     },
     "metadata": {
      "needs_background": "light"
     },
     "output_type": "display_data"
    }
   ],
   "source": [
    "fig, ax = plt.subplots(figsize=(10, 5))\n",
    "\n",
    "#purpose_ = accepted.groupby('purpose')[[\"invest_return_rate_monthly\"]].median().sort_values(by=\"invest_return_rate_monthly\", ascending=False)\n",
    "plt.barh(y='purpose', width='invest_return_rate_monthly',data=purpose_)\n",
    "\n",
    "plt.rcParams.update({'font.size': 15})\n",
    "ax.invert_yaxis()\n",
    "plt.legend(bbox_to_anchor=(0, -0.15, 1, 0), loc=2, ncol=2, mode=\"expand\", borderaxespad=0)"
   ]
  },
  {
   "cell_type": "code",
   "execution_count": 26,
   "metadata": {},
   "outputs": [
    {
     "data": {
      "text/html": [
       "<div>\n",
       "<style scoped>\n",
       "    .dataframe tbody tr th:only-of-type {\n",
       "        vertical-align: middle;\n",
       "    }\n",
       "\n",
       "    .dataframe tbody tr th {\n",
       "        vertical-align: top;\n",
       "    }\n",
       "\n",
       "    .dataframe thead th {\n",
       "        text-align: right;\n",
       "    }\n",
       "</style>\n",
       "<table border=\"1\" class=\"dataframe\">\n",
       "  <thead>\n",
       "    <tr style=\"text-align: right;\">\n",
       "      <th></th>\n",
       "      <th></th>\n",
       "      <th>funded_amnt</th>\n",
       "      <th>invest_return</th>\n",
       "      <th>invest_return_rate_monthly</th>\n",
       "      <th>duration_months</th>\n",
       "    </tr>\n",
       "    <tr>\n",
       "      <th>grade</th>\n",
       "      <th>sub_grade</th>\n",
       "      <th></th>\n",
       "      <th></th>\n",
       "      <th></th>\n",
       "      <th></th>\n",
       "    </tr>\n",
       "  </thead>\n",
       "  <tbody>\n",
       "    <tr>\n",
       "      <td rowspan=\"5\" valign=\"top\">A</td>\n",
       "      <td>A1</td>\n",
       "      <td>12000.0</td>\n",
       "      <td>887.940000</td>\n",
       "      <td>0.297849</td>\n",
       "      <td>29</td>\n",
       "    </tr>\n",
       "    <tr>\n",
       "      <td>A2</td>\n",
       "      <td>11500.0</td>\n",
       "      <td>937.330001</td>\n",
       "      <td>0.321956</td>\n",
       "      <td>29</td>\n",
       "    </tr>\n",
       "    <tr>\n",
       "      <td>A3</td>\n",
       "      <td>12000.0</td>\n",
       "      <td>1100.080000</td>\n",
       "      <td>0.358801</td>\n",
       "      <td>29</td>\n",
       "    </tr>\n",
       "    <tr>\n",
       "      <td>A4</td>\n",
       "      <td>12000.0</td>\n",
       "      <td>1167.676904</td>\n",
       "      <td>0.379581</td>\n",
       "      <td>29</td>\n",
       "    </tr>\n",
       "    <tr>\n",
       "      <td>A5</td>\n",
       "      <td>12000.0</td>\n",
       "      <td>1335.420000</td>\n",
       "      <td>0.425569</td>\n",
       "      <td>29</td>\n",
       "    </tr>\n",
       "    <tr>\n",
       "      <td rowspan=\"5\" valign=\"top\">B</td>\n",
       "      <td>B1</td>\n",
       "      <td>12000.0</td>\n",
       "      <td>1381.379605</td>\n",
       "      <td>0.480751</td>\n",
       "      <td>29</td>\n",
       "    </tr>\n",
       "    <tr>\n",
       "      <td>B2</td>\n",
       "      <td>12000.0</td>\n",
       "      <td>1547.366032</td>\n",
       "      <td>0.530101</td>\n",
       "      <td>28</td>\n",
       "    </tr>\n",
       "    <tr>\n",
       "      <td>B3</td>\n",
       "      <td>11500.0</td>\n",
       "      <td>1605.783342</td>\n",
       "      <td>0.572921</td>\n",
       "      <td>29</td>\n",
       "    </tr>\n",
       "    <tr>\n",
       "      <td>B4</td>\n",
       "      <td>12000.0</td>\n",
       "      <td>1703.760000</td>\n",
       "      <td>0.615755</td>\n",
       "      <td>28</td>\n",
       "    </tr>\n",
       "    <tr>\n",
       "      <td>B5</td>\n",
       "      <td>10800.0</td>\n",
       "      <td>1624.213899</td>\n",
       "      <td>0.644356</td>\n",
       "      <td>27</td>\n",
       "    </tr>\n",
       "    <tr>\n",
       "      <td rowspan=\"5\" valign=\"top\">C</td>\n",
       "      <td>C1</td>\n",
       "      <td>11050.0</td>\n",
       "      <td>1705.131844</td>\n",
       "      <td>0.677288</td>\n",
       "      <td>27</td>\n",
       "    </tr>\n",
       "    <tr>\n",
       "      <td>C2</td>\n",
       "      <td>11800.0</td>\n",
       "      <td>1824.596459</td>\n",
       "      <td>0.719661</td>\n",
       "      <td>27</td>\n",
       "    </tr>\n",
       "    <tr>\n",
       "      <td>C3</td>\n",
       "      <td>12000.0</td>\n",
       "      <td>1938.970000</td>\n",
       "      <td>0.754517</td>\n",
       "      <td>27</td>\n",
       "    </tr>\n",
       "    <tr>\n",
       "      <td>C4</td>\n",
       "      <td>13000.0</td>\n",
       "      <td>2020.640000</td>\n",
       "      <td>0.787831</td>\n",
       "      <td>27</td>\n",
       "    </tr>\n",
       "    <tr>\n",
       "      <td>C5</td>\n",
       "      <td>13225.0</td>\n",
       "      <td>2031.510001</td>\n",
       "      <td>0.823798</td>\n",
       "      <td>27</td>\n",
       "    </tr>\n",
       "    <tr>\n",
       "      <td rowspan=\"5\" valign=\"top\">D</td>\n",
       "      <td>D1</td>\n",
       "      <td>12000.0</td>\n",
       "      <td>2019.178747</td>\n",
       "      <td>0.848417</td>\n",
       "      <td>26</td>\n",
       "    </tr>\n",
       "    <tr>\n",
       "      <td>D2</td>\n",
       "      <td>12000.0</td>\n",
       "      <td>1955.552809</td>\n",
       "      <td>0.865107</td>\n",
       "      <td>26</td>\n",
       "    </tr>\n",
       "    <tr>\n",
       "      <td>D3</td>\n",
       "      <td>12312.5</td>\n",
       "      <td>1953.015000</td>\n",
       "      <td>0.901782</td>\n",
       "      <td>25</td>\n",
       "    </tr>\n",
       "    <tr>\n",
       "      <td>D4</td>\n",
       "      <td>14400.0</td>\n",
       "      <td>2127.670003</td>\n",
       "      <td>0.932418</td>\n",
       "      <td>25</td>\n",
       "    </tr>\n",
       "    <tr>\n",
       "      <td>D5</td>\n",
       "      <td>15000.0</td>\n",
       "      <td>2137.744585</td>\n",
       "      <td>0.968569</td>\n",
       "      <td>25</td>\n",
       "    </tr>\n",
       "    <tr>\n",
       "      <td rowspan=\"5\" valign=\"top\">E</td>\n",
       "      <td>E1</td>\n",
       "      <td>15450.0</td>\n",
       "      <td>2317.028831</td>\n",
       "      <td>1.009848</td>\n",
       "      <td>25</td>\n",
       "    </tr>\n",
       "    <tr>\n",
       "      <td>E2</td>\n",
       "      <td>16000.0</td>\n",
       "      <td>2303.527628</td>\n",
       "      <td>1.036795</td>\n",
       "      <td>25</td>\n",
       "    </tr>\n",
       "    <tr>\n",
       "      <td>E3</td>\n",
       "      <td>16375.0</td>\n",
       "      <td>2473.695857</td>\n",
       "      <td>1.071775</td>\n",
       "      <td>24</td>\n",
       "    </tr>\n",
       "    <tr>\n",
       "      <td>E4</td>\n",
       "      <td>17500.0</td>\n",
       "      <td>2528.180000</td>\n",
       "      <td>1.098702</td>\n",
       "      <td>24</td>\n",
       "    </tr>\n",
       "    <tr>\n",
       "      <td>E5</td>\n",
       "      <td>16775.0</td>\n",
       "      <td>2359.700000</td>\n",
       "      <td>1.119875</td>\n",
       "      <td>24</td>\n",
       "    </tr>\n",
       "    <tr>\n",
       "      <td rowspan=\"5\" valign=\"top\">F</td>\n",
       "      <td>F1</td>\n",
       "      <td>17275.0</td>\n",
       "      <td>2279.845000</td>\n",
       "      <td>1.154662</td>\n",
       "      <td>24</td>\n",
       "    </tr>\n",
       "    <tr>\n",
       "      <td>F2</td>\n",
       "      <td>18825.0</td>\n",
       "      <td>2873.380013</td>\n",
       "      <td>1.188225</td>\n",
       "      <td>23</td>\n",
       "    </tr>\n",
       "    <tr>\n",
       "      <td>F3</td>\n",
       "      <td>16950.0</td>\n",
       "      <td>2307.767118</td>\n",
       "      <td>1.189223</td>\n",
       "      <td>22</td>\n",
       "    </tr>\n",
       "    <tr>\n",
       "      <td>F4</td>\n",
       "      <td>18550.0</td>\n",
       "      <td>2710.694528</td>\n",
       "      <td>1.197673</td>\n",
       "      <td>22</td>\n",
       "    </tr>\n",
       "    <tr>\n",
       "      <td>F5</td>\n",
       "      <td>20000.0</td>\n",
       "      <td>3109.736219</td>\n",
       "      <td>1.228353</td>\n",
       "      <td>20</td>\n",
       "    </tr>\n",
       "    <tr>\n",
       "      <td rowspan=\"5\" valign=\"top\">G</td>\n",
       "      <td>G1</td>\n",
       "      <td>20000.0</td>\n",
       "      <td>2469.315869</td>\n",
       "      <td>1.234046</td>\n",
       "      <td>21</td>\n",
       "    </tr>\n",
       "    <tr>\n",
       "      <td>G2</td>\n",
       "      <td>20000.0</td>\n",
       "      <td>3293.740000</td>\n",
       "      <td>1.288519</td>\n",
       "      <td>21</td>\n",
       "    </tr>\n",
       "    <tr>\n",
       "      <td>G3</td>\n",
       "      <td>20000.0</td>\n",
       "      <td>3507.760000</td>\n",
       "      <td>1.240581</td>\n",
       "      <td>21</td>\n",
       "    </tr>\n",
       "    <tr>\n",
       "      <td>G4</td>\n",
       "      <td>21600.0</td>\n",
       "      <td>3276.339387</td>\n",
       "      <td>1.142315</td>\n",
       "      <td>22</td>\n",
       "    </tr>\n",
       "    <tr>\n",
       "      <td>G5</td>\n",
       "      <td>19875.0</td>\n",
       "      <td>2059.757886</td>\n",
       "      <td>1.055401</td>\n",
       "      <td>20</td>\n",
       "    </tr>\n",
       "  </tbody>\n",
       "</table>\n",
       "</div>"
      ],
      "text/plain": [
       "                 funded_amnt  invest_return  invest_return_rate_monthly  \\\n",
       "grade sub_grade                                                           \n",
       "A     A1             12000.0     887.940000                    0.297849   \n",
       "      A2             11500.0     937.330001                    0.321956   \n",
       "      A3             12000.0    1100.080000                    0.358801   \n",
       "      A4             12000.0    1167.676904                    0.379581   \n",
       "      A5             12000.0    1335.420000                    0.425569   \n",
       "B     B1             12000.0    1381.379605                    0.480751   \n",
       "      B2             12000.0    1547.366032                    0.530101   \n",
       "      B3             11500.0    1605.783342                    0.572921   \n",
       "      B4             12000.0    1703.760000                    0.615755   \n",
       "      B5             10800.0    1624.213899                    0.644356   \n",
       "C     C1             11050.0    1705.131844                    0.677288   \n",
       "      C2             11800.0    1824.596459                    0.719661   \n",
       "      C3             12000.0    1938.970000                    0.754517   \n",
       "      C4             13000.0    2020.640000                    0.787831   \n",
       "      C5             13225.0    2031.510001                    0.823798   \n",
       "D     D1             12000.0    2019.178747                    0.848417   \n",
       "      D2             12000.0    1955.552809                    0.865107   \n",
       "      D3             12312.5    1953.015000                    0.901782   \n",
       "      D4             14400.0    2127.670003                    0.932418   \n",
       "      D5             15000.0    2137.744585                    0.968569   \n",
       "E     E1             15450.0    2317.028831                    1.009848   \n",
       "      E2             16000.0    2303.527628                    1.036795   \n",
       "      E3             16375.0    2473.695857                    1.071775   \n",
       "      E4             17500.0    2528.180000                    1.098702   \n",
       "      E5             16775.0    2359.700000                    1.119875   \n",
       "F     F1             17275.0    2279.845000                    1.154662   \n",
       "      F2             18825.0    2873.380013                    1.188225   \n",
       "      F3             16950.0    2307.767118                    1.189223   \n",
       "      F4             18550.0    2710.694528                    1.197673   \n",
       "      F5             20000.0    3109.736219                    1.228353   \n",
       "G     G1             20000.0    2469.315869                    1.234046   \n",
       "      G2             20000.0    3293.740000                    1.288519   \n",
       "      G3             20000.0    3507.760000                    1.240581   \n",
       "      G4             21600.0    3276.339387                    1.142315   \n",
       "      G5             19875.0    2059.757886                    1.055401   \n",
       "\n",
       "                 duration_months  \n",
       "grade sub_grade                   \n",
       "A     A1                      29  \n",
       "      A2                      29  \n",
       "      A3                      29  \n",
       "      A4                      29  \n",
       "      A5                      29  \n",
       "B     B1                      29  \n",
       "      B2                      28  \n",
       "      B3                      29  \n",
       "      B4                      28  \n",
       "      B5                      27  \n",
       "C     C1                      27  \n",
       "      C2                      27  \n",
       "      C3                      27  \n",
       "      C4                      27  \n",
       "      C5                      27  \n",
       "D     D1                      26  \n",
       "      D2                      26  \n",
       "      D3                      25  \n",
       "      D4                      25  \n",
       "      D5                      25  \n",
       "E     E1                      25  \n",
       "      E2                      25  \n",
       "      E3                      24  \n",
       "      E4                      24  \n",
       "      E5                      24  \n",
       "F     F1                      24  \n",
       "      F2                      23  \n",
       "      F3                      22  \n",
       "      F4                      22  \n",
       "      F5                      20  \n",
       "G     G1                      21  \n",
       "      G2                      21  \n",
       "      G3                      21  \n",
       "      G4                      22  \n",
       "      G5                      20  "
      ]
     },
     "execution_count": 26,
     "metadata": {},
     "output_type": "execute_result"
    }
   ],
   "source": [
    "accepted.groupby(['grade', 'sub_grade']).agg({\"funded_amnt\":\"median\", 'invest_return':'median', 'invest_return_rate_monthly':'median', \"duration_months\": \"median\"})"
   ]
  },
  {
   "cell_type": "code",
   "execution_count": 21,
   "metadata": {},
   "outputs": [
    {
     "data": {
      "text/plain": [
       "Index(['purpose', 'invest_return_rate_monthly'], dtype='object')"
      ]
     },
     "execution_count": 21,
     "metadata": {},
     "output_type": "execute_result"
    }
   ],
   "source": [
    "#purpose_ = purpose_.reset_index()\n",
    "purpose_.columns"
   ]
  },
  {
   "cell_type": "code",
   "execution_count": 13,
   "metadata": {},
   "outputs": [
    {
     "data": {
      "text/html": [
       "<div>\n",
       "<style scoped>\n",
       "    .dataframe tbody tr th:only-of-type {\n",
       "        vertical-align: middle;\n",
       "    }\n",
       "\n",
       "    .dataframe tbody tr th {\n",
       "        vertical-align: top;\n",
       "    }\n",
       "\n",
       "    .dataframe thead th {\n",
       "        text-align: right;\n",
       "    }\n",
       "</style>\n",
       "<table border=\"1\" class=\"dataframe\">\n",
       "  <thead>\n",
       "    <tr style=\"text-align: right;\">\n",
       "      <th></th>\n",
       "      <th></th>\n",
       "      <th>funded_amnt</th>\n",
       "      <th>invest_return</th>\n",
       "      <th>invest_return_rate_monthly</th>\n",
       "      <th>duration_months</th>\n",
       "    </tr>\n",
       "    <tr>\n",
       "      <th>grade</th>\n",
       "      <th>sub_grade</th>\n",
       "      <th></th>\n",
       "      <th></th>\n",
       "      <th></th>\n",
       "      <th></th>\n",
       "    </tr>\n",
       "  </thead>\n",
       "  <tbody>\n",
       "    <tr>\n",
       "      <td rowspan=\"3\" valign=\"top\">G</td>\n",
       "      <td>G2</td>\n",
       "      <td>20000.0</td>\n",
       "      <td>3293.740000</td>\n",
       "      <td>1.288519</td>\n",
       "      <td>21</td>\n",
       "    </tr>\n",
       "    <tr>\n",
       "      <td>G3</td>\n",
       "      <td>20000.0</td>\n",
       "      <td>3507.760000</td>\n",
       "      <td>1.240581</td>\n",
       "      <td>21</td>\n",
       "    </tr>\n",
       "    <tr>\n",
       "      <td>G1</td>\n",
       "      <td>20000.0</td>\n",
       "      <td>2469.315869</td>\n",
       "      <td>1.234046</td>\n",
       "      <td>21</td>\n",
       "    </tr>\n",
       "    <tr>\n",
       "      <td rowspan=\"5\" valign=\"top\">F</td>\n",
       "      <td>F5</td>\n",
       "      <td>20000.0</td>\n",
       "      <td>3109.736219</td>\n",
       "      <td>1.228353</td>\n",
       "      <td>20</td>\n",
       "    </tr>\n",
       "    <tr>\n",
       "      <td>F4</td>\n",
       "      <td>18550.0</td>\n",
       "      <td>2710.694528</td>\n",
       "      <td>1.197673</td>\n",
       "      <td>22</td>\n",
       "    </tr>\n",
       "    <tr>\n",
       "      <td>F3</td>\n",
       "      <td>16950.0</td>\n",
       "      <td>2307.767118</td>\n",
       "      <td>1.189223</td>\n",
       "      <td>22</td>\n",
       "    </tr>\n",
       "    <tr>\n",
       "      <td>F2</td>\n",
       "      <td>18825.0</td>\n",
       "      <td>2873.380013</td>\n",
       "      <td>1.188225</td>\n",
       "      <td>23</td>\n",
       "    </tr>\n",
       "    <tr>\n",
       "      <td>F1</td>\n",
       "      <td>17275.0</td>\n",
       "      <td>2279.845000</td>\n",
       "      <td>1.154662</td>\n",
       "      <td>24</td>\n",
       "    </tr>\n",
       "    <tr>\n",
       "      <td>G</td>\n",
       "      <td>G4</td>\n",
       "      <td>21600.0</td>\n",
       "      <td>3276.339387</td>\n",
       "      <td>1.142315</td>\n",
       "      <td>22</td>\n",
       "    </tr>\n",
       "    <tr>\n",
       "      <td rowspan=\"3\" valign=\"top\">E</td>\n",
       "      <td>E5</td>\n",
       "      <td>16775.0</td>\n",
       "      <td>2359.700000</td>\n",
       "      <td>1.119875</td>\n",
       "      <td>24</td>\n",
       "    </tr>\n",
       "    <tr>\n",
       "      <td>E4</td>\n",
       "      <td>17500.0</td>\n",
       "      <td>2528.180000</td>\n",
       "      <td>1.098702</td>\n",
       "      <td>24</td>\n",
       "    </tr>\n",
       "    <tr>\n",
       "      <td>E3</td>\n",
       "      <td>16375.0</td>\n",
       "      <td>2473.695857</td>\n",
       "      <td>1.071775</td>\n",
       "      <td>24</td>\n",
       "    </tr>\n",
       "    <tr>\n",
       "      <td>G</td>\n",
       "      <td>G5</td>\n",
       "      <td>19875.0</td>\n",
       "      <td>2059.757886</td>\n",
       "      <td>1.055401</td>\n",
       "      <td>20</td>\n",
       "    </tr>\n",
       "    <tr>\n",
       "      <td rowspan=\"2\" valign=\"top\">E</td>\n",
       "      <td>E2</td>\n",
       "      <td>16000.0</td>\n",
       "      <td>2303.527628</td>\n",
       "      <td>1.036795</td>\n",
       "      <td>25</td>\n",
       "    </tr>\n",
       "    <tr>\n",
       "      <td>E1</td>\n",
       "      <td>15450.0</td>\n",
       "      <td>2317.028831</td>\n",
       "      <td>1.009848</td>\n",
       "      <td>25</td>\n",
       "    </tr>\n",
       "    <tr>\n",
       "      <td rowspan=\"5\" valign=\"top\">D</td>\n",
       "      <td>D5</td>\n",
       "      <td>15000.0</td>\n",
       "      <td>2137.744585</td>\n",
       "      <td>0.968569</td>\n",
       "      <td>25</td>\n",
       "    </tr>\n",
       "    <tr>\n",
       "      <td>D4</td>\n",
       "      <td>14400.0</td>\n",
       "      <td>2127.670003</td>\n",
       "      <td>0.932418</td>\n",
       "      <td>25</td>\n",
       "    </tr>\n",
       "    <tr>\n",
       "      <td>D3</td>\n",
       "      <td>12312.5</td>\n",
       "      <td>1953.015000</td>\n",
       "      <td>0.901782</td>\n",
       "      <td>25</td>\n",
       "    </tr>\n",
       "    <tr>\n",
       "      <td>D2</td>\n",
       "      <td>12000.0</td>\n",
       "      <td>1955.552809</td>\n",
       "      <td>0.865107</td>\n",
       "      <td>26</td>\n",
       "    </tr>\n",
       "    <tr>\n",
       "      <td>D1</td>\n",
       "      <td>12000.0</td>\n",
       "      <td>2019.178747</td>\n",
       "      <td>0.848417</td>\n",
       "      <td>26</td>\n",
       "    </tr>\n",
       "    <tr>\n",
       "      <td rowspan=\"5\" valign=\"top\">C</td>\n",
       "      <td>C5</td>\n",
       "      <td>13225.0</td>\n",
       "      <td>2031.510001</td>\n",
       "      <td>0.823798</td>\n",
       "      <td>27</td>\n",
       "    </tr>\n",
       "    <tr>\n",
       "      <td>C4</td>\n",
       "      <td>13000.0</td>\n",
       "      <td>2020.640000</td>\n",
       "      <td>0.787831</td>\n",
       "      <td>27</td>\n",
       "    </tr>\n",
       "    <tr>\n",
       "      <td>C3</td>\n",
       "      <td>12000.0</td>\n",
       "      <td>1938.970000</td>\n",
       "      <td>0.754517</td>\n",
       "      <td>27</td>\n",
       "    </tr>\n",
       "    <tr>\n",
       "      <td>C2</td>\n",
       "      <td>11800.0</td>\n",
       "      <td>1824.596459</td>\n",
       "      <td>0.719661</td>\n",
       "      <td>27</td>\n",
       "    </tr>\n",
       "    <tr>\n",
       "      <td>C1</td>\n",
       "      <td>11050.0</td>\n",
       "      <td>1705.131844</td>\n",
       "      <td>0.677288</td>\n",
       "      <td>27</td>\n",
       "    </tr>\n",
       "    <tr>\n",
       "      <td rowspan=\"5\" valign=\"top\">B</td>\n",
       "      <td>B5</td>\n",
       "      <td>10800.0</td>\n",
       "      <td>1624.213899</td>\n",
       "      <td>0.644356</td>\n",
       "      <td>27</td>\n",
       "    </tr>\n",
       "    <tr>\n",
       "      <td>B4</td>\n",
       "      <td>12000.0</td>\n",
       "      <td>1703.760000</td>\n",
       "      <td>0.615755</td>\n",
       "      <td>28</td>\n",
       "    </tr>\n",
       "    <tr>\n",
       "      <td>B3</td>\n",
       "      <td>11500.0</td>\n",
       "      <td>1605.783342</td>\n",
       "      <td>0.572921</td>\n",
       "      <td>29</td>\n",
       "    </tr>\n",
       "    <tr>\n",
       "      <td>B2</td>\n",
       "      <td>12000.0</td>\n",
       "      <td>1547.366032</td>\n",
       "      <td>0.530101</td>\n",
       "      <td>28</td>\n",
       "    </tr>\n",
       "    <tr>\n",
       "      <td>B1</td>\n",
       "      <td>12000.0</td>\n",
       "      <td>1381.379605</td>\n",
       "      <td>0.480751</td>\n",
       "      <td>29</td>\n",
       "    </tr>\n",
       "    <tr>\n",
       "      <td rowspan=\"5\" valign=\"top\">A</td>\n",
       "      <td>A5</td>\n",
       "      <td>12000.0</td>\n",
       "      <td>1335.420000</td>\n",
       "      <td>0.425569</td>\n",
       "      <td>29</td>\n",
       "    </tr>\n",
       "    <tr>\n",
       "      <td>A4</td>\n",
       "      <td>12000.0</td>\n",
       "      <td>1167.676904</td>\n",
       "      <td>0.379581</td>\n",
       "      <td>29</td>\n",
       "    </tr>\n",
       "    <tr>\n",
       "      <td>A3</td>\n",
       "      <td>12000.0</td>\n",
       "      <td>1100.080000</td>\n",
       "      <td>0.358801</td>\n",
       "      <td>29</td>\n",
       "    </tr>\n",
       "    <tr>\n",
       "      <td>A2</td>\n",
       "      <td>11500.0</td>\n",
       "      <td>937.330001</td>\n",
       "      <td>0.321956</td>\n",
       "      <td>29</td>\n",
       "    </tr>\n",
       "    <tr>\n",
       "      <td>A1</td>\n",
       "      <td>12000.0</td>\n",
       "      <td>887.940000</td>\n",
       "      <td>0.297849</td>\n",
       "      <td>29</td>\n",
       "    </tr>\n",
       "  </tbody>\n",
       "</table>\n",
       "</div>"
      ],
      "text/plain": [
       "                 funded_amnt  invest_return  invest_return_rate_monthly  \\\n",
       "grade sub_grade                                                           \n",
       "G     G2             20000.0    3293.740000                    1.288519   \n",
       "      G3             20000.0    3507.760000                    1.240581   \n",
       "      G1             20000.0    2469.315869                    1.234046   \n",
       "F     F5             20000.0    3109.736219                    1.228353   \n",
       "      F4             18550.0    2710.694528                    1.197673   \n",
       "      F3             16950.0    2307.767118                    1.189223   \n",
       "      F2             18825.0    2873.380013                    1.188225   \n",
       "      F1             17275.0    2279.845000                    1.154662   \n",
       "G     G4             21600.0    3276.339387                    1.142315   \n",
       "E     E5             16775.0    2359.700000                    1.119875   \n",
       "      E4             17500.0    2528.180000                    1.098702   \n",
       "      E3             16375.0    2473.695857                    1.071775   \n",
       "G     G5             19875.0    2059.757886                    1.055401   \n",
       "E     E2             16000.0    2303.527628                    1.036795   \n",
       "      E1             15450.0    2317.028831                    1.009848   \n",
       "D     D5             15000.0    2137.744585                    0.968569   \n",
       "      D4             14400.0    2127.670003                    0.932418   \n",
       "      D3             12312.5    1953.015000                    0.901782   \n",
       "      D2             12000.0    1955.552809                    0.865107   \n",
       "      D1             12000.0    2019.178747                    0.848417   \n",
       "C     C5             13225.0    2031.510001                    0.823798   \n",
       "      C4             13000.0    2020.640000                    0.787831   \n",
       "      C3             12000.0    1938.970000                    0.754517   \n",
       "      C2             11800.0    1824.596459                    0.719661   \n",
       "      C1             11050.0    1705.131844                    0.677288   \n",
       "B     B5             10800.0    1624.213899                    0.644356   \n",
       "      B4             12000.0    1703.760000                    0.615755   \n",
       "      B3             11500.0    1605.783342                    0.572921   \n",
       "      B2             12000.0    1547.366032                    0.530101   \n",
       "      B1             12000.0    1381.379605                    0.480751   \n",
       "A     A5             12000.0    1335.420000                    0.425569   \n",
       "      A4             12000.0    1167.676904                    0.379581   \n",
       "      A3             12000.0    1100.080000                    0.358801   \n",
       "      A2             11500.0     937.330001                    0.321956   \n",
       "      A1             12000.0     887.940000                    0.297849   \n",
       "\n",
       "                 duration_months  \n",
       "grade sub_grade                   \n",
       "G     G2                      21  \n",
       "      G3                      21  \n",
       "      G1                      21  \n",
       "F     F5                      20  \n",
       "      F4                      22  \n",
       "      F3                      22  \n",
       "      F2                      23  \n",
       "      F1                      24  \n",
       "G     G4                      22  \n",
       "E     E5                      24  \n",
       "      E4                      24  \n",
       "      E3                      24  \n",
       "G     G5                      20  \n",
       "E     E2                      25  \n",
       "      E1                      25  \n",
       "D     D5                      25  \n",
       "      D4                      25  \n",
       "      D3                      25  \n",
       "      D2                      26  \n",
       "      D1                      26  \n",
       "C     C5                      27  \n",
       "      C4                      27  \n",
       "      C3                      27  \n",
       "      C2                      27  \n",
       "      C1                      27  \n",
       "B     B5                      27  \n",
       "      B4                      28  \n",
       "      B3                      29  \n",
       "      B2                      28  \n",
       "      B1                      29  \n",
       "A     A5                      29  \n",
       "      A4                      29  \n",
       "      A3                      29  \n",
       "      A2                      29  \n",
       "      A1                      29  "
      ]
     },
     "execution_count": 13,
     "metadata": {},
     "output_type": "execute_result"
    }
   ],
   "source": [
    "#Sorted the above list by sub_grade by highest return rate\n",
    "\n",
    "#maybe compare with default_rate and sort it with return rate and find highest ones\n",
    "\n",
    "accepted.groupby(['grade', 'sub_grade']).agg({\"funded_amnt\":\"median\", 'invest_return':'median', 'invest_return_rate_monthly':'median', \"duration_months\": \"median\"}).sort_values(by=\"invest_return_rate_monthly\", ascending=False)"
   ]
  },
  {
   "cell_type": "code",
   "execution_count": 84,
   "metadata": {},
   "outputs": [],
   "source": [
    "new = accepted.groupby(['grade', 'sub_grade']).agg({\"funded_amnt\":\"median\", 'invest_return':'median', 'invest_return_rate_monthly':'median', \"duration_months\": \"median\"}).sort_values(by=\"invest_return_rate_monthly\", ascending=False)"
   ]
  },
  {
   "cell_type": "code",
   "execution_count": 92,
   "metadata": {},
   "outputs": [],
   "source": [
    "new2 = accepted.groupby(['grade']).agg({\"funded_amnt\":\"median\", 'invest_return':'median', 'invest_return_rate_monthly':'median', \"duration_months\": \"median\"}).sort_values(by=\"invest_return_rate_monthly\", ascending=True)"
   ]
  },
  {
   "cell_type": "code",
   "execution_count": 93,
   "metadata": {},
   "outputs": [
    {
     "data": {
      "text/plain": [
       "<BarContainer object of 7 artists>"
      ]
     },
     "execution_count": 93,
     "metadata": {},
     "output_type": "execute_result"
    },
    {
     "data": {
      "image/png": "[encoded data removed]",
      "text/plain": [
       "<Figure size 1440x720 with 1 Axes>"
      ]
     },
     "metadata": {
      "needs_background": "light"
     },
     "output_type": "display_data"
    }
   ],
   "source": [
    "fig, ax = plt.subplots(figsize=(20, 10))\n",
    "new2 = new2.reset_index()[[\"grade\", 'invest_return_rate_monthly']]\n",
    "color=(0.7, 0.1, 0.1, 0.6)\n",
    "plt.bar(x=\"grade\", height='invest_return_rate_monthly', color = color, data=new2)\n"
   ]
  },
  {
   "cell_type": "code",
   "execution_count": 17,
   "metadata": {},
   "outputs": [
    {
     "data": {
      "text/html": [
       "<div>\n",
       "<style scoped>\n",
       "    .dataframe tbody tr th:only-of-type {\n",
       "        vertical-align: middle;\n",
       "    }\n",
       "\n",
       "    .dataframe tbody tr th {\n",
       "        vertical-align: top;\n",
       "    }\n",
       "\n",
       "    .dataframe thead th {\n",
       "        text-align: right;\n",
       "    }\n",
       "</style>\n",
       "<table border=\"1\" class=\"dataframe\">\n",
       "  <thead>\n",
       "    <tr style=\"text-align: right;\">\n",
       "      <th></th>\n",
       "      <th>funded_amnt</th>\n",
       "      <th>invest_return</th>\n",
       "      <th>invest_return_rate_monthly</th>\n",
       "      <th>duration_months</th>\n",
       "    </tr>\n",
       "    <tr>\n",
       "      <th>grade</th>\n",
       "      <th></th>\n",
       "      <th></th>\n",
       "      <th></th>\n",
       "      <th></th>\n",
       "    </tr>\n",
       "  </thead>\n",
       "  <tbody>\n",
       "    <tr>\n",
       "      <td>A</td>\n",
       "      <td>12000.0</td>\n",
       "      <td>1099.510011</td>\n",
       "      <td>0.383526</td>\n",
       "      <td>29</td>\n",
       "    </tr>\n",
       "    <tr>\n",
       "      <td>B</td>\n",
       "      <td>11700.0</td>\n",
       "      <td>1567.189410</td>\n",
       "      <td>0.591130</td>\n",
       "      <td>28</td>\n",
       "    </tr>\n",
       "    <tr>\n",
       "      <td>C</td>\n",
       "      <td>12000.0</td>\n",
       "      <td>1884.194274</td>\n",
       "      <td>0.757538</td>\n",
       "      <td>27</td>\n",
       "    </tr>\n",
       "    <tr>\n",
       "      <td>D</td>\n",
       "      <td>13000.0</td>\n",
       "      <td>2023.242047</td>\n",
       "      <td>0.909100</td>\n",
       "      <td>26</td>\n",
       "    </tr>\n",
       "    <tr>\n",
       "      <td>E</td>\n",
       "      <td>16100.0</td>\n",
       "      <td>2371.100000</td>\n",
       "      <td>1.061898</td>\n",
       "      <td>24</td>\n",
       "    </tr>\n",
       "    <tr>\n",
       "      <td>F</td>\n",
       "      <td>18000.0</td>\n",
       "      <td>2562.200070</td>\n",
       "      <td>1.190760</td>\n",
       "      <td>23</td>\n",
       "    </tr>\n",
       "    <tr>\n",
       "      <td>G</td>\n",
       "      <td>20000.0</td>\n",
       "      <td>2871.050779</td>\n",
       "      <td>1.239643</td>\n",
       "      <td>21</td>\n",
       "    </tr>\n",
       "  </tbody>\n",
       "</table>\n",
       "</div>"
      ],
      "text/plain": [
       "       funded_amnt  invest_return  invest_return_rate_monthly  duration_months\n",
       "grade                                                                         \n",
       "A          12000.0    1099.510011                    0.383526               29\n",
       "B          11700.0    1567.189410                    0.591130               28\n",
       "C          12000.0    1884.194274                    0.757538               27\n",
       "D          13000.0    2023.242047                    0.909100               26\n",
       "E          16100.0    2371.100000                    1.061898               24\n",
       "F          18000.0    2562.200070                    1.190760               23\n",
       "G          20000.0    2871.050779                    1.239643               21"
      ]
     },
     "execution_count": 17,
     "metadata": {},
     "output_type": "execute_result"
    }
   ],
   "source": [
    "accepted.groupby(['grade']).agg({\"funded_amnt\":\"median\", 'invest_return':'median', 'invest_return_rate_monthly':'median', \"duration_months\": \"median\"})"
   ]
  },
  {
   "cell_type": "code",
   "execution_count": 56,
   "metadata": {},
   "outputs": [
    {
     "data": {
      "text/html": [
       "<div>\n",
       "<style scoped>\n",
       "    .dataframe tbody tr th:only-of-type {\n",
       "        vertical-align: middle;\n",
       "    }\n",
       "\n",
       "    .dataframe tbody tr th {\n",
       "        vertical-align: top;\n",
       "    }\n",
       "\n",
       "    .dataframe thead th {\n",
       "        text-align: right;\n",
       "    }\n",
       "</style>\n",
       "<table border=\"1\" class=\"dataframe\">\n",
       "  <thead>\n",
       "    <tr style=\"text-align: right;\">\n",
       "      <th></th>\n",
       "      <th></th>\n",
       "      <th>sub_grade</th>\n",
       "      <th>ratio</th>\n",
       "    </tr>\n",
       "    <tr>\n",
       "      <th>grade</th>\n",
       "      <th>sub_grade</th>\n",
       "      <th></th>\n",
       "      <th></th>\n",
       "    </tr>\n",
       "  </thead>\n",
       "  <tbody>\n",
       "    <tr>\n",
       "      <td rowspan=\"5\" valign=\"top\">A</td>\n",
       "      <td>A1</td>\n",
       "      <td>294</td>\n",
       "      <td>2.79</td>\n",
       "    </tr>\n",
       "    <tr>\n",
       "      <td>A2</td>\n",
       "      <td>474</td>\n",
       "      <td>4.33</td>\n",
       "    </tr>\n",
       "    <tr>\n",
       "      <td>A3</td>\n",
       "      <td>599</td>\n",
       "      <td>4.77</td>\n",
       "    </tr>\n",
       "    <tr>\n",
       "      <td>A4</td>\n",
       "      <td>1179</td>\n",
       "      <td>6.20</td>\n",
       "    </tr>\n",
       "    <tr>\n",
       "      <td>A5</td>\n",
       "      <td>1630</td>\n",
       "      <td>7.56</td>\n",
       "    </tr>\n",
       "    <tr>\n",
       "      <td rowspan=\"5\" valign=\"top\">B</td>\n",
       "      <td>B1</td>\n",
       "      <td>1977</td>\n",
       "      <td>8.75</td>\n",
       "    </tr>\n",
       "    <tr>\n",
       "      <td>B2</td>\n",
       "      <td>2555</td>\n",
       "      <td>9.71</td>\n",
       "    </tr>\n",
       "    <tr>\n",
       "      <td>B3</td>\n",
       "      <td>3474</td>\n",
       "      <td>11.11</td>\n",
       "    </tr>\n",
       "    <tr>\n",
       "      <td>B4</td>\n",
       "      <td>3740</td>\n",
       "      <td>12.51</td>\n",
       "    </tr>\n",
       "    <tr>\n",
       "      <td>B5</td>\n",
       "      <td>3487</td>\n",
       "      <td>14.05</td>\n",
       "    </tr>\n",
       "    <tr>\n",
       "      <td rowspan=\"5\" valign=\"top\">C</td>\n",
       "      <td>C1</td>\n",
       "      <td>4057</td>\n",
       "      <td>15.42</td>\n",
       "    </tr>\n",
       "    <tr>\n",
       "      <td>C2</td>\n",
       "      <td>4423</td>\n",
       "      <td>17.04</td>\n",
       "    </tr>\n",
       "    <tr>\n",
       "      <td>C3</td>\n",
       "      <td>4680</td>\n",
       "      <td>19.13</td>\n",
       "    </tr>\n",
       "    <tr>\n",
       "      <td>C4</td>\n",
       "      <td>4826</td>\n",
       "      <td>20.83</td>\n",
       "    </tr>\n",
       "    <tr>\n",
       "      <td>C5</td>\n",
       "      <td>4651</td>\n",
       "      <td>21.81</td>\n",
       "    </tr>\n",
       "    <tr>\n",
       "      <td rowspan=\"5\" valign=\"top\">D</td>\n",
       "      <td>D1</td>\n",
       "      <td>4247</td>\n",
       "      <td>23.08</td>\n",
       "    </tr>\n",
       "    <tr>\n",
       "      <td>D2</td>\n",
       "      <td>3991</td>\n",
       "      <td>24.59</td>\n",
       "    </tr>\n",
       "    <tr>\n",
       "      <td>D3</td>\n",
       "      <td>3521</td>\n",
       "      <td>24.82</td>\n",
       "    </tr>\n",
       "    <tr>\n",
       "      <td>D4</td>\n",
       "      <td>3637</td>\n",
       "      <td>27.14</td>\n",
       "    </tr>\n",
       "    <tr>\n",
       "      <td>D5</td>\n",
       "      <td>3073</td>\n",
       "      <td>27.91</td>\n",
       "    </tr>\n",
       "    <tr>\n",
       "      <td rowspan=\"5\" valign=\"top\">E</td>\n",
       "      <td>E1</td>\n",
       "      <td>2599</td>\n",
       "      <td>30.49</td>\n",
       "    </tr>\n",
       "    <tr>\n",
       "      <td>E2</td>\n",
       "      <td>2614</td>\n",
       "      <td>31.87</td>\n",
       "    </tr>\n",
       "    <tr>\n",
       "      <td>E3</td>\n",
       "      <td>2156</td>\n",
       "      <td>32.58</td>\n",
       "    </tr>\n",
       "    <tr>\n",
       "      <td>E4</td>\n",
       "      <td>1938</td>\n",
       "      <td>34.08</td>\n",
       "    </tr>\n",
       "    <tr>\n",
       "      <td>E5</td>\n",
       "      <td>1689</td>\n",
       "      <td>34.82</td>\n",
       "    </tr>\n",
       "    <tr>\n",
       "      <td rowspan=\"5\" valign=\"top\">F</td>\n",
       "      <td>F1</td>\n",
       "      <td>1273</td>\n",
       "      <td>33.71</td>\n",
       "    </tr>\n",
       "    <tr>\n",
       "      <td>F2</td>\n",
       "      <td>1048</td>\n",
       "      <td>36.40</td>\n",
       "    </tr>\n",
       "    <tr>\n",
       "      <td>F3</td>\n",
       "      <td>968</td>\n",
       "      <td>37.03</td>\n",
       "    </tr>\n",
       "    <tr>\n",
       "      <td>F4</td>\n",
       "      <td>797</td>\n",
       "      <td>39.89</td>\n",
       "    </tr>\n",
       "    <tr>\n",
       "      <td>F5</td>\n",
       "      <td>584</td>\n",
       "      <td>40.08</td>\n",
       "    </tr>\n",
       "    <tr>\n",
       "      <td rowspan=\"5\" valign=\"top\">G</td>\n",
       "      <td>G1</td>\n",
       "      <td>452</td>\n",
       "      <td>42.72</td>\n",
       "    </tr>\n",
       "    <tr>\n",
       "      <td>G2</td>\n",
       "      <td>311</td>\n",
       "      <td>39.72</td>\n",
       "    </tr>\n",
       "    <tr>\n",
       "      <td>G3</td>\n",
       "      <td>241</td>\n",
       "      <td>43.11</td>\n",
       "    </tr>\n",
       "    <tr>\n",
       "      <td>G4</td>\n",
       "      <td>160</td>\n",
       "      <td>40.61</td>\n",
       "    </tr>\n",
       "    <tr>\n",
       "      <td>G5</td>\n",
       "      <td>152</td>\n",
       "      <td>42.46</td>\n",
       "    </tr>\n",
       "  </tbody>\n",
       "</table>\n",
       "</div>"
      ],
      "text/plain": [
       "                 sub_grade  ratio\n",
       "grade sub_grade                  \n",
       "A     A1               294   2.79\n",
       "      A2               474   4.33\n",
       "      A3               599   4.77\n",
       "      A4              1179   6.20\n",
       "      A5              1630   7.56\n",
       "B     B1              1977   8.75\n",
       "      B2              2555   9.71\n",
       "      B3              3474  11.11\n",
       "      B4              3740  12.51\n",
       "      B5              3487  14.05\n",
       "C     C1              4057  15.42\n",
       "      C2              4423  17.04\n",
       "      C3              4680  19.13\n",
       "      C4              4826  20.83\n",
       "      C5              4651  21.81\n",
       "D     D1              4247  23.08\n",
       "      D2              3991  24.59\n",
       "      D3              3521  24.82\n",
       "      D4              3637  27.14\n",
       "      D5              3073  27.91\n",
       "E     E1              2599  30.49\n",
       "      E2              2614  31.87\n",
       "      E3              2156  32.58\n",
       "      E4              1938  34.08\n",
       "      E5              1689  34.82\n",
       "F     F1              1273  33.71\n",
       "      F2              1048  36.40\n",
       "      F3               968  37.03\n",
       "      F4               797  39.89\n",
       "      F5               584  40.08\n",
       "G     G1               452  42.72\n",
       "      G2               311  39.72\n",
       "      G3               241  43.11\n",
       "      G4               160  40.61\n",
       "      G5               152  42.46"
      ]
     },
     "execution_count": 56,
     "metadata": {},
     "output_type": "execute_result"
    }
   ],
   "source": [
    "#default ratio by sub_grade\n",
    "\n",
    "status = accepted[accepted[\"loan_status\"]==\"Defaulted\"].groupby([\"grade\", \"sub_grade\"]).agg({\"sub_grade\": \"count\"})\n",
    "temp = accepted.groupby([\"grade\", \"sub_grade\"]).agg({\"sub_grade\": \"count\"})\n",
    "status['ratio'] = ((status[['sub_grade']]/temp)*100).round(2)\n",
    "\n",
    "status"
   ]
  },
  {
   "cell_type": "code",
   "execution_count": 19,
   "metadata": {},
   "outputs": [
    {
     "data": {
      "image/png": "[encoded data removed]",
      "text/plain": [
       "<Figure size 1440x720 with 1 Axes>"
      ]
     },
     "metadata": {
      "needs_background": "light"
     },
     "output_type": "display_data"
    }
   ],
   "source": [
    "fig, ax = plt.subplots(figsize=(20, 10))\n",
    "\n",
    "defaulted = status[['ratio']].nlargest(15, 'ratio').reset_index()\n",
    "color=(0.0, 0.3, 0.5, 0.6)\n",
    "plt.barh(y=\"sub_grade\", width='ratio', color = color, data=defaulted)\n",
    "ax.invert_yaxis()\n"
   ]
  },
  {
   "cell_type": "code",
   "execution_count": 66,
   "metadata": {},
   "outputs": [],
   "source": [
    "status2 = accepted[accepted[\"loan_status\"]==\"Defaulted\"].groupby([\"grade\"]).agg({\"grade\": \"count\"})\n",
    "temp = accepted.groupby([\"grade\"]).agg({\"grade\": \"count\"})\n",
    "status2['ratio'] = ((status2[['grade']]/temp)*100).round(2)"
   ]
  },
  {
   "cell_type": "code",
   "execution_count": 68,
   "metadata": {},
   "outputs": [
    {
     "data": {
      "text/html": [
       "<div>\n",
       "<style scoped>\n",
       "    .dataframe tbody tr th:only-of-type {\n",
       "        vertical-align: middle;\n",
       "    }\n",
       "\n",
       "    .dataframe tbody tr th {\n",
       "        vertical-align: top;\n",
       "    }\n",
       "\n",
       "    .dataframe thead th {\n",
       "        text-align: right;\n",
       "    }\n",
       "</style>\n",
       "<table border=\"1\" class=\"dataframe\">\n",
       "  <thead>\n",
       "    <tr style=\"text-align: right;\">\n",
       "      <th></th>\n",
       "      <th>grade</th>\n",
       "      <th>ratio</th>\n",
       "    </tr>\n",
       "    <tr>\n",
       "      <th>grade</th>\n",
       "      <th></th>\n",
       "      <th></th>\n",
       "    </tr>\n",
       "  </thead>\n",
       "  <tbody>\n",
       "    <tr>\n",
       "      <td>A</td>\n",
       "      <td>4176</td>\n",
       "      <td>5.60</td>\n",
       "    </tr>\n",
       "    <tr>\n",
       "      <td>B</td>\n",
       "      <td>15233</td>\n",
       "      <td>11.29</td>\n",
       "    </tr>\n",
       "    <tr>\n",
       "      <td>C</td>\n",
       "      <td>22637</td>\n",
       "      <td>18.67</td>\n",
       "    </tr>\n",
       "    <tr>\n",
       "      <td>D</td>\n",
       "      <td>18469</td>\n",
       "      <td>25.22</td>\n",
       "    </tr>\n",
       "    <tr>\n",
       "      <td>E</td>\n",
       "      <td>10996</td>\n",
       "      <td>32.45</td>\n",
       "    </tr>\n",
       "    <tr>\n",
       "      <td>F</td>\n",
       "      <td>4670</td>\n",
       "      <td>36.70</td>\n",
       "    </tr>\n",
       "    <tr>\n",
       "      <td>G</td>\n",
       "      <td>1316</td>\n",
       "      <td>41.75</td>\n",
       "    </tr>\n",
       "  </tbody>\n",
       "</table>\n",
       "</div>"
      ],
      "text/plain": [
       "       grade  ratio\n",
       "grade              \n",
       "A       4176   5.60\n",
       "B      15233  11.29\n",
       "C      22637  18.67\n",
       "D      18469  25.22\n",
       "E      10996  32.45\n",
       "F       4670  36.70\n",
       "G       1316  41.75"
      ]
     },
     "execution_count": 68,
     "metadata": {},
     "output_type": "execute_result"
    }
   ],
   "source": [
    "status2"
   ]
  },
  {
   "cell_type": "code",
   "execution_count": 77,
   "metadata": {},
   "outputs": [
    {
     "data": {
      "image/png": "[encoded data removed]",
      "text/plain": [
       "<Figure size 1152x576 with 1 Axes>"
      ]
     },
     "metadata": {
      "needs_background": "light"
     },
     "output_type": "display_data"
    }
   ],
   "source": [
    "fig, ax = plt.subplots(figsize=(16, 8))\n",
    "\n",
    "defaulted = status2[['ratio']].reset_index()\n",
    "color=(0.0, 0.3, 0.5, 0.6)\n",
    "plt.bar(x=\"grade\", height='ratio', color = color, data=defaulted)\n",
    "plt.rcParams.update({'font.size': 20})"
   ]
  },
  {
   "cell_type": "code",
   "execution_count": 105,
   "metadata": {},
   "outputs": [
    {
     "data": {
      "text/plain": [
       "<seaborn.axisgrid.FacetGrid at 0x140054410>"
      ]
     },
     "execution_count": 105,
     "metadata": {},
     "output_type": "execute_result"
    },
    {
     "data": {
      "image/png": "[encoded data removed]",
      "text/plain": [
       "<Figure size 452.375x360 with 1 Axes>"
      ]
     },
     "metadata": {
      "needs_background": "light"
     },
     "output_type": "display_data"
    }
   ],
   "source": [
    "order = accepted.groupby(\"grade\")[['invest_return']].median().sort_values(by=\"invest_return\", ascending=True)\n",
    "sns.catplot(x=\"grade\", y=\"invest_return\", kind=\"box\", hue=\"term\", data=accepted, order=order.index)"
   ]
  },
  {
   "cell_type": "code",
   "execution_count": 103,
   "metadata": {},
   "outputs": [
    {
     "data": {
      "text/plain": [
       "<seaborn.axisgrid.FacetGrid at 0x13a03dd90>"
      ]
     },
     "execution_count": 103,
     "metadata": {},
     "output_type": "execute_result"
    },
    {
     "data": {
      "image/png": "[encoded data removed]",
      "text/plain": [
       "<Figure size 360x360 with 1 Axes>"
      ]
     },
     "metadata": {
      "needs_background": "light"
     },
     "output_type": "display_data"
    }
   ],
   "source": [
    "order2 = accepted.groupby(\"grade\")[['invest_return']].median().sort_values(by=\"invest_return\", ascending=True)\n",
    "order2\n",
    "sns.catplot(x=\"grade\", y=\"invest_return\", kind=\"box\", data=accepted, order=order2.index)\n"
   ]
  },
  {
   "cell_type": "code",
   "execution_count": null,
   "metadata": {},
   "outputs": [],
   "source": [
    "sns.catplot(x=\"grade\", y=\"loss\", kind=\"box\", hue=\"term\", data=charged_off, order=order.index)"
   ]
  },
  {
   "cell_type": "code",
   "execution_count": 22,
   "metadata": {},
   "outputs": [],
   "source": [
    "#Now to comparing the best sub_grade with highest return rate and lower default rate..\n",
    "\n",
    "rate_comp = accepted.groupby(['grade', 'sub_grade']).agg({\"funded_amnt\":\"median\", 'invest_return':'median', 'invest_return_rate_monthly':'median', \"duration_months\": \"median\"}).sort_values(by=\"invest_return_rate_monthly\", ascending=False)\n",
    "rate_comp['default_rate'] = status[\"ratio\"]"
   ]
  },
  {
   "cell_type": "code",
   "execution_count": 24,
   "metadata": {},
   "outputs": [
    {
     "data": {
      "text/html": [
       "<div>\n",
       "<style scoped>\n",
       "    .dataframe tbody tr th:only-of-type {\n",
       "        vertical-align: middle;\n",
       "    }\n",
       "\n",
       "    .dataframe tbody tr th {\n",
       "        vertical-align: top;\n",
       "    }\n",
       "\n",
       "    .dataframe thead th {\n",
       "        text-align: right;\n",
       "    }\n",
       "</style>\n",
       "<table border=\"1\" class=\"dataframe\">\n",
       "  <thead>\n",
       "    <tr style=\"text-align: right;\">\n",
       "      <th></th>\n",
       "      <th>invest_return_rate_monthly</th>\n",
       "    </tr>\n",
       "  </thead>\n",
       "  <tbody>\n",
       "    <tr>\n",
       "      <td>count</td>\n",
       "      <td>35.00</td>\n",
       "    </tr>\n",
       "    <tr>\n",
       "      <td>mean</td>\n",
       "      <td>0.86</td>\n",
       "    </tr>\n",
       "    <tr>\n",
       "      <td>std</td>\n",
       "      <td>0.31</td>\n",
       "    </tr>\n",
       "    <tr>\n",
       "      <td>min</td>\n",
       "      <td>0.30</td>\n",
       "    </tr>\n",
       "    <tr>\n",
       "      <td>25%</td>\n",
       "      <td>0.63</td>\n",
       "    </tr>\n",
       "    <tr>\n",
       "      <td>50%</td>\n",
       "      <td>0.90</td>\n",
       "    </tr>\n",
       "    <tr>\n",
       "      <td>75%</td>\n",
       "      <td>1.13</td>\n",
       "    </tr>\n",
       "    <tr>\n",
       "      <td>max</td>\n",
       "      <td>1.29</td>\n",
       "    </tr>\n",
       "  </tbody>\n",
       "</table>\n",
       "</div>"
      ],
      "text/plain": [
       "       invest_return_rate_monthly\n",
       "count                       35.00\n",
       "mean                         0.86\n",
       "std                          0.31\n",
       "min                          0.30\n",
       "25%                          0.63\n",
       "50%                          0.90\n",
       "75%                          1.13\n",
       "max                          1.29"
      ]
     },
     "execution_count": 24,
     "metadata": {},
     "output_type": "execute_result"
    }
   ],
   "source": [
    "rate_comp[[\"invest_return_rate_monthly\"]].describe().round(2)"
   ]
  },
  {
   "cell_type": "code",
   "execution_count": null,
   "metadata": {},
   "outputs": [],
   "source": [
    "rate_comp[[\"invest_return_rate_monthly\"]].median()"
   ]
  },
  {
   "cell_type": "code",
   "execution_count": 25,
   "metadata": {},
   "outputs": [
    {
     "data": {
      "text/html": [
       "<div>\n",
       "<style scoped>\n",
       "    .dataframe tbody tr th:only-of-type {\n",
       "        vertical-align: middle;\n",
       "    }\n",
       "\n",
       "    .dataframe tbody tr th {\n",
       "        vertical-align: top;\n",
       "    }\n",
       "\n",
       "    .dataframe thead th {\n",
       "        text-align: right;\n",
       "    }\n",
       "</style>\n",
       "<table border=\"1\" class=\"dataframe\">\n",
       "  <thead>\n",
       "    <tr style=\"text-align: right;\">\n",
       "      <th></th>\n",
       "      <th></th>\n",
       "      <th>invest_return_rate_monthly</th>\n",
       "      <th>default_rate</th>\n",
       "    </tr>\n",
       "    <tr>\n",
       "      <th>grade</th>\n",
       "      <th>sub_grade</th>\n",
       "      <th></th>\n",
       "      <th></th>\n",
       "    </tr>\n",
       "  </thead>\n",
       "  <tbody>\n",
       "    <tr>\n",
       "      <td rowspan=\"3\" valign=\"top\">G</td>\n",
       "      <td>G2</td>\n",
       "      <td>1.288519</td>\n",
       "      <td>39.72</td>\n",
       "    </tr>\n",
       "    <tr>\n",
       "      <td>G3</td>\n",
       "      <td>1.240581</td>\n",
       "      <td>43.11</td>\n",
       "    </tr>\n",
       "    <tr>\n",
       "      <td>G1</td>\n",
       "      <td>1.234046</td>\n",
       "      <td>42.72</td>\n",
       "    </tr>\n",
       "    <tr>\n",
       "      <td rowspan=\"5\" valign=\"top\">F</td>\n",
       "      <td>F5</td>\n",
       "      <td>1.228353</td>\n",
       "      <td>40.08</td>\n",
       "    </tr>\n",
       "    <tr>\n",
       "      <td>F4</td>\n",
       "      <td>1.197673</td>\n",
       "      <td>39.89</td>\n",
       "    </tr>\n",
       "    <tr>\n",
       "      <td>F3</td>\n",
       "      <td>1.189223</td>\n",
       "      <td>37.03</td>\n",
       "    </tr>\n",
       "    <tr>\n",
       "      <td>F2</td>\n",
       "      <td>1.188225</td>\n",
       "      <td>36.40</td>\n",
       "    </tr>\n",
       "    <tr>\n",
       "      <td>F1</td>\n",
       "      <td>1.154662</td>\n",
       "      <td>33.71</td>\n",
       "    </tr>\n",
       "    <tr>\n",
       "      <td>G</td>\n",
       "      <td>G4</td>\n",
       "      <td>1.142315</td>\n",
       "      <td>40.61</td>\n",
       "    </tr>\n",
       "    <tr>\n",
       "      <td rowspan=\"3\" valign=\"top\">E</td>\n",
       "      <td>E5</td>\n",
       "      <td>1.119875</td>\n",
       "      <td>34.82</td>\n",
       "    </tr>\n",
       "    <tr>\n",
       "      <td>E4</td>\n",
       "      <td>1.098702</td>\n",
       "      <td>34.08</td>\n",
       "    </tr>\n",
       "    <tr>\n",
       "      <td>E3</td>\n",
       "      <td>1.071775</td>\n",
       "      <td>32.58</td>\n",
       "    </tr>\n",
       "    <tr>\n",
       "      <td>G</td>\n",
       "      <td>G5</td>\n",
       "      <td>1.055401</td>\n",
       "      <td>42.46</td>\n",
       "    </tr>\n",
       "    <tr>\n",
       "      <td rowspan=\"2\" valign=\"top\">E</td>\n",
       "      <td>E2</td>\n",
       "      <td>1.036795</td>\n",
       "      <td>31.87</td>\n",
       "    </tr>\n",
       "    <tr>\n",
       "      <td>E1</td>\n",
       "      <td>1.009848</td>\n",
       "      <td>30.49</td>\n",
       "    </tr>\n",
       "    <tr>\n",
       "      <td rowspan=\"5\" valign=\"top\">D</td>\n",
       "      <td>D5</td>\n",
       "      <td>0.968569</td>\n",
       "      <td>27.91</td>\n",
       "    </tr>\n",
       "    <tr>\n",
       "      <td>D4</td>\n",
       "      <td>0.932418</td>\n",
       "      <td>27.14</td>\n",
       "    </tr>\n",
       "    <tr>\n",
       "      <td>D3</td>\n",
       "      <td>0.901782</td>\n",
       "      <td>24.82</td>\n",
       "    </tr>\n",
       "    <tr>\n",
       "      <td>D2</td>\n",
       "      <td>0.865107</td>\n",
       "      <td>24.59</td>\n",
       "    </tr>\n",
       "    <tr>\n",
       "      <td>D1</td>\n",
       "      <td>0.848417</td>\n",
       "      <td>23.08</td>\n",
       "    </tr>\n",
       "    <tr>\n",
       "      <td rowspan=\"5\" valign=\"top\">C</td>\n",
       "      <td>C5</td>\n",
       "      <td>0.823798</td>\n",
       "      <td>21.81</td>\n",
       "    </tr>\n",
       "    <tr>\n",
       "      <td>C4</td>\n",
       "      <td>0.787831</td>\n",
       "      <td>20.83</td>\n",
       "    </tr>\n",
       "    <tr>\n",
       "      <td>C3</td>\n",
       "      <td>0.754517</td>\n",
       "      <td>19.13</td>\n",
       "    </tr>\n",
       "    <tr>\n",
       "      <td>C2</td>\n",
       "      <td>0.719661</td>\n",
       "      <td>17.04</td>\n",
       "    </tr>\n",
       "    <tr>\n",
       "      <td>C1</td>\n",
       "      <td>0.677288</td>\n",
       "      <td>15.42</td>\n",
       "    </tr>\n",
       "    <tr>\n",
       "      <td rowspan=\"5\" valign=\"top\">B</td>\n",
       "      <td>B5</td>\n",
       "      <td>0.644356</td>\n",
       "      <td>14.05</td>\n",
       "    </tr>\n",
       "    <tr>\n",
       "      <td>B4</td>\n",
       "      <td>0.615755</td>\n",
       "      <td>12.51</td>\n",
       "    </tr>\n",
       "    <tr>\n",
       "      <td>B3</td>\n",
       "      <td>0.572921</td>\n",
       "      <td>11.11</td>\n",
       "    </tr>\n",
       "    <tr>\n",
       "      <td>B2</td>\n",
       "      <td>0.530101</td>\n",
       "      <td>9.71</td>\n",
       "    </tr>\n",
       "    <tr>\n",
       "      <td>B1</td>\n",
       "      <td>0.480751</td>\n",
       "      <td>8.75</td>\n",
       "    </tr>\n",
       "    <tr>\n",
       "      <td rowspan=\"5\" valign=\"top\">A</td>\n",
       "      <td>A5</td>\n",
       "      <td>0.425569</td>\n",
       "      <td>7.56</td>\n",
       "    </tr>\n",
       "    <tr>\n",
       "      <td>A4</td>\n",
       "      <td>0.379581</td>\n",
       "      <td>6.20</td>\n",
       "    </tr>\n",
       "    <tr>\n",
       "      <td>A3</td>\n",
       "      <td>0.358801</td>\n",
       "      <td>4.77</td>\n",
       "    </tr>\n",
       "    <tr>\n",
       "      <td>A2</td>\n",
       "      <td>0.321956</td>\n",
       "      <td>4.33</td>\n",
       "    </tr>\n",
       "    <tr>\n",
       "      <td>A1</td>\n",
       "      <td>0.297849</td>\n",
       "      <td>2.79</td>\n",
       "    </tr>\n",
       "  </tbody>\n",
       "</table>\n",
       "</div>"
      ],
      "text/plain": [
       "                 invest_return_rate_monthly  default_rate\n",
       "grade sub_grade                                          \n",
       "G     G2                           1.288519         39.72\n",
       "      G3                           1.240581         43.11\n",
       "      G1                           1.234046         42.72\n",
       "F     F5                           1.228353         40.08\n",
       "      F4                           1.197673         39.89\n",
       "      F3                           1.189223         37.03\n",
       "      F2                           1.188225         36.40\n",
       "      F1                           1.154662         33.71\n",
       "G     G4                           1.142315         40.61\n",
       "E     E5                           1.119875         34.82\n",
       "      E4                           1.098702         34.08\n",
       "      E3                           1.071775         32.58\n",
       "G     G5                           1.055401         42.46\n",
       "E     E2                           1.036795         31.87\n",
       "      E1                           1.009848         30.49\n",
       "D     D5                           0.968569         27.91\n",
       "      D4                           0.932418         27.14\n",
       "      D3                           0.901782         24.82\n",
       "      D2                           0.865107         24.59\n",
       "      D1                           0.848417         23.08\n",
       "C     C5                           0.823798         21.81\n",
       "      C4                           0.787831         20.83\n",
       "      C3                           0.754517         19.13\n",
       "      C2                           0.719661         17.04\n",
       "      C1                           0.677288         15.42\n",
       "B     B5                           0.644356         14.05\n",
       "      B4                           0.615755         12.51\n",
       "      B3                           0.572921         11.11\n",
       "      B2                           0.530101          9.71\n",
       "      B1                           0.480751          8.75\n",
       "A     A5                           0.425569          7.56\n",
       "      A4                           0.379581          6.20\n",
       "      A3                           0.358801          4.77\n",
       "      A2                           0.321956          4.33\n",
       "      A1                           0.297849          2.79"
      ]
     },
     "execution_count": 25,
     "metadata": {},
     "output_type": "execute_result"
    }
   ],
   "source": [
    "#Right now simply sorted by descending order, but it would be nicer to find a good mix (high return, low default)\n",
    "\n",
    "rate_comp[[\"invest_return_rate_monthly\", \"default_rate\"]].sort_values(by=[\"invest_return_rate_monthly\", \"default_rate\"], ascending=False)"
   ]
  },
  {
   "cell_type": "code",
   "execution_count": 26,
   "metadata": {},
   "outputs": [],
   "source": [
    "rate_comp = rate_comp.reset_index()"
   ]
  },
  {
   "cell_type": "code",
   "execution_count": 27,
   "metadata": {},
   "outputs": [
    {
     "data": {
      "text/plain": [
       "Index(['grade', 'sub_grade', 'funded_amnt', 'invest_return',\n",
       "       'invest_return_rate_monthly', 'duration_months', 'default_rate'],\n",
       "      dtype='object')"
      ]
     },
     "execution_count": 27,
     "metadata": {},
     "output_type": "execute_result"
    }
   ],
   "source": [
    "rate_comp.columns                                                                                        #using the as_index=False parameter in groupby function  as groupby + reset_index()in terms of handling multi-index as a \"normal\" df"
   ]
  },
  {
   "cell_type": "code",
   "execution_count": 28,
   "metadata": {},
   "outputs": [
    {
     "data": {
      "text/plain": [
       "RangeIndex(start=0, stop=35, step=1)"
      ]
     },
     "execution_count": 28,
     "metadata": {},
     "output_type": "execute_result"
    }
   ],
   "source": [
    "rate_comp.index"
   ]
  },
  {
   "cell_type": "code",
   "execution_count": 29,
   "metadata": {},
   "outputs": [],
   "source": [
    "rate =[]\n",
    "def selected(d):\n",
    "    for rows in d:\n",
    "        if rows > d.median():\n",
    "            return rate.append(rows)"
   ]
  },
  {
   "cell_type": "code",
   "execution_count": 31,
   "metadata": {},
   "outputs": [
    {
     "data": {
      "image/png": "[encoded data removed]",
      "text/plain": [
       "<Figure size 504x1008 with 7 Axes>"
      ]
     },
     "metadata": {
      "needs_background": "light"
     },
     "output_type": "display_data"
    }
   ],
   "source": [
    "g = sns.FacetGrid(rate_comp, col=\"grade\", col_wrap=2, height=3.5)\n",
    "g = g.map(plt.scatter, \"default_rate\", \"invest_return_rate_monthly\")"
   ]
  },
  {
   "cell_type": "code",
   "execution_count": null,
   "metadata": {},
   "outputs": [],
   "source": [
    "## Create new overall scatter plot"
   ]
  },
  {
   "cell_type": "code",
   "execution_count": null,
   "metadata": {},
   "outputs": [],
   "source": [
    "## should create the second metric?? to combine default rate and return rate?"
   ]
  },
  {
   "cell_type": "code",
   "execution_count": null,
   "metadata": {},
   "outputs": [],
   "source": [
    "# from sklearn.preprocessing import StandardScaler\n",
    "# d = rate_comp[\"default_rate\"].values.astype(float)\n",
    "# i = rate_comp[\"invest_return_rate\"].values.astype(float)\n",
    "# scaler = StandardScaler()\n",
    "\n",
    "# scaled_d = scaler.fit_transform(d)\n",
    "# scaled_i = scaler.fit_transform(i)"
   ]
  },
  {
   "cell_type": "code",
   "execution_count": 33,
   "metadata": {},
   "outputs": [
    {
     "data": {
      "text/plain": [
       "<matplotlib.collections.PathCollection at 0x122429750>"
      ]
     },
     "execution_count": 33,
     "metadata": {},
     "output_type": "execute_result"
    },
    {
     "data": {
      "image/png": "[encoded data removed]",
      "text/plain": [
       "<Figure size 1440x720 with 1 Axes>"
      ]
     },
     "metadata": {
      "needs_background": "light"
     },
     "output_type": "display_data"
    }
   ],
   "source": [
    "#Very linear relationship\n",
    "\n",
    "fig, ax = plt.subplots(figsize=(20, 10))\n",
    "\n",
    "color=(0.0, 0.3, 0.5, 0.6)\n",
    "plt.scatter(x=\"default_rate\", y=\"invest_return_rate_monthly\", color = color, data=rate_comp)"
   ]
  },
  {
   "cell_type": "code",
   "execution_count": 5,
   "metadata": {},
   "outputs": [],
   "source": [
    "model = accepted[['loan_amnt', 'funded_amnt', 'funded_amnt_inv', 'term','installment', 'grade', 'sub_grade', 'annual_inc', 'purpose', 'zip_code','addr_state', 'dti','fico_range_low', 'fico_range_high', 'tot_cur_bal']]\n",
    "        \n",
    "                  "
   ]
  },
  {
   "cell_type": "code",
   "execution_count": 7,
   "metadata": {},
   "outputs": [
    {
     "data": {
      "text/plain": [
       "loan_amnt          float64\n",
       "funded_amnt        float64\n",
       "funded_amnt_inv    float64\n",
       "term                object\n",
       "installment        float64\n",
       "grade               object\n",
       "sub_grade           object\n",
       "annual_inc         float64\n",
       "purpose             object\n",
       "zip_code            object\n",
       "addr_state          object\n",
       "dti                float64\n",
       "fico_range_low     float64\n",
       "fico_range_high    float64\n",
       "tot_cur_bal        float64\n",
       "dtype: object"
      ]
     },
     "execution_count": 7,
     "metadata": {},
     "output_type": "execute_result"
    }
   ],
   "source": [
    "model.dtypes"
   ]
  },
  {
   "cell_type": "code",
   "execution_count": 6,
   "metadata": {},
   "outputs": [
    {
     "name": "stderr",
     "output_type": "stream",
     "text": [
      "/Users/kisaki/opt/anaconda3/lib/python3.7/site-packages/ipykernel_launcher.py:6: SettingWithCopyWarning: \n",
      "A value is trying to be set on a copy of a slice from a DataFrame.\n",
      "Try using .loc[row_indexer,col_indexer] = value instead\n",
      "\n",
      "See the caveats in the documentation: http://pandas.pydata.org/pandas-docs/stable/user_guide/indexing.html#returning-a-view-versus-a-copy\n",
      "  \n",
      "/Users/kisaki/opt/anaconda3/lib/python3.7/site-packages/pandas/core/indexing.py:494: SettingWithCopyWarning: \n",
      "A value is trying to be set on a copy of a slice from a DataFrame.\n",
      "Try using .loc[row_indexer,col_indexer] = value instead\n",
      "\n",
      "See the caveats in the documentation: http://pandas.pydata.org/pandas-docs/stable/user_guide/indexing.html#returning-a-view-versus-a-copy\n",
      "  self.obj[item] = s\n"
     ]
    }
   ],
   "source": [
    "#ordinal encoding for grade\n",
    "from sklearn.preprocessing import OrdinalEncoder\n",
    "grade_ord = OrdinalEncoder( )\n",
    "\n",
    "grade_enc = grade_ord.fit_transform(model[['grade']]) #.reshape(-1,1) could be added\n",
    "model[[\"grade\"]] = grade_enc #no need to do .value??"
   ]
  },
  {
   "cell_type": "code",
   "execution_count": 7,
   "metadata": {},
   "outputs": [
    {
     "name": "stderr",
     "output_type": "stream",
     "text": [
      "/Users/kisaki/opt/anaconda3/lib/python3.7/site-packages/ipykernel_launcher.py:6: SettingWithCopyWarning: \n",
      "A value is trying to be set on a copy of a slice from a DataFrame.\n",
      "Try using .loc[row_indexer,col_indexer] = value instead\n",
      "\n",
      "See the caveats in the documentation: http://pandas.pydata.org/pandas-docs/stable/user_guide/indexing.html#returning-a-view-versus-a-copy\n",
      "  \n",
      "/Users/kisaki/opt/anaconda3/lib/python3.7/site-packages/pandas/core/indexing.py:494: SettingWithCopyWarning: \n",
      "A value is trying to be set on a copy of a slice from a DataFrame.\n",
      "Try using .loc[row_indexer,col_indexer] = value instead\n",
      "\n",
      "See the caveats in the documentation: http://pandas.pydata.org/pandas-docs/stable/user_guide/indexing.html#returning-a-view-versus-a-copy\n",
      "  self.obj[item] = s\n"
     ]
    }
   ],
   "source": [
    "#ordinal encoding for term\n",
    "from sklearn.preprocessing import OrdinalEncoder\n",
    "term_ord = OrdinalEncoder( )\n",
    "\n",
    "term_enc = term_ord.fit_transform(model[['term']]) #.reshape(-1,1) could be added\n",
    "model[[\"term\"]] = term_enc"
   ]
  },
  {
   "cell_type": "code",
   "execution_count": 8,
   "metadata": {},
   "outputs": [
    {
     "name": "stderr",
     "output_type": "stream",
     "text": [
      "/Users/kisaki/opt/anaconda3/lib/python3.7/site-packages/ipykernel_launcher.py:6: SettingWithCopyWarning: \n",
      "A value is trying to be set on a copy of a slice from a DataFrame.\n",
      "Try using .loc[row_indexer,col_indexer] = value instead\n",
      "\n",
      "See the caveats in the documentation: http://pandas.pydata.org/pandas-docs/stable/user_guide/indexing.html#returning-a-view-versus-a-copy\n",
      "  \n",
      "/Users/kisaki/opt/anaconda3/lib/python3.7/site-packages/pandas/core/indexing.py:494: SettingWithCopyWarning: \n",
      "A value is trying to be set on a copy of a slice from a DataFrame.\n",
      "Try using .loc[row_indexer,col_indexer] = value instead\n",
      "\n",
      "See the caveats in the documentation: http://pandas.pydata.org/pandas-docs/stable/user_guide/indexing.html#returning-a-view-versus-a-copy\n",
      "  self.obj[item] = s\n"
     ]
    }
   ],
   "source": [
    "#ordinal encoding for sub_grade\n",
    "from sklearn.preprocessing import OrdinalEncoder\n",
    "sub_grade_ord = OrdinalEncoder( )\n",
    "\n",
    "sub_grade_enc = term_ord.fit_transform(model[['sub_grade']]) #.reshape(-1,1) could be added\n",
    "model[[\"sub_grade\"]] = sub_grade_enc"
   ]
  },
  {
   "cell_type": "code",
   "execution_count": 9,
   "metadata": {},
   "outputs": [
    {
     "name": "stderr",
     "output_type": "stream",
     "text": [
      "/Users/kisaki/opt/anaconda3/lib/python3.7/site-packages/ipykernel_launcher.py:6: SettingWithCopyWarning: \n",
      "A value is trying to be set on a copy of a slice from a DataFrame.\n",
      "Try using .loc[row_indexer,col_indexer] = value instead\n",
      "\n",
      "See the caveats in the documentation: http://pandas.pydata.org/pandas-docs/stable/user_guide/indexing.html#returning-a-view-versus-a-copy\n",
      "  \n",
      "/Users/kisaki/opt/anaconda3/lib/python3.7/site-packages/pandas/core/indexing.py:494: SettingWithCopyWarning: \n",
      "A value is trying to be set on a copy of a slice from a DataFrame.\n",
      "Try using .loc[row_indexer,col_indexer] = value instead\n",
      "\n",
      "See the caveats in the documentation: http://pandas.pydata.org/pandas-docs/stable/user_guide/indexing.html#returning-a-view-versus-a-copy\n",
      "  self.obj[item] = s\n"
     ]
    }
   ],
   "source": [
    "#ordinal encoding for purpose\n",
    "from sklearn.preprocessing import OrdinalEncoder\n",
    "purpose_ord = OrdinalEncoder( )\n",
    "\n",
    "purpose_enc = term_ord.fit_transform(model[['purpose']]) #.reshape(-1,1) could be added\n",
    "model[[\"purpose\"]] = purpose_enc"
   ]
  },
  {
   "cell_type": "code",
   "execution_count": 10,
   "metadata": {},
   "outputs": [
    {
     "name": "stderr",
     "output_type": "stream",
     "text": [
      "/Users/kisaki/opt/anaconda3/lib/python3.7/site-packages/ipykernel_launcher.py:6: SettingWithCopyWarning: \n",
      "A value is trying to be set on a copy of a slice from a DataFrame.\n",
      "Try using .loc[row_indexer,col_indexer] = value instead\n",
      "\n",
      "See the caveats in the documentation: http://pandas.pydata.org/pandas-docs/stable/user_guide/indexing.html#returning-a-view-versus-a-copy\n",
      "  \n",
      "/Users/kisaki/opt/anaconda3/lib/python3.7/site-packages/pandas/core/indexing.py:494: SettingWithCopyWarning: \n",
      "A value is trying to be set on a copy of a slice from a DataFrame.\n",
      "Try using .loc[row_indexer,col_indexer] = value instead\n",
      "\n",
      "See the caveats in the documentation: http://pandas.pydata.org/pandas-docs/stable/user_guide/indexing.html#returning-a-view-versus-a-copy\n",
      "  self.obj[item] = s\n"
     ]
    }
   ],
   "source": [
    "#ordinal encoding for zip_code\n",
    "from sklearn.preprocessing import OrdinalEncoder\n",
    "zip_code_ord = OrdinalEncoder( )\n",
    "\n",
    "zip_code_enc = term_ord.fit_transform(model[['zip_code']]) #.reshape(-1,1) could be added\n",
    "model[[\"zip_code\"]] = zip_code_enc"
   ]
  },
  {
   "cell_type": "code",
   "execution_count": 11,
   "metadata": {},
   "outputs": [
    {
     "name": "stderr",
     "output_type": "stream",
     "text": [
      "/Users/kisaki/opt/anaconda3/lib/python3.7/site-packages/ipykernel_launcher.py:6: SettingWithCopyWarning: \n",
      "A value is trying to be set on a copy of a slice from a DataFrame.\n",
      "Try using .loc[row_indexer,col_indexer] = value instead\n",
      "\n",
      "See the caveats in the documentation: http://pandas.pydata.org/pandas-docs/stable/user_guide/indexing.html#returning-a-view-versus-a-copy\n",
      "  \n",
      "/Users/kisaki/opt/anaconda3/lib/python3.7/site-packages/pandas/core/indexing.py:494: SettingWithCopyWarning: \n",
      "A value is trying to be set on a copy of a slice from a DataFrame.\n",
      "Try using .loc[row_indexer,col_indexer] = value instead\n",
      "\n",
      "See the caveats in the documentation: http://pandas.pydata.org/pandas-docs/stable/user_guide/indexing.html#returning-a-view-versus-a-copy\n",
      "  self.obj[item] = s\n"
     ]
    }
   ],
   "source": [
    "#ordinal encoding for addr_state\n",
    "from sklearn.preprocessing import OrdinalEncoder\n",
    "addr_state_ord = OrdinalEncoder( )\n",
    "\n",
    "addr_state_enc = term_ord.fit_transform(model[['addr_state']]) #.reshape(-1,1) could be added\n",
    "model[[\"addr_state\"]] = addr_state_enc"
   ]
  },
  {
   "cell_type": "code",
   "execution_count": 12,
   "metadata": {},
   "outputs": [
    {
     "data": {
      "text/plain": [
       "loan_amnt          float64\n",
       "funded_amnt        float64\n",
       "funded_amnt_inv    float64\n",
       "term               float64\n",
       "installment        float64\n",
       "grade              float64\n",
       "sub_grade          float64\n",
       "annual_inc         float64\n",
       "purpose            float64\n",
       "zip_code           float64\n",
       "addr_state         float64\n",
       "dti                float64\n",
       "fico_range_low     float64\n",
       "fico_range_high    float64\n",
       "tot_cur_bal        float64\n",
       "dtype: object"
      ]
     },
     "execution_count": 12,
     "metadata": {},
     "output_type": "execute_result"
    }
   ],
   "source": [
    "model.dtypes"
   ]
  },
  {
   "cell_type": "code",
   "execution_count": null,
   "metadata": {},
   "outputs": [],
   "source": [
    "# #skipt this process\n",
    "\n",
    "# #dropping any column names that include invest/return/rate to reduce muticollinearity\n",
    "\n",
    "# mask = accepted.filter(regex='invest|return|rate').columns\n",
    "# X = accepted.drop(mask, axis=1)\n",
    "\n",
    "# #Now defining X and y for training models\n",
    "# y = accepted[[\"invest_return_rate_monthly\"]]\n",
    "\n",
    "# print(X.shape)\n",
    "# print(y.shape)"
   ]
  },
  {
   "cell_type": "code",
   "execution_count": 31,
   "metadata": {},
   "outputs": [
    {
     "name": "stdout",
     "output_type": "stream",
     "text": [
      "(453647, 15)\n",
      "(453647, 1)\n"
     ]
    }
   ],
   "source": [
    "y = np.array(accepted[[\"invest_return\"]]).reshape(-1,1)\n",
    "X = model\n",
    "\n",
    "print(X.shape)\n",
    "print(y.shape)"
   ]
  },
  {
   "cell_type": "code",
   "execution_count": 18,
   "metadata": {},
   "outputs": [],
   "source": [
    "y = y.astype(float)"
   ]
  },
  {
   "cell_type": "code",
   "execution_count": 46,
   "metadata": {},
   "outputs": [
    {
     "data": {
      "text/plain": [
       "loan_amnt          0\n",
       "funded_amnt        0\n",
       "funded_amnt_inv    0\n",
       "term               0\n",
       "installment        0\n",
       "grade              0\n",
       "sub_grade          0\n",
       "annual_inc         0\n",
       "purpose            0\n",
       "zip_code           0\n",
       "addr_state         0\n",
       "dti                0\n",
       "fico_range_low     0\n",
       "fico_range_high    0\n",
       "tot_cur_bal        0\n",
       "dtype: int64"
      ]
     },
     "execution_count": 46,
     "metadata": {},
     "output_type": "execute_result"
    }
   ],
   "source": [
    "X.isnull().sum()"
   ]
  },
  {
   "cell_type": "code",
   "execution_count": null,
   "metadata": {},
   "outputs": [],
   "source": [
    "#Infinity in the y causing the issue\n",
    "#np.where(y.values >= np.finfo(np.float64).max)\n"
   ]
  },
  {
   "cell_type": "code",
   "execution_count": 47,
   "metadata": {},
   "outputs": [
    {
     "data": {
      "text/plain": [
       "invest_return    0\n",
       "dtype: int64"
      ]
     },
     "execution_count": 47,
     "metadata": {},
     "output_type": "execute_result"
    }
   ],
   "source": [
    "y.isnull().sum()"
   ]
  },
  {
   "cell_type": "code",
   "execution_count": 35,
   "metadata": {},
   "outputs": [
    {
     "data": {
      "text/plain": [
       "array([[-3788.31      ],\n",
       "       [ 2392.37      ],\n",
       "       [  373.43      ],\n",
       "       ...,\n",
       "       [ 9272.93998424],\n",
       "       [-9922.81      ],\n",
       "       [ 3388.94825537]])"
      ]
     },
     "execution_count": 35,
     "metadata": {},
     "output_type": "execute_result"
    }
   ],
   "source": [
    "y = y.astype(float)\n",
    "y"
   ]
  },
  {
   "cell_type": "code",
   "execution_count": 36,
   "metadata": {},
   "outputs": [],
   "source": [
    "np.random.seed(0)\n",
    "from sklearn.model_selection import train_test_split\n",
    "\n",
    "Xtrain, Xtest, ytrain, ytest = train_test_split(X,y, test_size = 0.2, shuffle=True)"
   ]
  },
  {
   "cell_type": "code",
   "execution_count": 17,
   "metadata": {},
   "outputs": [],
   "source": [
    "from sklearn import ensemble\n",
    "\n",
    "randomForest = ensemble.RandomForestRegressor()\n",
    "bagging      = ensemble.BaggingRegressor()"
   ]
  },
  {
   "cell_type": "code",
   "execution_count": 25,
   "metadata": {},
   "outputs": [
    {
     "data": {
      "text/html": [
       "<div>\n",
       "<style scoped>\n",
       "    .dataframe tbody tr th:only-of-type {\n",
       "        vertical-align: middle;\n",
       "    }\n",
       "\n",
       "    .dataframe tbody tr th {\n",
       "        vertical-align: top;\n",
       "    }\n",
       "\n",
       "    .dataframe thead th {\n",
       "        text-align: right;\n",
       "    }\n",
       "</style>\n",
       "<table border=\"1\" class=\"dataframe\">\n",
       "  <thead>\n",
       "    <tr style=\"text-align: right;\">\n",
       "      <th></th>\n",
       "      <th>loan_amnt</th>\n",
       "      <th>funded_amnt</th>\n",
       "      <th>funded_amnt_inv</th>\n",
       "      <th>term</th>\n",
       "      <th>installment</th>\n",
       "      <th>grade</th>\n",
       "      <th>sub_grade</th>\n",
       "      <th>annual_inc</th>\n",
       "      <th>purpose</th>\n",
       "      <th>zip_code</th>\n",
       "      <th>addr_state</th>\n",
       "      <th>dti</th>\n",
       "      <th>fico_range_low</th>\n",
       "      <th>fico_range_high</th>\n",
       "      <th>tot_cur_bal</th>\n",
       "    </tr>\n",
       "  </thead>\n",
       "  <tbody>\n",
       "    <tr>\n",
       "      <td>0</td>\n",
       "      <td>-0.505135</td>\n",
       "      <td>-0.502791</td>\n",
       "      <td>-0.492988</td>\n",
       "      <td>-0.585321</td>\n",
       "      <td>-0.370496</td>\n",
       "      <td>-0.604527</td>\n",
       "      <td>-0.300728</td>\n",
       "      <td>-0.393062</td>\n",
       "      <td>-0.688745</td>\n",
       "      <td>-0.570271</td>\n",
       "      <td>-0.914681</td>\n",
       "      <td>-1.224499</td>\n",
       "      <td>-0.686069</td>\n",
       "      <td>-0.686063</td>\n",
       "      <td>-0.473361</td>\n",
       "    </tr>\n",
       "    <tr>\n",
       "      <td>1</td>\n",
       "      <td>1.191630</td>\n",
       "      <td>1.196562</td>\n",
       "      <td>1.201915</td>\n",
       "      <td>-0.585321</td>\n",
       "      <td>1.330869</td>\n",
       "      <td>-1.363740</td>\n",
       "      <td>-1.068141</td>\n",
       "      <td>0.655585</td>\n",
       "      <td>-0.276460</td>\n",
       "      <td>-0.745357</td>\n",
       "      <td>0.302217</td>\n",
       "      <td>0.140710</td>\n",
       "      <td>1.099215</td>\n",
       "      <td>1.099199</td>\n",
       "      <td>1.060016</td>\n",
       "    </tr>\n",
       "    <tr>\n",
       "      <td>2</td>\n",
       "      <td>-1.535313</td>\n",
       "      <td>-1.534541</td>\n",
       "      <td>-1.522036</td>\n",
       "      <td>-0.585321</td>\n",
       "      <td>-1.554444</td>\n",
       "      <td>0.154687</td>\n",
       "      <td>0.006237</td>\n",
       "      <td>-0.961820</td>\n",
       "      <td>0.548110</td>\n",
       "      <td>-1.320641</td>\n",
       "      <td>0.707849</td>\n",
       "      <td>-0.423236</td>\n",
       "      <td>-0.361472</td>\n",
       "      <td>-0.361470</td>\n",
       "      <td>-0.892715</td>\n",
       "    </tr>\n",
       "    <tr>\n",
       "      <td>3</td>\n",
       "      <td>-0.505135</td>\n",
       "      <td>-0.502791</td>\n",
       "      <td>-0.492988</td>\n",
       "      <td>1.708465</td>\n",
       "      <td>-0.766549</td>\n",
       "      <td>0.913900</td>\n",
       "      <td>1.234098</td>\n",
       "      <td>-0.446383</td>\n",
       "      <td>-0.276460</td>\n",
       "      <td>-1.574338</td>\n",
       "      <td>1.045876</td>\n",
       "      <td>-0.120849</td>\n",
       "      <td>0.125424</td>\n",
       "      <td>0.125420</td>\n",
       "      <td>-0.441500</td>\n",
       "    </tr>\n",
       "    <tr>\n",
       "      <td>4</td>\n",
       "      <td>-0.262740</td>\n",
       "      <td>-0.260026</td>\n",
       "      <td>-0.250859</td>\n",
       "      <td>-0.585321</td>\n",
       "      <td>-0.232496</td>\n",
       "      <td>-1.363740</td>\n",
       "      <td>-1.375106</td>\n",
       "      <td>0.338431</td>\n",
       "      <td>-0.688745</td>\n",
       "      <td>-1.056225</td>\n",
       "      <td>0.978271</td>\n",
       "      <td>-0.845558</td>\n",
       "      <td>0.612319</td>\n",
       "      <td>0.612309</td>\n",
       "      <td>0.410486</td>\n",
       "    </tr>\n",
       "  </tbody>\n",
       "</table>\n",
       "</div>"
      ],
      "text/plain": [
       "   loan_amnt  funded_amnt  funded_amnt_inv      term  installment     grade  \\\n",
       "0  -0.505135    -0.502791        -0.492988 -0.585321    -0.370496 -0.604527   \n",
       "1   1.191630     1.196562         1.201915 -0.585321     1.330869 -1.363740   \n",
       "2  -1.535313    -1.534541        -1.522036 -0.585321    -1.554444  0.154687   \n",
       "3  -0.505135    -0.502791        -0.492988  1.708465    -0.766549  0.913900   \n",
       "4  -0.262740    -0.260026        -0.250859 -0.585321    -0.232496 -1.363740   \n",
       "\n",
       "   sub_grade  annual_inc   purpose  zip_code  addr_state       dti  \\\n",
       "0  -0.300728   -0.393062 -0.688745 -0.570271   -0.914681 -1.224499   \n",
       "1  -1.068141    0.655585 -0.276460 -0.745357    0.302217  0.140710   \n",
       "2   0.006237   -0.961820  0.548110 -1.320641    0.707849 -0.423236   \n",
       "3   1.234098   -0.446383 -0.276460 -1.574338    1.045876 -0.120849   \n",
       "4  -1.375106    0.338431 -0.688745 -1.056225    0.978271 -0.845558   \n",
       "\n",
       "   fico_range_low  fico_range_high  tot_cur_bal  \n",
       "0       -0.686069        -0.686063    -0.473361  \n",
       "1        1.099215         1.099199     1.060016  \n",
       "2       -0.361472        -0.361470    -0.892715  \n",
       "3        0.125424         0.125420    -0.441500  \n",
       "4        0.612319         0.612309     0.410486  "
      ]
     },
     "execution_count": 25,
     "metadata": {},
     "output_type": "execute_result"
    }
   ],
   "source": [
    "from sklearn.preprocessing import StandardScaler\n",
    "ss = StandardScaler()\n",
    "Xtrain = pd.DataFrame( ss.fit_transform(Xtrain), columns = Xtrain.columns)\n",
    "Xtrain.head()"
   ]
  },
  {
   "cell_type": "code",
   "execution_count": 52,
   "metadata": {},
   "outputs": [
    {
     "name": "stderr",
     "output_type": "stream",
     "text": [
      "/Users/kisaki/opt/anaconda3/lib/python3.7/site-packages/ipykernel_launcher.py:4: DataConversionWarning: A column-vector y was passed when a 1d array was expected. Please change the shape of y to (n_samples,), for example using ravel().\n",
      "  after removing the cwd from sys.path.\n"
     ]
    },
    {
     "data": {
      "text/plain": [
       "RandomForestRegressor(bootstrap=True, criterion='mse', max_depth=None,\n",
       "                      max_features=2, max_leaf_nodes=None,\n",
       "                      min_impurity_decrease=0.0, min_impurity_split=None,\n",
       "                      min_samples_leaf=1, min_samples_split=2,\n",
       "                      min_weight_fraction_leaf=0.0, n_estimators=100, n_jobs=-1,\n",
       "                      oob_score=False, random_state=42, verbose=0,\n",
       "                      warm_start=False)"
      ]
     },
     "execution_count": 52,
     "metadata": {},
     "output_type": "execute_result"
    }
   ],
   "source": [
    "#Random Forest\n",
    "\n",
    "randomForest.set_params(random_state=42, n_estimators=100, max_features=2, n_jobs=-1)\n",
    "randomForest.fit(Xtrain, ytrain) # fit "
   ]
  },
  {
   "cell_type": "code",
   "execution_count": 53,
   "metadata": {},
   "outputs": [
    {
     "data": {
      "text/plain": [
       "0.8673007434553539"
      ]
     },
     "execution_count": 53,
     "metadata": {},
     "output_type": "execute_result"
    }
   ],
   "source": [
    "randomForest.score(Xtrain, ytrain) #accuracy"
   ]
  },
  {
   "cell_type": "code",
   "execution_count": 54,
   "metadata": {},
   "outputs": [],
   "source": [
    "from sklearn.metrics import mean_squared_error, r2_score\n",
    "y_predicted = randomForest.predict(Xtest)"
   ]
  },
  {
   "cell_type": "code",
   "execution_count": 55,
   "metadata": {},
   "outputs": [
    {
     "data": {
      "image/png": "[encoded data removed]",
      "text/plain": [
       "<Figure size 1152x576 with 1 Axes>"
      ]
     },
     "metadata": {
      "needs_background": "light"
     },
     "output_type": "display_data"
    }
   ],
   "source": [
    "from sklearn.model_selection import cross_val_predict\n",
    "\n",
    "fig, ax = plt.subplots(figsize=(16, 8))\n",
    "ax.scatter(ytest, y_predicted, edgecolors=(1, 1, 1))\n",
    "ax.plot([ytest.min(), ytest.max()], [ytest.min(), ytest.max()], 'k--', lw=4)\n",
    "ax.set_xlabel('Actual')\n",
    "ax.set_ylabel('Predicted')\n",
    "ax.set_title(\"Actual vs Predicted\")\n",
    "\n",
    "plt.savefig('actual_vs_predicted.png')"
   ]
  },
  {
   "cell_type": "code",
   "execution_count": 56,
   "metadata": {},
   "outputs": [
    {
     "name": "stdout",
     "output_type": "stream",
     "text": [
      "Test error is : 1.7813431813171405\n",
      "Mean Squared Error: 43665884.88804378\n",
      "Root Mean Squared Error: 6608.016713662563\n"
     ]
    }
   ],
   "source": [
    "from sklearn.metrics import mean_squared_error\n",
    "print(\"Test error is : {}\".format(1- randomForest.score(Xtest, ytest)))\n",
    "mse=(mean_squared_error(ytest, randomForest.predict(Xtest)))\n",
    "print(\"Mean Squared Error: {}\".format(mse))\n",
    "rmse = np.sqrt(mean_squared_error(ytest, randomForest.predict(Xtest)))\n",
    "print(\"Root Mean Squared Error: {}\".format(rmse))"
   ]
  },
  {
   "cell_type": "code",
   "execution_count": 57,
   "metadata": {},
   "outputs": [
    {
     "data": {
      "text/html": [
       "<div>\n",
       "<style scoped>\n",
       "    .dataframe tbody tr th:only-of-type {\n",
       "        vertical-align: middle;\n",
       "    }\n",
       "\n",
       "    .dataframe tbody tr th {\n",
       "        vertical-align: top;\n",
       "    }\n",
       "\n",
       "    .dataframe thead th {\n",
       "        text-align: right;\n",
       "    }\n",
       "</style>\n",
       "<table border=\"1\" class=\"dataframe\">\n",
       "  <thead>\n",
       "    <tr style=\"text-align: right;\">\n",
       "      <th></th>\n",
       "      <th>name</th>\n",
       "      <th>score</th>\n",
       "    </tr>\n",
       "  </thead>\n",
       "  <tbody>\n",
       "    <tr>\n",
       "      <td>0</td>\n",
       "      <td>installment</td>\n",
       "      <td>0.108174</td>\n",
       "    </tr>\n",
       "    <tr>\n",
       "      <td>1</td>\n",
       "      <td>dti</td>\n",
       "      <td>0.107259</td>\n",
       "    </tr>\n",
       "    <tr>\n",
       "      <td>2</td>\n",
       "      <td>tot_cur_bal</td>\n",
       "      <td>0.104791</td>\n",
       "    </tr>\n",
       "    <tr>\n",
       "      <td>3</td>\n",
       "      <td>zip_code</td>\n",
       "      <td>0.098535</td>\n",
       "    </tr>\n",
       "    <tr>\n",
       "      <td>4</td>\n",
       "      <td>annual_inc</td>\n",
       "      <td>0.095868</td>\n",
       "    </tr>\n",
       "    <tr>\n",
       "      <td>5</td>\n",
       "      <td>funded_amnt_inv</td>\n",
       "      <td>0.073104</td>\n",
       "    </tr>\n",
       "    <tr>\n",
       "      <td>6</td>\n",
       "      <td>addr_state</td>\n",
       "      <td>0.067406</td>\n",
       "    </tr>\n",
       "    <tr>\n",
       "      <td>7</td>\n",
       "      <td>sub_grade</td>\n",
       "      <td>0.065473</td>\n",
       "    </tr>\n",
       "    <tr>\n",
       "      <td>8</td>\n",
       "      <td>funded_amnt</td>\n",
       "      <td>0.055862</td>\n",
       "    </tr>\n",
       "    <tr>\n",
       "      <td>9</td>\n",
       "      <td>loan_amnt</td>\n",
       "      <td>0.055108</td>\n",
       "    </tr>\n",
       "    <tr>\n",
       "      <td>10</td>\n",
       "      <td>fico_range_low</td>\n",
       "      <td>0.051401</td>\n",
       "    </tr>\n",
       "    <tr>\n",
       "      <td>11</td>\n",
       "      <td>fico_range_high</td>\n",
       "      <td>0.050838</td>\n",
       "    </tr>\n",
       "    <tr>\n",
       "      <td>12</td>\n",
       "      <td>purpose</td>\n",
       "      <td>0.032095</td>\n",
       "    </tr>\n",
       "    <tr>\n",
       "      <td>13</td>\n",
       "      <td>grade</td>\n",
       "      <td>0.024965</td>\n",
       "    </tr>\n",
       "    <tr>\n",
       "      <td>14</td>\n",
       "      <td>term</td>\n",
       "      <td>0.009120</td>\n",
       "    </tr>\n",
       "  </tbody>\n",
       "</table>\n",
       "</div>"
      ],
      "text/plain": [
       "               name     score\n",
       "0       installment  0.108174\n",
       "1               dti  0.107259\n",
       "2       tot_cur_bal  0.104791\n",
       "3          zip_code  0.098535\n",
       "4        annual_inc  0.095868\n",
       "5   funded_amnt_inv  0.073104\n",
       "6        addr_state  0.067406\n",
       "7         sub_grade  0.065473\n",
       "8       funded_amnt  0.055862\n",
       "9         loan_amnt  0.055108\n",
       "10   fico_range_low  0.051401\n",
       "11  fico_range_high  0.050838\n",
       "12          purpose  0.032095\n",
       "13            grade  0.024965\n",
       "14             term  0.009120"
      ]
     },
     "execution_count": 57,
     "metadata": {},
     "output_type": "execute_result"
    }
   ],
   "source": [
    "#Plot feature by importance\n",
    "\n",
    "feature_importance = list(zip(Xtrain.columns, randomForest.feature_importances_))\n",
    "dtype = [('feature', 'object'), ('importance', 'float')]\n",
    "feature_importance = np.array(feature_importance, dtype=dtype)\n",
    "feature_sort = np.sort(feature_importance, order='importance')[::-1]\n",
    "name, score = zip(*list(feature_sort))\n",
    "\n",
    "importance = pd.DataFrame({'name':name,'score':score})[:20]\n",
    "importance"
   ]
  },
  {
   "cell_type": "code",
   "execution_count": 58,
   "metadata": {},
   "outputs": [
    {
     "data": {
      "image/png": "[encoded data removed]",
      "text/plain": [
       "<Figure size 1440x720 with 1 Axes>"
      ]
     },
     "metadata": {
      "needs_background": "light"
     },
     "output_type": "display_data"
    }
   ],
   "source": [
    "fig, ax = plt.subplots(figsize=(20, 10))\n",
    "ax.barh(importance.name, importance.score, color=(0.2, 0.6, 0.8, 0.6))\n",
    "plt.gca().invert_yaxis()\n",
    "ax.set_title('Top 20 Features by Importance')\n",
    "plt.ylabel('', fontsize=16)\n",
    "\n",
    "plt.savefig('importance.png')"
   ]
  },
  {
   "cell_type": "code",
   "execution_count": 38,
   "metadata": {},
   "outputs": [],
   "source": [
    "# from sklearn.model_selection import GridSearchCV\n",
    "# grid_para_forest = [{\n",
    "#     \"n_estimators\": [100, 300],\n",
    "#     #\"criterion\": [\"entropy\"],\n",
    "#     \"min_samples_leaf\": range(1, 10),\n",
    "#     \"min_samples_split\": np.linspace(start=2, stop=30, num=15, dtype=int),\n",
    "#     \"random_state\": [42]}]\n",
    "# grid_search_forest = GridSearchCV(randomForest, grid_para_forest, scoring='accuracy', cv=5, n_jobs=-1)\n",
    "# grid_search_forest.fit(Xtrain, ytrain)"
   ]
  },
  {
   "cell_type": "code",
   "execution_count": 107,
   "metadata": {},
   "outputs": [
    {
     "ename": "AttributeError",
     "evalue": "module 'xgboost' has no attribute 'DMatrix'",
     "output_type": "error",
     "traceback": [
      "\u001b[0;31m---------------------------------------------------------------------------\u001b[0m",
      "\u001b[0;31mAttributeError\u001b[0m                            Traceback (most recent call last)",
      "\u001b[0;32m<ipython-input-107-a181152bf133>\u001b[0m in \u001b[0;36m<module>\u001b[0;34m\u001b[0m\n\u001b[1;32m      2\u001b[0m \u001b[0;31m#from xgboost import XGBRegressor\u001b[0m\u001b[0;34m\u001b[0m\u001b[0;34m\u001b[0m\u001b[0;34m\u001b[0m\u001b[0m\n\u001b[1;32m      3\u001b[0m \u001b[0;34m\u001b[0m\u001b[0m\n\u001b[0;32m----> 4\u001b[0;31m \u001b[0mxgtrain\u001b[0m \u001b[0;34m=\u001b[0m \u001b[0mxgb\u001b[0m\u001b[0;34m.\u001b[0m\u001b[0mDMatrix\u001b[0m\u001b[0;34m(\u001b[0m\u001b[0mXtrain\u001b[0m\u001b[0;34m.\u001b[0m\u001b[0mas_matrix\u001b[0m\u001b[0;34m(\u001b[0m\u001b[0;34m)\u001b[0m\u001b[0;34m,\u001b[0m \u001b[0mlabel\u001b[0m\u001b[0;34m=\u001b[0m\u001b[0my\u001b[0m\u001b[0;34m.\u001b[0m\u001b[0mtolist\u001b[0m\u001b[0;34m(\u001b[0m\u001b[0;34m)\u001b[0m\u001b[0;34m)\u001b[0m\u001b[0;34m\u001b[0m\u001b[0;34m\u001b[0m\u001b[0m\n\u001b[0m\u001b[1;32m      5\u001b[0m \u001b[0mxgtest\u001b[0m \u001b[0;34m=\u001b[0m \u001b[0mxgb\u001b[0m\u001b[0;34m.\u001b[0m\u001b[0mDMatrix\u001b[0m\u001b[0;34m(\u001b[0m\u001b[0mXtest\u001b[0m\u001b[0;34m.\u001b[0m\u001b[0mas_matrix\u001b[0m\u001b[0;34m(\u001b[0m\u001b[0;34m)\u001b[0m\u001b[0;34m)\u001b[0m\u001b[0;34m\u001b[0m\u001b[0;34m\u001b[0m\u001b[0m\n",
      "\u001b[0;31mAttributeError\u001b[0m: module 'xgboost' has no attribute 'DMatrix'"
     ]
    }
   ],
   "source": [
    "import xgboost as xgb\n",
    "#from xgboost import XGBRegressor\n",
    "\n",
    "xgtrain = xgb.DMatrix(Xtrain.as_matrix(), label=y.tolist())\n",
    "xgtest = xgb.DMatrix(Xtest.as_matrix())"
   ]
  },
  {
   "cell_type": "code",
   "execution_count": 96,
   "metadata": {},
   "outputs": [],
   "source": [
    "#XGBoost\n",
    "params = {'objective': 'reg:linear', \n",
    "      'max_depth': 2, 'learning_rate': .1,    \n",
    "      'min_child_weight': 3, 'colsample_bytree': .7,\n",
    "      'subsample': .8, 'gamma': 0, 'alpha': 1}"
   ]
  },
  {
   "cell_type": "code",
   "execution_count": 103,
   "metadata": {},
   "outputs": [],
   "source": [
    "# xgb_= xgb.LGBMRegressor(objective='regression',num_leaves=8,\n",
    "#                               learning_rate=0.05, n_estimators=760,\n",
    "#                               max_bin = 55, bagging_fraction = 0.667,\n",
    "#                               bagging_freq = 5, feature_fraction = 0.4181818181818182,\n",
    "#                               feature_fraction_seed=1, bagging_seed=1,\n",
    "#                               min_data_in_leaf =6, min_sum_hessian_in_leaf = 5)"
   ]
  },
  {
   "cell_type": "code",
   "execution_count": null,
   "metadata": {},
   "outputs": [],
   "source": [
    "from sklearn import svm\n",
    "clf = svm.SVR(n_jobs=-1)\n",
    "clf.fit(Xtrain, ytrain)"
   ]
  }
 ],
 "metadata": {
  "kernelspec": {
   "display_name": "Python 3",
   "language": "python",
   "name": "python3"
  },
  "language_info": {
   "codemirror_mode": {
    "name": "ipython",
    "version": 3
   },
   "file_extension": ".py",
   "mimetype": "text/x-python",
   "name": "python",
   "nbconvert_exporter": "python",
   "pygments_lexer": "ipython3",
   "version": "3.7.4"
  }
 },
 "nbformat": 4,
 "nbformat_minor": 2
}
