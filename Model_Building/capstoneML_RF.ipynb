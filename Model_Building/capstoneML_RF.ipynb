{
 "cells": [
  {
   "cell_type": "code",
   "execution_count": 1,
   "metadata": {},
   "outputs": [],
   "source": [
    "%matplotlib inline\n",
    "import matplotlib.pyplot as plt\n",
    "import numpy  as np\n",
    "import pandas as pd\n",
    "import seaborn as sns\n",
    "import re\n",
    "from scipy.stats import norm\n",
    "from sklearn.preprocessing import StandardScaler\n",
    "from scipy import stats\n",
    "from sklearn.preprocessing import OneHotEncoder\n",
    "from sklearn.model_selection import train_test_split"
   ]
  },
  {
   "cell_type": "code",
   "execution_count": 2,
   "metadata": {},
   "outputs": [],
   "source": [
    "dtypes = {'issue_d': 'str', 'last_pymnt_d': 'str'}\n",
    "parse_dates = ['issue_d', 'last_pymnt_d']\n",
    "accepted = pd.read_csv(\"C:\\\\Users\\\\nilli\\\\Downloads\\\\accepted_b_2015_clean.csv\",\n",
    "                       dtype=dtypes, parse_dates=parse_dates)"
   ]
  },
  {
   "cell_type": "code",
   "execution_count": 3,
   "metadata": {},
   "outputs": [],
   "source": [
    "# accepted.columns"
   ]
  },
  {
   "cell_type": "code",
   "execution_count": 4,
   "metadata": {},
   "outputs": [
    {
     "data": {
      "text/plain": [
       "Index(['term', 'grade', 'sub_grade', 'emp_title', 'emp_length',\n",
       "       'home_ownership', 'verification_status', 'loan_status', 'pymnt_plan',\n",
       "       'url', 'purpose', 'title', 'zip_code', 'addr_state', 'earliest_cr_line',\n",
       "       'initial_list_status', 'last_credit_pull_d', 'application_type',\n",
       "       'hardship_flag', 'disbursement_method', 'debt_settlement_flag'],\n",
       "      dtype='object')"
      ]
     },
     "execution_count": 4,
     "metadata": {},
     "output_type": "execute_result"
    }
   ],
   "source": [
    "accepted.select_dtypes(include = 'object').columns"
   ]
  },
  {
   "cell_type": "code",
   "execution_count": 5,
   "metadata": {},
   "outputs": [],
   "source": [
    "accepted[\"term\"] = accepted[\"term\"].apply(lambda x: re.sub('months', '',x)).astype('int64')  "
   ]
  },
  {
   "cell_type": "code",
   "execution_count": 6,
   "metadata": {},
   "outputs": [],
   "source": [
    "accepted[\"emp_length\"] = accepted['emp_length'].apply(lambda x: re.sub('years', '',x))#.astype('int64')"
   ]
  },
  {
   "cell_type": "code",
   "execution_count": 7,
   "metadata": {},
   "outputs": [],
   "source": [
    "accepted[\"emp_length\"] = accepted['emp_length'].apply(lambda x: re.sub('year', '',x))"
   ]
  },
  {
   "cell_type": "code",
   "execution_count": 8,
   "metadata": {},
   "outputs": [],
   "source": [
    "accepted[\"emp_length\"] = accepted['emp_length'].apply(lambda x: re.sub('< 1 ', '0',x))"
   ]
  },
  {
   "cell_type": "code",
   "execution_count": 9,
   "metadata": {},
   "outputs": [],
   "source": [
    "accepted[\"emp_length\"] = accepted[\"emp_length\"].str.replace(r'\\D', '', ).astype('int64')"
   ]
  },
  {
   "cell_type": "code",
   "execution_count": 10,
   "metadata": {},
   "outputs": [
    {
     "data": {
      "text/plain": [
       "10    0.319656\n",
       "2     0.134311\n",
       "3     0.078722\n",
       "0     0.078045\n",
       "5     0.066406\n",
       "1     0.063732\n",
       "4     0.060294\n",
       "6     0.056297\n",
       "7     0.056264\n",
       "8     0.048055\n",
       "9     0.038217\n",
       "Name: emp_length, dtype: float64"
      ]
     },
     "execution_count": 10,
     "metadata": {},
     "output_type": "execute_result"
    }
   ],
   "source": [
    "# accepted[\"emp_length\"].unique()\n",
    "accepted[\"emp_length\"].value_counts()/ len(accepted['emp_length'])"
   ]
  },
  {
   "cell_type": "code",
   "execution_count": 11,
   "metadata": {},
   "outputs": [
    {
     "data": {
      "text/plain": [
       "count    453647.000000\n",
       "mean          5.798310\n",
       "std           3.637896\n",
       "min           0.000000\n",
       "25%           2.000000\n",
       "50%           6.000000\n",
       "75%          10.000000\n",
       "max          10.000000\n",
       "Name: emp_length, dtype: float64"
      ]
     },
     "execution_count": 11,
     "metadata": {},
     "output_type": "execute_result"
    }
   ],
   "source": [
    "accepted[\"emp_length\"].describe()"
   ]
  },
  {
   "cell_type": "code",
   "execution_count": 12,
   "metadata": {},
   "outputs": [],
   "source": [
    "#Let's create categories for annual_income since most of the bad loans are located below 100k\n",
    "accepted['employ_cat'] = np.nan\n",
    "lst = [accepted]\n",
    "\n",
    "for col in lst:\n",
    "    col.loc[col[\"emp_length\"] <3, 'employ_cat'] = 'under_three'\n",
    "    col.loc[(col[\"emp_length\"] >= 3) & (col[\"emp_length\"] <= 9), 'employ_cat'] = 'between_three_ten'\n",
    "    col.loc[col[\"emp_length\"] >= 10, 'employ_cat'] = 'Over_ten'"
   ]
  },
  {
   "cell_type": "code",
   "execution_count": 13,
   "metadata": {},
   "outputs": [
    {
     "data": {
      "text/plain": [
       "between_three_ten    183389\n",
       "Over_ten             145011\n",
       "under_three          125247\n",
       "Name: employ_cat, dtype: int64"
      ]
     },
     "execution_count": 13,
     "metadata": {},
     "output_type": "execute_result"
    }
   ],
   "source": [
    "accepted['employ_cat'].value_counts()"
   ]
  },
  {
   "cell_type": "code",
   "execution_count": 14,
   "metadata": {},
   "outputs": [],
   "source": [
    "# job_status =[ 8, 10,  0,  6,  2,  7,  9,  4,  5,  3,  1]\n",
    "# accepted[\"job_length\"] = np.nan\n",
    "\n",
    "# def emp_condition(status):\n",
    "#     for job in job_status:\n",
    "#         if(accepted[\"emp_length\"] <1):\n",
    "#             return 'under_one'\n",
    "#         elif(accepted[\"emp_length\"] == 10):\n",
    "#             return 'Over_ten'\n",
    "#         else:\n",
    "#             return 'between_one_ten'\n",
    "    \n",
    "# accepted[\"job_length\"] = accepted[\"emp_length\"].apply(emp_condition)   \n",
    "# #     accepted['loan_completion'] = np.nan\n",
    "\n",
    "# def loan_condition(status):\n",
    "#     if status in default_cat_severe:\n",
    "#         return 'Noncompleted Loan'\n",
    "#     else:\n",
    "#         return 'Completed Loan'\n",
    "\n",
    "\n",
    "# accepted['loan_completion'] = accepted['loan_status'].apply(loan_condition)\n",
    "\n",
    "\n",
    "# df['interest_payments'] = np.nan\n",
    "# lst = [df]\n",
    "\n",
    "# for col in lst:\n",
    "#     col.loc[col['interest_rate'] <= 13.23, 'interest_payments'] = 'Low'\n",
    "#     col.loc[col['interest_rate'] > 13.23, 'interest_payments'] = 'High'\n",
    "\n",
    "# employment_length = ['10+ years', '< 1 year', '1 year', '3 years', '8 years', '9 years',\n",
    "#                     '4 years', '5 years', '6 years', '2 years', '7 years', 'n/a']\n",
    "\n",
    "# Create a new column and convert emp_length to integers.\n",
    "\n",
    "# lst = [df]\n",
    "# df['emp_length_int'] = np.nan\n",
    "\n",
    "# for col in lst:\n",
    "#     col.loc[col['emp_length'] == '10+ years', \"emp_length_int\"] = 10\n",
    "#     col.loc[col['emp_length'] == '9 years', \"emp_length_int\"] = 9\n",
    "#     col.loc[col['emp_length'] == '8 years', \"emp_length_int\"] = 8\n",
    "#     col.loc[col['emp_length'] == '7 years', \"emp_length_int\"] = 7\n",
    "#     col.loc[col['emp_length'] == '6 years', \"emp_length_int\"] = 6\n",
    "#     col.loc[col['emp_length'] == '5 years', \"emp_length_int\"] = 5\n",
    "#     col.loc[col['emp_length'] == '4 years', \"emp_length_int\"] = 4\n",
    "#     col.loc[col['emp_length'] == '3 years', \"emp_length_int\"] = 3\n",
    "#     col.loc[col['emp_length'] == '2 years', \"emp_length_int\"] = 2\n",
    "#     col.loc[col['emp_length'] == '1 year', \"emp_length_int\"] = 1\n",
    "#     col.loc[col['emp_length'] == '< 1 year', \"emp_length_int\"] = 0.5\n",
    "#     col.loc[col['emp_length'] == 'n/a', \"emp_length_int\"] = 0"
   ]
  },
  {
   "cell_type": "code",
   "execution_count": 15,
   "metadata": {},
   "outputs": [],
   "source": [
    "#Let's create categories for annual_income since most of the bad loans are located below 100k\n",
    "accepted['income_cat'] = np.nan\n",
    "lst = [accepted]\n",
    "\n",
    "for col in lst:\n",
    "    col.loc[col['annual_inc'] <= 100000, 'income_cat'] = 'Low'\n",
    "    col.loc[(col['annual_inc'] > 100000) & (col['annual_inc'] <= 200000), 'income_cat'] = 'Medium'\n",
    "    col.loc[col['annual_inc'] > 200000, 'income_cat'] = 'High'"
   ]
  },
  {
   "cell_type": "code",
   "execution_count": 16,
   "metadata": {},
   "outputs": [
    {
     "data": {
      "text/plain": [
       "Low       378514\n",
       "Medium     67606\n",
       "High        7527\n",
       "Name: income_cat, dtype: int64"
      ]
     },
     "execution_count": 16,
     "metadata": {},
     "output_type": "execute_result"
    }
   ],
   "source": [
    "accepted['income_cat'].value_counts()"
   ]
  },
  {
   "cell_type": "code",
   "execution_count": 17,
   "metadata": {},
   "outputs": [],
   "source": [
    "accepted['issue_d'].head()\n",
    "dt_series = pd.to_datetime(accepted['issue_d'])\n",
    "accepted['year'] = dt_series.dt.year"
   ]
  },
  {
   "cell_type": "code",
   "execution_count": null,
   "metadata": {},
   "outputs": [],
   "source": []
  },
  {
   "cell_type": "code",
   "execution_count": 18,
   "metadata": {},
   "outputs": [],
   "source": [
    "accepted.groupby(['income_cat', 'purpose'], as_index=False).int_rate.mean()\n",
    "group_dti_purpose = accepted.groupby(['income_cat', 'purpose'], as_index=False).funded_amnt.mean()\n",
    "loan_a = group_dti_purpose['funded_amnt'].values"
   ]
  },
  {
   "cell_type": "code",
   "execution_count": 19,
   "metadata": {},
   "outputs": [
    {
     "data": {
      "text/html": [
       "<div>\n",
       "<style scoped>\n",
       "    .dataframe tbody tr th:only-of-type {\n",
       "        vertical-align: middle;\n",
       "    }\n",
       "\n",
       "    .dataframe tbody tr th {\n",
       "        vertical-align: top;\n",
       "    }\n",
       "\n",
       "    .dataframe thead th {\n",
       "        text-align: right;\n",
       "    }\n",
       "</style>\n",
       "<table border=\"1\" class=\"dataframe\">\n",
       "  <thead>\n",
       "    <tr style=\"text-align: right;\">\n",
       "      <th></th>\n",
       "      <th>income_cat</th>\n",
       "      <th>purpose</th>\n",
       "      <th>funded_amnt</th>\n",
       "    </tr>\n",
       "  </thead>\n",
       "  <tbody>\n",
       "    <tr>\n",
       "      <th>0</th>\n",
       "      <td>High</td>\n",
       "      <td>car</td>\n",
       "      <td>14267.857143</td>\n",
       "    </tr>\n",
       "    <tr>\n",
       "      <th>1</th>\n",
       "      <td>High</td>\n",
       "      <td>credit_card</td>\n",
       "      <td>25292.954244</td>\n",
       "    </tr>\n",
       "    <tr>\n",
       "      <th>2</th>\n",
       "      <td>High</td>\n",
       "      <td>debt_consolidation</td>\n",
       "      <td>24798.220043</td>\n",
       "    </tr>\n",
       "    <tr>\n",
       "      <th>3</th>\n",
       "      <td>High</td>\n",
       "      <td>educational</td>\n",
       "      <td>11000.000000</td>\n",
       "    </tr>\n",
       "    <tr>\n",
       "      <th>4</th>\n",
       "      <td>High</td>\n",
       "      <td>home_improvement</td>\n",
       "      <td>23745.907738</td>\n",
       "    </tr>\n",
       "    <tr>\n",
       "      <th>5</th>\n",
       "      <td>High</td>\n",
       "      <td>house</td>\n",
       "      <td>26466.304348</td>\n",
       "    </tr>\n",
       "    <tr>\n",
       "      <th>6</th>\n",
       "      <td>High</td>\n",
       "      <td>major_purchase</td>\n",
       "      <td>19280.585106</td>\n",
       "    </tr>\n",
       "    <tr>\n",
       "      <th>7</th>\n",
       "      <td>High</td>\n",
       "      <td>medical</td>\n",
       "      <td>17331.701031</td>\n",
       "    </tr>\n",
       "    <tr>\n",
       "      <th>8</th>\n",
       "      <td>High</td>\n",
       "      <td>moving</td>\n",
       "      <td>19066.363636</td>\n",
       "    </tr>\n",
       "    <tr>\n",
       "      <th>9</th>\n",
       "      <td>High</td>\n",
       "      <td>other</td>\n",
       "      <td>20982.611111</td>\n",
       "    </tr>\n",
       "    <tr>\n",
       "      <th>10</th>\n",
       "      <td>High</td>\n",
       "      <td>renewable_energy</td>\n",
       "      <td>17500.000000</td>\n",
       "    </tr>\n",
       "    <tr>\n",
       "      <th>11</th>\n",
       "      <td>High</td>\n",
       "      <td>small_business</td>\n",
       "      <td>24992.431973</td>\n",
       "    </tr>\n",
       "    <tr>\n",
       "      <th>12</th>\n",
       "      <td>High</td>\n",
       "      <td>vacation</td>\n",
       "      <td>11430.434783</td>\n",
       "    </tr>\n",
       "    <tr>\n",
       "      <th>13</th>\n",
       "      <td>High</td>\n",
       "      <td>wedding</td>\n",
       "      <td>20389.285714</td>\n",
       "    </tr>\n",
       "    <tr>\n",
       "      <th>14</th>\n",
       "      <td>Low</td>\n",
       "      <td>car</td>\n",
       "      <td>7580.268817</td>\n",
       "    </tr>\n",
       "    <tr>\n",
       "      <th>15</th>\n",
       "      <td>Low</td>\n",
       "      <td>credit_card</td>\n",
       "      <td>13250.868125</td>\n",
       "    </tr>\n",
       "    <tr>\n",
       "      <th>16</th>\n",
       "      <td>Low</td>\n",
       "      <td>debt_consolidation</td>\n",
       "      <td>13732.905384</td>\n",
       "    </tr>\n",
       "    <tr>\n",
       "      <th>17</th>\n",
       "      <td>Low</td>\n",
       "      <td>educational</td>\n",
       "      <td>6019.657534</td>\n",
       "    </tr>\n",
       "    <tr>\n",
       "      <th>18</th>\n",
       "      <td>Low</td>\n",
       "      <td>home_improvement</td>\n",
       "      <td>11956.286335</td>\n",
       "    </tr>\n",
       "    <tr>\n",
       "      <th>19</th>\n",
       "      <td>Low</td>\n",
       "      <td>house</td>\n",
       "      <td>13130.790960</td>\n",
       "    </tr>\n",
       "    <tr>\n",
       "      <th>20</th>\n",
       "      <td>Low</td>\n",
       "      <td>major_purchase</td>\n",
       "      <td>9231.009706</td>\n",
       "    </tr>\n",
       "    <tr>\n",
       "      <th>21</th>\n",
       "      <td>Low</td>\n",
       "      <td>medical</td>\n",
       "      <td>7815.663130</td>\n",
       "    </tr>\n",
       "    <tr>\n",
       "      <th>22</th>\n",
       "      <td>Low</td>\n",
       "      <td>moving</td>\n",
       "      <td>6472.777341</td>\n",
       "    </tr>\n",
       "    <tr>\n",
       "      <th>23</th>\n",
       "      <td>Low</td>\n",
       "      <td>other</td>\n",
       "      <td>8445.894889</td>\n",
       "    </tr>\n",
       "    <tr>\n",
       "      <th>24</th>\n",
       "      <td>Low</td>\n",
       "      <td>renewable_energy</td>\n",
       "      <td>8710.614035</td>\n",
       "    </tr>\n",
       "    <tr>\n",
       "      <th>25</th>\n",
       "      <td>Low</td>\n",
       "      <td>small_business</td>\n",
       "      <td>13095.292645</td>\n",
       "    </tr>\n",
       "    <tr>\n",
       "      <th>26</th>\n",
       "      <td>Low</td>\n",
       "      <td>vacation</td>\n",
       "      <td>5668.398419</td>\n",
       "    </tr>\n",
       "    <tr>\n",
       "      <th>27</th>\n",
       "      <td>Low</td>\n",
       "      <td>wedding</td>\n",
       "      <td>9665.673317</td>\n",
       "    </tr>\n",
       "    <tr>\n",
       "      <th>28</th>\n",
       "      <td>Medium</td>\n",
       "      <td>car</td>\n",
       "      <td>10736.958333</td>\n",
       "    </tr>\n",
       "    <tr>\n",
       "      <th>29</th>\n",
       "      <td>Medium</td>\n",
       "      <td>credit_card</td>\n",
       "      <td>20800.546674</td>\n",
       "    </tr>\n",
       "    <tr>\n",
       "      <th>30</th>\n",
       "      <td>Medium</td>\n",
       "      <td>debt_consolidation</td>\n",
       "      <td>21176.639334</td>\n",
       "    </tr>\n",
       "    <tr>\n",
       "      <th>31</th>\n",
       "      <td>Medium</td>\n",
       "      <td>educational</td>\n",
       "      <td>11565.000000</td>\n",
       "    </tr>\n",
       "    <tr>\n",
       "      <th>32</th>\n",
       "      <td>Medium</td>\n",
       "      <td>home_improvement</td>\n",
       "      <td>17924.074564</td>\n",
       "    </tr>\n",
       "    <tr>\n",
       "      <th>33</th>\n",
       "      <td>Medium</td>\n",
       "      <td>house</td>\n",
       "      <td>20518.656716</td>\n",
       "    </tr>\n",
       "    <tr>\n",
       "      <th>34</th>\n",
       "      <td>Medium</td>\n",
       "      <td>major_purchase</td>\n",
       "      <td>14808.157895</td>\n",
       "    </tr>\n",
       "    <tr>\n",
       "      <th>35</th>\n",
       "      <td>Medium</td>\n",
       "      <td>medical</td>\n",
       "      <td>12665.596677</td>\n",
       "    </tr>\n",
       "    <tr>\n",
       "      <th>36</th>\n",
       "      <td>Medium</td>\n",
       "      <td>moving</td>\n",
       "      <td>12526.977401</td>\n",
       "    </tr>\n",
       "    <tr>\n",
       "      <th>37</th>\n",
       "      <td>Medium</td>\n",
       "      <td>other</td>\n",
       "      <td>14284.568463</td>\n",
       "    </tr>\n",
       "    <tr>\n",
       "      <th>38</th>\n",
       "      <td>Medium</td>\n",
       "      <td>renewable_energy</td>\n",
       "      <td>14882.142857</td>\n",
       "    </tr>\n",
       "    <tr>\n",
       "      <th>39</th>\n",
       "      <td>Medium</td>\n",
       "      <td>small_business</td>\n",
       "      <td>20402.126152</td>\n",
       "    </tr>\n",
       "    <tr>\n",
       "      <th>40</th>\n",
       "      <td>Medium</td>\n",
       "      <td>vacation</td>\n",
       "      <td>8212.241379</td>\n",
       "    </tr>\n",
       "    <tr>\n",
       "      <th>41</th>\n",
       "      <td>Medium</td>\n",
       "      <td>wedding</td>\n",
       "      <td>14138.500000</td>\n",
       "    </tr>\n",
       "  </tbody>\n",
       "</table>\n",
       "</div>"
      ],
      "text/plain": [
       "   income_cat             purpose   funded_amnt\n",
       "0        High                 car  14267.857143\n",
       "1        High         credit_card  25292.954244\n",
       "2        High  debt_consolidation  24798.220043\n",
       "3        High         educational  11000.000000\n",
       "4        High    home_improvement  23745.907738\n",
       "5        High               house  26466.304348\n",
       "6        High      major_purchase  19280.585106\n",
       "7        High             medical  17331.701031\n",
       "8        High              moving  19066.363636\n",
       "9        High               other  20982.611111\n",
       "10       High    renewable_energy  17500.000000\n",
       "11       High      small_business  24992.431973\n",
       "12       High            vacation  11430.434783\n",
       "13       High             wedding  20389.285714\n",
       "14        Low                 car   7580.268817\n",
       "15        Low         credit_card  13250.868125\n",
       "16        Low  debt_consolidation  13732.905384\n",
       "17        Low         educational   6019.657534\n",
       "18        Low    home_improvement  11956.286335\n",
       "19        Low               house  13130.790960\n",
       "20        Low      major_purchase   9231.009706\n",
       "21        Low             medical   7815.663130\n",
       "22        Low              moving   6472.777341\n",
       "23        Low               other   8445.894889\n",
       "24        Low    renewable_energy   8710.614035\n",
       "25        Low      small_business  13095.292645\n",
       "26        Low            vacation   5668.398419\n",
       "27        Low             wedding   9665.673317\n",
       "28     Medium                 car  10736.958333\n",
       "29     Medium         credit_card  20800.546674\n",
       "30     Medium  debt_consolidation  21176.639334\n",
       "31     Medium         educational  11565.000000\n",
       "32     Medium    home_improvement  17924.074564\n",
       "33     Medium               house  20518.656716\n",
       "34     Medium      major_purchase  14808.157895\n",
       "35     Medium             medical  12665.596677\n",
       "36     Medium              moving  12526.977401\n",
       "37     Medium               other  14284.568463\n",
       "38     Medium    renewable_energy  14882.142857\n",
       "39     Medium      small_business  20402.126152\n",
       "40     Medium            vacation   8212.241379\n",
       "41     Medium             wedding  14138.500000"
      ]
     },
     "execution_count": 19,
     "metadata": {},
     "output_type": "execute_result"
    }
   ],
   "source": [
    "group_dti_purpose "
   ]
  },
  {
   "cell_type": "code",
   "execution_count": 20,
   "metadata": {},
   "outputs": [
    {
     "data": {
      "text/html": [
       "<div>\n",
       "<style scoped>\n",
       "    .dataframe tbody tr th:only-of-type {\n",
       "        vertical-align: middle;\n",
       "    }\n",
       "\n",
       "    .dataframe tbody tr th {\n",
       "        vertical-align: top;\n",
       "    }\n",
       "\n",
       "    .dataframe thead th {\n",
       "        text-align: right;\n",
       "    }\n",
       "</style>\n",
       "<table border=\"1\" class=\"dataframe\">\n",
       "  <thead>\n",
       "    <tr style=\"text-align: right;\">\n",
       "      <th></th>\n",
       "      <th>income_cat</th>\n",
       "      <th>purpose</th>\n",
       "      <th>int_rate</th>\n",
       "    </tr>\n",
       "  </thead>\n",
       "  <tbody>\n",
       "    <tr>\n",
       "      <th>0</th>\n",
       "      <td>High</td>\n",
       "      <td>car</td>\n",
       "      <td>10.453000</td>\n",
       "    </tr>\n",
       "    <tr>\n",
       "      <th>1</th>\n",
       "      <td>High</td>\n",
       "      <td>credit_card</td>\n",
       "      <td>11.792971</td>\n",
       "    </tr>\n",
       "    <tr>\n",
       "      <th>2</th>\n",
       "      <td>High</td>\n",
       "      <td>debt_consolidation</td>\n",
       "      <td>13.412477</td>\n",
       "    </tr>\n",
       "    <tr>\n",
       "      <th>3</th>\n",
       "      <td>High</td>\n",
       "      <td>educational</td>\n",
       "      <td>11.420000</td>\n",
       "    </tr>\n",
       "    <tr>\n",
       "      <th>4</th>\n",
       "      <td>High</td>\n",
       "      <td>home_improvement</td>\n",
       "      <td>13.035308</td>\n",
       "    </tr>\n",
       "    <tr>\n",
       "      <th>5</th>\n",
       "      <td>High</td>\n",
       "      <td>house</td>\n",
       "      <td>15.745362</td>\n",
       "    </tr>\n",
       "    <tr>\n",
       "      <th>6</th>\n",
       "      <td>High</td>\n",
       "      <td>major_purchase</td>\n",
       "      <td>12.733777</td>\n",
       "    </tr>\n",
       "    <tr>\n",
       "      <th>7</th>\n",
       "      <td>High</td>\n",
       "      <td>medical</td>\n",
       "      <td>14.969691</td>\n",
       "    </tr>\n",
       "    <tr>\n",
       "      <th>8</th>\n",
       "      <td>High</td>\n",
       "      <td>moving</td>\n",
       "      <td>16.211273</td>\n",
       "    </tr>\n",
       "    <tr>\n",
       "      <th>9</th>\n",
       "      <td>High</td>\n",
       "      <td>other</td>\n",
       "      <td>15.770333</td>\n",
       "    </tr>\n",
       "    <tr>\n",
       "      <th>10</th>\n",
       "      <td>High</td>\n",
       "      <td>renewable_energy</td>\n",
       "      <td>15.153333</td>\n",
       "    </tr>\n",
       "    <tr>\n",
       "      <th>11</th>\n",
       "      <td>High</td>\n",
       "      <td>small_business</td>\n",
       "      <td>16.673265</td>\n",
       "    </tr>\n",
       "    <tr>\n",
       "      <th>12</th>\n",
       "      <td>High</td>\n",
       "      <td>vacation</td>\n",
       "      <td>14.279130</td>\n",
       "    </tr>\n",
       "    <tr>\n",
       "      <th>13</th>\n",
       "      <td>High</td>\n",
       "      <td>wedding</td>\n",
       "      <td>14.477143</td>\n",
       "    </tr>\n",
       "    <tr>\n",
       "      <th>14</th>\n",
       "      <td>Low</td>\n",
       "      <td>car</td>\n",
       "      <td>12.223680</td>\n",
       "    </tr>\n",
       "    <tr>\n",
       "      <th>15</th>\n",
       "      <td>Low</td>\n",
       "      <td>credit_card</td>\n",
       "      <td>12.644436</td>\n",
       "    </tr>\n",
       "    <tr>\n",
       "      <th>16</th>\n",
       "      <td>Low</td>\n",
       "      <td>debt_consolidation</td>\n",
       "      <td>14.150453</td>\n",
       "    </tr>\n",
       "    <tr>\n",
       "      <th>17</th>\n",
       "      <td>Low</td>\n",
       "      <td>educational</td>\n",
       "      <td>12.141753</td>\n",
       "    </tr>\n",
       "    <tr>\n",
       "      <th>18</th>\n",
       "      <td>Low</td>\n",
       "      <td>home_improvement</td>\n",
       "      <td>13.662282</td>\n",
       "    </tr>\n",
       "    <tr>\n",
       "      <th>19</th>\n",
       "      <td>Low</td>\n",
       "      <td>house</td>\n",
       "      <td>15.223537</td>\n",
       "    </tr>\n",
       "    <tr>\n",
       "      <th>20</th>\n",
       "      <td>Low</td>\n",
       "      <td>major_purchase</td>\n",
       "      <td>12.916791</td>\n",
       "    </tr>\n",
       "    <tr>\n",
       "      <th>21</th>\n",
       "      <td>Low</td>\n",
       "      <td>medical</td>\n",
       "      <td>15.236279</td>\n",
       "    </tr>\n",
       "    <tr>\n",
       "      <th>22</th>\n",
       "      <td>Low</td>\n",
       "      <td>moving</td>\n",
       "      <td>15.988257</td>\n",
       "    </tr>\n",
       "    <tr>\n",
       "      <th>23</th>\n",
       "      <td>Low</td>\n",
       "      <td>other</td>\n",
       "      <td>15.662321</td>\n",
       "    </tr>\n",
       "    <tr>\n",
       "      <th>24</th>\n",
       "      <td>Low</td>\n",
       "      <td>renewable_energy</td>\n",
       "      <td>15.127544</td>\n",
       "    </tr>\n",
       "    <tr>\n",
       "      <th>25</th>\n",
       "      <td>Low</td>\n",
       "      <td>small_business</td>\n",
       "      <td>15.752077</td>\n",
       "    </tr>\n",
       "    <tr>\n",
       "      <th>26</th>\n",
       "      <td>Low</td>\n",
       "      <td>vacation</td>\n",
       "      <td>15.085100</td>\n",
       "    </tr>\n",
       "    <tr>\n",
       "      <th>27</th>\n",
       "      <td>Low</td>\n",
       "      <td>wedding</td>\n",
       "      <td>14.076983</td>\n",
       "    </tr>\n",
       "    <tr>\n",
       "      <th>28</th>\n",
       "      <td>Medium</td>\n",
       "      <td>car</td>\n",
       "      <td>11.101217</td>\n",
       "    </tr>\n",
       "    <tr>\n",
       "      <th>29</th>\n",
       "      <td>Medium</td>\n",
       "      <td>credit_card</td>\n",
       "      <td>11.840265</td>\n",
       "    </tr>\n",
       "    <tr>\n",
       "      <th>30</th>\n",
       "      <td>Medium</td>\n",
       "      <td>debt_consolidation</td>\n",
       "      <td>13.607752</td>\n",
       "    </tr>\n",
       "    <tr>\n",
       "      <th>31</th>\n",
       "      <td>Medium</td>\n",
       "      <td>educational</td>\n",
       "      <td>11.688250</td>\n",
       "    </tr>\n",
       "    <tr>\n",
       "      <th>32</th>\n",
       "      <td>Medium</td>\n",
       "      <td>home_improvement</td>\n",
       "      <td>13.016007</td>\n",
       "    </tr>\n",
       "    <tr>\n",
       "      <th>33</th>\n",
       "      <td>Medium</td>\n",
       "      <td>house</td>\n",
       "      <td>15.060075</td>\n",
       "    </tr>\n",
       "    <tr>\n",
       "      <th>34</th>\n",
       "      <td>Medium</td>\n",
       "      <td>major_purchase</td>\n",
       "      <td>12.053164</td>\n",
       "    </tr>\n",
       "    <tr>\n",
       "      <th>35</th>\n",
       "      <td>Medium</td>\n",
       "      <td>medical</td>\n",
       "      <td>15.179879</td>\n",
       "    </tr>\n",
       "    <tr>\n",
       "      <th>36</th>\n",
       "      <td>Medium</td>\n",
       "      <td>moving</td>\n",
       "      <td>15.976921</td>\n",
       "    </tr>\n",
       "    <tr>\n",
       "      <th>37</th>\n",
       "      <td>Medium</td>\n",
       "      <td>other</td>\n",
       "      <td>15.374487</td>\n",
       "    </tr>\n",
       "    <tr>\n",
       "      <th>38</th>\n",
       "      <td>Medium</td>\n",
       "      <td>renewable_energy</td>\n",
       "      <td>14.646607</td>\n",
       "    </tr>\n",
       "    <tr>\n",
       "      <th>39</th>\n",
       "      <td>Medium</td>\n",
       "      <td>small_business</td>\n",
       "      <td>16.510128</td>\n",
       "    </tr>\n",
       "    <tr>\n",
       "      <th>40</th>\n",
       "      <td>Medium</td>\n",
       "      <td>vacation</td>\n",
       "      <td>14.767552</td>\n",
       "    </tr>\n",
       "    <tr>\n",
       "      <th>41</th>\n",
       "      <td>Medium</td>\n",
       "      <td>wedding</td>\n",
       "      <td>14.588167</td>\n",
       "    </tr>\n",
       "  </tbody>\n",
       "</table>\n",
       "</div>"
      ],
      "text/plain": [
       "   income_cat             purpose   int_rate\n",
       "0        High                 car  10.453000\n",
       "1        High         credit_card  11.792971\n",
       "2        High  debt_consolidation  13.412477\n",
       "3        High         educational  11.420000\n",
       "4        High    home_improvement  13.035308\n",
       "5        High               house  15.745362\n",
       "6        High      major_purchase  12.733777\n",
       "7        High             medical  14.969691\n",
       "8        High              moving  16.211273\n",
       "9        High               other  15.770333\n",
       "10       High    renewable_energy  15.153333\n",
       "11       High      small_business  16.673265\n",
       "12       High            vacation  14.279130\n",
       "13       High             wedding  14.477143\n",
       "14        Low                 car  12.223680\n",
       "15        Low         credit_card  12.644436\n",
       "16        Low  debt_consolidation  14.150453\n",
       "17        Low         educational  12.141753\n",
       "18        Low    home_improvement  13.662282\n",
       "19        Low               house  15.223537\n",
       "20        Low      major_purchase  12.916791\n",
       "21        Low             medical  15.236279\n",
       "22        Low              moving  15.988257\n",
       "23        Low               other  15.662321\n",
       "24        Low    renewable_energy  15.127544\n",
       "25        Low      small_business  15.752077\n",
       "26        Low            vacation  15.085100\n",
       "27        Low             wedding  14.076983\n",
       "28     Medium                 car  11.101217\n",
       "29     Medium         credit_card  11.840265\n",
       "30     Medium  debt_consolidation  13.607752\n",
       "31     Medium         educational  11.688250\n",
       "32     Medium    home_improvement  13.016007\n",
       "33     Medium               house  15.060075\n",
       "34     Medium      major_purchase  12.053164\n",
       "35     Medium             medical  15.179879\n",
       "36     Medium              moving  15.976921\n",
       "37     Medium               other  15.374487\n",
       "38     Medium    renewable_energy  14.646607\n",
       "39     Medium      small_business  16.510128\n",
       "40     Medium            vacation  14.767552\n",
       "41     Medium             wedding  14.588167"
      ]
     },
     "execution_count": 20,
     "metadata": {},
     "output_type": "execute_result"
    }
   ],
   "source": [
    "accepted.groupby(['income_cat', 'purpose'], as_index=False).int_rate.mean()"
   ]
  },
  {
   "cell_type": "code",
   "execution_count": 21,
   "metadata": {},
   "outputs": [
    {
     "data": {
      "text/html": [
       "<div>\n",
       "<style scoped>\n",
       "    .dataframe tbody tr th:only-of-type {\n",
       "        vertical-align: middle;\n",
       "    }\n",
       "\n",
       "    .dataframe tbody tr th {\n",
       "        vertical-align: top;\n",
       "    }\n",
       "\n",
       "    .dataframe thead th {\n",
       "        text-align: right;\n",
       "    }\n",
       "</style>\n",
       "<table border=\"1\" class=\"dataframe\">\n",
       "  <thead>\n",
       "    <tr style=\"text-align: right;\">\n",
       "      <th></th>\n",
       "      <th>term</th>\n",
       "      <th>grade</th>\n",
       "      <th>emp_length</th>\n",
       "      <th>purpose</th>\n",
       "      <th>year</th>\n",
       "      <th>income_cat</th>\n",
       "    </tr>\n",
       "  </thead>\n",
       "  <tbody>\n",
       "    <tr>\n",
       "      <th>0</th>\n",
       "      <td>36</td>\n",
       "      <td>A</td>\n",
       "      <td>8</td>\n",
       "      <td>credit_card</td>\n",
       "      <td>2014</td>\n",
       "      <td>Low</td>\n",
       "    </tr>\n",
       "    <tr>\n",
       "      <th>1</th>\n",
       "      <td>60</td>\n",
       "      <td>C</td>\n",
       "      <td>10</td>\n",
       "      <td>debt_consolidation</td>\n",
       "      <td>2014</td>\n",
       "      <td>Low</td>\n",
       "    </tr>\n",
       "    <tr>\n",
       "      <th>2</th>\n",
       "      <td>36</td>\n",
       "      <td>C</td>\n",
       "      <td>10</td>\n",
       "      <td>debt_consolidation</td>\n",
       "      <td>2014</td>\n",
       "      <td>Low</td>\n",
       "    </tr>\n",
       "    <tr>\n",
       "      <th>3</th>\n",
       "      <td>36</td>\n",
       "      <td>C</td>\n",
       "      <td>0</td>\n",
       "      <td>debt_consolidation</td>\n",
       "      <td>2014</td>\n",
       "      <td>Low</td>\n",
       "    </tr>\n",
       "    <tr>\n",
       "      <th>4</th>\n",
       "      <td>60</td>\n",
       "      <td>D</td>\n",
       "      <td>6</td>\n",
       "      <td>credit_card</td>\n",
       "      <td>2014</td>\n",
       "      <td>Low</td>\n",
       "    </tr>\n",
       "    <tr>\n",
       "      <th>...</th>\n",
       "      <td>...</td>\n",
       "      <td>...</td>\n",
       "      <td>...</td>\n",
       "      <td>...</td>\n",
       "      <td>...</td>\n",
       "      <td>...</td>\n",
       "    </tr>\n",
       "    <tr>\n",
       "      <th>453642</th>\n",
       "      <td>36</td>\n",
       "      <td>D</td>\n",
       "      <td>7</td>\n",
       "      <td>debt_consolidation</td>\n",
       "      <td>2012</td>\n",
       "      <td>Low</td>\n",
       "    </tr>\n",
       "    <tr>\n",
       "      <th>453643</th>\n",
       "      <td>36</td>\n",
       "      <td>C</td>\n",
       "      <td>3</td>\n",
       "      <td>small_business</td>\n",
       "      <td>2012</td>\n",
       "      <td>Low</td>\n",
       "    </tr>\n",
       "    <tr>\n",
       "      <th>453644</th>\n",
       "      <td>36</td>\n",
       "      <td>C</td>\n",
       "      <td>3</td>\n",
       "      <td>small_business</td>\n",
       "      <td>2012</td>\n",
       "      <td>Medium</td>\n",
       "    </tr>\n",
       "    <tr>\n",
       "      <th>453645</th>\n",
       "      <td>36</td>\n",
       "      <td>D</td>\n",
       "      <td>2</td>\n",
       "      <td>other</td>\n",
       "      <td>2012</td>\n",
       "      <td>Low</td>\n",
       "    </tr>\n",
       "    <tr>\n",
       "      <th>453646</th>\n",
       "      <td>60</td>\n",
       "      <td>C</td>\n",
       "      <td>7</td>\n",
       "      <td>credit_card</td>\n",
       "      <td>2012</td>\n",
       "      <td>Low</td>\n",
       "    </tr>\n",
       "  </tbody>\n",
       "</table>\n",
       "<p>453647 rows × 6 columns</p>\n",
       "</div>"
      ],
      "text/plain": [
       "        term grade  emp_length             purpose  year income_cat\n",
       "0         36     A           8         credit_card  2014        Low\n",
       "1         60     C          10  debt_consolidation  2014        Low\n",
       "2         36     C          10  debt_consolidation  2014        Low\n",
       "3         36     C           0  debt_consolidation  2014        Low\n",
       "4         60     D           6         credit_card  2014        Low\n",
       "...      ...   ...         ...                 ...   ...        ...\n",
       "453642    36     D           7  debt_consolidation  2012        Low\n",
       "453643    36     C           3      small_business  2012        Low\n",
       "453644    36     C           3      small_business  2012     Medium\n",
       "453645    36     D           2               other  2012        Low\n",
       "453646    60     C           7         credit_card  2012        Low\n",
       "\n",
       "[453647 rows x 6 columns]"
      ]
     },
     "execution_count": 21,
     "metadata": {},
     "output_type": "execute_result"
    }
   ],
   "source": [
    "dc= accepted[['term', 'grade', \"emp_length\",'purpose','year','income_cat']]\n",
    "dc"
   ]
  },
  {
   "cell_type": "code",
   "execution_count": 22,
   "metadata": {},
   "outputs": [
    {
     "data": {
      "text/plain": [
       "Index(['id', 'loan_amnt', 'funded_amnt', 'funded_amnt_inv', 'term', 'int_rate',\n",
       "       'installment', 'emp_length', 'annual_inc', 'dti', 'delinq_2yrs',\n",
       "       'fico_range_low', 'fico_range_high', 'inq_last_6mths',\n",
       "       'mths_since_last_delinq', 'open_acc', 'pub_rec', 'revol_bal',\n",
       "       'revol_util', 'total_acc', 'out_prncp', 'out_prncp_inv', 'total_pymnt',\n",
       "       'total_pymnt_inv', 'total_rec_prncp', 'total_rec_int',\n",
       "       'total_rec_late_fee', 'recoveries', 'collection_recovery_fee',\n",
       "       'last_pymnt_amnt', 'last_fico_range_high', 'last_fico_range_low',\n",
       "       'collections_12_mths_ex_med', 'policy_code', 'acc_now_delinq',\n",
       "       'tot_coll_amt', 'tot_cur_bal', 'total_rev_hi_lim',\n",
       "       'acc_open_past_24mths', 'avg_cur_bal', 'bc_open_to_buy', 'bc_util',\n",
       "       'chargeoff_within_12_mths', 'delinq_amnt', 'mo_sin_old_il_acct',\n",
       "       'mo_sin_old_rev_tl_op', 'mo_sin_rcnt_rev_tl_op', 'mo_sin_rcnt_tl',\n",
       "       'mort_acc', 'mths_since_recent_bc', 'mths_since_recent_inq',\n",
       "       'num_accts_ever_120_pd', 'num_actv_bc_tl', 'num_actv_rev_tl',\n",
       "       'num_bc_sats', 'num_bc_tl', 'num_il_tl', 'num_op_rev_tl',\n",
       "       'num_rev_accts', 'num_rev_tl_bal_gt_0', 'num_sats', 'num_tl_120dpd_2m',\n",
       "       'num_tl_30dpd', 'num_tl_90g_dpd_24m', 'num_tl_op_past_12m',\n",
       "       'pct_tl_nvr_dlq', 'percent_bc_gt_75', 'pub_rec_bankruptcies',\n",
       "       'tax_liens', 'tot_hi_cred_lim', 'total_bal_ex_mort', 'total_bc_limit',\n",
       "       'total_il_high_credit_limit', 'duration_days', 'invest_return',\n",
       "       'invest_return_per', 'duration_months', 'year'],\n",
       "      dtype='object')"
      ]
     },
     "execution_count": 22,
     "metadata": {},
     "output_type": "execute_result"
    }
   ],
   "source": [
    "accepted.select_dtypes(include = ['int64', 'float64']).columns"
   ]
  },
  {
   "cell_type": "code",
   "execution_count": 23,
   "metadata": {},
   "outputs": [],
   "source": [
    "accepted['fico_mid'] = (accepted['fico_range_high'] + accepted['fico_range_low'])/2"
   ]
  },
  {
   "cell_type": "code",
   "execution_count": 24,
   "metadata": {},
   "outputs": [],
   "source": [
    "# dn =accepted[['funded_amnt','int_rate','annual_inc','term', 'dti','delinq_2yrs', 'fico_mid']]\n",
    "dn =accepted[['funded_amnt','int_rate','annual_inc','term', 'dti', 'fico_mid']]"
   ]
  },
  {
   "cell_type": "code",
   "execution_count": 25,
   "metadata": {},
   "outputs": [
    {
     "data": {
      "text/html": [
       "<div>\n",
       "<style scoped>\n",
       "    .dataframe tbody tr th:only-of-type {\n",
       "        vertical-align: middle;\n",
       "    }\n",
       "\n",
       "    .dataframe tbody tr th {\n",
       "        vertical-align: top;\n",
       "    }\n",
       "\n",
       "    .dataframe thead th {\n",
       "        text-align: right;\n",
       "    }\n",
       "</style>\n",
       "<table border=\"1\" class=\"dataframe\">\n",
       "  <thead>\n",
       "    <tr style=\"text-align: right;\">\n",
       "      <th></th>\n",
       "      <th>funded_amnt</th>\n",
       "      <th>int_rate</th>\n",
       "      <th>annual_inc</th>\n",
       "      <th>term</th>\n",
       "      <th>dti</th>\n",
       "      <th>fico_mid</th>\n",
       "    </tr>\n",
       "  </thead>\n",
       "  <tbody>\n",
       "    <tr>\n",
       "      <th>funded_amnt</th>\n",
       "      <td>1.000000</td>\n",
       "      <td>0.163956</td>\n",
       "      <td>0.371911</td>\n",
       "      <td>0.401712</td>\n",
       "      <td>0.053609</td>\n",
       "      <td>0.102555</td>\n",
       "    </tr>\n",
       "    <tr>\n",
       "      <th>int_rate</th>\n",
       "      <td>0.163956</td>\n",
       "      <td>1.000000</td>\n",
       "      <td>-0.046972</td>\n",
       "      <td>0.445421</td>\n",
       "      <td>0.157369</td>\n",
       "      <td>-0.502134</td>\n",
       "    </tr>\n",
       "    <tr>\n",
       "      <th>annual_inc</th>\n",
       "      <td>0.371911</td>\n",
       "      <td>-0.046972</td>\n",
       "      <td>1.000000</td>\n",
       "      <td>0.067911</td>\n",
       "      <td>-0.189287</td>\n",
       "      <td>0.094710</td>\n",
       "    </tr>\n",
       "    <tr>\n",
       "      <th>term</th>\n",
       "      <td>0.401712</td>\n",
       "      <td>0.445421</td>\n",
       "      <td>0.067911</td>\n",
       "      <td>1.000000</td>\n",
       "      <td>0.081117</td>\n",
       "      <td>-0.004186</td>\n",
       "    </tr>\n",
       "    <tr>\n",
       "      <th>dti</th>\n",
       "      <td>0.053609</td>\n",
       "      <td>0.157369</td>\n",
       "      <td>-0.189287</td>\n",
       "      <td>0.081117</td>\n",
       "      <td>1.000000</td>\n",
       "      <td>-0.111699</td>\n",
       "    </tr>\n",
       "    <tr>\n",
       "      <th>fico_mid</th>\n",
       "      <td>0.102555</td>\n",
       "      <td>-0.502134</td>\n",
       "      <td>0.094710</td>\n",
       "      <td>-0.004186</td>\n",
       "      <td>-0.111699</td>\n",
       "      <td>1.000000</td>\n",
       "    </tr>\n",
       "  </tbody>\n",
       "</table>\n",
       "</div>"
      ],
      "text/plain": [
       "             funded_amnt  int_rate  annual_inc      term       dti  fico_mid\n",
       "funded_amnt     1.000000  0.163956    0.371911  0.401712  0.053609  0.102555\n",
       "int_rate        0.163956  1.000000   -0.046972  0.445421  0.157369 -0.502134\n",
       "annual_inc      0.371911 -0.046972    1.000000  0.067911 -0.189287  0.094710\n",
       "term            0.401712  0.445421    0.067911  1.000000  0.081117 -0.004186\n",
       "dti             0.053609  0.157369   -0.189287  0.081117  1.000000 -0.111699\n",
       "fico_mid        0.102555 -0.502134    0.094710 -0.004186 -0.111699  1.000000"
      ]
     },
     "execution_count": 25,
     "metadata": {},
     "output_type": "execute_result"
    }
   ],
   "source": [
    "dn.corr()"
   ]
  },
  {
   "cell_type": "code",
   "execution_count": 26,
   "metadata": {},
   "outputs": [],
   "source": [
    "grade_ord = {'A': 7,'B': 6,'C': 5,'D': 4,'E': 3,'F': 2,'G': 1}\n",
    "accepted['grade']= accepted['grade'].map(grade_ord)               "
   ]
  },
  {
   "cell_type": "code",
   "execution_count": 27,
   "metadata": {},
   "outputs": [],
   "source": [
    "# accepted['grade'] = gradeo"
   ]
  },
  {
   "cell_type": "code",
   "execution_count": 28,
   "metadata": {},
   "outputs": [],
   "source": [
    "income_cat_ord = {'Low':1, 'Medium':2, 'High':3}\n",
    "accepted['income_cat'] = accepted['income_cat'].map(income_cat_ord) "
   ]
  },
  {
   "cell_type": "code",
   "execution_count": 29,
   "metadata": {},
   "outputs": [],
   "source": [
    "df =accepted[['funded_amnt','int_rate','annual_inc','term', 'dti','delinq_2yrs', \n",
    "               'fico_mid','grade', \"emp_length\",'purpose']]\n",
    "\n"
   ]
  },
  {
   "cell_type": "code",
   "execution_count": 30,
   "metadata": {},
   "outputs": [],
   "source": [
    "from sklearn.preprocessing import OneHotEncoder\n",
    "\n",
    "#dummify purpose column\n",
    "purpose_ohe = OneHotEncoder( drop='first', sparse = False )\n",
    "purpose_enc = purpose_ohe.fit_transform( df[['purpose']] )\n",
    "purpose_enc = pd.DataFrame( purpose_enc, columns=purpose_ohe.get_feature_names(['purpose']) )\n",
    "df = pd.concat( (df.drop([\"purpose\"], axis=1).reset_index(drop = True), purpose_enc), axis = 1 )\n"
   ]
  },
  {
   "cell_type": "code",
   "execution_count": 31,
   "metadata": {},
   "outputs": [
    {
     "data": {
      "text/html": [
       "<div>\n",
       "<style scoped>\n",
       "    .dataframe tbody tr th:only-of-type {\n",
       "        vertical-align: middle;\n",
       "    }\n",
       "\n",
       "    .dataframe tbody tr th {\n",
       "        vertical-align: top;\n",
       "    }\n",
       "\n",
       "    .dataframe thead th {\n",
       "        text-align: right;\n",
       "    }\n",
       "</style>\n",
       "<table border=\"1\" class=\"dataframe\">\n",
       "  <thead>\n",
       "    <tr style=\"text-align: right;\">\n",
       "      <th></th>\n",
       "      <th>funded_amnt</th>\n",
       "      <th>int_rate</th>\n",
       "      <th>annual_inc</th>\n",
       "      <th>term</th>\n",
       "      <th>dti</th>\n",
       "      <th>delinq_2yrs</th>\n",
       "      <th>fico_mid</th>\n",
       "      <th>grade</th>\n",
       "      <th>emp_length</th>\n",
       "      <th>purpose_credit_card</th>\n",
       "      <th>...</th>\n",
       "      <th>purpose_home_improvement</th>\n",
       "      <th>purpose_house</th>\n",
       "      <th>purpose_major_purchase</th>\n",
       "      <th>purpose_medical</th>\n",
       "      <th>purpose_moving</th>\n",
       "      <th>purpose_other</th>\n",
       "      <th>purpose_renewable_energy</th>\n",
       "      <th>purpose_small_business</th>\n",
       "      <th>purpose_vacation</th>\n",
       "      <th>purpose_wedding</th>\n",
       "    </tr>\n",
       "  </thead>\n",
       "  <tbody>\n",
       "    <tr>\n",
       "      <th>0</th>\n",
       "      <td>10400.0</td>\n",
       "      <td>6.99</td>\n",
       "      <td>58000.0</td>\n",
       "      <td>36</td>\n",
       "      <td>14.92</td>\n",
       "      <td>0.0</td>\n",
       "      <td>712.0</td>\n",
       "      <td>7</td>\n",
       "      <td>8</td>\n",
       "      <td>1.0</td>\n",
       "      <td>...</td>\n",
       "      <td>0.0</td>\n",
       "      <td>0.0</td>\n",
       "      <td>0.0</td>\n",
       "      <td>0.0</td>\n",
       "      <td>0.0</td>\n",
       "      <td>0.0</td>\n",
       "      <td>0.0</td>\n",
       "      <td>0.0</td>\n",
       "      <td>0.0</td>\n",
       "      <td>0.0</td>\n",
       "    </tr>\n",
       "    <tr>\n",
       "      <th>1</th>\n",
       "      <td>15000.0</td>\n",
       "      <td>12.39</td>\n",
       "      <td>78000.0</td>\n",
       "      <td>60</td>\n",
       "      <td>12.03</td>\n",
       "      <td>0.0</td>\n",
       "      <td>752.0</td>\n",
       "      <td>5</td>\n",
       "      <td>10</td>\n",
       "      <td>0.0</td>\n",
       "      <td>...</td>\n",
       "      <td>0.0</td>\n",
       "      <td>0.0</td>\n",
       "      <td>0.0</td>\n",
       "      <td>0.0</td>\n",
       "      <td>0.0</td>\n",
       "      <td>0.0</td>\n",
       "      <td>0.0</td>\n",
       "      <td>0.0</td>\n",
       "      <td>0.0</td>\n",
       "      <td>0.0</td>\n",
       "    </tr>\n",
       "    <tr>\n",
       "      <th>2</th>\n",
       "      <td>9600.0</td>\n",
       "      <td>13.66</td>\n",
       "      <td>69000.0</td>\n",
       "      <td>36</td>\n",
       "      <td>25.81</td>\n",
       "      <td>0.0</td>\n",
       "      <td>682.0</td>\n",
       "      <td>5</td>\n",
       "      <td>10</td>\n",
       "      <td>0.0</td>\n",
       "      <td>...</td>\n",
       "      <td>0.0</td>\n",
       "      <td>0.0</td>\n",
       "      <td>0.0</td>\n",
       "      <td>0.0</td>\n",
       "      <td>0.0</td>\n",
       "      <td>0.0</td>\n",
       "      <td>0.0</td>\n",
       "      <td>0.0</td>\n",
       "      <td>0.0</td>\n",
       "      <td>0.0</td>\n",
       "    </tr>\n",
       "    <tr>\n",
       "      <th>3</th>\n",
       "      <td>7650.0</td>\n",
       "      <td>13.66</td>\n",
       "      <td>50000.0</td>\n",
       "      <td>36</td>\n",
       "      <td>34.81</td>\n",
       "      <td>0.0</td>\n",
       "      <td>687.0</td>\n",
       "      <td>5</td>\n",
       "      <td>0</td>\n",
       "      <td>0.0</td>\n",
       "      <td>...</td>\n",
       "      <td>0.0</td>\n",
       "      <td>0.0</td>\n",
       "      <td>0.0</td>\n",
       "      <td>0.0</td>\n",
       "      <td>0.0</td>\n",
       "      <td>0.0</td>\n",
       "      <td>0.0</td>\n",
       "      <td>0.0</td>\n",
       "      <td>0.0</td>\n",
       "      <td>0.0</td>\n",
       "    </tr>\n",
       "    <tr>\n",
       "      <th>4</th>\n",
       "      <td>21425.0</td>\n",
       "      <td>15.59</td>\n",
       "      <td>63800.0</td>\n",
       "      <td>60</td>\n",
       "      <td>18.49</td>\n",
       "      <td>0.0</td>\n",
       "      <td>687.0</td>\n",
       "      <td>4</td>\n",
       "      <td>6</td>\n",
       "      <td>1.0</td>\n",
       "      <td>...</td>\n",
       "      <td>0.0</td>\n",
       "      <td>0.0</td>\n",
       "      <td>0.0</td>\n",
       "      <td>0.0</td>\n",
       "      <td>0.0</td>\n",
       "      <td>0.0</td>\n",
       "      <td>0.0</td>\n",
       "      <td>0.0</td>\n",
       "      <td>0.0</td>\n",
       "      <td>0.0</td>\n",
       "    </tr>\n",
       "  </tbody>\n",
       "</table>\n",
       "<p>5 rows × 22 columns</p>\n",
       "</div>"
      ],
      "text/plain": [
       "   funded_amnt  int_rate  annual_inc  term    dti  delinq_2yrs  fico_mid  \\\n",
       "0      10400.0      6.99     58000.0    36  14.92          0.0     712.0   \n",
       "1      15000.0     12.39     78000.0    60  12.03          0.0     752.0   \n",
       "2       9600.0     13.66     69000.0    36  25.81          0.0     682.0   \n",
       "3       7650.0     13.66     50000.0    36  34.81          0.0     687.0   \n",
       "4      21425.0     15.59     63800.0    60  18.49          0.0     687.0   \n",
       "\n",
       "   grade  emp_length  purpose_credit_card  ...  purpose_home_improvement  \\\n",
       "0      7           8                  1.0  ...                       0.0   \n",
       "1      5          10                  0.0  ...                       0.0   \n",
       "2      5          10                  0.0  ...                       0.0   \n",
       "3      5           0                  0.0  ...                       0.0   \n",
       "4      4           6                  1.0  ...                       0.0   \n",
       "\n",
       "   purpose_house  purpose_major_purchase  purpose_medical  purpose_moving  \\\n",
       "0            0.0                     0.0              0.0             0.0   \n",
       "1            0.0                     0.0              0.0             0.0   \n",
       "2            0.0                     0.0              0.0             0.0   \n",
       "3            0.0                     0.0              0.0             0.0   \n",
       "4            0.0                     0.0              0.0             0.0   \n",
       "\n",
       "   purpose_other  purpose_renewable_energy  purpose_small_business  \\\n",
       "0            0.0                       0.0                     0.0   \n",
       "1            0.0                       0.0                     0.0   \n",
       "2            0.0                       0.0                     0.0   \n",
       "3            0.0                       0.0                     0.0   \n",
       "4            0.0                       0.0                     0.0   \n",
       "\n",
       "   purpose_vacation  purpose_wedding  \n",
       "0               0.0              0.0  \n",
       "1               0.0              0.0  \n",
       "2               0.0              0.0  \n",
       "3               0.0              0.0  \n",
       "4               0.0              0.0  \n",
       "\n",
       "[5 rows x 22 columns]"
      ]
     },
     "execution_count": 31,
     "metadata": {},
     "output_type": "execute_result"
    }
   ],
   "source": [
    "df.head()"
   ]
  },
  {
   "cell_type": "code",
   "execution_count": 32,
   "metadata": {},
   "outputs": [
    {
     "data": {
      "text/plain": [
       "(453647, 22)"
      ]
     },
     "execution_count": 32,
     "metadata": {},
     "output_type": "execute_result"
    }
   ],
   "source": [
    "df.shape"
   ]
  },
  {
   "cell_type": "code",
   "execution_count": 33,
   "metadata": {},
   "outputs": [],
   "source": [
    "features = df"
   ]
  },
  {
   "cell_type": "code",
   "execution_count": 34,
   "metadata": {},
   "outputs": [],
   "source": [
    "target =accepted['loan_status']"
   ]
  },
  {
   "cell_type": "code",
   "execution_count": 35,
   "metadata": {},
   "outputs": [],
   "source": [
    "# from sklearn.preprocessing import StandardScaler\n",
    "# ss = StandardScaler()\n",
    "# Xtrain = pd.DataFrame( ss.fit_transform(Xtrain), columns = Xtrain.columns)\n",
    "# Xtrain.head()"
   ]
  },
  {
   "cell_type": "code",
   "execution_count": 36,
   "metadata": {},
   "outputs": [],
   "source": [
    "from sklearn.model_selection import train_test_split\n",
    "\n",
    "from sklearn.model_selection import GridSearchCV\n",
    "from sklearn.ensemble import RandomForestClassifier\n",
    "from sklearn.metrics import accuracy_score,classification_report, roc_auc_score"
   ]
  },
  {
   "cell_type": "code",
   "execution_count": 37,
   "metadata": {},
   "outputs": [],
   "source": [
    "Xtrain, Xtest, ytrain, ytest = train_test_split(features, target, test_size=0.2, random_state=42, stratify = target)"
   ]
  },
  {
   "cell_type": "code",
   "execution_count": 38,
   "metadata": {},
   "outputs": [],
   "source": [
    "randomForest =RandomForestClassifier(class_weight=\"balanced\",random_state=42)"
   ]
  },
  {
   "cell_type": "code",
   "execution_count": 39,
   "metadata": {},
   "outputs": [
    {
     "name": "stdout",
     "output_type": "stream",
     "text": [
      "Wall time: 27min 17s\n"
     ]
    },
    {
     "data": {
      "text/plain": [
       "GridSearchCV(cv=5, error_score=nan,\n",
       "             estimator=RandomForestClassifier(bootstrap=True, ccp_alpha=0.0,\n",
       "                                              class_weight='balanced',\n",
       "                                              criterion='gini', max_depth=None,\n",
       "                                              max_features='auto',\n",
       "                                              max_leaf_nodes=None,\n",
       "                                              max_samples=None,\n",
       "                                              min_impurity_decrease=0.0,\n",
       "                                              min_impurity_split=None,\n",
       "                                              min_samples_leaf=1,\n",
       "                                              min_samples_split=2,\n",
       "                                              min_weight_fraction_leaf=0.0,\n",
       "                                              n_estimators=100, n_jobs=None,\n",
       "                                              oob_score=False, random_state=42,\n",
       "                                              verbose=0, warm_start=False),\n",
       "             iid='deprecated', n_jobs=-1,\n",
       "             param_grid=[{'criterion': ['gini'], 'max_depth': [None],\n",
       "                          'max_features': [6], 'min_samples_leaf': [4],\n",
       "                          'min_samples_split': [4], 'n_estimators': [500],\n",
       "                          'random_state': [42]}],\n",
       "             pre_dispatch='2*n_jobs', refit=True, return_train_score=False,\n",
       "             scoring='accuracy', verbose=0)"
      ]
     },
     "execution_count": 39,
     "metadata": {},
     "output_type": "execute_result"
    }
   ],
   "source": [
    "grid_para_forest = [{\n",
    "    \"n_estimators\": [500],\n",
    "     'max_depth' : [None],\n",
    "    \"criterion\": [\"gini\"],\n",
    "    'max_features': [6],\n",
    "    \"min_samples_leaf\": [ 4],\n",
    "    \"min_samples_split\": [  4],\n",
    "    \"random_state\": [42]}]\n",
    "\n",
    "# n_estimators = [100, 300, 500, 800, 1200]\n",
    "# max_depth = [5, 8, 15, 25, 30]\n",
    "# min_samples_split = [2, 5, 10, 15, 100]\n",
    "# min_samples_leaf = [1, 2, 5, 10] \n",
    "\n",
    "# max_depth': 12,\n",
    "#                   'max_features': 'sqrt',\n",
    "#                   'max_leaf_nodes': None,\n",
    "#                   'min_impurity_decrease': 0.0,\n",
    "#                   'min_samples_leaf': 4,\n",
    "#                   'min_samples_split': 8,\n",
    "#                   'n_estimators': 1100\n",
    "grid_search_forest = GridSearchCV(randomForest, grid_para_forest, scoring='accuracy', cv=5, n_jobs=-1)\n",
    "%time grid_search_forest.fit(Xtrain, ytrain)"
   ]
  },
  {
   "cell_type": "code",
   "execution_count": 40,
   "metadata": {},
   "outputs": [],
   "source": [
    "# drf =accepted[['funded_amnt','int_rate','annual_inc','term', 'dti','delinq_2yrs', \n",
    "#               'fico_mid','grade', \"emp_length\",'purpose','income_cat']]\n"
   ]
  },
  {
   "cell_type": "code",
   "execution_count": 41,
   "metadata": {},
   "outputs": [],
   "source": [
    "drf=accepted[[ 'funded_amnt',  'term', 'int_rate',\n",
    "       'installment', 'emp_length', 'annual_inc', 'dti', 'delinq_2yrs',\n",
    "       'fico_range_low', 'fico_range_high', 'inq_last_6mths',\n",
    "       'mths_since_last_delinq', 'open_acc', 'pub_rec', 'revol_bal',\n",
    "       'revol_util', 'total_acc', 'collections_12_mths_ex_med',  'acc_now_delinq',\n",
    "       'tot_coll_amt', 'tot_cur_bal', 'total_rev_hi_lim',\n",
    "       'acc_open_past_24mths', 'avg_cur_bal', 'bc_open_to_buy', 'bc_util',\n",
    "       'chargeoff_within_12_mths', 'delinq_amnt', 'mo_sin_old_il_acct',\n",
    "       'mo_sin_old_rev_tl_op', 'mo_sin_rcnt_rev_tl_op', 'mo_sin_rcnt_tl',\n",
    "       'mort_acc', 'mths_since_recent_bc', 'mths_since_recent_inq',\n",
    "       'num_accts_ever_120_pd', 'num_actv_bc_tl', 'num_actv_rev_tl',\n",
    "       'num_bc_sats',  'total_bal_ex_mort', 'total_bc_limit',\n",
    "       'total_il_high_credit_limit', 'year']]"
   ]
  },
  {
   "cell_type": "code",
   "execution_count": 42,
   "metadata": {},
   "outputs": [
    {
     "data": {
      "text/plain": [
       "{'criterion': 'gini',\n",
       " 'max_depth': None,\n",
       " 'max_features': 6,\n",
       " 'min_samples_leaf': 4,\n",
       " 'min_samples_split': 4,\n",
       " 'n_estimators': 500,\n",
       " 'random_state': 42}"
      ]
     },
     "execution_count": 42,
     "metadata": {},
     "output_type": "execute_result"
    }
   ],
   "source": [
    "grid_search_forest.best_params_"
   ]
  },
  {
   "cell_type": "code",
   "execution_count": 43,
   "metadata": {},
   "outputs": [
    {
     "data": {
      "text/plain": [
       "array([[ 60841,  16656],\n",
       "       [ 17561, 358589]], dtype=int64)"
      ]
     },
     "execution_count": 43,
     "metadata": {},
     "output_type": "execute_result"
    }
   ],
   "source": [
    "from sklearn.metrics import confusion_matrix,classification_report\n",
    "confusion_matrix(target, grid_search_forest.predict(features))"
   ]
  },
  {
   "cell_type": "code",
   "execution_count": 44,
   "metadata": {},
   "outputs": [
    {
     "data": {
      "text/plain": [
       "0.7941099409949859"
      ]
     },
     "execution_count": 44,
     "metadata": {},
     "output_type": "execute_result"
    }
   ],
   "source": [
    "grid_search_forest.best_score_"
   ]
  },
  {
   "cell_type": "code",
   "execution_count": 45,
   "metadata": {},
   "outputs": [
    {
     "data": {
      "text/plain": [
       "0.7942466659318859"
      ]
     },
     "execution_count": 45,
     "metadata": {},
     "output_type": "execute_result"
    }
   ],
   "source": [
    "grid_search_forest.score(Xtest, ytest)"
   ]
  },
  {
   "cell_type": "code",
   "execution_count": 46,
   "metadata": {},
   "outputs": [
    {
     "name": "stdout",
     "output_type": "stream",
     "text": [
      "              precision    recall  f1-score   support\n",
      "\n",
      "   Defaulted       0.36      0.26      0.30     15500\n",
      "   FullyPaid       0.86      0.90      0.88     75230\n",
      "\n",
      "    accuracy                           0.79     90730\n",
      "   macro avg       0.61      0.58      0.59     90730\n",
      "weighted avg       0.77      0.79      0.78     90730\n",
      "\n"
     ]
    }
   ],
   "source": [
    "print(classification_report(ytest, grid_search_forest.predict(Xtest)))"
   ]
  },
  {
   "cell_type": "code",
   "execution_count": 47,
   "metadata": {},
   "outputs": [
    {
     "data": {
      "text/plain": [
       "0.6867577141926051"
      ]
     },
     "execution_count": 47,
     "metadata": {},
     "output_type": "execute_result"
    }
   ],
   "source": [
    "rocrf=roc_auc_score(ytest, grid_search_forest.predict_proba(Xtest)[:,1])\n",
    "rocrf"
   ]
  },
  {
   "cell_type": "code",
   "execution_count": 48,
   "metadata": {},
   "outputs": [
    {
     "data": {
      "text/plain": [
       "1.0"
      ]
     },
     "execution_count": 48,
     "metadata": {},
     "output_type": "execute_result"
    }
   ],
   "source": [
    "# {'criterion': 'gini',\n",
    "#  'max_depth': None,\n",
    "#  'max_features': 6,\n",
    "#  'min_samples_leaf': 4,\n",
    "#  'min_samples_split': 4,\n",
    "#  'n_estimators': 500,\n",
    "#  'random_state': 42}\n",
    "randomForest.set_params(random_state=42, n_estimators=500, max_features=6)\n",
    "randomForest.fit(Xtrain, ytrain) \n",
    "randomForest.score(Xtrain, ytrain)"
   ]
  },
  {
   "cell_type": "code",
   "execution_count": 49,
   "metadata": {},
   "outputs": [
    {
     "data": {
      "text/plain": [
       "<matplotlib.axes._subplots.AxesSubplot at 0x29c802f5a88>"
      ]
     },
     "execution_count": 49,
     "metadata": {},
     "output_type": "execute_result"
    },
    {
     "data": {
      "image/png": "[encoded data removed]",
      "text/plain": [
       "<Figure size 432x288 with 1 Axes>"
      ]
     },
     "metadata": {
      "needs_background": "light"
     },
     "output_type": "display_data"
    }
   ],
   "source": [
    "feature_importance = list(zip(Xtrain.columns, randomForest.feature_importances_))\n",
    "dtype = [('feature', 'S10'), ('importance', 'float')]\n",
    "feature_importance = np.array(feature_importance, dtype=dtype)\n",
    "feature_sort = np.sort(feature_importance, order='importance')[::-1]\n",
    "name, score = zip(*list(feature_sort))\n",
    "pd.DataFrame({'name':name,'score':score})[:15].plot.barh(x='name', y='score')"
   ]
  },
  {
   "cell_type": "code",
   "execution_count": null,
   "metadata": {},
   "outputs": [],
   "source": []
  },
  {
   "cell_type": "code",
   "execution_count": 55,
   "metadata": {},
   "outputs": [
    {
     "data": {
      "text/plain": [
       "0.999977956392233"
      ]
     },
     "execution_count": 55,
     "metadata": {},
     "output_type": "execute_result"
    }
   ],
   "source": [
    "randomForest.set_params(random_state=42, n_estimators=100, max_features=4)\n",
    "randomForest.fit(Xtrain, ytrain) \n",
    "randomForest.score(Xtrain, ytrain)"
   ]
  },
  {
   "cell_type": "code",
   "execution_count": 52,
   "metadata": {},
   "outputs": [
    {
     "name": "stdout",
     "output_type": "stream",
     "text": [
      "['Defaulted' 'FullyPaid']\n",
      "0.9999669348616775\n",
      "1.0\n"
     ]
    }
   ],
   "source": [
    "#  Train model\n",
    "#randomForest.fit(features, target) \n",
    "\n",
    "#test model\n",
    "randomForest.fit(Xtest, ytest)\n",
    "\n",
    "\n",
    "# Predict on training set\n",
    "#pred_y_4 = randomForest.predict(features)\n",
    "\n",
    "# Predict on test set\n",
    "pred_y_4 = randomForest.predict(Xtest) \n",
    "    \n",
    "# Is our model still predicting just one class?\n",
    "print( np.unique( pred_y_4 ) )\n",
    "# ['Defaulted' 'FullyPaid']\n",
    " \n",
    "# How's our accuracy?\n",
    "from sklearn.metrics import accuracy_score\n",
    "# print( accuracy_score(target, pred_y_4) )\n",
    "#0.9999537085002216\n",
    "\n",
    "\n",
    "print( accuracy_score(ytest, pred_y_4) ) #test set\n",
    "#0.9999669348616775\n",
    "\n",
    "from sklearn.metrics import classification_report, roc_auc_score\n",
    " \n",
    "# What about AUROC?\n",
    "# prob_y_4 = randomForest.predict_proba(features)\n",
    "# prob_y_4 = [p[1] for p in prob_y_4]\n",
    "# print( roc_auc_score(target, prob_y_4) )\n",
    "# 1.0\n",
    "\n",
    "\n",
    "\n",
    "prob_y_4 = randomForest.predict_proba(Xtest) # test set\n",
    "prob_y_4 = [p[1] for p in prob_y_4]\n",
    "print( roc_auc_score(ytest, prob_y_4) )\n",
    "# 1.0\n",
    "\n"
   ]
  },
  {
   "cell_type": "code",
   "execution_count": 54,
   "metadata": {},
   "outputs": [
    {
     "name": "stdout",
     "output_type": "stream",
     "text": [
      "              precision    recall  f1-score   support\n",
      "\n",
      "   Defaulted       1.00      1.00      1.00     15500\n",
      "   FullyPaid       1.00      1.00      1.00     75230\n",
      "\n",
      "    accuracy                           1.00     90730\n",
      "   macro avg       1.00      1.00      1.00     90730\n",
      "weighted avg       1.00      1.00      1.00     90730\n",
      "\n"
     ]
    }
   ],
   "source": [
    "print(classification_report(ytest,pred_y_4))"
   ]
  },
  {
   "cell_type": "code",
   "execution_count": null,
   "metadata": {},
   "outputs": [],
   "source": []
  },
  {
   "cell_type": "code",
   "execution_count": null,
   "metadata": {},
   "outputs": [],
   "source": [
    "feature_importance = list(zip(Xtrain.columns, randomForest.feature_importances_))\n",
    "dtype = [('feature', 'S10'), ('importance', 'float')]\n",
    "feature_importance = np.array(feature_importance, dtype=dtype)\n",
    "feature_sort = np.sort(feature_importance, order='importance')[::-1]\n",
    "name, score = zip(*list(feature_sort))\n",
    "pd.DataFrame({'name':name,'score':score})[:15].plot.bar(x='name', y='score')\n"
   ]
  }
 ],
 "metadata": {
  "kernelspec": {
   "display_name": "Python 3",
   "language": "python",
   "name": "python3"
  },
  "language_info": {
   "codemirror_mode": {
    "name": "ipython",
    "version": 3
   },
   "file_extension": ".py",
   "mimetype": "text/x-python",
   "name": "python",
   "nbconvert_exporter": "python",
   "pygments_lexer": "ipython3",
   "version": "3.7.6"
  }
 },
 "nbformat": 4,
 "nbformat_minor": 4
}
