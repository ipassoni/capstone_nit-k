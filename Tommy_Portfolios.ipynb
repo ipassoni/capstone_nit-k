{
 "cells": [
  {
   "cell_type": "code",
   "execution_count": 1,
   "metadata": {},
   "outputs": [],
   "source": [
    "%matplotlib inline\n",
    "import matplotlib.pyplot as plt\n",
    "import numpy  as np\n",
    "import pandas as pd\n",
    "import seaborn as sns\n",
    "import scipy.stats as ss"
   ]
  },
  {
   "cell_type": "code",
   "execution_count": 13,
   "metadata": {},
   "outputs": [],
   "source": [
    "dtypes = {'issue_d': 'str', 'last_pymnt_d': 'str'}\n",
    "parse_dates = ['issue_d', 'last_pymnt_d']\n",
    "accepted = pd.read_csv('accepted_b_2015_clean.csv',\n",
    "                       dtype=dtypes, parse_dates=parse_dates)"
   ]
  },
  {
   "cell_type": "markdown",
   "metadata": {},
   "source": [
    "## Checking intrest rate distribution and defining bins"
   ]
  },
  {
   "cell_type": "code",
   "execution_count": 217,
   "metadata": {},
   "outputs": [
    {
     "data": {
      "text/plain": [
       "(array([11306., 10217.,  6046., 26092.,  9737., 19927., 21968.,  8118.,\n",
       "        27870., 28917., 19041., 44239., 32500., 24096., 27699., 23443.,\n",
       "        14260., 20481., 12389., 12881., 11145.,  9656.,  6237.,  3109.,\n",
       "         6457.,  2954.,  4475.,  3554.,  1983.,  2850.]),\n",
       " array([ 5.42 ,  6.108,  6.796,  7.484,  8.172,  8.86 ,  9.548, 10.236,\n",
       "        10.924, 11.612, 12.3  , 12.988, 13.676, 14.364, 15.052, 15.74 ,\n",
       "        16.428, 17.116, 17.804, 18.492, 19.18 , 19.868, 20.556, 21.244,\n",
       "        21.932, 22.62 , 23.308, 23.996, 24.684, 25.372, 26.06 ]),\n",
       " <a list of 30 Patch objects>)"
      ]
     },
     "execution_count": 217,
     "metadata": {},
     "output_type": "execute_result"
    },
    {
     "data": {
      "image/png": "[encoded data removed]",
      "text/plain": [
       "<Figure size 432x288 with 1 Axes>"
      ]
     },
     "metadata": {
      "needs_background": "light"
     },
     "output_type": "display_data"
    }
   ],
   "source": [
    "plt.hist(accepted['int_rate'], bins = 30)"
   ]
  },
  {
   "cell_type": "code",
   "execution_count": 7,
   "metadata": {},
   "outputs": [],
   "source": [
    "int_bins = np.array([5, 7.5, 10, 12.5, 15, 17.5, 20, 22.5, 25, 30])\n",
    "accepted['int_bin'] = pd.cut(accepted['int_rate'], int_bins)"
   ]
  },
  {
   "cell_type": "code",
   "execution_count": 17,
   "metadata": {},
   "outputs": [
    {
     "data": {
      "text/html": [
       "<div>\n",
       "<style scoped>\n",
       "    .dataframe tbody tr th:only-of-type {\n",
       "        vertical-align: middle;\n",
       "    }\n",
       "\n",
       "    .dataframe tbody tr th {\n",
       "        vertical-align: top;\n",
       "    }\n",
       "\n",
       "    .dataframe thead th {\n",
       "        text-align: right;\n",
       "    }\n",
       "</style>\n",
       "<table border=\"1\" class=\"dataframe\">\n",
       "  <thead>\n",
       "    <tr style=\"text-align: right;\">\n",
       "      <th></th>\n",
       "      <th>int_rate</th>\n",
       "      <th>int_bin</th>\n",
       "    </tr>\n",
       "  </thead>\n",
       "  <tbody>\n",
       "    <tr>\n",
       "      <td>0</td>\n",
       "      <td>6.99</td>\n",
       "      <td>(5.0, 7.5]</td>\n",
       "    </tr>\n",
       "    <tr>\n",
       "      <td>1</td>\n",
       "      <td>12.39</td>\n",
       "      <td>(10.0, 12.5]</td>\n",
       "    </tr>\n",
       "    <tr>\n",
       "      <td>2</td>\n",
       "      <td>13.66</td>\n",
       "      <td>(12.5, 15.0]</td>\n",
       "    </tr>\n",
       "    <tr>\n",
       "      <td>3</td>\n",
       "      <td>13.66</td>\n",
       "      <td>(12.5, 15.0]</td>\n",
       "    </tr>\n",
       "    <tr>\n",
       "      <td>4</td>\n",
       "      <td>15.59</td>\n",
       "      <td>(15.0, 17.5]</td>\n",
       "    </tr>\n",
       "    <tr>\n",
       "      <td>...</td>\n",
       "      <td>...</td>\n",
       "      <td>...</td>\n",
       "    </tr>\n",
       "    <tr>\n",
       "      <td>453642</td>\n",
       "      <td>16.77</td>\n",
       "      <td>(15.0, 17.5]</td>\n",
       "    </tr>\n",
       "    <tr>\n",
       "      <td>453643</td>\n",
       "      <td>15.27</td>\n",
       "      <td>(15.0, 17.5]</td>\n",
       "    </tr>\n",
       "    <tr>\n",
       "      <td>453644</td>\n",
       "      <td>15.96</td>\n",
       "      <td>(15.0, 17.5]</td>\n",
       "    </tr>\n",
       "    <tr>\n",
       "      <td>453645</td>\n",
       "      <td>16.29</td>\n",
       "      <td>(15.0, 17.5]</td>\n",
       "    </tr>\n",
       "    <tr>\n",
       "      <td>453646</td>\n",
       "      <td>15.27</td>\n",
       "      <td>(15.0, 17.5]</td>\n",
       "    </tr>\n",
       "  </tbody>\n",
       "</table>\n",
       "<p>453647 rows × 2 columns</p>\n",
       "</div>"
      ],
      "text/plain": [
       "        int_rate       int_bin\n",
       "0           6.99    (5.0, 7.5]\n",
       "1          12.39  (10.0, 12.5]\n",
       "2          13.66  (12.5, 15.0]\n",
       "3          13.66  (12.5, 15.0]\n",
       "4          15.59  (15.0, 17.5]\n",
       "...          ...           ...\n",
       "453642     16.77  (15.0, 17.5]\n",
       "453643     15.27  (15.0, 17.5]\n",
       "453644     15.96  (15.0, 17.5]\n",
       "453645     16.29  (15.0, 17.5]\n",
       "453646     15.27  (15.0, 17.5]\n",
       "\n",
       "[453647 rows x 2 columns]"
      ]
     },
     "execution_count": 17,
     "metadata": {},
     "output_type": "execute_result"
    }
   ],
   "source": [
    "accepted[['int_rate', 'int_bin']]"
   ]
  },
  {
   "cell_type": "code",
   "execution_count": 33,
   "metadata": {},
   "outputs": [],
   "source": [
    "intcounts = accepted.groupby(['int_bin', 'loan_status']).agg({'id':'count'})\n",
    "intcounts = intcounts.groupby('int_bin').agg({'id':'sum'})"
   ]
  },
  {
   "cell_type": "code",
   "execution_count": 24,
   "metadata": {},
   "outputs": [],
   "source": [
    "intbincounts = accepted.groupby(['int_bin', 'loan_status']).id.count().unstack()"
   ]
  },
  {
   "cell_type": "code",
   "execution_count": 72,
   "metadata": {},
   "outputs": [
    {
     "data": {
      "text/html": [
       "<div>\n",
       "<style scoped>\n",
       "    .dataframe tbody tr th:only-of-type {\n",
       "        vertical-align: middle;\n",
       "    }\n",
       "\n",
       "    .dataframe tbody tr th {\n",
       "        vertical-align: top;\n",
       "    }\n",
       "\n",
       "    .dataframe thead th {\n",
       "        text-align: right;\n",
       "    }\n",
       "</style>\n",
       "<table border=\"1\" class=\"dataframe\">\n",
       "  <thead>\n",
       "    <tr style=\"text-align: right;\">\n",
       "      <th>loan_status</th>\n",
       "      <th>Defaulted</th>\n",
       "      <th>FullyPaid</th>\n",
       "    </tr>\n",
       "    <tr>\n",
       "      <th>int_bin</th>\n",
       "      <th></th>\n",
       "      <th></th>\n",
       "    </tr>\n",
       "  </thead>\n",
       "  <tbody>\n",
       "    <tr>\n",
       "      <td>(5.0, 7.5]</td>\n",
       "      <td>0.039123</td>\n",
       "      <td>0.960877</td>\n",
       "    </tr>\n",
       "    <tr>\n",
       "      <td>(7.5, 10.0]</td>\n",
       "      <td>0.073863</td>\n",
       "      <td>0.926137</td>\n",
       "    </tr>\n",
       "    <tr>\n",
       "      <td>(10.0, 12.5]</td>\n",
       "      <td>0.114810</td>\n",
       "      <td>0.885190</td>\n",
       "    </tr>\n",
       "    <tr>\n",
       "      <td>(12.5, 15.0]</td>\n",
       "      <td>0.170567</td>\n",
       "      <td>0.829433</td>\n",
       "    </tr>\n",
       "    <tr>\n",
       "      <td>(15.0, 17.5]</td>\n",
       "      <td>0.219079</td>\n",
       "      <td>0.780921</td>\n",
       "    </tr>\n",
       "    <tr>\n",
       "      <td>(17.5, 20.0]</td>\n",
       "      <td>0.268815</td>\n",
       "      <td>0.731185</td>\n",
       "    </tr>\n",
       "    <tr>\n",
       "      <td>(20.0, 22.5]</td>\n",
       "      <td>0.317881</td>\n",
       "      <td>0.682119</td>\n",
       "    </tr>\n",
       "    <tr>\n",
       "      <td>(22.5, 25.0]</td>\n",
       "      <td>0.363501</td>\n",
       "      <td>0.636499</td>\n",
       "    </tr>\n",
       "    <tr>\n",
       "      <td>(25.0, 30.0]</td>\n",
       "      <td>0.428666</td>\n",
       "      <td>0.571334</td>\n",
       "    </tr>\n",
       "  </tbody>\n",
       "</table>\n",
       "</div>"
      ],
      "text/plain": [
       "loan_status   Defaulted  FullyPaid\n",
       "int_bin                           \n",
       "(5.0, 7.5]     0.039123   0.960877\n",
       "(7.5, 10.0]    0.073863   0.926137\n",
       "(10.0, 12.5]   0.114810   0.885190\n",
       "(12.5, 15.0]   0.170567   0.829433\n",
       "(15.0, 17.5]   0.219079   0.780921\n",
       "(17.5, 20.0]   0.268815   0.731185\n",
       "(20.0, 22.5]   0.317881   0.682119\n",
       "(22.5, 25.0]   0.363501   0.636499\n",
       "(25.0, 30.0]   0.428666   0.571334"
      ]
     },
     "execution_count": 72,
     "metadata": {},
     "output_type": "execute_result"
    }
   ],
   "source": [
    "intbinprop = intbincounts.copy()\n",
    "intbinprop['Defaulted'] =intbinprop['Defaulted']/intcounts['id']\n",
    "intbinprop['FullyPaid'] = intbinprop['FullyPaid']/intcounts['id']\n",
    "intbinprop"
   ]
  },
  {
   "cell_type": "code",
   "execution_count": 25,
   "metadata": {},
   "outputs": [
    {
     "data": {
      "text/plain": [
       "<matplotlib.axes._subplots.AxesSubplot at 0x1a300a8d90>"
      ]
     },
     "execution_count": 25,
     "metadata": {},
     "output_type": "execute_result"
    },
    {
     "data": {
      "image/png": "[encoded data removed]",
      "text/plain": [
       "<Figure size 432x288 with 1 Axes>"
      ]
     },
     "metadata": {
      "needs_background": "light"
     },
     "output_type": "display_data"
    }
   ],
   "source": [
    "intbincounts.plot(kind='bar', stacked=True)"
   ]
  },
  {
   "cell_type": "code",
   "execution_count": 73,
   "metadata": {},
   "outputs": [
    {
     "data": {
      "text/plain": [
       "<matplotlib.axes._subplots.AxesSubplot at 0x1a2c01a1d0>"
      ]
     },
     "execution_count": 73,
     "metadata": {},
     "output_type": "execute_result"
    },
    {
     "data": {
      "image/png": "[encoded data removed]",
      "text/plain": [
       "<Figure size 432x288 with 1 Axes>"
      ]
     },
     "metadata": {
      "needs_background": "light"
     },
     "output_type": "display_data"
    }
   ],
   "source": [
    "intbinprop.plot(kind='bar', stacked=True)"
   ]
  },
  {
   "cell_type": "markdown",
   "metadata": {},
   "source": [
    "## Based on this info, defining a safe interest rate as less than 12, and a risky one as more than 20"
   ]
  },
  {
   "cell_type": "code",
   "execution_count": 96,
   "metadata": {},
   "outputs": [],
   "source": [
    "safeint = 12\n",
    "riskint = 20"
   ]
  },
  {
   "cell_type": "markdown",
   "metadata": {},
   "source": [
    "## Defining \"fico_mid\" as the midpoint between the provided ranges, then repeating the bin-based analysis to define a riskiness threshold"
   ]
  },
  {
   "cell_type": "code",
   "execution_count": 75,
   "metadata": {},
   "outputs": [],
   "source": [
    "accepted['fico_mid'] = (accepted['fico_range_high'] + accepted['fico_range_low'])/2"
   ]
  },
  {
   "cell_type": "code",
   "execution_count": 78,
   "metadata": {},
   "outputs": [
    {
     "data": {
      "text/plain": [
       "(array([1.0000e+00, 1.0000e+00, 1.0000e+00, 1.0000e+00, 4.0000e+00,\n",
       "        3.0000e+00, 9.4000e+01, 1.0500e+02, 1.2500e+02, 1.2400e+02,\n",
       "        3.6798e+04, 3.7498e+04, 3.8493e+04, 3.5090e+04, 3.5458e+04,\n",
       "        3.2096e+04, 3.1315e+04, 0.0000e+00, 2.8521e+04, 2.5556e+04,\n",
       "        2.2927e+04, 1.9534e+04, 1.7522e+04, 1.4908e+04, 1.2042e+04,\n",
       "        1.0336e+04, 8.2700e+03, 7.2870e+03, 5.7370e+03, 5.4510e+03,\n",
       "        4.5260e+03, 3.7330e+03, 3.3850e+03, 2.8720e+03, 0.0000e+00,\n",
       "        2.5560e+03, 2.3530e+03, 1.7630e+03, 1.7280e+03, 1.3090e+03,\n",
       "        1.1570e+03, 9.3800e+02, 6.6100e+02, 4.5300e+02, 3.4700e+02,\n",
       "        2.4500e+02, 1.5000e+02, 9.4000e+01, 4.6000e+01, 3.3000e+01]),\n",
       " array([612.  , 616.71, 621.42, 626.13, 630.84, 635.55, 640.26, 644.97,\n",
       "        649.68, 654.39, 659.1 , 663.81, 668.52, 673.23, 677.94, 682.65,\n",
       "        687.36, 692.07, 696.78, 701.49, 706.2 , 710.91, 715.62, 720.33,\n",
       "        725.04, 729.75, 734.46, 739.17, 743.88, 748.59, 753.3 , 758.01,\n",
       "        762.72, 767.43, 772.14, 776.85, 781.56, 786.27, 790.98, 795.69,\n",
       "        800.4 , 805.11, 809.82, 814.53, 819.24, 823.95, 828.66, 833.37,\n",
       "        838.08, 842.79, 847.5 ]),\n",
       " <a list of 50 Patch objects>)"
      ]
     },
     "execution_count": 78,
     "metadata": {},
     "output_type": "execute_result"
    },
    {
     "data": {
      "image/png": "[encoded data removed]",
      "text/plain": [
       "<Figure size 432x288 with 1 Axes>"
      ]
     },
     "metadata": {
      "needs_background": "light"
     },
     "output_type": "display_data"
    }
   ],
   "source": [
    "plt.hist(accepted['fico_mid'], bins = 50)"
   ]
  },
  {
   "cell_type": "code",
   "execution_count": 83,
   "metadata": {},
   "outputs": [],
   "source": [
    "fic_bins = np.array([612, 660, 690, 710, 730, 750, 800, 850])\n",
    "accepted['fico_bin'] = pd.cut(accepted['fico_mid'], fic_bins)"
   ]
  },
  {
   "cell_type": "code",
   "execution_count": 86,
   "metadata": {},
   "outputs": [
    {
     "data": {
      "text/html": [
       "<div>\n",
       "<style scoped>\n",
       "    .dataframe tbody tr th:only-of-type {\n",
       "        vertical-align: middle;\n",
       "    }\n",
       "\n",
       "    .dataframe tbody tr th {\n",
       "        vertical-align: top;\n",
       "    }\n",
       "\n",
       "    .dataframe thead th {\n",
       "        text-align: right;\n",
       "    }\n",
       "</style>\n",
       "<table border=\"1\" class=\"dataframe\">\n",
       "  <thead>\n",
       "    <tr style=\"text-align: right;\">\n",
       "      <th>loan_status</th>\n",
       "      <th>Defaulted</th>\n",
       "      <th>FullyPaid</th>\n",
       "    </tr>\n",
       "    <tr>\n",
       "      <th>fico_bin</th>\n",
       "      <th></th>\n",
       "      <th></th>\n",
       "    </tr>\n",
       "  </thead>\n",
       "  <tbody>\n",
       "    <tr>\n",
       "      <td>(612, 660]</td>\n",
       "      <td>0.312227</td>\n",
       "      <td>0.687773</td>\n",
       "    </tr>\n",
       "    <tr>\n",
       "      <td>(660, 690]</td>\n",
       "      <td>0.208575</td>\n",
       "      <td>0.791425</td>\n",
       "    </tr>\n",
       "    <tr>\n",
       "      <td>(690, 710]</td>\n",
       "      <td>0.166444</td>\n",
       "      <td>0.833556</td>\n",
       "    </tr>\n",
       "    <tr>\n",
       "      <td>(710, 730]</td>\n",
       "      <td>0.132144</td>\n",
       "      <td>0.867856</td>\n",
       "    </tr>\n",
       "    <tr>\n",
       "      <td>(730, 750]</td>\n",
       "      <td>0.108599</td>\n",
       "      <td>0.891401</td>\n",
       "    </tr>\n",
       "    <tr>\n",
       "      <td>(750, 800]</td>\n",
       "      <td>0.077099</td>\n",
       "      <td>0.922901</td>\n",
       "    </tr>\n",
       "    <tr>\n",
       "      <td>(800, 850]</td>\n",
       "      <td>0.050921</td>\n",
       "      <td>0.949079</td>\n",
       "    </tr>\n",
       "  </tbody>\n",
       "</table>\n",
       "</div>"
      ],
      "text/plain": [
       "loan_status  Defaulted  FullyPaid\n",
       "fico_bin                         \n",
       "(612, 660]    0.312227   0.687773\n",
       "(660, 690]    0.208575   0.791425\n",
       "(690, 710]    0.166444   0.833556\n",
       "(710, 730]    0.132144   0.867856\n",
       "(730, 750]    0.108599   0.891401\n",
       "(750, 800]    0.077099   0.922901\n",
       "(800, 850]    0.050921   0.949079"
      ]
     },
     "execution_count": 86,
     "metadata": {},
     "output_type": "execute_result"
    }
   ],
   "source": [
    "ficocounts = accepted.groupby(['fico_bin', 'loan_status']).agg({'id':'count'})\n",
    "ficocounts = ficocounts.groupby('fico_bin').agg({'id':'sum'})\n",
    "\n",
    "\n",
    "ficobincounts = accepted.groupby(['fico_bin', 'loan_status']).id.count().unstack()\n",
    "\n",
    "ficobinprop = ficobincounts.copy()\n",
    "ficobinprop['Defaulted'] = ficobinprop['Defaulted']/ficocounts['id']\n",
    "ficobinprop['FullyPaid'] = ficobinprop['FullyPaid']/ficocounts['id']\n",
    "ficobinprop"
   ]
  },
  {
   "cell_type": "code",
   "execution_count": 87,
   "metadata": {},
   "outputs": [
    {
     "data": {
      "text/plain": [
       "<matplotlib.axes._subplots.AxesSubplot at 0x1a2882d3d0>"
      ]
     },
     "execution_count": 87,
     "metadata": {},
     "output_type": "execute_result"
    },
    {
     "data": {
      "image/png": "[encoded data removed]",
      "text/plain": [
       "<Figure size 432x288 with 1 Axes>"
      ]
     },
     "metadata": {
      "needs_background": "light"
     },
     "output_type": "display_data"
    }
   ],
   "source": [
    "ficobincounts.plot(kind='bar', stacked=True)"
   ]
  },
  {
   "cell_type": "code",
   "execution_count": 88,
   "metadata": {},
   "outputs": [
    {
     "data": {
      "text/plain": [
       "<matplotlib.axes._subplots.AxesSubplot at 0x1a2789bb90>"
      ]
     },
     "execution_count": 88,
     "metadata": {},
     "output_type": "execute_result"
    },
    {
     "data": {
      "image/png": "[encoded data removed]",
      "text/plain": [
       "<Figure size 432x288 with 1 Axes>"
      ]
     },
     "metadata": {
      "needs_background": "light"
     },
     "output_type": "display_data"
    }
   ],
   "source": [
    "ficobinprop.plot(kind='bar', stacked=True)"
   ]
  },
  {
   "cell_type": "code",
   "execution_count": 94,
   "metadata": {},
   "outputs": [],
   "source": [
    "riskfico = 700"
   ]
  },
  {
   "cell_type": "markdown",
   "metadata": {},
   "source": [
    "## Checking default rate per purpose, to identify safe/risky purposes"
   ]
  },
  {
   "cell_type": "code",
   "execution_count": 89,
   "metadata": {},
   "outputs": [
    {
     "data": {
      "text/html": [
       "<div>\n",
       "<style scoped>\n",
       "    .dataframe tbody tr th:only-of-type {\n",
       "        vertical-align: middle;\n",
       "    }\n",
       "\n",
       "    .dataframe tbody tr th {\n",
       "        vertical-align: top;\n",
       "    }\n",
       "\n",
       "    .dataframe thead th {\n",
       "        text-align: right;\n",
       "    }\n",
       "</style>\n",
       "<table border=\"1\" class=\"dataframe\">\n",
       "  <thead>\n",
       "    <tr style=\"text-align: right;\">\n",
       "      <th>loan_status</th>\n",
       "      <th>Defaulted</th>\n",
       "      <th>FullyPaid</th>\n",
       "    </tr>\n",
       "    <tr>\n",
       "      <th>purpose</th>\n",
       "      <th></th>\n",
       "      <th></th>\n",
       "    </tr>\n",
       "  </thead>\n",
       "  <tbody>\n",
       "    <tr>\n",
       "      <td>car</td>\n",
       "      <td>0.119361</td>\n",
       "      <td>0.880639</td>\n",
       "    </tr>\n",
       "    <tr>\n",
       "      <td>credit_card</td>\n",
       "      <td>0.143209</td>\n",
       "      <td>0.856791</td>\n",
       "    </tr>\n",
       "    <tr>\n",
       "      <td>debt_consolidation</td>\n",
       "      <td>0.180983</td>\n",
       "      <td>0.819017</td>\n",
       "    </tr>\n",
       "    <tr>\n",
       "      <td>educational</td>\n",
       "      <td>0.213759</td>\n",
       "      <td>0.786241</td>\n",
       "    </tr>\n",
       "    <tr>\n",
       "      <td>home_improvement</td>\n",
       "      <td>0.152479</td>\n",
       "      <td>0.847521</td>\n",
       "    </tr>\n",
       "    <tr>\n",
       "      <td>house</td>\n",
       "      <td>0.182954</td>\n",
       "      <td>0.817046</td>\n",
       "    </tr>\n",
       "    <tr>\n",
       "      <td>major_purchase</td>\n",
       "      <td>0.141375</td>\n",
       "      <td>0.858625</td>\n",
       "    </tr>\n",
       "    <tr>\n",
       "      <td>medical</td>\n",
       "      <td>0.183043</td>\n",
       "      <td>0.816957</td>\n",
       "    </tr>\n",
       "    <tr>\n",
       "      <td>moving</td>\n",
       "      <td>0.200949</td>\n",
       "      <td>0.799051</td>\n",
       "    </tr>\n",
       "    <tr>\n",
       "      <td>other</td>\n",
       "      <td>0.187199</td>\n",
       "      <td>0.812801</td>\n",
       "    </tr>\n",
       "    <tr>\n",
       "      <td>renewable_energy</td>\n",
       "      <td>0.193084</td>\n",
       "      <td>0.806916</td>\n",
       "    </tr>\n",
       "    <tr>\n",
       "      <td>small_business</td>\n",
       "      <td>0.267865</td>\n",
       "      <td>0.732135</td>\n",
       "    </tr>\n",
       "    <tr>\n",
       "      <td>vacation</td>\n",
       "      <td>0.165179</td>\n",
       "      <td>0.834821</td>\n",
       "    </tr>\n",
       "    <tr>\n",
       "      <td>wedding</td>\n",
       "      <td>0.123932</td>\n",
       "      <td>0.876068</td>\n",
       "    </tr>\n",
       "  </tbody>\n",
       "</table>\n",
       "</div>"
      ],
      "text/plain": [
       "loan_status         Defaulted  FullyPaid\n",
       "purpose                                 \n",
       "car                  0.119361   0.880639\n",
       "credit_card          0.143209   0.856791\n",
       "debt_consolidation   0.180983   0.819017\n",
       "educational          0.213759   0.786241\n",
       "home_improvement     0.152479   0.847521\n",
       "house                0.182954   0.817046\n",
       "major_purchase       0.141375   0.858625\n",
       "medical              0.183043   0.816957\n",
       "moving               0.200949   0.799051\n",
       "other                0.187199   0.812801\n",
       "renewable_energy     0.193084   0.806916\n",
       "small_business       0.267865   0.732135\n",
       "vacation             0.165179   0.834821\n",
       "wedding              0.123932   0.876068"
      ]
     },
     "execution_count": 89,
     "metadata": {},
     "output_type": "execute_result"
    }
   ],
   "source": [
    "purposecounts = accepted.groupby(['purpose', 'loan_status']).agg({'id':'count'})\n",
    "purposecounts = purposecounts.groupby('purpose').agg({'id':'sum'})\n",
    "\n",
    "\n",
    "purposebincounts = accepted.groupby(['purpose', 'loan_status']).id.count().unstack()\n",
    "\n",
    "purposeprop = purposebincounts.copy()\n",
    "purposeprop['Defaulted'] = purposeprop['Defaulted']/purposecounts['id']\n",
    "purposeprop['FullyPaid'] = purposeprop['FullyPaid']/purposecounts['id']\n",
    "purposeprop"
   ]
  },
  {
   "cell_type": "code",
   "execution_count": 90,
   "metadata": {},
   "outputs": [
    {
     "data": {
      "text/plain": [
       "<matplotlib.axes._subplots.AxesSubplot at 0x1a23901210>"
      ]
     },
     "execution_count": 90,
     "metadata": {},
     "output_type": "execute_result"
    },
    {
     "data": {
      "image/png": "[encoded data removed]",
      "text/plain": [
       "<Figure size 432x288 with 1 Axes>"
      ]
     },
     "metadata": {
      "needs_background": "light"
     },
     "output_type": "display_data"
    }
   ],
   "source": [
    "purposebincounts.plot(kind='bar', stacked=True)"
   ]
  },
  {
   "cell_type": "code",
   "execution_count": 93,
   "metadata": {},
   "outputs": [
    {
     "data": {
      "text/plain": [
       "<matplotlib.axes._subplots.AxesSubplot at 0x1a24acc2d0>"
      ]
     },
     "execution_count": 93,
     "metadata": {},
     "output_type": "execute_result"
    },
    {
     "data": {
      "image/png": "[encoded data removed]",
      "text/plain": [
       "<Figure size 432x288 with 1 Axes>"
      ]
     },
     "metadata": {
      "needs_background": "light"
     },
     "output_type": "display_data"
    }
   ],
   "source": [
    "purposeprop.sort_values('Defaulted').plot(kind='bar', stacked = True)"
   ]
  },
  {
   "cell_type": "code",
   "execution_count": 95,
   "metadata": {},
   "outputs": [],
   "source": [
    "safepurps = ['car', 'wedding', 'major_purchase', 'credit_card', 'home_improvement']\n",
    "riskpurps = ['moving', 'educational', 'small_business']"
   ]
  },
  {
   "cell_type": "markdown",
   "metadata": {},
   "source": [
    "## Defining return% metric to standardize returns per loan"
   ]
  },
  {
   "cell_type": "code",
   "execution_count": 111,
   "metadata": {},
   "outputs": [],
   "source": [
    "accepted['return%'] = (accepted['total_pymnt']/accepted['funded_amnt']) * 100"
   ]
  },
  {
   "cell_type": "code",
   "execution_count": 112,
   "metadata": {},
   "outputs": [
    {
     "data": {
      "text/html": [
       "<div>\n",
       "<style scoped>\n",
       "    .dataframe tbody tr th:only-of-type {\n",
       "        vertical-align: middle;\n",
       "    }\n",
       "\n",
       "    .dataframe tbody tr th {\n",
       "        vertical-align: top;\n",
       "    }\n",
       "\n",
       "    .dataframe thead th {\n",
       "        text-align: right;\n",
       "    }\n",
       "</style>\n",
       "<table border=\"1\" class=\"dataframe\">\n",
       "  <thead>\n",
       "    <tr style=\"text-align: right;\">\n",
       "      <th></th>\n",
       "      <th>funded_amnt</th>\n",
       "      <th>total_pymnt</th>\n",
       "      <th>return%</th>\n",
       "    </tr>\n",
       "  </thead>\n",
       "  <tbody>\n",
       "    <tr>\n",
       "      <td>0</td>\n",
       "      <td>10400.0</td>\n",
       "      <td>6611.690000</td>\n",
       "      <td>63.573942</td>\n",
       "    </tr>\n",
       "    <tr>\n",
       "      <td>1</td>\n",
       "      <td>15000.0</td>\n",
       "      <td>17392.370000</td>\n",
       "      <td>115.949133</td>\n",
       "    </tr>\n",
       "    <tr>\n",
       "      <td>2</td>\n",
       "      <td>9600.0</td>\n",
       "      <td>9973.430000</td>\n",
       "      <td>103.889896</td>\n",
       "    </tr>\n",
       "    <tr>\n",
       "      <td>3</td>\n",
       "      <td>7650.0</td>\n",
       "      <td>2281.980000</td>\n",
       "      <td>29.829804</td>\n",
       "    </tr>\n",
       "    <tr>\n",
       "      <td>4</td>\n",
       "      <td>21425.0</td>\n",
       "      <td>25512.200000</td>\n",
       "      <td>119.076779</td>\n",
       "    </tr>\n",
       "    <tr>\n",
       "      <td>...</td>\n",
       "      <td>...</td>\n",
       "      <td>...</td>\n",
       "      <td>...</td>\n",
       "    </tr>\n",
       "    <tr>\n",
       "      <td>453642</td>\n",
       "      <td>20500.0</td>\n",
       "      <td>26176.440002</td>\n",
       "      <td>127.689951</td>\n",
       "    </tr>\n",
       "    <tr>\n",
       "      <td>453643</td>\n",
       "      <td>15000.0</td>\n",
       "      <td>18790.720008</td>\n",
       "      <td>125.271467</td>\n",
       "    </tr>\n",
       "    <tr>\n",
       "      <td>453644</td>\n",
       "      <td>35000.0</td>\n",
       "      <td>44272.939984</td>\n",
       "      <td>126.494114</td>\n",
       "    </tr>\n",
       "    <tr>\n",
       "      <td>453645</td>\n",
       "      <td>12000.0</td>\n",
       "      <td>2077.190000</td>\n",
       "      <td>17.309917</td>\n",
       "    </tr>\n",
       "    <tr>\n",
       "      <td>453646</td>\n",
       "      <td>7775.0</td>\n",
       "      <td>11163.948255</td>\n",
       "      <td>143.587759</td>\n",
       "    </tr>\n",
       "  </tbody>\n",
       "</table>\n",
       "<p>453647 rows × 3 columns</p>\n",
       "</div>"
      ],
      "text/plain": [
       "        funded_amnt   total_pymnt     return%\n",
       "0           10400.0   6611.690000   63.573942\n",
       "1           15000.0  17392.370000  115.949133\n",
       "2            9600.0   9973.430000  103.889896\n",
       "3            7650.0   2281.980000   29.829804\n",
       "4           21425.0  25512.200000  119.076779\n",
       "...             ...           ...         ...\n",
       "453642      20500.0  26176.440002  127.689951\n",
       "453643      15000.0  18790.720008  125.271467\n",
       "453644      35000.0  44272.939984  126.494114\n",
       "453645      12000.0   2077.190000   17.309917\n",
       "453646       7775.0  11163.948255  143.587759\n",
       "\n",
       "[453647 rows x 3 columns]"
      ]
     },
     "execution_count": 112,
     "metadata": {},
     "output_type": "execute_result"
    }
   ],
   "source": [
    "accepted[['funded_amnt', 'total_pymnt', 'return%']]"
   ]
  },
  {
   "cell_type": "code",
   "execution_count": 107,
   "metadata": {},
   "outputs": [
    {
     "data": {
      "image/png": "[encoded data removed]",
      "text/plain": [
       "<Figure size 432x288 with 1 Axes>"
      ]
     },
     "metadata": {
      "needs_background": "light"
     },
     "output_type": "display_data"
    }
   ],
   "source": [
    "ax = sns.boxplot(x=\"grade\", y=\"return%\", data=accepted, order = ['A', 'B', 'C', 'D', 'E', 'F', 'G'])"
   ]
  },
  {
   "cell_type": "markdown",
   "metadata": {},
   "source": [
    "## First portfolio selects loans at random, no filtering or weighting at all"
   ]
  },
  {
   "cell_type": "code",
   "execution_count": 222,
   "metadata": {},
   "outputs": [
    {
     "name": "stdout",
     "output_type": "stream",
     "text": [
      "Overall Return %: 114.16\n",
      "______________________________\n",
      "Average Return % by Grade:\n",
      "          return%\n",
      "grade            \n",
      "A      110.675926\n",
      "B      109.414654\n",
      "C      112.271606\n",
      "D      108.033647\n",
      "E      125.203712\n",
      "F      115.728840\n",
      "G      163.066300\n",
      "______________________________\n",
      "Average Return % by Purpose:\n",
      "                       return%\n",
      "purpose                       \n",
      "car                 123.687649\n",
      "credit_card         109.793572\n",
      "debt_consolidation  112.081454\n",
      "home_improvement    106.584889\n",
      "house               113.141753\n",
      "major_purchase      113.849927\n",
      "medical             120.561724\n",
      "other                71.480771\n",
      "small_business      132.066632\n",
      "vacation            123.318322\n"
     ]
    }
   ],
   "source": [
    "random_port = accepted.sample(n = 140)\n",
    "random_port_view = random_port[['id', 'purpose', 'grade', 'term', 'return%']]\n",
    "print('Overall Return %:', round(sum(random_port['total_pymnt'])/sum(random_port['funded_amnt']) * 100, 2))\n",
    "print('__' * 15)\n",
    "print('Average Return % by Grade:') \n",
    "print(random_port.groupby('grade').agg({'return%' : 'mean'}))\n",
    "print('__' * 15)\n",
    "print('Average Return % by Purpose:') \n",
    "print(random_port.groupby('purpose').agg({'return%' : 'mean'}))\n"
   ]
  },
  {
   "cell_type": "code",
   "execution_count": 223,
   "metadata": {},
   "outputs": [
    {
     "data": {
      "text/html": [
       "<div>\n",
       "<style scoped>\n",
       "    .dataframe tbody tr th:only-of-type {\n",
       "        vertical-align: middle;\n",
       "    }\n",
       "\n",
       "    .dataframe tbody tr th {\n",
       "        vertical-align: top;\n",
       "    }\n",
       "\n",
       "    .dataframe thead th {\n",
       "        text-align: right;\n",
       "    }\n",
       "</style>\n",
       "<table border=\"1\" class=\"dataframe\">\n",
       "  <thead>\n",
       "    <tr style=\"text-align: right;\">\n",
       "      <th></th>\n",
       "      <th>id</th>\n",
       "      <th>purpose</th>\n",
       "      <th>grade</th>\n",
       "      <th>term</th>\n",
       "      <th>return%</th>\n",
       "    </tr>\n",
       "  </thead>\n",
       "  <tbody>\n",
       "    <tr>\n",
       "      <td>110440</td>\n",
       "      <td>20752661</td>\n",
       "      <td>debt_consolidation</td>\n",
       "      <td>B</td>\n",
       "      <td>36 months</td>\n",
       "      <td>113.242188</td>\n",
       "    </tr>\n",
       "    <tr>\n",
       "      <td>93839</td>\n",
       "      <td>23333495</td>\n",
       "      <td>debt_consolidation</td>\n",
       "      <td>C</td>\n",
       "      <td>36 months</td>\n",
       "      <td>121.223002</td>\n",
       "    </tr>\n",
       "    <tr>\n",
       "      <td>80761</td>\n",
       "      <td>25307805</td>\n",
       "      <td>debt_consolidation</td>\n",
       "      <td>E</td>\n",
       "      <td>36 months</td>\n",
       "      <td>127.244179</td>\n",
       "    </tr>\n",
       "    <tr>\n",
       "      <td>132545</td>\n",
       "      <td>18515246</td>\n",
       "      <td>debt_consolidation</td>\n",
       "      <td>C</td>\n",
       "      <td>60 months</td>\n",
       "      <td>135.819952</td>\n",
       "    </tr>\n",
       "    <tr>\n",
       "      <td>361835</td>\n",
       "      <td>5064992</td>\n",
       "      <td>medical</td>\n",
       "      <td>E</td>\n",
       "      <td>36 months</td>\n",
       "      <td>136.533614</td>\n",
       "    </tr>\n",
       "    <tr>\n",
       "      <td>...</td>\n",
       "      <td>...</td>\n",
       "      <td>...</td>\n",
       "      <td>...</td>\n",
       "      <td>...</td>\n",
       "      <td>...</td>\n",
       "    </tr>\n",
       "    <tr>\n",
       "      <td>74359</td>\n",
       "      <td>26180247</td>\n",
       "      <td>debt_consolidation</td>\n",
       "      <td>F</td>\n",
       "      <td>60 months</td>\n",
       "      <td>124.936583</td>\n",
       "    </tr>\n",
       "    <tr>\n",
       "      <td>19850</td>\n",
       "      <td>34813301</td>\n",
       "      <td>debt_consolidation</td>\n",
       "      <td>A</td>\n",
       "      <td>36 months</td>\n",
       "      <td>112.966904</td>\n",
       "    </tr>\n",
       "    <tr>\n",
       "      <td>375597</td>\n",
       "      <td>3931505</td>\n",
       "      <td>debt_consolidation</td>\n",
       "      <td>F</td>\n",
       "      <td>60 months</td>\n",
       "      <td>115.786553</td>\n",
       "    </tr>\n",
       "    <tr>\n",
       "      <td>145023</td>\n",
       "      <td>16413026</td>\n",
       "      <td>debt_consolidation</td>\n",
       "      <td>C</td>\n",
       "      <td>36 months</td>\n",
       "      <td>120.856500</td>\n",
       "    </tr>\n",
       "    <tr>\n",
       "      <td>10297</td>\n",
       "      <td>36008821</td>\n",
       "      <td>other</td>\n",
       "      <td>D</td>\n",
       "      <td>36 months</td>\n",
       "      <td>71.480771</td>\n",
       "    </tr>\n",
       "  </tbody>\n",
       "</table>\n",
       "<p>140 rows × 5 columns</p>\n",
       "</div>"
      ],
      "text/plain": [
       "              id             purpose grade        term     return%\n",
       "110440  20752661  debt_consolidation     B   36 months  113.242188\n",
       "93839   23333495  debt_consolidation     C   36 months  121.223002\n",
       "80761   25307805  debt_consolidation     E   36 months  127.244179\n",
       "132545  18515246  debt_consolidation     C   60 months  135.819952\n",
       "361835   5064992             medical     E   36 months  136.533614\n",
       "...          ...                 ...   ...         ...         ...\n",
       "74359   26180247  debt_consolidation     F   60 months  124.936583\n",
       "19850   34813301  debt_consolidation     A   36 months  112.966904\n",
       "375597   3931505  debt_consolidation     F   60 months  115.786553\n",
       "145023  16413026  debt_consolidation     C   36 months  120.856500\n",
       "10297   36008821               other     D   36 months   71.480771\n",
       "\n",
       "[140 rows x 5 columns]"
      ]
     },
     "execution_count": 223,
     "metadata": {},
     "output_type": "execute_result"
    }
   ],
   "source": [
    "random_port_view"
   ]
  },
  {
   "cell_type": "markdown",
   "metadata": {},
   "source": [
    "## Next portfolio samples equally between grades; 20 loans from each, but random otherwise"
   ]
  },
  {
   "cell_type": "code",
   "execution_count": 133,
   "metadata": {},
   "outputs": [
    {
     "name": "stdout",
     "output_type": "stream",
     "text": [
      "Overall Return %: 110.9\n",
      "______________________________\n",
      "Average Return % by Grade:\n",
      "          return%\n",
      "grade            \n",
      "A      102.624320\n",
      "B      114.308039\n",
      "C      116.385333\n",
      "D      108.146607\n",
      "E      112.060461\n",
      "F      118.545667\n",
      "G      112.381014\n",
      "______________________________\n",
      "Average Return % by Purpose:\n",
      "                       return%\n",
      "purpose                       \n",
      "car                  75.827685\n",
      "credit_card         114.015031\n",
      "debt_consolidation  109.623653\n",
      "home_improvement    120.436776\n",
      "house               106.904000\n",
      "major_purchase      123.787393\n",
      "medical             128.017654\n",
      "other               114.408341\n",
      "small_business      124.501572\n",
      "vacation            114.860263\n"
     ]
    }
   ],
   "source": [
    "stratified_port = accepted.groupby('grade', as_index = False).apply(lambda x: x.sample(n=20))\n",
    "stratified_port_view = stratified_port[['id', 'purpose', 'grade', 'term', 'return%']]\n",
    "print('Overall Return %:', round(sum(stratified_port['total_pymnt'])/sum(stratified_port['funded_amnt']) * 100, 2))\n",
    "print('__' * 15)\n",
    "print('Average Return % by Grade:') \n",
    "print(stratified_port.groupby('grade').agg({'return%' : 'mean'}))\n",
    "print('__' * 15)\n",
    "print('Average Return % by Purpose:') \n",
    "print(stratified_port.groupby('purpose').agg({'return%' : 'mean'}))"
   ]
  },
  {
   "cell_type": "markdown",
   "metadata": {},
   "source": [
    "## Conservative portfolio only samples from grades A and B (90 and 50 respectively). Only loans in the \"safe purposes\" list, below the safe interest rate, above the risky FICO level, and only 36 month terms allowed."
   ]
  },
  {
   "cell_type": "code",
   "execution_count": 224,
   "metadata": {},
   "outputs": [
    {
     "name": "stdout",
     "output_type": "stream",
     "text": [
      "Overall Return %: 108.93\n",
      "______________________________\n",
      "Average Return % by Grade:\n",
      "          return%\n",
      "grade            \n",
      "A      106.822122\n",
      "B      111.088522\n",
      "______________________________\n",
      "Average Return % by Purpose:\n",
      "                     return%\n",
      "purpose                     \n",
      "car               107.659842\n",
      "credit_card       107.592893\n",
      "home_improvement  110.187860\n",
      "major_purchase    110.289779\n",
      "wedding           105.917056\n"
     ]
    }
   ],
   "source": [
    "conservative_df = accepted[accepted['grade'].isin(['A', 'B'])]\n",
    "conservative_df = conservative_df[conservative_df['purpose'].isin(safepurps)]\n",
    "conservative_df = conservative_df[conservative_df['int_rate'] < safeint]\n",
    "conservative_df = conservative_df[conservative_df['fico_mid'] > riskfico]\n",
    "conservative_df = conservative_df[conservative_df['term'] == ' 36 months']\n",
    "conA = conservative_df[conservative_df['grade'] == 'A'].sample(n = 90)\n",
    "conB = conservative_df[conservative_df['grade'] == 'B'].sample(n = 50)\n",
    "conservative_port = pd.concat([conA, conB])\n",
    "conservative_port_view = conservative_port[['id', 'purpose', 'grade', 'term', 'return%']]\n",
    "print('Overall Return %:', round(sum(conservative_port['total_pymnt'])/sum(conservative_port['funded_amnt']) * 100, 2))\n",
    "print('__' * 15)\n",
    "print('Average Return % by Grade:') \n",
    "print(conservative_port.groupby('grade').agg({'return%' : 'mean'}))\n",
    "print('__' * 15)\n",
    "print('Average Return % by Purpose:') \n",
    "print(conservative_port.groupby('purpose').agg({'return%' : 'mean'}))"
   ]
  },
  {
   "cell_type": "markdown",
   "metadata": {},
   "source": [
    "## Moderate portfolio, takes from grades A,  B, C and D (50, 40, 30, 20). It only makes sure the purpose is NOT in the risky purpose list. IT keeps the int rate below risk int, and still restricts to 36 months"
   ]
  },
  {
   "cell_type": "code",
   "execution_count": 225,
   "metadata": {},
   "outputs": [
    {
     "name": "stdout",
     "output_type": "stream",
     "text": [
      "Overall Return %: 109.31\n",
      "______________________________\n",
      "Average Return % by Grade:\n",
      "          return%\n",
      "grade            \n",
      "A      107.088553\n",
      "B      109.575181\n",
      "C      108.048214\n",
      "D      115.179728\n",
      "______________________________\n",
      "Average Return % by Purpose:\n",
      "                       return%\n",
      "purpose                       \n",
      "credit_card         108.876890\n",
      "debt_consolidation  108.951961\n",
      "home_improvement    115.629632\n",
      "major_purchase      113.832628\n",
      "medical             113.532565\n",
      "other                91.669223\n"
     ]
    }
   ],
   "source": [
    "moderate_df = accepted[accepted['grade'].isin(['A', 'B', 'C', 'D'])]\n",
    "moderate_df = moderate_df[~moderate_df['purpose'].isin(riskpurps)]\n",
    "moderate_df = moderate_df[moderate_df['int_rate'] < riskint]\n",
    "moderate_df = moderate_df[moderate_df['term'] == ' 36 months']\n",
    "modA = moderate_df[moderate_df['grade'] == 'A'].sample(n = 50)\n",
    "modB = moderate_df[moderate_df['grade'] == 'B'].sample(n = 40)\n",
    "modC = moderate_df[moderate_df['grade'] == 'C'].sample(n = 30)\n",
    "modD = moderate_df[moderate_df['grade'] == 'D'].sample(n = 20)\n",
    "moderate_port = pd.concat([modA, modB, modC, modD])\n",
    "moderate_port_view = moderate_port[['id', 'purpose', 'grade', 'term', 'return%']]\n",
    "print('Overall Return %:', round(sum(moderate_port['total_pymnt'])/sum(moderate_port['funded_amnt']) * 100, 2))\n",
    "print('__' * 15)\n",
    "print('Average Return % by Grade:') \n",
    "print(moderate_port.groupby('grade').agg({'return%' : 'mean'}))\n",
    "print('__' * 15)\n",
    "print('Average Return % by Purpose:') \n",
    "print(moderate_port.groupby('purpose').agg({'return%' : 'mean'}))"
   ]
  },
  {
   "cell_type": "markdown",
   "metadata": {},
   "source": [
    "## Risky Portfolio samples from all Grades (10, 10, 30, 25, 25, 20, 20 respectively), it does not restrict based on risk measures."
   ]
  },
  {
   "cell_type": "code",
   "execution_count": 168,
   "metadata": {},
   "outputs": [
    {
     "name": "stdout",
     "output_type": "stream",
     "text": [
      "Overall Return %: 117.39\n",
      "______________________________\n",
      "Average Return % by Grade:\n",
      "          return%\n",
      "grade            \n",
      "A      107.642118\n",
      "B      108.583465\n",
      "C      114.979442\n",
      "D      122.154338\n",
      "E      113.296819\n",
      "F      117.605682\n",
      "G      106.827178\n",
      "______________________________\n",
      "Average Return % by Purpose:\n",
      "                       return%\n",
      "purpose                       \n",
      "car                 117.648048\n",
      "credit_card         112.128612\n",
      "debt_consolidation  111.051932\n",
      "home_improvement    120.462583\n",
      "house               122.223658\n",
      "major_purchase      106.395947\n",
      "moving               69.617411\n",
      "other               127.478578\n",
      "small_business      157.630487\n"
     ]
    }
   ],
   "source": [
    "risky_df = accepted.copy()\n",
    "riskA = risky_df[risky_df['grade'] == 'A'].sample(n = 10)\n",
    "riskB = risky_df[risky_df['grade'] == 'B'].sample(n = 10)\n",
    "riskC = risky_df[risky_df['grade'] == 'C'].sample(n = 30)\n",
    "riskD = risky_df[risky_df['grade'] == 'D'].sample(n = 25)\n",
    "riskE = risky_df[risky_df['grade'] == 'E'].sample(n = 25)\n",
    "riskF = risky_df[risky_df['grade'] == 'F'].sample(n = 20)\n",
    "riskG = risky_df[risky_df['grade'] == 'G'].sample(n = 20)\n",
    "risky_port = pd.concat([riskA, riskB, riskC, riskD, riskE, riskF, riskG])\n",
    "risky_port_view = risky_port[['id', 'purpose', 'grade', 'term', 'return%']]\n",
    "print('Overall Return %:', round(sum(risky_port['total_pymnt'])/sum(risky_port['funded_amnt']) * 100, 2))\n",
    "print('__' * 15)\n",
    "print('Average Return % by Grade:') \n",
    "print(risky_port.groupby('grade').agg({'return%' : 'mean'}))\n",
    "print('__' * 15)\n",
    "print('Average Return % by Purpose:') \n",
    "print(risky_port.groupby('purpose').agg({'return%' : 'mean'}))"
   ]
  },
  {
   "cell_type": "markdown",
   "metadata": {},
   "source": [
    "## Wild Portfolio only samples from E, F, and G loans (35, 50, and 55). It only takes loans from the risky purposes, higher than the risky interest threshold, and lower than the risky fico threshold"
   ]
  },
  {
   "cell_type": "code",
   "execution_count": 257,
   "metadata": {},
   "outputs": [
    {
     "name": "stdout",
     "output_type": "stream",
     "text": [
      "Overall Return %: 113.24\n",
      "______________________________\n",
      "Average Return % by Grade:\n",
      "          return%\n",
      "grade            \n",
      "E       98.998249\n",
      "F      118.242803\n",
      "G      120.793370\n",
      "______________________________\n",
      "Average Return % by Purpose:\n",
      "                   return%\n",
      "purpose                   \n",
      "educational     148.610030\n",
      "moving          125.894786\n",
      "small_business  109.558288\n"
     ]
    }
   ],
   "source": [
    "wild_df = accepted[accepted['grade'].isin(['E', 'F', 'G'])]\n",
    "wild_df = wild_df[wild_df['purpose'].isin(riskpurps)]\n",
    "wild_df = wild_df[wild_df['int_rate'] > riskint]\n",
    "wild_df = wild_df[wild_df['fico_mid'] < riskfico]\n",
    "wildE = wild_df[wild_df['grade'] == 'E'].sample(n = 35)\n",
    "wildF = wild_df[wild_df['grade'] == 'F'].sample(n = 50)\n",
    "wildG = wild_df[wild_df['grade'] == 'G'].sample(n = 55)\n",
    "wild_port = pd.concat([wildE, wildF, wildG])\n",
    "wild_port_view = wild_port[['id', 'purpose', 'grade', 'term', 'return%']]\n",
    "print('Overall Return %:', round(sum(wild_port['total_pymnt'])/sum(wild_port['funded_amnt']) * 100, 2))\n",
    "print('__' * 15)\n",
    "print('Average Return % by Grade:') \n",
    "print(wild_port.groupby('grade').agg({'return%' : 'mean'}))\n",
    "print('__' * 15)\n",
    "print('Average Return % by Purpose:') \n",
    "print(wild_port.groupby('purpose').agg({'return%' : 'mean'}))"
   ]
  },
  {
   "cell_type": "markdown",
   "metadata": {},
   "source": [
    "## This series of cells generates 100 of each portfolio and stores its overall return, then we boxplot the result"
   ]
  },
  {
   "cell_type": "code",
   "execution_count": 179,
   "metadata": {},
   "outputs": [],
   "source": [
    "i = 0\n",
    "randomlist = []\n",
    "while i < 100:\n",
    "    random_port = accepted.sample(n = 140)\n",
    "    randomreturn = round(sum(random_port['total_pymnt'])/sum(random_port['funded_amnt']) * 100, 2)\n",
    "    randomlist.append(randomreturn)\n",
    "    i += 1"
   ]
  },
  {
   "cell_type": "code",
   "execution_count": 181,
   "metadata": {},
   "outputs": [],
   "source": [
    "i = 0\n",
    "stratifiedlist = []\n",
    "while i < 100:\n",
    "    stratified_port = accepted.groupby('grade', as_index = False).apply(lambda x: x.sample(n=20))\n",
    "    stratifiedreturn = round(sum(stratified_port['total_pymnt'])/sum(stratified_port['funded_amnt']) * 100, 2)\n",
    "    stratifiedlist.append(stratifiedreturn)\n",
    "    i += 1"
   ]
  },
  {
   "cell_type": "code",
   "execution_count": 210,
   "metadata": {},
   "outputs": [],
   "source": [
    "i = 0\n",
    "conservativelist = []\n",
    "while i < 100:    \n",
    "    conA = conservative_df[conservative_df['grade'] == 'A'].sample(n = 90)\n",
    "    conB = conservative_df[conservative_df['grade'] == 'B'].sample(n = 50)\n",
    "    conservative_port = pd.concat([conA, conB])\n",
    "    conservativereturn = round(sum(conservative_port['total_pymnt'])/sum(conservative_port['funded_amnt']) * 100, 2)\n",
    "    conservativelist.append(conservativereturn)\n",
    "    i += 1"
   ]
  },
  {
   "cell_type": "code",
   "execution_count": 183,
   "metadata": {},
   "outputs": [],
   "source": [
    "i = 0\n",
    "moderatelist = []\n",
    "while i < 100:\n",
    "    modA = moderate_df[moderate_df['grade'] == 'A'].sample(n = 50)\n",
    "    modB = moderate_df[moderate_df['grade'] == 'B'].sample(n = 40)\n",
    "    modC = moderate_df[moderate_df['grade'] == 'C'].sample(n = 30)\n",
    "    modD = moderate_df[moderate_df['grade'] == 'D'].sample(n = 20)\n",
    "    moderate_port = pd.concat([modA, modB, modC, modD])\n",
    "    moderatereturn = round(sum(moderate_port['total_pymnt'])/sum(moderate_port['funded_amnt']) * 100, 2)\n",
    "    moderatelist.append(moderatereturn)\n",
    "    i += 1"
   ]
  },
  {
   "cell_type": "code",
   "execution_count": 184,
   "metadata": {},
   "outputs": [],
   "source": [
    "i = 0\n",
    "riskylist = []\n",
    "while i < 100:\n",
    "    riskA = risky_df[risky_df['grade'] == 'A'].sample(n = 10)\n",
    "    riskB = risky_df[risky_df['grade'] == 'B'].sample(n = 10)\n",
    "    riskC = risky_df[risky_df['grade'] == 'C'].sample(n = 30)\n",
    "    riskD = risky_df[risky_df['grade'] == 'D'].sample(n = 25)\n",
    "    riskE = risky_df[risky_df['grade'] == 'E'].sample(n = 25)\n",
    "    riskF = risky_df[risky_df['grade'] == 'F'].sample(n = 20)\n",
    "    riskG = risky_df[risky_df['grade'] == 'G'].sample(n = 20)\n",
    "    risky_port = pd.concat([riskA, riskB, riskC, riskD, riskE, riskF, riskG])\n",
    "    riskyreturn = round(sum(risky_port['total_pymnt'])/sum(risky_port['funded_amnt']) * 100, 2)\n",
    "    riskylist.append(riskyreturn)\n",
    "    i += 1"
   ]
  },
  {
   "cell_type": "code",
   "execution_count": 211,
   "metadata": {},
   "outputs": [],
   "source": [
    "i = 0\n",
    "wildlist = []\n",
    "while i < 100:\n",
    "    wildE = wild_df[wild_df['grade'] == 'E'].sample(n = 35)\n",
    "    wildF = wild_df[wild_df['grade'] == 'F'].sample(n = 50)\n",
    "    wildG = wild_df[wild_df['grade'] == 'G'].sample(n = 55)\n",
    "    wild_port = pd.concat([wildE, wildF, wildG])\n",
    "    wildreturn = round(sum(wild_port['total_pymnt'])/sum(wild_port['funded_amnt']) * 100, 2)\n",
    "    wildlist.append(wildreturn)\n",
    "    i += 1"
   ]
  },
  {
   "cell_type": "code",
   "execution_count": 212,
   "metadata": {},
   "outputs": [],
   "source": [
    "combined_simulation = {'Random' : randomlist, 'Stratified' : stratifiedlist, 'Conservative' : conservativelist,\n",
    "                      'Moderate' : moderatelist, 'Risky' : riskylist, 'Wild' : wildlist}"
   ]
  },
  {
   "cell_type": "code",
   "execution_count": 213,
   "metadata": {},
   "outputs": [],
   "source": [
    "simulation_df = pd.DataFrame(data = combined_simulation)"
   ]
  },
  {
   "cell_type": "code",
   "execution_count": 245,
   "metadata": {},
   "outputs": [
    {
     "data": {
      "text/plain": [
       "122.28"
      ]
     },
     "execution_count": 245,
     "metadata": {},
     "output_type": "execute_result"
    }
   ],
   "source": [
    "max(simulation_df['Stratified'])"
   ]
  },
  {
   "cell_type": "code",
   "execution_count": 216,
   "metadata": {},
   "outputs": [
    {
     "data": {
      "image/png": "[encoded data removed]",
      "text/plain": [
       "<Figure size 432x288 with 1 Axes>"
      ]
     },
     "metadata": {
      "needs_background": "light"
     },
     "output_type": "display_data"
    }
   ],
   "source": [
    "ax = sns.boxplot(data=simulation_df)"
   ]
  },
  {
   "cell_type": "code",
   "execution_count": null,
   "metadata": {},
   "outputs": [],
   "source": []
  }
 ],
 "metadata": {
  "kernelspec": {
   "display_name": "Python 3",
   "language": "python",
   "name": "python3"
  },
  "language_info": {
   "codemirror_mode": {
    "name": "ipython",
    "version": 3
   },
   "file_extension": ".py",
   "mimetype": "text/x-python",
   "name": "python",
   "nbconvert_exporter": "python",
   "pygments_lexer": "ipython3",
   "version": "3.7.4"
  }
 },
 "nbformat": 4,
 "nbformat_minor": 2
}
