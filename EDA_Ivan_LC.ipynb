{
 "cells": [
  {
   "cell_type": "code",
   "execution_count": 2,
   "metadata": {},
   "outputs": [],
   "source": [
    "import pandas as pd\n",
    "import numpy as np\n",
    "import matplotlib.pyplot as plt\n",
    "import seaborn as sns"
   ]
  },
  {
   "cell_type": "code",
   "execution_count": 38,
   "metadata": {},
   "outputs": [],
   "source": [
    "accepted = pd.read_csv('/Users/ivanpassoni/Google Drive/LendingClub2007-2015/accepted_before_2015.csv')"
   ]
  },
  {
   "cell_type": "code",
   "execution_count": 39,
   "metadata": {},
   "outputs": [],
   "source": [
    "accepted['issue_d'] = accepted['issue_d'].astype(np.datetime64)\n",
    "accepted['last_pymnt_d'] = accepted['last_pymnt_d'].astype(np.datetime64)"
   ]
  },
  {
   "cell_type": "code",
   "execution_count": 40,
   "metadata": {},
   "outputs": [],
   "source": [
    "accepted['duration_days'] = accepted['last_pymnt_d'] - accepted['issue_d']\n",
    "accepted['duration_days'] = accepted['duration_days'].apply(lambda s: s.days)"
   ]
  },
  {
   "cell_type": "code",
   "execution_count": 247,
   "metadata": {},
   "outputs": [
    {
     "data": {
      "text/plain": [
       "0         609 days\n",
       "1         548 days\n",
       "2         121 days\n",
       "3         243 days\n",
       "5         517 days\n",
       "            ...   \n",
       "465829   1035 days\n",
       "465830   1096 days\n",
       "465831   1065 days\n",
       "465832     91 days\n",
       "465833   1796 days\n",
       "Length: 453647, dtype: timedelta64[ns]"
      ]
     },
     "execution_count": 247,
     "metadata": {},
     "output_type": "execute_result"
    }
   ],
   "source": [
    "accepted['last_pymnt_d'] - accepted['issue_d']"
   ]
  },
  {
   "cell_type": "code",
   "execution_count": 259,
   "metadata": {},
   "outputs": [],
   "source": [
    "def loan_length(d1, d2):\n",
    "    d1 = pd.to_datetime(d1)\n",
    "    d2 = pd.to_datetime(d2)\n",
    "    return (d1.year - d2.year) * 12 + d1.month - d2.month\n",
    "\n",
    "loan_months = []\n",
    "for end, start in zip(accepted['last_pymnt_d'], accepted['issue_d']):\n",
    "    loan_months.append(loan_length(end, start))\n",
    "    \n",
    "accepted['duration_months'] = loan_months"
   ]
  },
  {
   "cell_type": "code",
   "execution_count": 278,
   "metadata": {},
   "outputs": [],
   "source": [
    "# accepted.to_csv('/Users/ivanpassoni/Google Drive/LendingClub2007-2015/accepted_b_2015_clean.csv', index = False)"
   ]
  },
  {
   "cell_type": "markdown",
   "metadata": {},
   "source": [
    "### Loan count/quantity by group"
   ]
  },
  {
   "cell_type": "code",
   "execution_count": null,
   "metadata": {},
   "outputs": [],
   "source": [
    "# If we want to resize figure\n",
    "plt.figure(figsize=(12,16))"
   ]
  },
  {
   "cell_type": "code",
   "execution_count": 265,
   "metadata": {},
   "outputs": [
    {
     "data": {
      "text/plain": [
       "<matplotlib.axes._subplots.AxesSubplot at 0x14b8c7f90>"
      ]
     },
     "execution_count": 265,
     "metadata": {},
     "output_type": "execute_result"
    },
    {
     "data": {
      "image/png": "[encoded data removed]",
      "text/plain": [
       "<Figure size 432x288 with 1 Axes>"
      ]
     },
     "metadata": {
      "needs_background": "light"
     },
     "output_type": "display_data"
    }
   ],
   "source": [
    "accepted.groupby(['grade']).size().plot(kind ='bar', color ='purple' ) "
   ]
  },
  {
   "cell_type": "code",
   "execution_count": 267,
   "metadata": {},
   "outputs": [
    {
     "data": {
      "text/plain": [
       "<matplotlib.axes._subplots.AxesSubplot at 0x14b8cf750>"
      ]
     },
     "execution_count": 267,
     "metadata": {},
     "output_type": "execute_result"
    },
    {
     "data": {
      "image/png": "[encoded data removed]",
      "text/plain": [
       "<Figure size 432x288 with 1 Axes>"
      ]
     },
     "metadata": {
      "needs_background": "light"
     },
     "output_type": "display_data"
    }
   ],
   "source": [
    "accepted.groupby(['grade']).agg({'loan_amnt':'sum'}).plot(kind ='bar', color ='purple' )"
   ]
  },
  {
   "cell_type": "markdown",
   "metadata": {},
   "source": [
    "## Status of loan"
   ]
  },
  {
   "cell_type": "code",
   "execution_count": 41,
   "metadata": {},
   "outputs": [],
   "source": [
    "paid_f = ['Fully Paid', 'Does not meet the credit policy. Status:Fully Paid']\n",
    " \n",
    "current = ['Current', 'Late (16-30 days)', 'In Grace Period']\n",
    "\n",
    "defaulted = ['Default','Does not meet the credit policy. Status:Charged Off', 'Charged Off', 'Late (31-120 days)']\n",
    "\n",
    "accepted.drop(\n",
    "    index = accepted.loc[[True if row in current else False for row in accepted['loan_status']], 'loan_status'].index,\n",
    "    inplace = True)\n",
    "\n",
    "accepted['loan_status'] = accepted['loan_status'].apply(lambda s: 'FullyPaid' if s in paid_f else 'Defaulted')"
   ]
  },
  {
   "cell_type": "code",
   "execution_count": 268,
   "metadata": {},
   "outputs": [
    {
     "data": {
      "text/plain": [
       "PaidFull     376150\n",
       "Defaulted     77497\n",
       "Name: loan_status, dtype: int64"
      ]
     },
     "execution_count": 268,
     "metadata": {},
     "output_type": "execute_result"
    }
   ],
   "source": [
    "accepted['loan_status'].value_counts()"
   ]
  },
  {
   "cell_type": "code",
   "execution_count": 42,
   "metadata": {},
   "outputs": [
    {
     "data": {
      "text/html": [
       "<div>\n",
       "<style scoped>\n",
       "    .dataframe tbody tr th:only-of-type {\n",
       "        vertical-align: middle;\n",
       "    }\n",
       "\n",
       "    .dataframe tbody tr th {\n",
       "        vertical-align: top;\n",
       "    }\n",
       "\n",
       "    .dataframe thead th {\n",
       "        text-align: right;\n",
       "    }\n",
       "</style>\n",
       "<table border=\"1\" class=\"dataframe\">\n",
       "  <thead>\n",
       "    <tr style=\"text-align: right;\">\n",
       "      <th></th>\n",
       "      <th>loan_status</th>\n",
       "      <th>ratio</th>\n",
       "    </tr>\n",
       "    <tr>\n",
       "      <th>loan_status</th>\n",
       "      <th></th>\n",
       "      <th></th>\n",
       "    </tr>\n",
       "  </thead>\n",
       "  <tbody>\n",
       "    <tr>\n",
       "      <td>PaidFull</td>\n",
       "      <td>376150</td>\n",
       "      <td>82.92</td>\n",
       "    </tr>\n",
       "    <tr>\n",
       "      <td>Defaulted</td>\n",
       "      <td>77497</td>\n",
       "      <td>17.08</td>\n",
       "    </tr>\n",
       "  </tbody>\n",
       "</table>\n",
       "</div>"
      ],
      "text/plain": [
       "             loan_status  ratio\n",
       "loan_status                    \n",
       "PaidFull          376150  82.92\n",
       "Defaulted          77497  17.08"
      ]
     },
     "execution_count": 42,
     "metadata": {},
     "output_type": "execute_result"
    }
   ],
   "source": [
    "accepted['loan_status'].value_counts()\n",
    "\n",
    "status = accepted.groupby(\"loan_status\")[[\"loan_status\"]].count()\n",
    "status = accepted.groupby(\"loan_status\")[[\"loan_status\"]].count()\n",
    "status['ratio'] = ((status[['loan_status']]/accepted.shape[0])*100).round(2)\n",
    "\n",
    "status.sort_values(by=[\"ratio\"], ascending=False)"
   ]
  },
  {
   "cell_type": "markdown",
   "metadata": {},
   "source": [
    "### Interest rate by grade/subgrade"
   ]
  },
  {
   "cell_type": "code",
   "execution_count": 45,
   "metadata": {},
   "outputs": [
    {
     "data": {
      "text/html": [
       "<div>\n",
       "<style scoped>\n",
       "    .dataframe tbody tr th:only-of-type {\n",
       "        vertical-align: middle;\n",
       "    }\n",
       "\n",
       "    .dataframe tbody tr th {\n",
       "        vertical-align: top;\n",
       "    }\n",
       "\n",
       "    .dataframe thead th {\n",
       "        text-align: right;\n",
       "    }\n",
       "</style>\n",
       "<table border=\"1\" class=\"dataframe\">\n",
       "  <thead>\n",
       "    <tr style=\"text-align: right;\">\n",
       "      <th></th>\n",
       "      <th></th>\n",
       "      <th>int_rate</th>\n",
       "    </tr>\n",
       "    <tr>\n",
       "      <th>grade</th>\n",
       "      <th>sub_grade</th>\n",
       "      <th></th>\n",
       "    </tr>\n",
       "  </thead>\n",
       "  <tbody>\n",
       "    <tr>\n",
       "      <td rowspan=\"5\" valign=\"top\">A</td>\n",
       "      <td>A1</td>\n",
       "      <td>6.03</td>\n",
       "    </tr>\n",
       "    <tr>\n",
       "      <td>A2</td>\n",
       "      <td>6.62</td>\n",
       "    </tr>\n",
       "    <tr>\n",
       "      <td>A3</td>\n",
       "      <td>7.62</td>\n",
       "    </tr>\n",
       "    <tr>\n",
       "      <td>A4</td>\n",
       "      <td>7.90</td>\n",
       "    </tr>\n",
       "    <tr>\n",
       "      <td>A5</td>\n",
       "      <td>8.90</td>\n",
       "    </tr>\n",
       "    <tr>\n",
       "      <td rowspan=\"5\" valign=\"top\">B</td>\n",
       "      <td>B1</td>\n",
       "      <td>9.67</td>\n",
       "    </tr>\n",
       "    <tr>\n",
       "      <td>B2</td>\n",
       "      <td>10.99</td>\n",
       "    </tr>\n",
       "    <tr>\n",
       "      <td>B3</td>\n",
       "      <td>11.99</td>\n",
       "    </tr>\n",
       "    <tr>\n",
       "      <td>B4</td>\n",
       "      <td>12.49</td>\n",
       "    </tr>\n",
       "    <tr>\n",
       "      <td>B5</td>\n",
       "      <td>12.99</td>\n",
       "    </tr>\n",
       "    <tr>\n",
       "      <td rowspan=\"5\" valign=\"top\">C</td>\n",
       "      <td>C1</td>\n",
       "      <td>13.65</td>\n",
       "    </tr>\n",
       "    <tr>\n",
       "      <td>C2</td>\n",
       "      <td>14.16</td>\n",
       "    </tr>\n",
       "    <tr>\n",
       "      <td>C3</td>\n",
       "      <td>14.64</td>\n",
       "    </tr>\n",
       "    <tr>\n",
       "      <td>C4</td>\n",
       "      <td>15.31</td>\n",
       "    </tr>\n",
       "    <tr>\n",
       "      <td>C5</td>\n",
       "      <td>15.61</td>\n",
       "    </tr>\n",
       "    <tr>\n",
       "      <td rowspan=\"5\" valign=\"top\">D</td>\n",
       "      <td>D1</td>\n",
       "      <td>16.59</td>\n",
       "    </tr>\n",
       "    <tr>\n",
       "      <td>D2</td>\n",
       "      <td>17.57</td>\n",
       "    </tr>\n",
       "    <tr>\n",
       "      <td>D3</td>\n",
       "      <td>18.25</td>\n",
       "    </tr>\n",
       "    <tr>\n",
       "      <td>D4</td>\n",
       "      <td>18.92</td>\n",
       "    </tr>\n",
       "    <tr>\n",
       "      <td>D5</td>\n",
       "      <td>19.47</td>\n",
       "    </tr>\n",
       "    <tr>\n",
       "      <td rowspan=\"5\" valign=\"top\">E</td>\n",
       "      <td>E1</td>\n",
       "      <td>18.99</td>\n",
       "    </tr>\n",
       "    <tr>\n",
       "      <td>E2</td>\n",
       "      <td>20.49</td>\n",
       "    </tr>\n",
       "    <tr>\n",
       "      <td>E3</td>\n",
       "      <td>20.99</td>\n",
       "    </tr>\n",
       "    <tr>\n",
       "      <td>E4</td>\n",
       "      <td>21.98</td>\n",
       "    </tr>\n",
       "    <tr>\n",
       "      <td>E5</td>\n",
       "      <td>22.45</td>\n",
       "    </tr>\n",
       "    <tr>\n",
       "      <td rowspan=\"5\" valign=\"top\">F</td>\n",
       "      <td>F1</td>\n",
       "      <td>23.43</td>\n",
       "    </tr>\n",
       "    <tr>\n",
       "      <td>F2</td>\n",
       "      <td>24.08</td>\n",
       "    </tr>\n",
       "    <tr>\n",
       "      <td>F3</td>\n",
       "      <td>24.50</td>\n",
       "    </tr>\n",
       "    <tr>\n",
       "      <td>F4</td>\n",
       "      <td>24.99</td>\n",
       "    </tr>\n",
       "    <tr>\n",
       "      <td>F5</td>\n",
       "      <td>25.57</td>\n",
       "    </tr>\n",
       "    <tr>\n",
       "      <td rowspan=\"5\" valign=\"top\">G</td>\n",
       "      <td>G1</td>\n",
       "      <td>25.80</td>\n",
       "    </tr>\n",
       "    <tr>\n",
       "      <td>G2</td>\n",
       "      <td>25.83</td>\n",
       "    </tr>\n",
       "    <tr>\n",
       "      <td>G3</td>\n",
       "      <td>25.89</td>\n",
       "    </tr>\n",
       "    <tr>\n",
       "      <td>G4</td>\n",
       "      <td>25.99</td>\n",
       "    </tr>\n",
       "    <tr>\n",
       "      <td>G5</td>\n",
       "      <td>26.06</td>\n",
       "    </tr>\n",
       "  </tbody>\n",
       "</table>\n",
       "</div>"
      ],
      "text/plain": [
       "                 int_rate\n",
       "grade sub_grade          \n",
       "A     A1             6.03\n",
       "      A2             6.62\n",
       "      A3             7.62\n",
       "      A4             7.90\n",
       "      A5             8.90\n",
       "B     B1             9.67\n",
       "      B2            10.99\n",
       "      B3            11.99\n",
       "      B4            12.49\n",
       "      B5            12.99\n",
       "C     C1            13.65\n",
       "      C2            14.16\n",
       "      C3            14.64\n",
       "      C4            15.31\n",
       "      C5            15.61\n",
       "D     D1            16.59\n",
       "      D2            17.57\n",
       "      D3            18.25\n",
       "      D4            18.92\n",
       "      D5            19.47\n",
       "E     E1            18.99\n",
       "      E2            20.49\n",
       "      E3            20.99\n",
       "      E4            21.98\n",
       "      E5            22.45\n",
       "F     F1            23.43\n",
       "      F2            24.08\n",
       "      F3            24.50\n",
       "      F4            24.99\n",
       "      F5            25.57\n",
       "G     G1            25.80\n",
       "      G2            25.83\n",
       "      G3            25.89\n",
       "      G4            25.99\n",
       "      G5            26.06"
      ]
     },
     "execution_count": 45,
     "metadata": {},
     "output_type": "execute_result"
    }
   ],
   "source": [
    "#Median interest rate by grade\n",
    "accepted.groupby(['grade', 'sub_grade']).agg({\"int_rate\":\"median\"})"
   ]
  },
  {
   "cell_type": "code",
   "execution_count": 47,
   "metadata": {},
   "outputs": [
    {
     "data": {
      "text/plain": [
       "<matplotlib.axes._subplots.AxesSubplot at 0x1408d7e10>"
      ]
     },
     "execution_count": 47,
     "metadata": {},
     "output_type": "execute_result"
    },
    {
     "data": {
      "image/png": "[encoded data removed]",
      "text/plain": [
       "<Figure size 432x288 with 1 Axes>"
      ]
     },
     "metadata": {
      "needs_background": "light"
     },
     "output_type": "display_data"
    }
   ],
   "source": [
    "#bar charts for median interest rate by grade\n",
    "int_r = accepted.groupby(['grade']).agg({\"int_rate\":\"median\"})\n",
    "int_r.plot.barh()"
   ]
  },
  {
   "cell_type": "markdown",
   "metadata": {},
   "source": [
    "### Percentage of term by grade "
   ]
  },
  {
   "cell_type": "code",
   "execution_count": 155,
   "metadata": {},
   "outputs": [],
   "source": [
    "term_by_grade = accepted.groupby(['grade', 'term']).agg({'id':'count'})\n",
    "term_by_grade.columns = pd.Index(['count'])\n",
    "count_by_grade = term_by_grade.groupby('grade').agg({'count':'sum'})\n",
    "count_by_grade.columns = pd.Index(['total_by_grade'])"
   ]
  },
  {
   "cell_type": "code",
   "execution_count": 156,
   "metadata": {},
   "outputs": [],
   "source": [
    "temp = term_by_grade.index\n",
    "term_by_grade = term_by_grade.merge(count_by_grade, how = 'left', on = 'grade')\n",
    "term_by_grade.index = temp"
   ]
  },
  {
   "cell_type": "code",
   "execution_count": 164,
   "metadata": {},
   "outputs": [],
   "source": [
    "term_by_grade['percentage'] = term_by_grade['count']/term_by_grade['total_by_grade']\n",
    "term_by_grade.drop(columns = ['count', 'total_by_grade'], inplace = True)\n",
    "term_by_grade.reset_index(inplace = True)"
   ]
  },
  {
   "cell_type": "code",
   "execution_count": 208,
   "metadata": {},
   "outputs": [
    {
     "data": {
      "text/plain": [
       "<matplotlib.legend.Legend at 0x144e99c10>"
      ]
     },
     "execution_count": 208,
     "metadata": {},
     "output_type": "execute_result"
    },
    {
     "data": {
      "image/png": "[encoded data removed]",
      "text/plain": [
       "<Figure size 432x288 with 1 Axes>"
      ]
     },
     "metadata": {
      "needs_background": "light"
     },
     "output_type": "display_data"
    }
   ],
   "source": [
    "x = ['A','B','C','D','E','F','G']\n",
    "\n",
    "short_term = term_by_grade.loc[term_by_grade['term'] == ' 36 months', :]\n",
    "long_term = term_by_grade.loc[term_by_grade['term'] == ' 60 months', :]\n",
    "# plt.bar(x, term_by_grade['percentage'])\n",
    "# plt.xticks(rotation=90)\n",
    "\n",
    "plt.bar(x, short_term['percentage'], color='#b5ffb9', edgecolor='white', label=\"36 months\")\n",
    "\n",
    "plt.bar(x, long_term['percentage'], bottom=short_term['percentage'], color='#f9bc86', edgecolor='white', label=\"60 months\")\n",
    "plt.legend()"
   ]
  },
  {
   "cell_type": "markdown",
   "metadata": {},
   "source": [
    "### Return by grade"
   ]
  },
  {
   "cell_type": "code",
   "execution_count": 226,
   "metadata": {},
   "outputs": [],
   "source": [
    "accepted['invest_return_per'] = (accepted['total_pymnt'] - accepted['funded_amnt'])/accepted['funded_amnt']\n",
    "accepted['invest_return'] = accepted['total_pymnt'] - accepted['funded_amnt']"
   ]
  },
  {
   "cell_type": "code",
   "execution_count": 239,
   "metadata": {},
   "outputs": [
    {
     "data": {
      "text/plain": [
       "<seaborn.axisgrid.FacetGrid at 0x1446d21d0>"
      ]
     },
     "execution_count": 239,
     "metadata": {},
     "output_type": "execute_result"
    },
    {
     "data": {
      "image/png": "[encoded data removed]",
      "text/plain": [
       "<Figure size 360x360 with 1 Axes>"
      ]
     },
     "metadata": {
      "needs_background": "light"
     },
     "output_type": "display_data"
    },
    {
     "data": {
      "image/png": "[encoded data removed]",
      "text/plain": [
       "<Figure size 360x360 with 1 Axes>"
      ]
     },
     "metadata": {
      "needs_background": "light"
     },
     "output_type": "display_data"
    }
   ],
   "source": [
    "sns.catplot(x='grade', y='invest_return_per', kind=\"box\", data=accepted, order = x)\n",
    "\n",
    "\n",
    "sns.catplot(x='grade', y='invest_return_per', kind=\"box\", data=accepted.loc[accepted['loan_status'] == 'PaidFull', :], order = x)"
   ]
  },
  {
   "cell_type": "code",
   "execution_count": 241,
   "metadata": {},
   "outputs": [
    {
     "data": {
      "text/plain": [
       "<seaborn.axisgrid.FacetGrid at 0x147c3f050>"
      ]
     },
     "execution_count": 241,
     "metadata": {},
     "output_type": "execute_result"
    },
    {
     "data": {
      "image/png": "[encoded data removed]",
      "text/plain": [
       "<Figure size 452.375x360 with 1 Axes>"
      ]
     },
     "metadata": {
      "needs_background": "light"
     },
     "output_type": "display_data"
    }
   ],
   "source": [
    "sns.catplot(x='grade', y='invest_return_per', kind='box', hue='term', data=accepted, order=x)"
   ]
  },
  {
   "cell_type": "code",
   "execution_count": 273,
   "metadata": {},
   "outputs": [
    {
     "data": {
      "text/plain": [
       "<matplotlib.axes._subplots.AxesSubplot at 0x14e0748d0>"
      ]
     },
     "execution_count": 273,
     "metadata": {},
     "output_type": "execute_result"
    },
    {
     "data": {
      "image/png": "[encoded data removed]",
      "text/plain": [
       "<Figure size 432x288 with 1 Axes>"
      ]
     },
     "metadata": {
      "needs_background": "light"
     },
     "output_type": "display_data"
    },
    {
     "data": {
      "image/png": "[encoded data removed]",
      "text/plain": [
       "<Figure size 432x288 with 1 Axes>"
      ]
     },
     "metadata": {
      "needs_background": "light"
     },
     "output_type": "display_data"
    },
    {
     "data": {
      "image/png": "[encoded data removed]",
      "text/plain": [
       "<Figure size 432x288 with 1 Axes>"
      ]
     },
     "metadata": {
      "needs_background": "light"
     },
     "output_type": "display_data"
    }
   ],
   "source": [
    "inv_return_total = accepted.groupby(['grade', 'sub_grade']).agg({'invest_return':'mean', 'invest_return_per':'mean'})\n",
    "\n",
    "inv_return_fully_paid = accepted.loc[accepted['loan_status'] == 'PaidFull', :].groupby(['grade','sub_grade']).agg({'invest_return':'mean', 'invest_return_per':'mean'})\n",
    "\n",
    "inv_return_fully_default = accepted.loc[accepted['loan_status'] == 'Defaulted', :].groupby(['grade','sub_grade']).agg({'invest_return':'mean', 'invest_return_per':'mean'})\n",
    "\n",
    "inv_return_total = inv_return_total.reset_index().drop(columns  = 'grade')\n",
    "inv_return_total.plot.bar(x = 'sub_grade', y = 'invest_return_per')\n",
    "\n",
    "inv_return_fully_paid = inv_return_fully_paid.reset_index().drop(columns  = 'grade')\n",
    "inv_return_fully_paid.plot.bar(x = 'sub_grade', y = 'invest_return_per')\n",
    "\n",
    "inv_return_fully_default = inv_return_fully_default.reset_index().drop(columns  = 'grade')\n",
    "inv_return_fully_default.plot.bar(x = 'sub_grade', y = 'invest_return_per')"
   ]
  },
  {
   "cell_type": "markdown",
   "metadata": {},
   "source": [
    "### Survival of loan"
   ]
  },
  {
   "cell_type": "code",
   "execution_count": 255,
   "metadata": {},
   "outputs": [],
   "source": [
    "survival_days = accepted.groupby(['grade', 'term']).agg({'duration_days':'mean'}).reset_index()"
   ]
  },
  {
   "cell_type": "code",
   "execution_count": 256,
   "metadata": {},
   "outputs": [],
   "source": [
    "survival_days['term'] = survival_days['term'].apply(lambda s: 1095 if s == ' 36 months' else 5*365)"
   ]
  },
  {
   "cell_type": "code",
   "execution_count": 257,
   "metadata": {},
   "outputs": [
    {
     "data": {
      "text/html": [
       "<div>\n",
       "<style scoped>\n",
       "    .dataframe tbody tr th:only-of-type {\n",
       "        vertical-align: middle;\n",
       "    }\n",
       "\n",
       "    .dataframe tbody tr th {\n",
       "        vertical-align: top;\n",
       "    }\n",
       "\n",
       "    .dataframe thead th {\n",
       "        text-align: right;\n",
       "    }\n",
       "</style>\n",
       "<table border=\"1\" class=\"dataframe\">\n",
       "  <thead>\n",
       "    <tr style=\"text-align: right;\">\n",
       "      <th></th>\n",
       "      <th>grade</th>\n",
       "      <th>term</th>\n",
       "      <th>duration_days</th>\n",
       "    </tr>\n",
       "  </thead>\n",
       "  <tbody>\n",
       "    <tr>\n",
       "      <td>0</td>\n",
       "      <td>A</td>\n",
       "      <td>1095</td>\n",
       "      <td>794.082350</td>\n",
       "    </tr>\n",
       "    <tr>\n",
       "      <td>1</td>\n",
       "      <td>A</td>\n",
       "      <td>1825</td>\n",
       "      <td>1111.497714</td>\n",
       "    </tr>\n",
       "    <tr>\n",
       "      <td>2</td>\n",
       "      <td>B</td>\n",
       "      <td>1095</td>\n",
       "      <td>770.431343</td>\n",
       "    </tr>\n",
       "    <tr>\n",
       "      <td>3</td>\n",
       "      <td>B</td>\n",
       "      <td>1825</td>\n",
       "      <td>1027.761885</td>\n",
       "    </tr>\n",
       "    <tr>\n",
       "      <td>4</td>\n",
       "      <td>C</td>\n",
       "      <td>1095</td>\n",
       "      <td>736.224938</td>\n",
       "    </tr>\n",
       "    <tr>\n",
       "      <td>5</td>\n",
       "      <td>C</td>\n",
       "      <td>1825</td>\n",
       "      <td>972.826170</td>\n",
       "    </tr>\n",
       "    <tr>\n",
       "      <td>6</td>\n",
       "      <td>D</td>\n",
       "      <td>1095</td>\n",
       "      <td>715.429776</td>\n",
       "    </tr>\n",
       "    <tr>\n",
       "      <td>7</td>\n",
       "      <td>D</td>\n",
       "      <td>1825</td>\n",
       "      <td>891.120647</td>\n",
       "    </tr>\n",
       "    <tr>\n",
       "      <td>8</td>\n",
       "      <td>E</td>\n",
       "      <td>1095</td>\n",
       "      <td>692.056145</td>\n",
       "    </tr>\n",
       "    <tr>\n",
       "      <td>9</td>\n",
       "      <td>E</td>\n",
       "      <td>1825</td>\n",
       "      <td>853.585663</td>\n",
       "    </tr>\n",
       "    <tr>\n",
       "      <td>10</td>\n",
       "      <td>F</td>\n",
       "      <td>1095</td>\n",
       "      <td>679.775868</td>\n",
       "    </tr>\n",
       "    <tr>\n",
       "      <td>11</td>\n",
       "      <td>F</td>\n",
       "      <td>1825</td>\n",
       "      <td>810.942330</td>\n",
       "    </tr>\n",
       "    <tr>\n",
       "      <td>12</td>\n",
       "      <td>G</td>\n",
       "      <td>1095</td>\n",
       "      <td>691.808858</td>\n",
       "    </tr>\n",
       "    <tr>\n",
       "      <td>13</td>\n",
       "      <td>G</td>\n",
       "      <td>1825</td>\n",
       "      <td>754.854205</td>\n",
       "    </tr>\n",
       "  </tbody>\n",
       "</table>\n",
       "</div>"
      ],
      "text/plain": [
       "   grade  term  duration_days\n",
       "0      A  1095     794.082350\n",
       "1      A  1825    1111.497714\n",
       "2      B  1095     770.431343\n",
       "3      B  1825    1027.761885\n",
       "4      C  1095     736.224938\n",
       "5      C  1825     972.826170\n",
       "6      D  1095     715.429776\n",
       "7      D  1825     891.120647\n",
       "8      E  1095     692.056145\n",
       "9      E  1825     853.585663\n",
       "10     F  1095     679.775868\n",
       "11     F  1825     810.942330\n",
       "12     G  1095     691.808858\n",
       "13     G  1825     754.854205"
      ]
     },
     "execution_count": 257,
     "metadata": {},
     "output_type": "execute_result"
    }
   ],
   "source": [
    "survival_days"
   ]
  },
  {
   "cell_type": "code",
   "execution_count": 258,
   "metadata": {},
   "outputs": [
    {
     "data": {
      "text/plain": [
       "<matplotlib.axes._subplots.AxesSubplot at 0x135c51290>"
      ]
     },
     "execution_count": 258,
     "metadata": {},
     "output_type": "execute_result"
    },
    {
     "data": {
      "image/png": "[encoded data removed]",
      "text/plain": [
       "<Figure size 432x288 with 1 Axes>"
      ]
     },
     "metadata": {
      "needs_background": "light"
     },
     "output_type": "display_data"
    }
   ],
   "source": [
    "sns.barplot(x = 'grade', y = 'duration_days', hue = 'term', data = survival_days)"
   ]
  },
  {
   "cell_type": "code",
   "execution_count": 260,
   "metadata": {},
   "outputs": [],
   "source": [
    "survival_months = accepted.groupby(['grade', 'term']).agg({'duration_months':'mean'}).reset_index()"
   ]
  },
  {
   "cell_type": "code",
   "execution_count": 262,
   "metadata": {},
   "outputs": [
    {
     "data": {
      "text/plain": [
       "<matplotlib.axes._subplots.AxesSubplot at 0x1499b7450>"
      ]
     },
     "execution_count": 262,
     "metadata": {},
     "output_type": "execute_result"
    },
    {
     "data": {
      "image/png": "[encoded data removed]",
      "text/plain": [
       "<Figure size 432x288 with 1 Axes>"
      ]
     },
     "metadata": {
      "needs_background": "light"
     },
     "output_type": "display_data"
    }
   ],
   "source": [
    "sns.barplot(x = 'grade', y = 'duration_months', hue = 'term', data = survival_months)"
   ]
  },
  {
   "cell_type": "markdown",
   "metadata": {},
   "source": [
    "### Purpose"
   ]
  },
  {
   "cell_type": "code",
   "execution_count": null,
   "metadata": {},
   "outputs": [],
   "source": []
  }
 ],
 "metadata": {
  "kernelspec": {
   "display_name": "Python 3",
   "language": "python",
   "name": "python3"
  },
  "language_info": {
   "codemirror_mode": {
    "name": "ipython",
    "version": 3
   },
   "file_extension": ".py",
   "mimetype": "text/x-python",
   "name": "python",
   "nbconvert_exporter": "python",
   "pygments_lexer": "ipython3",
   "version": "3.7.4"
  }
 },
 "nbformat": 4,
 "nbformat_minor": 2
}
