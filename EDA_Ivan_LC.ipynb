{
 "cells": [
  {
   "cell_type": "code",
   "execution_count": 2,
   "metadata": {},
   "outputs": [],
   "source": [
    "import pandas as pd\n",
    "import numpy as np\n",
    "import matplotlib.pyplot as plt\n",
    "import seaborn as sns"
   ]
  },
  {
   "cell_type": "markdown",
   "metadata": {},
   "source": [
    "# Encoding cat variables for Random Forest/Xgboost"
   ]
  },
  {
   "cell_type": "code",
   "execution_count": 6,
   "metadata": {},
   "outputs": [],
   "source": [
    "parse_dates = ['issue_d', 'last_pymnt_d', 'earliest_cr_line', 'last_credit_pull_d']\n",
    "accepted = pd.read_csv('/Users/ivanpassoni/Google Drive/LendingClubData/accepted_b_2015.csv',\n",
    "                       low_memory = False, parse_dates = parse_dates)"
   ]
  },
  {
   "cell_type": "code",
   "execution_count": 8,
   "metadata": {},
   "outputs": [],
   "source": [
    "post_loan_columns = ['verification_status', 'loan_status', 'out_prncp',\n",
    "                     'total_pymnt','total_rec_prncp','total_rec_int',\n",
    "                     'total_rec_late_fee', 'recoveries', \n",
    "                     'collection_recovery_fee', 'last_pymnt_d',\n",
    "                     'last_pymnt_amnt','last_credit_pull_d', \n",
    "                     'last_fico_range_high','last_fico_range_low',\n",
    "                     'duration_days','duration_months','invest_return_per',\n",
    "                     'invest_return']\n",
    "#Not sure about verification_status"
   ]
  },
  {
   "cell_type": "code",
   "execution_count": 9,
   "metadata": {},
   "outputs": [],
   "source": [
    "#Remove from features\n",
    "remove_columns = ['issue_d', 'id']\n",
    "\n",
    "\n",
    "#Count columns\n",
    "counting_columns = ['delinq_2yrs','inq_last_6mths', 'open_acc', \n",
    "                    'pub_rec', 'total_acc', 'collections_12_mths_ex_med', \n",
    "                    'acc_now_delinq', 'chargeoff_within_12_mths', \n",
    "                    'mort_acc','num_accts_ever_120_pd', 'num_actv_bc_tl', \n",
    "                    'num_bc_sats', 'num_bc_tl', 'num_il_tl', 'num_op_rev_tl',\n",
    "                    'num_rev_accts', 'num_rev_tl_bal_gt_0', 'num_sats',\n",
    "                    'num_tl_120dpd_2m', 'num_tl_30dpd','num_tl_90g_dpd_24m', \n",
    "                    'num_tl_op_past_12m', 'pub_rec_bankruptcies', 'tax_liens',\n",
    "                    'acc_open_past_24mths', 'num_actv_rev_tl']\n",
    "\n",
    "\n",
    "# Categorical\n",
    "cat_columns = ['term', 'home_ownership', 'purpose', 'addr_state', 'initial_list_status']\n",
    "\n",
    "#Ordinal\n",
    "ordinal_columns = ['grade', 'sub_grade', 'emp_length']\n",
    "\n",
    "#earliest_cr_line is a datetime column. The rest is the number of months since something\n",
    "time_columns = ['mo_sin_old_rev_tl_op', 'mo_sin_rcnt_tl', \n",
    "                'mths_since_recent_bc','mo_sin_rcnt_rev_tl_op',\n",
    "                'earliest_cr_line']\n",
    "\n",
    "non_continuous_columns = counting_columns + cat_columns + ordinal_columns + time_columns\n",
    "continuous_columns = ['loan_amnt','funded_amnt','int_rate',\n",
    "                      'installment','annual_inc','dti',\n",
    "                      'fico_range_low','fico_range_high',\n",
    "                      'revol_bal','revol_util','tot_coll_amt',\n",
    "                      'tot_cur_bal','total_rev_hi_lim',\n",
    "                      'avg_cur_bal','bc_open_to_buy','bc_util',\n",
    "                      'delinq_amnt','pct_tl_nvr_dlq',\n",
    "                      'percent_bc_gt_75','tot_hi_cred_lim',\n",
    "                      'total_bal_ex_mort','total_bc_limit',\n",
    "                      'total_il_high_credit_limit']\n",
    "\n",
    "feature_columns = continuous_columns + non_continuous_columns"
   ]
  },
  {
   "cell_type": "code",
   "execution_count": 13,
   "metadata": {},
   "outputs": [],
   "source": [
    "import category_encoders as ce\n",
    "\n",
    "sub_grades = sorted(accepted['sub_grade'].unique())\n",
    "sub_grade_map = {e:i for i, e in enumerate(sub_grades)}\n",
    "\n",
    "emp_lengths = sorted(accepted['emp_length'].unique())\n",
    "emp_length_map = {e:i for i, e in zip([1, 10, 2, 3, 4, 5, 6, 7, 8, 9, 0], emp_lengths)}\n",
    "\n",
    "\n",
    "mapping=[{'col':'sub_grade' , 'mapping':sub_grade_map}, \n",
    "         {'col':'emp_length', 'mapping':emp_length_map}]\n",
    "\n",
    "for col in cat_columns:\n",
    "    col_map = {e:i for i, e in enumerate(sorted(accepted[col].unique()))}\n",
    "    mapping.append({'col':col, 'mapping': col_map})\n",
    "\n",
    "# droping grade since it is redundant with sub_grade\n",
    "accepted.drop(columns = 'grade', inplace = True)\n",
    "ordinal_columns.remove('grade')\n",
    "feature_columns.remove('grade')\n",
    "non_continuous_columns.remove('grade')"
   ]
  },
  {
   "cell_type": "code",
   "execution_count": 14,
   "metadata": {},
   "outputs": [
    {
     "name": "stdout",
     "output_type": "stream",
     "text": [
      "<class 'pandas.core.frame.DataFrame'>\n",
      "RangeIndex: 453776 entries, 0 to 453775\n",
      "Data columns (total 61 columns):\n",
      "loan_amnt                     453776 non-null float64\n",
      "funded_amnt                   453776 non-null float64\n",
      "int_rate                      453776 non-null float64\n",
      "installment                   453776 non-null float64\n",
      "annual_inc                    453776 non-null float64\n",
      "dti                           453776 non-null float64\n",
      "fico_range_low                453776 non-null float64\n",
      "fico_range_high               453776 non-null float64\n",
      "revol_bal                     453776 non-null float64\n",
      "revol_util                    453776 non-null float64\n",
      "tot_coll_amt                  453776 non-null float64\n",
      "tot_cur_bal                   453776 non-null float64\n",
      "total_rev_hi_lim              453776 non-null float64\n",
      "avg_cur_bal                   453776 non-null float64\n",
      "bc_open_to_buy                453776 non-null float64\n",
      "bc_util                       453776 non-null float64\n",
      "delinq_amnt                   453776 non-null float64\n",
      "pct_tl_nvr_dlq                453776 non-null float64\n",
      "percent_bc_gt_75              453776 non-null float64\n",
      "tot_hi_cred_lim               453776 non-null float64\n",
      "total_bal_ex_mort             453776 non-null float64\n",
      "total_bc_limit                453776 non-null float64\n",
      "total_il_high_credit_limit    453776 non-null float64\n",
      "delinq_2yrs                   453776 non-null float64\n",
      "inq_last_6mths                453776 non-null float64\n",
      "open_acc                      453776 non-null float64\n",
      "pub_rec                       453776 non-null float64\n",
      "total_acc                     453776 non-null float64\n",
      "collections_12_mths_ex_med    453776 non-null float64\n",
      "acc_now_delinq                453776 non-null float64\n",
      "chargeoff_within_12_mths      453776 non-null float64\n",
      "mort_acc                      453776 non-null float64\n",
      "num_accts_ever_120_pd         453776 non-null float64\n",
      "num_actv_bc_tl                453776 non-null float64\n",
      "num_bc_sats                   453776 non-null float64\n",
      "num_bc_tl                     453776 non-null float64\n",
      "num_il_tl                     453776 non-null float64\n",
      "num_op_rev_tl                 453776 non-null float64\n",
      "num_rev_accts                 453776 non-null float64\n",
      "num_rev_tl_bal_gt_0           453776 non-null float64\n",
      "num_sats                      453776 non-null float64\n",
      "num_tl_120dpd_2m              453776 non-null float64\n",
      "num_tl_30dpd                  453776 non-null float64\n",
      "num_tl_90g_dpd_24m            453776 non-null float64\n",
      "num_tl_op_past_12m            453776 non-null float64\n",
      "pub_rec_bankruptcies          453776 non-null float64\n",
      "tax_liens                     453776 non-null float64\n",
      "acc_open_past_24mths          453776 non-null float64\n",
      "num_actv_rev_tl               453776 non-null float64\n",
      "term                          453776 non-null int64\n",
      "home_ownership                453776 non-null int64\n",
      "purpose                       453776 non-null int64\n",
      "addr_state                    453776 non-null int64\n",
      "initial_list_status           453776 non-null int64\n",
      "sub_grade                     453776 non-null int64\n",
      "emp_length                    453776 non-null int64\n",
      "mo_sin_old_rev_tl_op          453776 non-null float64\n",
      "mo_sin_rcnt_tl                453776 non-null float64\n",
      "mths_since_recent_bc          453776 non-null float64\n",
      "mo_sin_rcnt_rev_tl_op         453776 non-null float64\n",
      "earliest_cr_line              453776 non-null datetime64[ns]\n",
      "dtypes: datetime64[ns](1), float64(53), int64(7)\n",
      "memory usage: 211.2 MB\n"
     ]
    }
   ],
   "source": [
    "encoder = ce.OrdinalEncoder(cols= cat_columns + ordinal_columns, \n",
    "                            mapping=mapping)\n",
    "\n",
    "y = accepted['loan_status']\n",
    "\n",
    "encoder.fit(accepted, y)\n",
    "\n",
    "encoder.transform(accepted)[feature_columns].info()"
   ]
  },
  {
   "cell_type": "markdown",
   "metadata": {},
   "source": [
    "# -----------------------------------------------------------------------------------------"
   ]
  },
  {
   "cell_type": "markdown",
   "metadata": {},
   "source": [
    "### Loan count/quantity by group"
   ]
  },
  {
   "cell_type": "code",
   "execution_count": null,
   "metadata": {},
   "outputs": [],
   "source": [
    "# If we want to resize figure\n",
    "plt.figure(figsize=(12,16))"
   ]
  },
  {
   "cell_type": "code",
   "execution_count": 265,
   "metadata": {},
   "outputs": [
    {
     "data": {
      "text/plain": [
       "<matplotlib.axes._subplots.AxesSubplot at 0x14b8c7f90>"
      ]
     },
     "execution_count": 265,
     "metadata": {},
     "output_type": "execute_result"
    },
    {
     "data": {
      "image/png": "[encoded data removed]",
      "text/plain": [
       "<Figure size 432x288 with 1 Axes>"
      ]
     },
     "metadata": {
      "needs_background": "light"
     },
     "output_type": "display_data"
    }
   ],
   "source": [
    "accepted.groupby(['grade']).size().plot(kind ='bar', color ='purple') "
   ]
  },
  {
   "cell_type": "code",
   "execution_count": 267,
   "metadata": {},
   "outputs": [
    {
     "data": {
      "text/plain": [
       "<matplotlib.axes._subplots.AxesSubplot at 0x14b8cf750>"
      ]
     },
     "execution_count": 267,
     "metadata": {},
     "output_type": "execute_result"
    },
    {
     "data": {
      "image/png": "[encoded data removed]",
      "text/plain": [
       "<Figure size 432x288 with 1 Axes>"
      ]
     },
     "metadata": {
      "needs_background": "light"
     },
     "output_type": "display_data"
    }
   ],
   "source": [
    "accepted.groupby(['grade']).agg({'loan_amnt':'sum'}).plot(kind ='bar', color ='purple')"
   ]
  },
  {
   "cell_type": "markdown",
   "metadata": {},
   "source": [
    "## Loan default rate by grade"
   ]
  },
  {
   "cell_type": "code",
   "execution_count": 37,
   "metadata": {},
   "outputs": [],
   "source": [
    "grade_lstatus = accepted.groupby(['grade', 'loan_status']).size().reset_index().rename(columns = {0:'count'})\n",
    "grade_lstatus = grade_lstatus.merge(grade_lstatus.groupby('grade').agg({'count':'sum'}), on = 'grade')\n",
    "grade_lstatus['prop'] = grade_lstatus['count_x']/grade_lstatus['count_y']\n",
    "grade_lstatus.drop(columns = ['count_x', 'count_y'], inplace = True)"
   ]
  },
  {
   "cell_type": "code",
   "execution_count": 95,
   "metadata": {},
   "outputs": [
    {
     "data": {
      "text/plain": [
       "<matplotlib.legend.Legend at 0x1334ce7d0>"
      ]
     },
     "execution_count": 95,
     "metadata": {},
     "output_type": "execute_result"
    },
    {
     "data": {
      "image/png": "[encoded data removed]",
      "text/plain": [
       "<Figure size 432x288 with 1 Axes>"
      ]
     },
     "metadata": {
      "needs_background": "light"
     },
     "output_type": "display_data"
    }
   ],
   "source": [
    "x = ['A','B','C','D','E','F','G']\n",
    "grade_lstatus\n",
    "defaulted = grade_lstatus.loc[grade_lstatus['loan_status'] == 'Defaulted', :]\n",
    "fullypaid = grade_lstatus.loc[grade_lstatus['loan_status'] == 'FullyPaid', :]\n",
    "# # plt.bar(x, term_by_grade['percentage'])\n",
    "# # plt.xticks(rotation=90)\n",
    "\n",
    "plt.bar(x, fullypaid['prop'], color='#00ff80', edgecolor='white', label=\"Fully Paid\")\n",
    "\n",
    "plt.bar(x, defaulted['prop'], bottom=fullypaid['prop'], color='#ff5000', edgecolor='white', label=\"Defaulted\")\n",
    "plt.legend()"
   ]
  },
  {
   "cell_type": "code",
   "execution_count": 64,
   "metadata": {},
   "outputs": [
    {
     "data": {
      "text/html": [
       "<div>\n",
       "<style scoped>\n",
       "    .dataframe tbody tr th:only-of-type {\n",
       "        vertical-align: middle;\n",
       "    }\n",
       "\n",
       "    .dataframe tbody tr th {\n",
       "        vertical-align: top;\n",
       "    }\n",
       "\n",
       "    .dataframe thead th {\n",
       "        text-align: right;\n",
       "    }\n",
       "</style>\n",
       "<table border=\"1\" class=\"dataframe\">\n",
       "  <thead>\n",
       "    <tr style=\"text-align: right;\">\n",
       "      <th></th>\n",
       "      <th>Default Rate</th>\n",
       "    </tr>\n",
       "    <tr>\n",
       "      <th>grade</th>\n",
       "      <th></th>\n",
       "    </tr>\n",
       "  </thead>\n",
       "  <tbody>\n",
       "    <tr>\n",
       "      <td>A</td>\n",
       "      <td>5.599882</td>\n",
       "    </tr>\n",
       "    <tr>\n",
       "      <td>B</td>\n",
       "      <td>11.294412</td>\n",
       "    </tr>\n",
       "    <tr>\n",
       "      <td>C</td>\n",
       "      <td>18.674157</td>\n",
       "    </tr>\n",
       "    <tr>\n",
       "      <td>D</td>\n",
       "      <td>25.222605</td>\n",
       "    </tr>\n",
       "    <tr>\n",
       "      <td>E</td>\n",
       "      <td>32.454768</td>\n",
       "    </tr>\n",
       "    <tr>\n",
       "      <td>F</td>\n",
       "      <td>36.702295</td>\n",
       "    </tr>\n",
       "    <tr>\n",
       "      <td>G</td>\n",
       "      <td>41.751269</td>\n",
       "    </tr>\n",
       "  </tbody>\n",
       "</table>\n",
       "</div>"
      ],
      "text/plain": [
       "       Default Rate\n",
       "grade              \n",
       "A          5.599882\n",
       "B         11.294412\n",
       "C         18.674157\n",
       "D         25.222605\n",
       "E         32.454768\n",
       "F         36.702295\n",
       "G         41.751269"
      ]
     },
     "execution_count": 64,
     "metadata": {},
     "output_type": "execute_result"
    }
   ],
   "source": [
    "defaulted.drop(columns = 'loan_status').set_index('grade').rename(columns={'prop':'Default Rate'})*100"
   ]
  },
  {
   "cell_type": "markdown",
   "metadata": {},
   "source": [
    "### Default by purpose"
   ]
  },
  {
   "cell_type": "code",
   "execution_count": 102,
   "metadata": {},
   "outputs": [],
   "source": [
    "purpose_lstatus = accepted.groupby(['purpose', 'loan_status']).size().reset_index().rename(columns = {0:'count'})\n",
    "purpose_lstatus = purpose_lstatus.merge(purpose_lstatus.groupby('purpose').agg({'count':'sum'}), on = 'purpose')\n",
    "purpose_lstatus['prop'] = purpose_lstatus['count_x']/purpose_lstatus['count_y']\n",
    "purpose_lstatus.drop(columns = ['count_x', 'count_y'], inplace = True)"
   ]
  },
  {
   "cell_type": "code",
   "execution_count": 104,
   "metadata": {},
   "outputs": [
    {
     "data": {
      "text/html": [
       "<div>\n",
       "<style scoped>\n",
       "    .dataframe tbody tr th:only-of-type {\n",
       "        vertical-align: middle;\n",
       "    }\n",
       "\n",
       "    .dataframe tbody tr th {\n",
       "        vertical-align: top;\n",
       "    }\n",
       "\n",
       "    .dataframe thead th {\n",
       "        text-align: right;\n",
       "    }\n",
       "</style>\n",
       "<table border=\"1\" class=\"dataframe\">\n",
       "  <thead>\n",
       "    <tr style=\"text-align: right;\">\n",
       "      <th></th>\n",
       "      <th>purpose</th>\n",
       "      <th>loan_status</th>\n",
       "      <th>prop</th>\n",
       "    </tr>\n",
       "  </thead>\n",
       "  <tbody>\n",
       "    <tr>\n",
       "      <td>0</td>\n",
       "      <td>car</td>\n",
       "      <td>Defaulted</td>\n",
       "      <td>0.119361</td>\n",
       "    </tr>\n",
       "    <tr>\n",
       "      <td>1</td>\n",
       "      <td>car</td>\n",
       "      <td>FullyPaid</td>\n",
       "      <td>0.880639</td>\n",
       "    </tr>\n",
       "    <tr>\n",
       "      <td>2</td>\n",
       "      <td>credit_card</td>\n",
       "      <td>Defaulted</td>\n",
       "      <td>0.143209</td>\n",
       "    </tr>\n",
       "    <tr>\n",
       "      <td>3</td>\n",
       "      <td>credit_card</td>\n",
       "      <td>FullyPaid</td>\n",
       "      <td>0.856791</td>\n",
       "    </tr>\n",
       "    <tr>\n",
       "      <td>4</td>\n",
       "      <td>debt_consolidation</td>\n",
       "      <td>Defaulted</td>\n",
       "      <td>0.180983</td>\n",
       "    </tr>\n",
       "    <tr>\n",
       "      <td>5</td>\n",
       "      <td>debt_consolidation</td>\n",
       "      <td>FullyPaid</td>\n",
       "      <td>0.819017</td>\n",
       "    </tr>\n",
       "    <tr>\n",
       "      <td>6</td>\n",
       "      <td>educational</td>\n",
       "      <td>Defaulted</td>\n",
       "      <td>0.213759</td>\n",
       "    </tr>\n",
       "    <tr>\n",
       "      <td>7</td>\n",
       "      <td>educational</td>\n",
       "      <td>FullyPaid</td>\n",
       "      <td>0.786241</td>\n",
       "    </tr>\n",
       "    <tr>\n",
       "      <td>8</td>\n",
       "      <td>home_improvement</td>\n",
       "      <td>Defaulted</td>\n",
       "      <td>0.152479</td>\n",
       "    </tr>\n",
       "    <tr>\n",
       "      <td>9</td>\n",
       "      <td>home_improvement</td>\n",
       "      <td>FullyPaid</td>\n",
       "      <td>0.847521</td>\n",
       "    </tr>\n",
       "    <tr>\n",
       "      <td>10</td>\n",
       "      <td>house</td>\n",
       "      <td>Defaulted</td>\n",
       "      <td>0.182954</td>\n",
       "    </tr>\n",
       "    <tr>\n",
       "      <td>11</td>\n",
       "      <td>house</td>\n",
       "      <td>FullyPaid</td>\n",
       "      <td>0.817046</td>\n",
       "    </tr>\n",
       "    <tr>\n",
       "      <td>12</td>\n",
       "      <td>major_purchase</td>\n",
       "      <td>Defaulted</td>\n",
       "      <td>0.141375</td>\n",
       "    </tr>\n",
       "    <tr>\n",
       "      <td>13</td>\n",
       "      <td>major_purchase</td>\n",
       "      <td>FullyPaid</td>\n",
       "      <td>0.858625</td>\n",
       "    </tr>\n",
       "    <tr>\n",
       "      <td>14</td>\n",
       "      <td>medical</td>\n",
       "      <td>Defaulted</td>\n",
       "      <td>0.183043</td>\n",
       "    </tr>\n",
       "    <tr>\n",
       "      <td>15</td>\n",
       "      <td>medical</td>\n",
       "      <td>FullyPaid</td>\n",
       "      <td>0.816957</td>\n",
       "    </tr>\n",
       "    <tr>\n",
       "      <td>16</td>\n",
       "      <td>moving</td>\n",
       "      <td>Defaulted</td>\n",
       "      <td>0.200949</td>\n",
       "    </tr>\n",
       "    <tr>\n",
       "      <td>17</td>\n",
       "      <td>moving</td>\n",
       "      <td>FullyPaid</td>\n",
       "      <td>0.799051</td>\n",
       "    </tr>\n",
       "    <tr>\n",
       "      <td>18</td>\n",
       "      <td>other</td>\n",
       "      <td>Defaulted</td>\n",
       "      <td>0.187199</td>\n",
       "    </tr>\n",
       "    <tr>\n",
       "      <td>19</td>\n",
       "      <td>other</td>\n",
       "      <td>FullyPaid</td>\n",
       "      <td>0.812801</td>\n",
       "    </tr>\n",
       "    <tr>\n",
       "      <td>20</td>\n",
       "      <td>renewable_energy</td>\n",
       "      <td>Defaulted</td>\n",
       "      <td>0.193084</td>\n",
       "    </tr>\n",
       "    <tr>\n",
       "      <td>21</td>\n",
       "      <td>renewable_energy</td>\n",
       "      <td>FullyPaid</td>\n",
       "      <td>0.806916</td>\n",
       "    </tr>\n",
       "    <tr>\n",
       "      <td>22</td>\n",
       "      <td>small_business</td>\n",
       "      <td>Defaulted</td>\n",
       "      <td>0.267865</td>\n",
       "    </tr>\n",
       "    <tr>\n",
       "      <td>23</td>\n",
       "      <td>small_business</td>\n",
       "      <td>FullyPaid</td>\n",
       "      <td>0.732135</td>\n",
       "    </tr>\n",
       "    <tr>\n",
       "      <td>24</td>\n",
       "      <td>vacation</td>\n",
       "      <td>Defaulted</td>\n",
       "      <td>0.165179</td>\n",
       "    </tr>\n",
       "    <tr>\n",
       "      <td>25</td>\n",
       "      <td>vacation</td>\n",
       "      <td>FullyPaid</td>\n",
       "      <td>0.834821</td>\n",
       "    </tr>\n",
       "    <tr>\n",
       "      <td>26</td>\n",
       "      <td>wedding</td>\n",
       "      <td>Defaulted</td>\n",
       "      <td>0.123932</td>\n",
       "    </tr>\n",
       "    <tr>\n",
       "      <td>27</td>\n",
       "      <td>wedding</td>\n",
       "      <td>FullyPaid</td>\n",
       "      <td>0.876068</td>\n",
       "    </tr>\n",
       "  </tbody>\n",
       "</table>\n",
       "</div>"
      ],
      "text/plain": [
       "               purpose loan_status      prop\n",
       "0                  car   Defaulted  0.119361\n",
       "1                  car   FullyPaid  0.880639\n",
       "2          credit_card   Defaulted  0.143209\n",
       "3          credit_card   FullyPaid  0.856791\n",
       "4   debt_consolidation   Defaulted  0.180983\n",
       "5   debt_consolidation   FullyPaid  0.819017\n",
       "6          educational   Defaulted  0.213759\n",
       "7          educational   FullyPaid  0.786241\n",
       "8     home_improvement   Defaulted  0.152479\n",
       "9     home_improvement   FullyPaid  0.847521\n",
       "10               house   Defaulted  0.182954\n",
       "11               house   FullyPaid  0.817046\n",
       "12      major_purchase   Defaulted  0.141375\n",
       "13      major_purchase   FullyPaid  0.858625\n",
       "14             medical   Defaulted  0.183043\n",
       "15             medical   FullyPaid  0.816957\n",
       "16              moving   Defaulted  0.200949\n",
       "17              moving   FullyPaid  0.799051\n",
       "18               other   Defaulted  0.187199\n",
       "19               other   FullyPaid  0.812801\n",
       "20    renewable_energy   Defaulted  0.193084\n",
       "21    renewable_energy   FullyPaid  0.806916\n",
       "22      small_business   Defaulted  0.267865\n",
       "23      small_business   FullyPaid  0.732135\n",
       "24            vacation   Defaulted  0.165179\n",
       "25            vacation   FullyPaid  0.834821\n",
       "26             wedding   Defaulted  0.123932\n",
       "27             wedding   FullyPaid  0.876068"
      ]
     },
     "execution_count": 104,
     "metadata": {},
     "output_type": "execute_result"
    }
   ],
   "source": [
    "purpose_lstatus"
   ]
  },
  {
   "cell_type": "code",
   "execution_count": 116,
   "metadata": {},
   "outputs": [
    {
     "data": {
      "text/plain": [
       "<matplotlib.legend.Legend at 0x136c909d0>"
      ]
     },
     "execution_count": 116,
     "metadata": {},
     "output_type": "execute_result"
    },
    {
     "data": {
      "image/png": "[encoded data removed]",
      "text/plain": [
       "<Figure size 432x288 with 1 Axes>"
      ]
     },
     "metadata": {
      "needs_background": "light"
     },
     "output_type": "display_data"
    }
   ],
   "source": [
    "x = purpose_lstatus['purpose'].unique()\n",
    "\n",
    "defaulted = purpose_lstatus.loc[purpose_lstatus['loan_status'] == 'Defaulted', :]\n",
    "fullypaid = purpose_lstatus.loc[purpose_lstatus['loan_status'] == 'FullyPaid', :]\n",
    "# # plt.bar(x, term_by_grade['percentage'])\n",
    "plt.xticks(rotation=90)\n",
    "\n",
    "plt.bar(x, fullypaid['prop'], color='#00ff80', edgecolor='white', label=\"Fully Paid\")\n",
    "\n",
    "plt.bar(x, defaulted['prop'], bottom=fullypaid['prop'], color='#ff5000', edgecolor='white', label=\"Defaulted\")\n",
    "plt.legend()"
   ]
  },
  {
   "cell_type": "markdown",
   "metadata": {},
   "source": [
    "## Status of loan"
   ]
  },
  {
   "cell_type": "code",
   "execution_count": 120,
   "metadata": {},
   "outputs": [
    {
     "data": {
      "text/plain": [
       "Index(['id', 'loan_amnt', 'funded_amnt', 'funded_amnt_inv', 'term', 'int_rate',\n",
       "       'installment', 'grade', 'sub_grade', 'emp_title', 'emp_length',\n",
       "       'home_ownership', 'annual_inc', 'verification_status', 'issue_d',\n",
       "       'loan_status', 'pymnt_plan', 'url', 'purpose', 'title', 'zip_code',\n",
       "       'addr_state', 'dti', 'delinq_2yrs', 'earliest_cr_line',\n",
       "       'fico_range_low', 'fico_range_high', 'inq_last_6mths',\n",
       "       'mths_since_last_delinq', 'open_acc', 'pub_rec', 'revol_bal',\n",
       "       'revol_util', 'total_acc', 'initial_list_status', 'out_prncp',\n",
       "       'out_prncp_inv', 'total_pymnt', 'total_pymnt_inv', 'total_rec_prncp',\n",
       "       'total_rec_int', 'total_rec_late_fee', 'recoveries',\n",
       "       'collection_recovery_fee', 'last_pymnt_d', 'last_pymnt_amnt',\n",
       "       'last_credit_pull_d', 'last_fico_range_high', 'last_fico_range_low',\n",
       "       'collections_12_mths_ex_med', 'policy_code', 'application_type',\n",
       "       'acc_now_delinq', 'tot_coll_amt', 'tot_cur_bal', 'total_rev_hi_lim',\n",
       "       'acc_open_past_24mths', 'avg_cur_bal', 'bc_open_to_buy', 'bc_util',\n",
       "       'chargeoff_within_12_mths', 'delinq_amnt', 'mo_sin_old_il_acct',\n",
       "       'mo_sin_old_rev_tl_op', 'mo_sin_rcnt_rev_tl_op', 'mo_sin_rcnt_tl',\n",
       "       'mort_acc', 'mths_since_recent_bc', 'mths_since_recent_inq',\n",
       "       'num_accts_ever_120_pd', 'num_actv_bc_tl', 'num_actv_rev_tl',\n",
       "       'num_bc_sats', 'num_bc_tl', 'num_il_tl', 'num_op_rev_tl',\n",
       "       'num_rev_accts', 'num_rev_tl_bal_gt_0', 'num_sats', 'num_tl_120dpd_2m',\n",
       "       'num_tl_30dpd', 'num_tl_90g_dpd_24m', 'num_tl_op_past_12m',\n",
       "       'pct_tl_nvr_dlq', 'percent_bc_gt_75', 'pub_rec_bankruptcies',\n",
       "       'tax_liens', 'tot_hi_cred_lim', 'total_bal_ex_mort', 'total_bc_limit',\n",
       "       'total_il_high_credit_limit', 'hardship_flag', 'disbursement_method',\n",
       "       'debt_settlement_flag', 'duration_days', 'invest_return',\n",
       "       'invest_return_per', 'duration_months'],\n",
       "      dtype='object')"
      ]
     },
     "execution_count": 120,
     "metadata": {},
     "output_type": "execute_result"
    }
   ],
   "source": [
    "accepted.columns\n",
    "\n",
    "\n",
    "['grade', 'int_rate', 'fico_mid', 'purpose', 'term']"
   ]
  },
  {
   "cell_type": "code",
   "execution_count": 146,
   "metadata": {},
   "outputs": [
    {
     "data": {
      "text/plain": [
       "0.0     373162\n",
       "1.0      54436\n",
       "2.0      15724\n",
       "3.0       5460\n",
       "4.0       2257\n",
       "5.0       1189\n",
       "6.0        601\n",
       "7.0        336\n",
       "8.0        173\n",
       "9.0        107\n",
       "10.0        65\n",
       "11.0        38\n",
       "12.0        37\n",
       "13.0        24\n",
       "14.0         8\n",
       "15.0         7\n",
       "18.0         6\n",
       "16.0         5\n",
       "19.0         3\n",
       "17.0         3\n",
       "21.0         2\n",
       "22.0         2\n",
       "29.0         1\n",
       "24.0         1\n",
       "Name: delinq_2yrs, dtype: int64"
      ]
     },
     "execution_count": 146,
     "metadata": {},
     "output_type": "execute_result"
    }
   ],
   "source": [
    "to_cosider = ['annual_inc', 'dti', 'addr_state', 'delinq_2yrs', 'emp_length']"
   ]
  },
  {
   "cell_type": "code",
   "execution_count": 41,
   "metadata": {},
   "outputs": [],
   "source": [
    "paid_f = ['Fully Paid', 'Does not meet the credit policy. Status:Fully Paid']\n",
    " \n",
    "current = ['Current', 'Late (16-30 days)', 'In Grace Period']\n",
    "\n",
    "defaulted = ['Default','Does not meet the credit policy. Status:Charged Off', 'Charged Off', 'Late (31-120 days)']\n",
    "\n",
    "accepted.drop(\n",
    "    index = accepted.loc[[True if row in current else False for row in accepted['loan_status']], 'loan_status'].index,\n",
    "    inplace = True)\n",
    "\n",
    "accepted['loan_status'] = accepted['loan_status'].apply(lambda s: 'FullyPaid' if s in paid_f else 'Defaulted')"
   ]
  },
  {
   "cell_type": "code",
   "execution_count": 143,
   "metadata": {},
   "outputs": [],
   "source": [
    "# accepted.loc[:, 'emp_title':]\n",
    "# ['term', 'grade', 'sub_grade', \n",
    "#  'emp_title', 'emp_length', 'home_ownership', \n",
    "#  'verification_status', 'pymnt_plan', ]\n",
    "\n"
   ]
  },
  {
   "cell_type": "code",
   "execution_count": 42,
   "metadata": {},
   "outputs": [
    {
     "data": {
      "text/html": [
       "<div>\n",
       "<style scoped>\n",
       "    .dataframe tbody tr th:only-of-type {\n",
       "        vertical-align: middle;\n",
       "    }\n",
       "\n",
       "    .dataframe tbody tr th {\n",
       "        vertical-align: top;\n",
       "    }\n",
       "\n",
       "    .dataframe thead th {\n",
       "        text-align: right;\n",
       "    }\n",
       "</style>\n",
       "<table border=\"1\" class=\"dataframe\">\n",
       "  <thead>\n",
       "    <tr style=\"text-align: right;\">\n",
       "      <th></th>\n",
       "      <th>loan_status</th>\n",
       "      <th>ratio</th>\n",
       "    </tr>\n",
       "    <tr>\n",
       "      <th>loan_status</th>\n",
       "      <th></th>\n",
       "      <th></th>\n",
       "    </tr>\n",
       "  </thead>\n",
       "  <tbody>\n",
       "    <tr>\n",
       "      <td>PaidFull</td>\n",
       "      <td>376150</td>\n",
       "      <td>82.92</td>\n",
       "    </tr>\n",
       "    <tr>\n",
       "      <td>Defaulted</td>\n",
       "      <td>77497</td>\n",
       "      <td>17.08</td>\n",
       "    </tr>\n",
       "  </tbody>\n",
       "</table>\n",
       "</div>"
      ],
      "text/plain": [
       "             loan_status  ratio\n",
       "loan_status                    \n",
       "PaidFull          376150  82.92\n",
       "Defaulted          77497  17.08"
      ]
     },
     "execution_count": 42,
     "metadata": {},
     "output_type": "execute_result"
    }
   ],
   "source": [
    "accepted['loan_status'].value_counts()\n",
    "\n",
    "status = accepted.groupby(\"loan_status\")[[\"loan_status\"]].count()\n",
    "status = accepted.groupby(\"loan_status\")[[\"loan_status\"]].count()\n",
    "status['ratio'] = ((status[['loan_status']]/accepted.shape[0])*100).round(2)\n",
    "\n",
    "status.sort_values(by=[\"ratio\"], ascending=False)"
   ]
  },
  {
   "cell_type": "markdown",
   "metadata": {},
   "source": [
    "### Interest rate by grade/subgrade"
   ]
  },
  {
   "cell_type": "code",
   "execution_count": 80,
   "metadata": {},
   "outputs": [
    {
     "data": {
      "text/html": [
       "<div>\n",
       "<style scoped>\n",
       "    .dataframe tbody tr th:only-of-type {\n",
       "        vertical-align: middle;\n",
       "    }\n",
       "\n",
       "    .dataframe tbody tr th {\n",
       "        vertical-align: top;\n",
       "    }\n",
       "\n",
       "    .dataframe thead th {\n",
       "        text-align: right;\n",
       "    }\n",
       "</style>\n",
       "<table border=\"1\" class=\"dataframe\">\n",
       "  <thead>\n",
       "    <tr style=\"text-align: right;\">\n",
       "      <th></th>\n",
       "      <th>int_rate</th>\n",
       "    </tr>\n",
       "    <tr>\n",
       "      <th>grade</th>\n",
       "      <th></th>\n",
       "    </tr>\n",
       "  </thead>\n",
       "  <tbody>\n",
       "    <tr>\n",
       "      <td>A</td>\n",
       "      <td>7.68</td>\n",
       "    </tr>\n",
       "    <tr>\n",
       "      <td>B</td>\n",
       "      <td>11.67</td>\n",
       "    </tr>\n",
       "    <tr>\n",
       "      <td>C</td>\n",
       "      <td>14.49</td>\n",
       "    </tr>\n",
       "    <tr>\n",
       "      <td>D</td>\n",
       "      <td>17.57</td>\n",
       "    </tr>\n",
       "    <tr>\n",
       "      <td>E</td>\n",
       "      <td>20.50</td>\n",
       "    </tr>\n",
       "    <tr>\n",
       "      <td>F</td>\n",
       "      <td>23.76</td>\n",
       "    </tr>\n",
       "    <tr>\n",
       "      <td>G</td>\n",
       "      <td>25.80</td>\n",
       "    </tr>\n",
       "  </tbody>\n",
       "</table>\n",
       "</div>"
      ],
      "text/plain": [
       "       int_rate\n",
       "grade          \n",
       "A          7.68\n",
       "B         11.67\n",
       "C         14.49\n",
       "D         17.57\n",
       "E         20.50\n",
       "F         23.76\n",
       "G         25.80"
      ]
     },
     "execution_count": 80,
     "metadata": {},
     "output_type": "execute_result"
    }
   ],
   "source": [
    "#Median interest rate by grade\n",
    "accepted.groupby(['grade']).agg({\"int_rate\":\"median\"})"
   ]
  },
  {
   "cell_type": "code",
   "execution_count": 47,
   "metadata": {},
   "outputs": [
    {
     "data": {
      "text/plain": [
       "<matplotlib.axes._subplots.AxesSubplot at 0x1408d7e10>"
      ]
     },
     "execution_count": 47,
     "metadata": {},
     "output_type": "execute_result"
    },
    {
     "data": {
      "image/png": "[encoded data removed]",
      "text/plain": [
       "<Figure size 432x288 with 1 Axes>"
      ]
     },
     "metadata": {
      "needs_background": "light"
     },
     "output_type": "display_data"
    }
   ],
   "source": [
    "#bar charts for median interest rate by grade\n",
    "int_r = accepted.groupby(['grade']).agg({\"int_rate\":\"median\"})\n",
    "int_r.plot.barh()"
   ]
  },
  {
   "cell_type": "markdown",
   "metadata": {},
   "source": [
    "### Percentage of term by grade "
   ]
  },
  {
   "cell_type": "code",
   "execution_count": 81,
   "metadata": {},
   "outputs": [],
   "source": [
    "term_by_grade          = accepted.groupby(['grade', 'term']).agg({'id':'count'})\n",
    "term_by_grade.columns  = pd.Index(['count'])\n",
    "count_by_grade         = term_by_grade.groupby('grade').agg({'count':'sum'})\n",
    "count_by_grade.columns = pd.Index(['total_by_grade'])"
   ]
  },
  {
   "cell_type": "code",
   "execution_count": 82,
   "metadata": {},
   "outputs": [],
   "source": [
    "temp                = term_by_grade.index\n",
    "term_by_grade       = term_by_grade.merge(count_by_grade, how = 'left', on = 'grade')\n",
    "term_by_grade.index = temp"
   ]
  },
  {
   "cell_type": "code",
   "execution_count": 83,
   "metadata": {},
   "outputs": [],
   "source": [
    "term_by_grade['percentage'] = term_by_grade['count']/term_by_grade['total_by_grade']\n",
    "term_by_grade.drop(columns  = ['count', 'total_by_grade'], inplace = True)\n",
    "term_by_grade.reset_index(inplace = True)"
   ]
  },
  {
   "cell_type": "code",
   "execution_count": 85,
   "metadata": {},
   "outputs": [
    {
     "data": {
      "text/plain": [
       "<matplotlib.legend.Legend at 0x132e7c890>"
      ]
     },
     "execution_count": 85,
     "metadata": {},
     "output_type": "execute_result"
    },
    {
     "data": {
      "image/png": "[encoded data removed]",
      "text/plain": [
       "<Figure size 432x288 with 1 Axes>"
      ]
     },
     "metadata": {
      "needs_background": "light"
     },
     "output_type": "display_data"
    }
   ],
   "source": [
    "x = ['A','B','C','D','E','F','G']\n",
    "\n",
    "short_term = term_by_grade.loc[term_by_grade['term'] == ' 36 months', :]\n",
    "long_term = term_by_grade.loc[term_by_grade['term'] == ' 60 months', :]\n",
    "# plt.bar(x, term_by_grade['percentage'])\n",
    "# plt.xticks(rotation=90)\n",
    "\n",
    "plt.bar(x, short_term['percentage'], color='#b5ffb9', edgecolor='white', label=\"36 months\")\n",
    "\n",
    "plt.bar(x, long_term['percentage'], bottom=short_term['percentage'], color='#f9bc86', edgecolor='white', label=\"60 months\")\n",
    "plt.legend()"
   ]
  },
  {
   "cell_type": "markdown",
   "metadata": {},
   "source": [
    "### Return by grade"
   ]
  },
  {
   "cell_type": "code",
   "execution_count": 226,
   "metadata": {},
   "outputs": [],
   "source": [
    "accepted['invest_return_per'] = (accepted['total_pymnt'] - accepted['funded_amnt'])/accepted['funded_amnt']\n",
    "accepted['invest_return'] = accepted['total_pymnt'] - accepted['funded_amnt']"
   ]
  },
  {
   "cell_type": "code",
   "execution_count": 239,
   "metadata": {},
   "outputs": [
    {
     "data": {
      "text/plain": [
       "<seaborn.axisgrid.FacetGrid at 0x1446d21d0>"
      ]
     },
     "execution_count": 239,
     "metadata": {},
     "output_type": "execute_result"
    },
    {
     "data": {
      "image/png": "[encoded data removed]",
      "text/plain": [
       "<Figure size 360x360 with 1 Axes>"
      ]
     },
     "metadata": {
      "needs_background": "light"
     },
     "output_type": "display_data"
    },
    {
     "data": {
      "image/png": "[encoded data removed]",
      "text/plain": [
       "<Figure size 360x360 with 1 Axes>"
      ]
     },
     "metadata": {
      "needs_background": "light"
     },
     "output_type": "display_data"
    }
   ],
   "source": [
    "sns.catplot(x='grade', y='invest_return_per', kind=\"box\", data=accepted, order = x)\n",
    "\n",
    "\n",
    "sns.catplot(x='grade', y='invest_return_per', kind=\"box\", data=accepted.loc[accepted['loan_status'] == 'PaidFull', :], order = x)"
   ]
  },
  {
   "cell_type": "code",
   "execution_count": 241,
   "metadata": {},
   "outputs": [
    {
     "data": {
      "text/plain": [
       "<seaborn.axisgrid.FacetGrid at 0x147c3f050>"
      ]
     },
     "execution_count": 241,
     "metadata": {},
     "output_type": "execute_result"
    },
    {
     "data": {
      "image/png": "[encoded data removed]",
      "text/plain": [
       "<Figure size 452.375x360 with 1 Axes>"
      ]
     },
     "metadata": {
      "needs_background": "light"
     },
     "output_type": "display_data"
    }
   ],
   "source": [
    "sns.catplot(x='grade', y='invest_return_per', kind='box', hue='term', data=accepted, order=x)"
   ]
  },
  {
   "cell_type": "code",
   "execution_count": 74,
   "metadata": {},
   "outputs": [
    {
     "data": {
      "text/plain": [
       "<matplotlib.axes._subplots.AxesSubplot at 0x1331aca10>"
      ]
     },
     "execution_count": 74,
     "metadata": {},
     "output_type": "execute_result"
    },
    {
     "data": {
      "image/png": "[encoded data removed]",
      "text/plain": [
       "<Figure size 432x288 with 1 Axes>"
      ]
     },
     "metadata": {
      "needs_background": "light"
     },
     "output_type": "display_data"
    },
    {
     "data": {
      "image/png": "[encoded data removed]",
      "text/plain": [
       "<Figure size 432x288 with 1 Axes>"
      ]
     },
     "metadata": {
      "needs_background": "light"
     },
     "output_type": "display_data"
    },
    {
     "data": {
      "image/png": "[encoded data removed]",
      "text/plain": [
       "<Figure size 432x288 with 1 Axes>"
      ]
     },
     "metadata": {
      "needs_background": "light"
     },
     "output_type": "display_data"
    }
   ],
   "source": [
    "inv_return_total = accepted.groupby(['grade']).agg({'invest_return':'mean', 'invest_return_per':'mean'}).reset_index()\n",
    "\n",
    "inv_return_fully_paid = accepted.loc[accepted['loan_status'] == 'FullyPaid', :].groupby(['grade']).agg({'invest_return':'mean', 'invest_return_per':'mean'}).reset_index()\n",
    "\n",
    "inv_return_fully_default = accepted.loc[accepted['loan_status'] == 'Defaulted', :].groupby(['grade']).agg({'invest_return':'mean', 'invest_return_per':'mean'}).reset_index()\n",
    "\n",
    "\n",
    "# inv_return_total = inv_return_total.reset_index().drop(columns  = 'grade')\n",
    "inv_return_total.plot.bar(x = 'grade', y = 'invest_return_per')\n",
    "\n",
    "# inv_return_fully_paid = inv_return_fully_paid.reset_index().drop(columns  = 'grade')\n",
    "inv_return_fully_paid.plot.bar(x = 'grade', y = 'invest_return_per')\n",
    "\n",
    "# inv_return_fully_default = inv_return_fully_default.reset_index().drop(columns  = 'grade')\n",
    "inv_return_fully_default.plot.bar(x = 'grade', y = 'invest_return_per')"
   ]
  },
  {
   "cell_type": "markdown",
   "metadata": {},
   "source": [
    "### Survival of loan"
   ]
  },
  {
   "cell_type": "code",
   "execution_count": 255,
   "metadata": {},
   "outputs": [],
   "source": [
    "survival_days = accepted.groupby(['grade', 'term']).agg({'duration_days':'mean'}).reset_index()"
   ]
  },
  {
   "cell_type": "code",
   "execution_count": 256,
   "metadata": {},
   "outputs": [],
   "source": [
    "survival_days['term'] = survival_days['term'].apply(lambda s: 1095 if s == ' 36 months' else 5*365)"
   ]
  },
  {
   "cell_type": "code",
   "execution_count": 257,
   "metadata": {},
   "outputs": [
    {
     "data": {
      "text/html": [
       "<div>\n",
       "<style scoped>\n",
       "    .dataframe tbody tr th:only-of-type {\n",
       "        vertical-align: middle;\n",
       "    }\n",
       "\n",
       "    .dataframe tbody tr th {\n",
       "        vertical-align: top;\n",
       "    }\n",
       "\n",
       "    .dataframe thead th {\n",
       "        text-align: right;\n",
       "    }\n",
       "</style>\n",
       "<table border=\"1\" class=\"dataframe\">\n",
       "  <thead>\n",
       "    <tr style=\"text-align: right;\">\n",
       "      <th></th>\n",
       "      <th>grade</th>\n",
       "      <th>term</th>\n",
       "      <th>duration_days</th>\n",
       "    </tr>\n",
       "  </thead>\n",
       "  <tbody>\n",
       "    <tr>\n",
       "      <td>0</td>\n",
       "      <td>A</td>\n",
       "      <td>1095</td>\n",
       "      <td>794.082350</td>\n",
       "    </tr>\n",
       "    <tr>\n",
       "      <td>1</td>\n",
       "      <td>A</td>\n",
       "      <td>1825</td>\n",
       "      <td>1111.497714</td>\n",
       "    </tr>\n",
       "    <tr>\n",
       "      <td>2</td>\n",
       "      <td>B</td>\n",
       "      <td>1095</td>\n",
       "      <td>770.431343</td>\n",
       "    </tr>\n",
       "    <tr>\n",
       "      <td>3</td>\n",
       "      <td>B</td>\n",
       "      <td>1825</td>\n",
       "      <td>1027.761885</td>\n",
       "    </tr>\n",
       "    <tr>\n",
       "      <td>4</td>\n",
       "      <td>C</td>\n",
       "      <td>1095</td>\n",
       "      <td>736.224938</td>\n",
       "    </tr>\n",
       "    <tr>\n",
       "      <td>5</td>\n",
       "      <td>C</td>\n",
       "      <td>1825</td>\n",
       "      <td>972.826170</td>\n",
       "    </tr>\n",
       "    <tr>\n",
       "      <td>6</td>\n",
       "      <td>D</td>\n",
       "      <td>1095</td>\n",
       "      <td>715.429776</td>\n",
       "    </tr>\n",
       "    <tr>\n",
       "      <td>7</td>\n",
       "      <td>D</td>\n",
       "      <td>1825</td>\n",
       "      <td>891.120647</td>\n",
       "    </tr>\n",
       "    <tr>\n",
       "      <td>8</td>\n",
       "      <td>E</td>\n",
       "      <td>1095</td>\n",
       "      <td>692.056145</td>\n",
       "    </tr>\n",
       "    <tr>\n",
       "      <td>9</td>\n",
       "      <td>E</td>\n",
       "      <td>1825</td>\n",
       "      <td>853.585663</td>\n",
       "    </tr>\n",
       "    <tr>\n",
       "      <td>10</td>\n",
       "      <td>F</td>\n",
       "      <td>1095</td>\n",
       "      <td>679.775868</td>\n",
       "    </tr>\n",
       "    <tr>\n",
       "      <td>11</td>\n",
       "      <td>F</td>\n",
       "      <td>1825</td>\n",
       "      <td>810.942330</td>\n",
       "    </tr>\n",
       "    <tr>\n",
       "      <td>12</td>\n",
       "      <td>G</td>\n",
       "      <td>1095</td>\n",
       "      <td>691.808858</td>\n",
       "    </tr>\n",
       "    <tr>\n",
       "      <td>13</td>\n",
       "      <td>G</td>\n",
       "      <td>1825</td>\n",
       "      <td>754.854205</td>\n",
       "    </tr>\n",
       "  </tbody>\n",
       "</table>\n",
       "</div>"
      ],
      "text/plain": [
       "   grade  term  duration_days\n",
       "0      A  1095     794.082350\n",
       "1      A  1825    1111.497714\n",
       "2      B  1095     770.431343\n",
       "3      B  1825    1027.761885\n",
       "4      C  1095     736.224938\n",
       "5      C  1825     972.826170\n",
       "6      D  1095     715.429776\n",
       "7      D  1825     891.120647\n",
       "8      E  1095     692.056145\n",
       "9      E  1825     853.585663\n",
       "10     F  1095     679.775868\n",
       "11     F  1825     810.942330\n",
       "12     G  1095     691.808858\n",
       "13     G  1825     754.854205"
      ]
     },
     "execution_count": 257,
     "metadata": {},
     "output_type": "execute_result"
    }
   ],
   "source": [
    "survival_days"
   ]
  },
  {
   "cell_type": "code",
   "execution_count": 258,
   "metadata": {},
   "outputs": [
    {
     "data": {
      "text/plain": [
       "<matplotlib.axes._subplots.AxesSubplot at 0x135c51290>"
      ]
     },
     "execution_count": 258,
     "metadata": {},
     "output_type": "execute_result"
    },
    {
     "data": {
      "image/png": "[encoded data removed]",
      "text/plain": [
       "<Figure size 432x288 with 1 Axes>"
      ]
     },
     "metadata": {
      "needs_background": "light"
     },
     "output_type": "display_data"
    }
   ],
   "source": [
    "sns.barplot(x = 'grade', y = 'duration_days', hue = 'term', data = survival_days)"
   ]
  },
  {
   "cell_type": "code",
   "execution_count": 260,
   "metadata": {},
   "outputs": [],
   "source": [
    "survival_months = accepted.groupby(['grade', 'term']).agg({'duration_months':'mean'}).reset_index()"
   ]
  },
  {
   "cell_type": "code",
   "execution_count": 262,
   "metadata": {},
   "outputs": [
    {
     "data": {
      "text/plain": [
       "<matplotlib.axes._subplots.AxesSubplot at 0x1499b7450>"
      ]
     },
     "execution_count": 262,
     "metadata": {},
     "output_type": "execute_result"
    },
    {
     "data": {
      "image/png": "[encoded data removed]",
      "text/plain": [
       "<Figure size 432x288 with 1 Axes>"
      ]
     },
     "metadata": {
      "needs_background": "light"
     },
     "output_type": "display_data"
    }
   ],
   "source": [
    "sns.barplot(x = 'grade', y = 'duration_months', hue = 'term', data = survival_months)"
   ]
  },
  {
   "cell_type": "markdown",
   "metadata": {},
   "source": [
    "### Purpose"
   ]
  },
  {
   "cell_type": "code",
   "execution_count": null,
   "metadata": {},
   "outputs": [],
   "source": []
  }
 ],
 "metadata": {
  "kernelspec": {
   "display_name": "Python 3",
   "language": "python",
   "name": "python3"
  },
  "language_info": {
   "codemirror_mode": {
    "name": "ipython",
    "version": 3
   },
   "file_extension": ".py",
   "mimetype": "text/x-python",
   "name": "python",
   "nbconvert_exporter": "python",
   "pygments_lexer": "ipython3",
   "version": "3.7.4"
  }
 },
 "nbformat": 4,
 "nbformat_minor": 2
}
