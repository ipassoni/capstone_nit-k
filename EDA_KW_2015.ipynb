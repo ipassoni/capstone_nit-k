{
 "cells": [
  {
   "cell_type": "markdown",
   "metadata": {},
   "source": [
    "## EDA for accepted loan data before 2015 - the Lending Club\n",
    "\n",
    "### Objectives:\n",
    "    - finding the profit and loss"
   ]
  },
  {
   "cell_type": "code",
   "execution_count": 1,
   "metadata": {},
   "outputs": [],
   "source": [
    "import pandas as pd\n",
    "import numpy as np\n",
    "import matplotlib.pyplot as plt\n",
    "import seaborn as sns"
   ]
  },
  {
   "cell_type": "code",
   "execution_count": 2,
   "metadata": {},
   "outputs": [],
   "source": [
    "accepted = pd.read_csv(\"accepted_before_2015.csv\", sep=',', error_bad_lines=False, index_col=False, dtype='unicode')"
   ]
  },
  {
   "cell_type": "code",
   "execution_count": 3,
   "metadata": {},
   "outputs": [
    {
     "data": {
      "text/plain": [
       "id                       object\n",
       "loan_amnt                object\n",
       "funded_amnt              object\n",
       "funded_amnt_inv          object\n",
       "term                     object\n",
       "                          ...  \n",
       "settlement_status        object\n",
       "settlement_date          object\n",
       "settlement_amount        object\n",
       "settlement_percentage    object\n",
       "settlement_term          object\n",
       "Length: 150, dtype: object"
      ]
     },
     "execution_count": 3,
     "metadata": {},
     "output_type": "execute_result"
    }
   ],
   "source": [
    "accepted.dtypes"
   ]
  },
  {
   "cell_type": "code",
   "execution_count": 4,
   "metadata": {},
   "outputs": [
    {
     "data": {
      "text/plain": [
       "(466345, 150)"
      ]
     },
     "execution_count": 4,
     "metadata": {},
     "output_type": "execute_result"
    }
   ],
   "source": [
    "accepted.shape"
   ]
  },
  {
   "cell_type": "code",
   "execution_count": 5,
   "metadata": {},
   "outputs": [
    {
     "data": {
      "text/html": [
       "<div>\n",
       "<style scoped>\n",
       "    .dataframe tbody tr th:only-of-type {\n",
       "        vertical-align: middle;\n",
       "    }\n",
       "\n",
       "    .dataframe tbody tr th {\n",
       "        vertical-align: top;\n",
       "    }\n",
       "\n",
       "    .dataframe thead th {\n",
       "        text-align: right;\n",
       "    }\n",
       "</style>\n",
       "<table border=\"1\" class=\"dataframe\">\n",
       "  <thead>\n",
       "    <tr style=\"text-align: right;\">\n",
       "      <th></th>\n",
       "      <th>loan_status</th>\n",
       "      <th>ratio</th>\n",
       "    </tr>\n",
       "    <tr>\n",
       "      <th>loan_status</th>\n",
       "      <th></th>\n",
       "      <th></th>\n",
       "    </tr>\n",
       "  </thead>\n",
       "  <tbody>\n",
       "    <tr>\n",
       "      <td>Fully Paid</td>\n",
       "      <td>374560</td>\n",
       "      <td>80.32</td>\n",
       "    </tr>\n",
       "    <tr>\n",
       "      <td>Charged Off</td>\n",
       "      <td>76499</td>\n",
       "      <td>16.40</td>\n",
       "    </tr>\n",
       "    <tr>\n",
       "      <td>Current</td>\n",
       "      <td>11925</td>\n",
       "      <td>2.56</td>\n",
       "    </tr>\n",
       "    <tr>\n",
       "      <td>Does not meet the credit policy. Status:Fully Paid</td>\n",
       "      <td>1988</td>\n",
       "      <td>0.43</td>\n",
       "    </tr>\n",
       "    <tr>\n",
       "      <td>Does not meet the credit policy. Status:Charged Off</td>\n",
       "      <td>761</td>\n",
       "      <td>0.16</td>\n",
       "    </tr>\n",
       "    <tr>\n",
       "      <td>Late (31-120 days)</td>\n",
       "      <td>337</td>\n",
       "      <td>0.07</td>\n",
       "    </tr>\n",
       "    <tr>\n",
       "      <td>In Grace Period</td>\n",
       "      <td>201</td>\n",
       "      <td>0.04</td>\n",
       "    </tr>\n",
       "    <tr>\n",
       "      <td>Late (16-30 days)</td>\n",
       "      <td>73</td>\n",
       "      <td>0.02</td>\n",
       "    </tr>\n",
       "    <tr>\n",
       "      <td>Default</td>\n",
       "      <td>1</td>\n",
       "      <td>0.00</td>\n",
       "    </tr>\n",
       "  </tbody>\n",
       "</table>\n",
       "</div>"
      ],
      "text/plain": [
       "                                                    loan_status  ratio\n",
       "loan_status                                                           \n",
       "Fully Paid                                               374560  80.32\n",
       "Charged Off                                               76499  16.40\n",
       "Current                                                   11925   2.56\n",
       "Does not meet the credit policy. Status:Fully Paid         1988   0.43\n",
       "Does not meet the credit policy. Status:Charged...          761   0.16\n",
       "Late (31-120 days)                                          337   0.07\n",
       "In Grace Period                                             201   0.04\n",
       "Late (16-30 days)                                            73   0.02\n",
       "Default                                                       1   0.00"
      ]
     },
     "execution_count": 5,
     "metadata": {},
     "output_type": "execute_result"
    }
   ],
   "source": [
    "#checking the status of loans and calculated the ratio by the toal number loans\n",
    "\n",
    "status = accepted.groupby(\"loan_status\")[[\"loan_status\"]].count()\n",
    "status = accepted.groupby(\"loan_status\")[[\"loan_status\"]].count()\n",
    "status['ratio'] = ((status[['loan_status']]/accepted.shape[0])*100).round(2)\n",
    "\n",
    "status.sort_values(by=[\"ratio\"], ascending=False)"
   ]
  },
  {
   "cell_type": "code",
   "execution_count": 6,
   "metadata": {},
   "outputs": [
    {
     "data": {
      "text/plain": [
       "array(['A', 'C', 'D', 'B', 'E', 'F', 'G'], dtype=object)"
      ]
     },
     "execution_count": 6,
     "metadata": {},
     "output_type": "execute_result"
    }
   ],
   "source": [
    "#Checking how many unique grades exist\n",
    "accepted['grade'].unique()"
   ]
  },
  {
   "cell_type": "code",
   "execution_count": 7,
   "metadata": {},
   "outputs": [
    {
     "data": {
      "text/html": [
       "<div>\n",
       "<style scoped>\n",
       "    .dataframe tbody tr th:only-of-type {\n",
       "        vertical-align: middle;\n",
       "    }\n",
       "\n",
       "    .dataframe tbody tr th {\n",
       "        vertical-align: top;\n",
       "    }\n",
       "\n",
       "    .dataframe thead th {\n",
       "        text-align: right;\n",
       "    }\n",
       "</style>\n",
       "<table border=\"1\" class=\"dataframe\">\n",
       "  <thead>\n",
       "    <tr style=\"text-align: right;\">\n",
       "      <th></th>\n",
       "      <th>int_rate</th>\n",
       "    </tr>\n",
       "    <tr>\n",
       "      <th>grade</th>\n",
       "      <th></th>\n",
       "    </tr>\n",
       "  </thead>\n",
       "  <tbody>\n",
       "    <tr>\n",
       "      <td>A</td>\n",
       "      <td>7.69</td>\n",
       "    </tr>\n",
       "    <tr>\n",
       "      <td>B</td>\n",
       "      <td>11.67</td>\n",
       "    </tr>\n",
       "    <tr>\n",
       "      <td>C</td>\n",
       "      <td>14.49</td>\n",
       "    </tr>\n",
       "    <tr>\n",
       "      <td>D</td>\n",
       "      <td>17.57</td>\n",
       "    </tr>\n",
       "    <tr>\n",
       "      <td>E</td>\n",
       "      <td>20.50</td>\n",
       "    </tr>\n",
       "    <tr>\n",
       "      <td>F</td>\n",
       "      <td>23.76</td>\n",
       "    </tr>\n",
       "    <tr>\n",
       "      <td>G</td>\n",
       "      <td>25.80</td>\n",
       "    </tr>\n",
       "  </tbody>\n",
       "</table>\n",
       "</div>"
      ],
      "text/plain": [
       "       int_rate\n",
       "grade          \n",
       "A          7.69\n",
       "B         11.67\n",
       "C         14.49\n",
       "D         17.57\n",
       "E         20.50\n",
       "F         23.76\n",
       "G         25.80"
      ]
     },
     "execution_count": 7,
     "metadata": {},
     "output_type": "execute_result"
    }
   ],
   "source": [
    "#changeing back the interest rates to numeric datsets\n",
    "accepted[\"int_rate\"] = pd.to_numeric(accepted[\"int_rate\"])\n",
    "\n",
    "#Median interest rate by grade\n",
    "accepted.groupby('grade').agg({\"int_rate\":\"median\"})"
   ]
  },
  {
   "cell_type": "code",
   "execution_count": 8,
   "metadata": {},
   "outputs": [
    {
     "data": {
      "text/plain": [
       "<matplotlib.axes._subplots.AxesSubplot at 0x1484294d0>"
      ]
     },
     "execution_count": 8,
     "metadata": {},
     "output_type": "execute_result"
    },
    {
     "data": {
      "image/png": "[encoded data removed]",
      "text/plain": [
       "<Figure size 432x288 with 1 Axes>"
      ]
     },
     "metadata": {
      "needs_background": "light"
     },
     "output_type": "display_data"
    }
   ],
   "source": [
    "#bar charts for median interest rate by grade\n",
    "\n",
    "int_r = accepted.groupby('grade').agg({\"int_rate\":\"median\"})\n",
    "int_r.plot.barh()"
   ]
  },
  {
   "cell_type": "code",
   "execution_count": 9,
   "metadata": {},
   "outputs": [
    {
     "data": {
      "image/png": "[encoded data removed]",
      "text/plain": [
       "<Figure size 432x288 with 1 Axes>"
      ]
     },
     "metadata": {
      "needs_background": "light"
     },
     "output_type": "display_data"
    }
   ],
   "source": [
    "#Visualizing the numbers by grade and term\n",
    "term_by_grade = pd.DataFrame(accepted.groupby('grade')['term'].value_counts())\n",
    "term_by_grade.plot.barh().invert_yaxis()"
   ]
  },
  {
   "cell_type": "code",
   "execution_count": 10,
   "metadata": {},
   "outputs": [
    {
     "data": {
      "text/plain": [
       "<matplotlib.axes._subplots.AxesSubplot at 0x1409dffd0>"
      ]
     },
     "execution_count": 10,
     "metadata": {},
     "output_type": "execute_result"
    },
    {
     "data": {
      "image/png": "[encoded data removed]",
      "text/plain": [
       "<Figure size 432x288 with 1 Axes>"
      ]
     },
     "metadata": {
      "needs_background": "light"
     },
     "output_type": "display_data"
    }
   ],
   "source": [
    "#Conduction above operations to \"fully-paid\" loans\n",
    "fully_paid = accepted[accepted['loan_status']==\"Fully Paid\"]\n",
    "fully_paid.groupby('grade').agg({\"int_rate\":\"median\"}).plot.barh()"
   ]
  },
  {
   "cell_type": "code",
   "execution_count": 11,
   "metadata": {},
   "outputs": [
    {
     "data": {
      "text/html": [
       "<div>\n",
       "<style scoped>\n",
       "    .dataframe tbody tr th:only-of-type {\n",
       "        vertical-align: middle;\n",
       "    }\n",
       "\n",
       "    .dataframe tbody tr th {\n",
       "        vertical-align: top;\n",
       "    }\n",
       "\n",
       "    .dataframe thead th {\n",
       "        text-align: right;\n",
       "    }\n",
       "</style>\n",
       "<table border=\"1\" class=\"dataframe\">\n",
       "  <thead>\n",
       "    <tr style=\"text-align: right;\">\n",
       "      <th></th>\n",
       "      <th>int_rate</th>\n",
       "      <th>difference</th>\n",
       "    </tr>\n",
       "    <tr>\n",
       "      <th>grade</th>\n",
       "      <th></th>\n",
       "      <th></th>\n",
       "    </tr>\n",
       "  </thead>\n",
       "  <tbody>\n",
       "    <tr>\n",
       "      <td>A</td>\n",
       "      <td>7.62</td>\n",
       "      <td>-0.07</td>\n",
       "    </tr>\n",
       "    <tr>\n",
       "      <td>B</td>\n",
       "      <td>11.67</td>\n",
       "      <td>0.00</td>\n",
       "    </tr>\n",
       "    <tr>\n",
       "      <td>C</td>\n",
       "      <td>14.49</td>\n",
       "      <td>0.00</td>\n",
       "    </tr>\n",
       "    <tr>\n",
       "      <td>D</td>\n",
       "      <td>17.57</td>\n",
       "      <td>0.00</td>\n",
       "    </tr>\n",
       "    <tr>\n",
       "      <td>E</td>\n",
       "      <td>20.80</td>\n",
       "      <td>0.30</td>\n",
       "    </tr>\n",
       "    <tr>\n",
       "      <td>F</td>\n",
       "      <td>23.76</td>\n",
       "      <td>0.00</td>\n",
       "    </tr>\n",
       "    <tr>\n",
       "      <td>G</td>\n",
       "      <td>25.80</td>\n",
       "      <td>0.00</td>\n",
       "    </tr>\n",
       "  </tbody>\n",
       "</table>\n",
       "</div>"
      ],
      "text/plain": [
       "       int_rate  difference\n",
       "grade                      \n",
       "A          7.62       -0.07\n",
       "B         11.67        0.00\n",
       "C         14.49        0.00\n",
       "D         17.57        0.00\n",
       "E         20.80        0.30\n",
       "F         23.76        0.00\n",
       "G         25.80        0.00"
      ]
     },
     "execution_count": 11,
     "metadata": {},
     "output_type": "execute_result"
    }
   ],
   "source": [
    "#comparing the total and fully_paid loans in terms of median interest rate. Grade A median rate is lower than the total median rate.\n",
    "\n",
    "compare = fully_paid.groupby('grade').agg({\"int_rate\":\"median\"}) \n",
    "compare[['difference']] = compare[['int_rate']] - int_r[[\"int_rate\"]]\n",
    "compare"
   ]
  },
  {
   "cell_type": "code",
   "execution_count": 12,
   "metadata": {},
   "outputs": [
    {
     "data": {
      "image/png": "[encoded data removed]",
      "text/plain": [
       "<Figure size 432x288 with 1 Axes>"
      ]
     },
     "metadata": {
      "needs_background": "light"
     },
     "output_type": "display_data"
    }
   ],
   "source": [
    "#Counts of loans by term and grade (in fully_paid loans)\n",
    "#Grade B & 36 months were the highest. (A &36 months)\n",
    "term_fully = pd.DataFrame(fully_paid.groupby('grade')['term'].value_counts())\n",
    "#term_fully = term_fully.sort_values(by=\"term\", ascending=False)\n",
    "term_fully.plot.barh().invert_yaxis()"
   ]
  },
  {
   "cell_type": "code",
   "execution_count": 13,
   "metadata": {},
   "outputs": [
    {
     "data": {
      "text/plain": [
       "Index(['term'], dtype='object')"
      ]
     },
     "execution_count": 13,
     "metadata": {},
     "output_type": "execute_result"
    }
   ],
   "source": [
    "#term_fully = term_fully.reset_index\n",
    "term_fully.columns\n",
    "#sort_values(by=\"term\")"
   ]
  },
  {
   "cell_type": "code",
   "execution_count": 14,
   "metadata": {},
   "outputs": [],
   "source": [
    "accepted = pd.DataFrame(accepted)\n",
    "accepted[\"loan_amnt\"] = pd.to_numeric(accepted[\"loan_amnt\"])"
   ]
  },
  {
   "cell_type": "code",
   "execution_count": 15,
   "metadata": {},
   "outputs": [
    {
     "data": {
      "text/plain": [
       "<matplotlib.axes._subplots.AxesSubplot at 0x1484130d0>"
      ]
     },
     "execution_count": 15,
     "metadata": {},
     "output_type": "execute_result"
    },
    {
     "data": {
      "image/png": "[encoded data removed]",
      "text/plain": [
       "<Figure size 432x288 with 1 Axes>"
      ]
     },
     "metadata": {
      "needs_background": "light"
     },
     "output_type": "display_data"
    }
   ],
   "source": [
    "#distribution plot for accepted loans\n",
    "\n",
    "sns.distplot(accepted['loan_amnt'].dropna())"
   ]
  },
  {
   "cell_type": "code",
   "execution_count": 16,
   "metadata": {},
   "outputs": [],
   "source": [
    "#For a given loan, the profit-and-loss (in percentages) can be computed as the (total_payment - principal)/principal.\n",
    "\n",
    "#replacing texts from term columns\n",
    "accepted['term'] = accepted['term'].str.replace(r'\\D', '').astype(int)\n",
    "\n",
    "#changing relevant columns to numeric\n",
    "accepted[\"loan_amnt\"] = pd.to_numeric(accepted[\"loan_amnt\"])\n",
    "accepted[\"installment\"] = pd.to_numeric(accepted[\"installment\"])\n",
    "\n",
    "accepted[\"return\"] = (accepted[\"installment\"]*accepted[\"term\"])-accepted[\"loan_amnt\"]"
   ]
  },
  {
   "cell_type": "code",
   "execution_count": 17,
   "metadata": {},
   "outputs": [
    {
     "data": {
      "text/plain": [
       "count    466345.000000\n",
       "mean       4506.579981\n",
       "std        4513.914936\n",
       "min      -19924.000000\n",
       "25%        1526.600000\n",
       "50%        2732.000000\n",
       "75%        6017.120000\n",
       "max       27950.200000\n",
       "Name: return, dtype: float64"
      ]
     },
     "execution_count": 17,
     "metadata": {},
     "output_type": "execute_result"
    }
   ],
   "source": [
    "#Summary of \"return\" (profit and loss)\n",
    "\n",
    "accepted[\"return\"].describe()"
   ]
  },
  {
   "cell_type": "code",
   "execution_count": 18,
   "metadata": {},
   "outputs": [
    {
     "data": {
      "text/plain": [
       "<matplotlib.axes._subplots.AxesSubplot at 0x12db9de10>"
      ]
     },
     "execution_count": 18,
     "metadata": {},
     "output_type": "execute_result"
    },
    {
     "data": {
      "image/png": "[encoded data removed]",
      "text/plain": [
       "<Figure size 432x288 with 1 Axes>"
      ]
     },
     "metadata": {
      "needs_background": "light"
     },
     "output_type": "display_data"
    }
   ],
   "source": [
    "#distribution of \"return\"\n",
    "\n",
    "sns.distplot(accepted['return'].dropna())"
   ]
  },
  {
   "cell_type": "code",
   "execution_count": 19,
   "metadata": {},
   "outputs": [],
   "source": [
    "#Operating the same for only \"fully_paid\" loans\n",
    "fully_paid = accepted[accepted['loan_status']==\"Fully Paid\"]\n",
    "fully_paid = pd.DataFrame(fully_paid)\n",
    "fully_paid[\"return\"] = (fully_paid[\"installment\"]*fully_paid[\"term\"])-fully_paid[\"loan_amnt\"]"
   ]
  },
  {
   "cell_type": "code",
   "execution_count": 20,
   "metadata": {},
   "outputs": [
    {
     "data": {
      "text/html": [
       "<div>\n",
       "<style scoped>\n",
       "    .dataframe tbody tr th:only-of-type {\n",
       "        vertical-align: middle;\n",
       "    }\n",
       "\n",
       "    .dataframe tbody tr th {\n",
       "        vertical-align: top;\n",
       "    }\n",
       "\n",
       "    .dataframe thead th {\n",
       "        text-align: right;\n",
       "    }\n",
       "</style>\n",
       "<table border=\"1\" class=\"dataframe\">\n",
       "  <thead>\n",
       "    <tr style=\"text-align: right;\">\n",
       "      <th></th>\n",
       "      <th>loan_amnt</th>\n",
       "      <th>term</th>\n",
       "      <th>int_rate</th>\n",
       "      <th>installment</th>\n",
       "      <th>return</th>\n",
       "    </tr>\n",
       "  </thead>\n",
       "  <tbody>\n",
       "    <tr>\n",
       "      <td>count</td>\n",
       "      <td>374560.000000</td>\n",
       "      <td>374560.000000</td>\n",
       "      <td>374560.000000</td>\n",
       "      <td>374560.000000</td>\n",
       "      <td>374560.000000</td>\n",
       "    </tr>\n",
       "    <tr>\n",
       "      <td>mean</td>\n",
       "      <td>13974.717602</td>\n",
       "      <td>41.307027</td>\n",
       "      <td>13.321745</td>\n",
       "      <td>427.717619</td>\n",
       "      <td>4039.572093</td>\n",
       "    </tr>\n",
       "    <tr>\n",
       "      <td>std</td>\n",
       "      <td>8209.295871</td>\n",
       "      <td>9.960139</td>\n",
       "      <td>4.254557</td>\n",
       "      <td>245.459524</td>\n",
       "      <td>4157.673913</td>\n",
       "    </tr>\n",
       "    <tr>\n",
       "      <td>min</td>\n",
       "      <td>500.000000</td>\n",
       "      <td>36.000000</td>\n",
       "      <td>5.420000</td>\n",
       "      <td>4.930000</td>\n",
       "      <td>-19924.000000</td>\n",
       "    </tr>\n",
       "    <tr>\n",
       "      <td>25%</td>\n",
       "      <td>7925.000000</td>\n",
       "      <td>36.000000</td>\n",
       "      <td>10.150000</td>\n",
       "      <td>249.540000</td>\n",
       "      <td>1434.000000</td>\n",
       "    </tr>\n",
       "    <tr>\n",
       "      <td>50%</td>\n",
       "      <td>12000.000000</td>\n",
       "      <td>36.000000</td>\n",
       "      <td>13.110000</td>\n",
       "      <td>374.140000</td>\n",
       "      <td>2496.800000</td>\n",
       "    </tr>\n",
       "    <tr>\n",
       "      <td>75%</td>\n",
       "      <td>19600.000000</td>\n",
       "      <td>36.000000</td>\n",
       "      <td>15.880000</td>\n",
       "      <td>562.310000</td>\n",
       "      <td>5026.800000</td>\n",
       "    </tr>\n",
       "    <tr>\n",
       "      <td>max</td>\n",
       "      <td>35000.000000</td>\n",
       "      <td>60.000000</td>\n",
       "      <td>26.060000</td>\n",
       "      <td>1409.990000</td>\n",
       "      <td>27950.200000</td>\n",
       "    </tr>\n",
       "  </tbody>\n",
       "</table>\n",
       "</div>"
      ],
      "text/plain": [
       "           loan_amnt           term       int_rate    installment  \\\n",
       "count  374560.000000  374560.000000  374560.000000  374560.000000   \n",
       "mean    13974.717602      41.307027      13.321745     427.717619   \n",
       "std      8209.295871       9.960139       4.254557     245.459524   \n",
       "min       500.000000      36.000000       5.420000       4.930000   \n",
       "25%      7925.000000      36.000000      10.150000     249.540000   \n",
       "50%     12000.000000      36.000000      13.110000     374.140000   \n",
       "75%     19600.000000      36.000000      15.880000     562.310000   \n",
       "max     35000.000000      60.000000      26.060000    1409.990000   \n",
       "\n",
       "              return  \n",
       "count  374560.000000  \n",
       "mean     4039.572093  \n",
       "std      4157.673913  \n",
       "min    -19924.000000  \n",
       "25%      1434.000000  \n",
       "50%      2496.800000  \n",
       "75%      5026.800000  \n",
       "max     27950.200000  "
      ]
     },
     "execution_count": 20,
     "metadata": {},
     "output_type": "execute_result"
    }
   ],
   "source": [
    "fully_paid.describe()"
   ]
  },
  {
   "cell_type": "code",
   "execution_count": 21,
   "metadata": {},
   "outputs": [
    {
     "data": {
      "text/plain": [
       "<matplotlib.axes._subplots.AxesSubplot at 0x1487f5d10>"
      ]
     },
     "execution_count": 21,
     "metadata": {},
     "output_type": "execute_result"
    },
    {
     "data": {
      "image/png": "[encoded data removed]",
      "text/plain": [
       "<Figure size 432x288 with 1 Axes>"
      ]
     },
     "metadata": {
      "needs_background": "light"
     },
     "output_type": "display_data"
    }
   ],
   "source": [
    "sns.distplot(fully_paid['return'].dropna())"
   ]
  },
  {
   "cell_type": "code",
   "execution_count": 22,
   "metadata": {},
   "outputs": [
    {
     "data": {
      "text/html": [
       "<div>\n",
       "<style scoped>\n",
       "    .dataframe tbody tr th:only-of-type {\n",
       "        vertical-align: middle;\n",
       "    }\n",
       "\n",
       "    .dataframe tbody tr th {\n",
       "        vertical-align: top;\n",
       "    }\n",
       "\n",
       "    .dataframe thead th {\n",
       "        text-align: right;\n",
       "    }\n",
       "</style>\n",
       "<table border=\"1\" class=\"dataframe\">\n",
       "  <thead>\n",
       "    <tr style=\"text-align: right;\">\n",
       "      <th></th>\n",
       "      <th>loan_amnt</th>\n",
       "      <th>term</th>\n",
       "      <th>int_rate</th>\n",
       "      <th>installment</th>\n",
       "      <th>return</th>\n",
       "    </tr>\n",
       "    <tr>\n",
       "      <th>grade</th>\n",
       "      <th></th>\n",
       "      <th></th>\n",
       "      <th></th>\n",
       "      <th></th>\n",
       "      <th></th>\n",
       "    </tr>\n",
       "  </thead>\n",
       "  <tbody>\n",
       "    <tr>\n",
       "      <td>A</td>\n",
       "      <td>12000.0</td>\n",
       "      <td>36</td>\n",
       "      <td>7.62</td>\n",
       "      <td>370.480</td>\n",
       "      <td>1431.44</td>\n",
       "    </tr>\n",
       "    <tr>\n",
       "      <td>B</td>\n",
       "      <td>11850.0</td>\n",
       "      <td>36</td>\n",
       "      <td>11.67</td>\n",
       "      <td>355.840</td>\n",
       "      <td>2148.92</td>\n",
       "    </tr>\n",
       "    <tr>\n",
       "      <td>C</td>\n",
       "      <td>12000.0</td>\n",
       "      <td>36</td>\n",
       "      <td>14.49</td>\n",
       "      <td>360.560</td>\n",
       "      <td>3146.84</td>\n",
       "    </tr>\n",
       "    <tr>\n",
       "      <td>D</td>\n",
       "      <td>12300.0</td>\n",
       "      <td>36</td>\n",
       "      <td>17.57</td>\n",
       "      <td>379.225</td>\n",
       "      <td>4525.84</td>\n",
       "    </tr>\n",
       "    <tr>\n",
       "      <td>E</td>\n",
       "      <td>16000.0</td>\n",
       "      <td>60</td>\n",
       "      <td>20.80</td>\n",
       "      <td>469.390</td>\n",
       "      <td>8462.64</td>\n",
       "    </tr>\n",
       "    <tr>\n",
       "      <td>F</td>\n",
       "      <td>18000.0</td>\n",
       "      <td>60</td>\n",
       "      <td>23.76</td>\n",
       "      <td>523.340</td>\n",
       "      <td>11897.00</td>\n",
       "    </tr>\n",
       "    <tr>\n",
       "      <td>G</td>\n",
       "      <td>20675.0</td>\n",
       "      <td>60</td>\n",
       "      <td>25.80</td>\n",
       "      <td>614.870</td>\n",
       "      <td>15386.60</td>\n",
       "    </tr>\n",
       "  </tbody>\n",
       "</table>\n",
       "</div>"
      ],
      "text/plain": [
       "       loan_amnt  term  int_rate  installment    return\n",
       "grade                                                  \n",
       "A        12000.0    36      7.62      370.480   1431.44\n",
       "B        11850.0    36     11.67      355.840   2148.92\n",
       "C        12000.0    36     14.49      360.560   3146.84\n",
       "D        12300.0    36     17.57      379.225   4525.84\n",
       "E        16000.0    60     20.80      469.390   8462.64\n",
       "F        18000.0    60     23.76      523.340  11897.00\n",
       "G        20675.0    60     25.80      614.870  15386.60"
      ]
     },
     "execution_count": 22,
     "metadata": {},
     "output_type": "execute_result"
    }
   ],
   "source": [
    "fully_paid.groupby(\"grade\").median()\n",
    "#If grouped by the grade, fully paid loans has the highest returns from G to A as interest rates are higher for lower \n",
    "#grades."
   ]
  },
  {
   "cell_type": "code",
   "execution_count": 68,
   "metadata": {},
   "outputs": [
    {
     "data": {
      "text/plain": [
       "<seaborn.axisgrid.FacetGrid at 0x141e36710>"
      ]
     },
     "execution_count": 68,
     "metadata": {},
     "output_type": "execute_result"
    },
    {
     "data": {
      "image/png": "[encoded data removed]",
      "text/plain": [
       "<Figure size 360x360 with 1 Axes>"
      ]
     },
     "metadata": {
      "needs_background": "light"
     },
     "output_type": "display_data"
    }
   ],
   "source": [
    "#Fully_paid box plot by median of return by grade\n",
    "order2 = fully_paid.groupby(\"grade\")[['return']].median().sort_values(by=\"return\", ascending=True)\n",
    "order2\n",
    "sns.catplot(x=\"grade\", y=\"return\", kind=\"box\", data=fully_paid, order=order2.index)\n"
   ]
  },
  {
   "cell_type": "code",
   "execution_count": 69,
   "metadata": {},
   "outputs": [
    {
     "data": {
      "text/plain": [
       "<seaborn.axisgrid.FacetGrid at 0x142890310>"
      ]
     },
     "execution_count": 69,
     "metadata": {},
     "output_type": "execute_result"
    },
    {
     "data": {
      "image/png": "[encoded data removed]",
      "text/plain": [
       "<Figure size 408.625x360 with 1 Axes>"
      ]
     },
     "metadata": {
      "needs_background": "light"
     },
     "output_type": "display_data"
    }
   ],
   "source": [
    "#Fully_paid box plot by median of return by grade\n",
    "order2 = fully_paid.groupby(\"grade\")[['return']].median().sort_values(by=\"return\", ascending=True)\n",
    "order2\n",
    "sns.catplot(x=\"grade\", y=\"return\", kind=\"box\", hue=\"term\", data=fully_paid, order=order2.index)"
   ]
  },
  {
   "cell_type": "code",
   "execution_count": 23,
   "metadata": {},
   "outputs": [],
   "source": [
    "#peroforming the same for Current\n",
    "current = accepted[accepted['loan_status']==\"Current\"]\n",
    "current = pd.DataFrame(current)\n",
    "current[\"return\"] = (current[\"installment\"]*current[\"term\"])-current[\"loan_amnt\"]"
   ]
  },
  {
   "cell_type": "code",
   "execution_count": 24,
   "metadata": {},
   "outputs": [
    {
     "data": {
      "text/html": [
       "<div>\n",
       "<style scoped>\n",
       "    .dataframe tbody tr th:only-of-type {\n",
       "        vertical-align: middle;\n",
       "    }\n",
       "\n",
       "    .dataframe tbody tr th {\n",
       "        vertical-align: top;\n",
       "    }\n",
       "\n",
       "    .dataframe thead th {\n",
       "        text-align: right;\n",
       "    }\n",
       "</style>\n",
       "<table border=\"1\" class=\"dataframe\">\n",
       "  <thead>\n",
       "    <tr style=\"text-align: right;\">\n",
       "      <th></th>\n",
       "      <th>loan_amnt</th>\n",
       "      <th>term</th>\n",
       "      <th>int_rate</th>\n",
       "      <th>installment</th>\n",
       "      <th>return</th>\n",
       "    </tr>\n",
       "  </thead>\n",
       "  <tbody>\n",
       "    <tr>\n",
       "      <td>count</td>\n",
       "      <td>11925.000000</td>\n",
       "      <td>11925.0</td>\n",
       "      <td>11925.000000</td>\n",
       "      <td>11925.000000</td>\n",
       "      <td>11925.000000</td>\n",
       "    </tr>\n",
       "    <tr>\n",
       "      <td>mean</td>\n",
       "      <td>19999.624738</td>\n",
       "      <td>60.0</td>\n",
       "      <td>15.701291</td>\n",
       "      <td>484.417094</td>\n",
       "      <td>9065.400922</td>\n",
       "    </tr>\n",
       "    <tr>\n",
       "      <td>std</td>\n",
       "      <td>7407.311305</td>\n",
       "      <td>0.0</td>\n",
       "      <td>3.732509</td>\n",
       "      <td>186.212317</td>\n",
       "      <td>4309.631693</td>\n",
       "    </tr>\n",
       "    <tr>\n",
       "      <td>min</td>\n",
       "      <td>2000.000000</td>\n",
       "      <td>60.0</td>\n",
       "      <td>6.000000</td>\n",
       "      <td>49.700000</td>\n",
       "      <td>982.000000</td>\n",
       "    </tr>\n",
       "    <tr>\n",
       "      <td>25%</td>\n",
       "      <td>14000.000000</td>\n",
       "      <td>60.0</td>\n",
       "      <td>13.350000</td>\n",
       "      <td>334.930000</td>\n",
       "      <td>5844.600000</td>\n",
       "    </tr>\n",
       "    <tr>\n",
       "      <td>50%</td>\n",
       "      <td>19000.000000</td>\n",
       "      <td>60.0</td>\n",
       "      <td>15.590000</td>\n",
       "      <td>452.890000</td>\n",
       "      <td>8040.600000</td>\n",
       "    </tr>\n",
       "    <tr>\n",
       "      <td>75%</td>\n",
       "      <td>25000.000000</td>\n",
       "      <td>60.0</td>\n",
       "      <td>18.240000</td>\n",
       "      <td>600.470000</td>\n",
       "      <td>11364.400000</td>\n",
       "    </tr>\n",
       "    <tr>\n",
       "      <td>max</td>\n",
       "      <td>35000.000000</td>\n",
       "      <td>60.0</td>\n",
       "      <td>26.060000</td>\n",
       "      <td>1047.710000</td>\n",
       "      <td>27862.600000</td>\n",
       "    </tr>\n",
       "  </tbody>\n",
       "</table>\n",
       "</div>"
      ],
      "text/plain": [
       "          loan_amnt     term      int_rate   installment        return\n",
       "count  11925.000000  11925.0  11925.000000  11925.000000  11925.000000\n",
       "mean   19999.624738     60.0     15.701291    484.417094   9065.400922\n",
       "std     7407.311305      0.0      3.732509    186.212317   4309.631693\n",
       "min     2000.000000     60.0      6.000000     49.700000    982.000000\n",
       "25%    14000.000000     60.0     13.350000    334.930000   5844.600000\n",
       "50%    19000.000000     60.0     15.590000    452.890000   8040.600000\n",
       "75%    25000.000000     60.0     18.240000    600.470000  11364.400000\n",
       "max    35000.000000     60.0     26.060000   1047.710000  27862.600000"
      ]
     },
     "execution_count": 24,
     "metadata": {},
     "output_type": "execute_result"
    }
   ],
   "source": [
    "#This is not accurate since these loans are not fully paid yet, but calculating returns based on the full duration\n",
    "#not capturing if the loans reached completion at the cut-off date: Dec 2015\n",
    "current.describe()"
   ]
  },
  {
   "cell_type": "code",
   "execution_count": 25,
   "metadata": {},
   "outputs": [],
   "source": [
    "#peroforming the same for Current\n",
    "charged_off = accepted[accepted['loan_status']==\"Charged Off\"]\n",
    "charged_off = pd.DataFrame(charged_off)\n",
    "charged_off[\"loss\"] = (charged_off[\"installment\"]*charged_off[\"term\"])-charged_off[\"loan_amnt\"]"
   ]
  },
  {
   "cell_type": "code",
   "execution_count": 26,
   "metadata": {},
   "outputs": [
    {
     "data": {
      "text/html": [
       "<div>\n",
       "<style scoped>\n",
       "    .dataframe tbody tr th:only-of-type {\n",
       "        vertical-align: middle;\n",
       "    }\n",
       "\n",
       "    .dataframe tbody tr th {\n",
       "        vertical-align: top;\n",
       "    }\n",
       "\n",
       "    .dataframe thead th {\n",
       "        text-align: right;\n",
       "    }\n",
       "</style>\n",
       "<table border=\"1\" class=\"dataframe\">\n",
       "  <thead>\n",
       "    <tr style=\"text-align: right;\">\n",
       "      <th></th>\n",
       "      <th>loan_amnt</th>\n",
       "      <th>term</th>\n",
       "      <th>int_rate</th>\n",
       "      <th>installment</th>\n",
       "      <th>loss</th>\n",
       "    </tr>\n",
       "  </thead>\n",
       "  <tbody>\n",
       "    <tr>\n",
       "      <td>count</td>\n",
       "      <td>76499.000000</td>\n",
       "      <td>76499.000000</td>\n",
       "      <td>76499.000000</td>\n",
       "      <td>76499.000000</td>\n",
       "      <td>76499.000000</td>\n",
       "    </tr>\n",
       "    <tr>\n",
       "      <td>mean</td>\n",
       "      <td>15254.868691</td>\n",
       "      <td>46.251428</td>\n",
       "      <td>15.976997</td>\n",
       "      <td>449.585086</td>\n",
       "      <td>6123.407725</td>\n",
       "    </tr>\n",
       "    <tr>\n",
       "      <td>std</td>\n",
       "      <td>8398.933148</td>\n",
       "      <td>11.871998</td>\n",
       "      <td>4.250632</td>\n",
       "      <td>240.008035</td>\n",
       "      <td>5381.975261</td>\n",
       "    </tr>\n",
       "    <tr>\n",
       "      <td>min</td>\n",
       "      <td>900.000000</td>\n",
       "      <td>36.000000</td>\n",
       "      <td>5.420000</td>\n",
       "      <td>21.620000</td>\n",
       "      <td>-19406.680000</td>\n",
       "    </tr>\n",
       "    <tr>\n",
       "      <td>25%</td>\n",
       "      <td>9000.000000</td>\n",
       "      <td>36.000000</td>\n",
       "      <td>13.050000</td>\n",
       "      <td>278.425000</td>\n",
       "      <td>2027.440000</td>\n",
       "    </tr>\n",
       "    <tr>\n",
       "      <td>50%</td>\n",
       "      <td>14000.000000</td>\n",
       "      <td>36.000000</td>\n",
       "      <td>15.610000</td>\n",
       "      <td>400.400000</td>\n",
       "      <td>4240.240000</td>\n",
       "    </tr>\n",
       "    <tr>\n",
       "      <td>75%</td>\n",
       "      <td>20000.000000</td>\n",
       "      <td>60.000000</td>\n",
       "      <td>18.920000</td>\n",
       "      <td>581.090000</td>\n",
       "      <td>8898.200000</td>\n",
       "    </tr>\n",
       "    <tr>\n",
       "      <td>max</td>\n",
       "      <td>35000.000000</td>\n",
       "      <td>60.000000</td>\n",
       "      <td>26.060000</td>\n",
       "      <td>1408.130000</td>\n",
       "      <td>27950.200000</td>\n",
       "    </tr>\n",
       "  </tbody>\n",
       "</table>\n",
       "</div>"
      ],
      "text/plain": [
       "          loan_amnt          term      int_rate   installment          loss\n",
       "count  76499.000000  76499.000000  76499.000000  76499.000000  76499.000000\n",
       "mean   15254.868691     46.251428     15.976997    449.585086   6123.407725\n",
       "std     8398.933148     11.871998      4.250632    240.008035   5381.975261\n",
       "min      900.000000     36.000000      5.420000     21.620000 -19406.680000\n",
       "25%     9000.000000     36.000000     13.050000    278.425000   2027.440000\n",
       "50%    14000.000000     36.000000     15.610000    400.400000   4240.240000\n",
       "75%    20000.000000     60.000000     18.920000    581.090000   8898.200000\n",
       "max    35000.000000     60.000000     26.060000   1408.130000  27950.200000"
      ]
     },
     "execution_count": 26,
     "metadata": {},
     "output_type": "execute_result"
    }
   ],
   "source": [
    "#renaming the column name from return to loss since for charged_off, it is a loss instead of profit/return.\n",
    "charged_off = charged_off.drop([\"return\"], axis=1)\n",
    "charged_off.describe()"
   ]
  },
  {
   "cell_type": "code",
   "execution_count": 27,
   "metadata": {},
   "outputs": [
    {
     "data": {
      "text/html": [
       "<div>\n",
       "<style scoped>\n",
       "    .dataframe tbody tr th:only-of-type {\n",
       "        vertical-align: middle;\n",
       "    }\n",
       "\n",
       "    .dataframe tbody tr th {\n",
       "        vertical-align: top;\n",
       "    }\n",
       "\n",
       "    .dataframe thead th {\n",
       "        text-align: right;\n",
       "    }\n",
       "</style>\n",
       "<table border=\"1\" class=\"dataframe\">\n",
       "  <thead>\n",
       "    <tr style=\"text-align: right;\">\n",
       "      <th></th>\n",
       "      <th>loan_amnt</th>\n",
       "      <th>term</th>\n",
       "      <th>int_rate</th>\n",
       "      <th>installment</th>\n",
       "      <th>loss</th>\n",
       "    </tr>\n",
       "    <tr>\n",
       "      <th>grade</th>\n",
       "      <th></th>\n",
       "      <th></th>\n",
       "      <th></th>\n",
       "      <th></th>\n",
       "      <th></th>\n",
       "    </tr>\n",
       "  </thead>\n",
       "  <tbody>\n",
       "    <tr>\n",
       "      <td>A</td>\n",
       "      <td>11000.0</td>\n",
       "      <td>36</td>\n",
       "      <td>7.90</td>\n",
       "      <td>334.800</td>\n",
       "      <td>1398.60</td>\n",
       "    </tr>\n",
       "    <tr>\n",
       "      <td>B</td>\n",
       "      <td>11700.0</td>\n",
       "      <td>36</td>\n",
       "      <td>11.86</td>\n",
       "      <td>348.295</td>\n",
       "      <td>2222.00</td>\n",
       "    </tr>\n",
       "    <tr>\n",
       "      <td>C</td>\n",
       "      <td>12375.0</td>\n",
       "      <td>36</td>\n",
       "      <td>14.64</td>\n",
       "      <td>369.650</td>\n",
       "      <td>3766.28</td>\n",
       "    </tr>\n",
       "    <tr>\n",
       "      <td>D</td>\n",
       "      <td>14500.0</td>\n",
       "      <td>36</td>\n",
       "      <td>17.57</td>\n",
       "      <td>402.570</td>\n",
       "      <td>5736.00</td>\n",
       "    </tr>\n",
       "    <tr>\n",
       "      <td>E</td>\n",
       "      <td>17562.5</td>\n",
       "      <td>60</td>\n",
       "      <td>20.80</td>\n",
       "      <td>491.305</td>\n",
       "      <td>9934.20</td>\n",
       "    </tr>\n",
       "    <tr>\n",
       "      <td>F</td>\n",
       "      <td>19075.0</td>\n",
       "      <td>60</td>\n",
       "      <td>23.83</td>\n",
       "      <td>555.825</td>\n",
       "      <td>13096.20</td>\n",
       "    </tr>\n",
       "    <tr>\n",
       "      <td>G</td>\n",
       "      <td>20000.0</td>\n",
       "      <td>60</td>\n",
       "      <td>25.83</td>\n",
       "      <td>598.030</td>\n",
       "      <td>15492.20</td>\n",
       "    </tr>\n",
       "  </tbody>\n",
       "</table>\n",
       "</div>"
      ],
      "text/plain": [
       "       loan_amnt  term  int_rate  installment      loss\n",
       "grade                                                  \n",
       "A        11000.0    36      7.90      334.800   1398.60\n",
       "B        11700.0    36     11.86      348.295   2222.00\n",
       "C        12375.0    36     14.64      369.650   3766.28\n",
       "D        14500.0    36     17.57      402.570   5736.00\n",
       "E        17562.5    60     20.80      491.305   9934.20\n",
       "F        19075.0    60     23.83      555.825  13096.20\n",
       "G        20000.0    60     25.83      598.030  15492.20"
      ]
     },
     "execution_count": 27,
     "metadata": {},
     "output_type": "execute_result"
    }
   ],
   "source": [
    "charged_off.groupby(\"grade\").median()\n",
    "\n",
    "#If grouped by the grade, charged off loans has the highest returns from G to A as interest rates are higher for lower \n",
    "#grades. "
   ]
  },
  {
   "cell_type": "code",
   "execution_count": 29,
   "metadata": {},
   "outputs": [],
   "source": [
    "charged_off_med = charged_off.groupby(\"grade\").median()"
   ]
  },
  {
   "cell_type": "code",
   "execution_count": 66,
   "metadata": {},
   "outputs": [
    {
     "data": {
      "text/html": [
       "<div>\n",
       "<style scoped>\n",
       "    .dataframe tbody tr th:only-of-type {\n",
       "        vertical-align: middle;\n",
       "    }\n",
       "\n",
       "    .dataframe tbody tr th {\n",
       "        vertical-align: top;\n",
       "    }\n",
       "\n",
       "    .dataframe thead th {\n",
       "        text-align: right;\n",
       "    }\n",
       "</style>\n",
       "<table border=\"1\" class=\"dataframe\">\n",
       "  <thead>\n",
       "    <tr style=\"text-align: right;\">\n",
       "      <th></th>\n",
       "      <th>loss</th>\n",
       "    </tr>\n",
       "    <tr>\n",
       "      <th>grade</th>\n",
       "      <th></th>\n",
       "    </tr>\n",
       "  </thead>\n",
       "  <tbody>\n",
       "    <tr>\n",
       "      <td>A</td>\n",
       "      <td>1398.60</td>\n",
       "    </tr>\n",
       "    <tr>\n",
       "      <td>B</td>\n",
       "      <td>2222.00</td>\n",
       "    </tr>\n",
       "    <tr>\n",
       "      <td>C</td>\n",
       "      <td>3766.28</td>\n",
       "    </tr>\n",
       "    <tr>\n",
       "      <td>D</td>\n",
       "      <td>5736.00</td>\n",
       "    </tr>\n",
       "    <tr>\n",
       "      <td>E</td>\n",
       "      <td>9934.20</td>\n",
       "    </tr>\n",
       "    <tr>\n",
       "      <td>F</td>\n",
       "      <td>13096.20</td>\n",
       "    </tr>\n",
       "    <tr>\n",
       "      <td>G</td>\n",
       "      <td>15492.20</td>\n",
       "    </tr>\n",
       "  </tbody>\n",
       "</table>\n",
       "</div>"
      ],
      "text/plain": [
       "           loss\n",
       "grade          \n",
       "A       1398.60\n",
       "B       2222.00\n",
       "C       3766.28\n",
       "D       5736.00\n",
       "E       9934.20\n",
       "F      13096.20\n",
       "G      15492.20"
      ]
     },
     "execution_count": 66,
     "metadata": {},
     "output_type": "execute_result"
    }
   ],
   "source": [
    "charged_off_med.reset_index()\n",
    "order = charged_off.groupby(\"grade\")[['loss']].median().sort_values(by=\"loss\", ascending=True)\n",
    "order"
   ]
  },
  {
   "cell_type": "code",
   "execution_count": 67,
   "metadata": {},
   "outputs": [
    {
     "data": {
      "text/plain": [
       "<seaborn.axisgrid.FacetGrid at 0x142894550>"
      ]
     },
     "execution_count": 67,
     "metadata": {},
     "output_type": "execute_result"
    },
    {
     "data": {
      "image/png": "[encoded data removed]",
      "text/plain": [
       "<Figure size 360x360 with 1 Axes>"
      ]
     },
     "metadata": {
      "needs_background": "light"
     },
     "output_type": "display_data"
    }
   ],
   "source": [
    "#Charged_off box plot by grade \n",
    "sns.catplot(x=\"grade\", y=\"loss\", kind=\"box\", data=charged_off, order=order.index)\n"
   ]
  },
  {
   "cell_type": "code",
   "execution_count": 70,
   "metadata": {},
   "outputs": [
    {
     "data": {
      "text/plain": [
       "<seaborn.axisgrid.FacetGrid at 0x13fa4a410>"
      ]
     },
     "execution_count": 70,
     "metadata": {},
     "output_type": "execute_result"
    },
    {
     "data": {
      "image/png": "[encoded data removed]",
      "text/plain": [
       "<Figure size 408.625x360 with 1 Axes>"
      ]
     },
     "metadata": {
      "needs_background": "light"
     },
     "output_type": "display_data"
    }
   ],
   "source": [
    "sns.catplot(x=\"grade\", y=\"loss\", kind=\"box\", hue=\"term\", data=charged_off, order=order.index)"
   ]
  },
  {
   "cell_type": "code",
   "execution_count": 73,
   "metadata": {},
   "outputs": [
    {
     "data": {
      "text/plain": [
       "debt_consolidation    217454\n",
       "credit_card            86490\n",
       "home_improvement       21739\n",
       "other                  18650\n",
       "major_purchase          8197\n",
       "small_business          4974\n",
       "car                     4646\n",
       "medical                 3672\n",
       "moving                  2332\n",
       "vacation                2051\n",
       "wedding                 2009\n",
       "house                   1799\n",
       "renewable_energy         278\n",
       "educational              269\n",
       "Name: purpose, dtype: int64"
      ]
     },
     "execution_count": 73,
     "metadata": {},
     "output_type": "execute_result"
    }
   ],
   "source": [
    "#checking the purposes of loans by counts\n",
    "fully_paid[\"purpose\"].value_counts()"
   ]
  },
  {
   "cell_type": "code",
   "execution_count": 80,
   "metadata": {},
   "outputs": [
    {
     "data": {
      "text/html": [
       "<div>\n",
       "<style scoped>\n",
       "    .dataframe tbody tr th:only-of-type {\n",
       "        vertical-align: middle;\n",
       "    }\n",
       "\n",
       "    .dataframe tbody tr th {\n",
       "        vertical-align: top;\n",
       "    }\n",
       "\n",
       "    .dataframe thead th {\n",
       "        text-align: right;\n",
       "    }\n",
       "</style>\n",
       "<table border=\"1\" class=\"dataframe\">\n",
       "  <thead>\n",
       "    <tr style=\"text-align: right;\">\n",
       "      <th></th>\n",
       "      <th>return</th>\n",
       "    </tr>\n",
       "    <tr>\n",
       "      <th>purpose</th>\n",
       "      <th></th>\n",
       "    </tr>\n",
       "  </thead>\n",
       "  <tbody>\n",
       "    <tr>\n",
       "      <td>small_business</td>\n",
       "      <td>3106.32</td>\n",
       "    </tr>\n",
       "    <tr>\n",
       "      <td>house</td>\n",
       "      <td>3018.20</td>\n",
       "    </tr>\n",
       "    <tr>\n",
       "      <td>debt_consolidation</td>\n",
       "      <td>2785.52</td>\n",
       "    </tr>\n",
       "    <tr>\n",
       "      <td>credit_card</td>\n",
       "      <td>2361.12</td>\n",
       "    </tr>\n",
       "    <tr>\n",
       "      <td>home_improvement</td>\n",
       "      <td>2256.00</td>\n",
       "    </tr>\n",
       "    <tr>\n",
       "      <td>wedding</td>\n",
       "      <td>1889.56</td>\n",
       "    </tr>\n",
       "    <tr>\n",
       "      <td>renewable_energy</td>\n",
       "      <td>1712.36</td>\n",
       "    </tr>\n",
       "    <tr>\n",
       "      <td>other</td>\n",
       "      <td>1692.64</td>\n",
       "    </tr>\n",
       "    <tr>\n",
       "      <td>medical</td>\n",
       "      <td>1489.92</td>\n",
       "    </tr>\n",
       "    <tr>\n",
       "      <td>major_purchase</td>\n",
       "      <td>1427.68</td>\n",
       "    </tr>\n",
       "    <tr>\n",
       "      <td>moving</td>\n",
       "      <td>1294.88</td>\n",
       "    </tr>\n",
       "    <tr>\n",
       "      <td>car</td>\n",
       "      <td>1205.14</td>\n",
       "    </tr>\n",
       "    <tr>\n",
       "      <td>vacation</td>\n",
       "      <td>1021.56</td>\n",
       "    </tr>\n",
       "    <tr>\n",
       "      <td>educational</td>\n",
       "      <td>904.72</td>\n",
       "    </tr>\n",
       "  </tbody>\n",
       "</table>\n",
       "</div>"
      ],
      "text/plain": [
       "                     return\n",
       "purpose                    \n",
       "small_business      3106.32\n",
       "house               3018.20\n",
       "debt_consolidation  2785.52\n",
       "credit_card         2361.12\n",
       "home_improvement    2256.00\n",
       "wedding             1889.56\n",
       "renewable_energy    1712.36\n",
       "other               1692.64\n",
       "medical             1489.92\n",
       "major_purchase      1427.68\n",
       "moving              1294.88\n",
       "car                 1205.14\n",
       "vacation            1021.56\n",
       "educational          904.72"
      ]
     },
     "execution_count": 80,
     "metadata": {},
     "output_type": "execute_result"
    }
   ],
   "source": [
    "#return median by the purpose of loans\n",
    "fully_paid.groupby('purpose')[[\"return\"]].median().sort_values(by=\"return\", ascending=False)"
   ]
  },
  {
   "cell_type": "code",
   "execution_count": 83,
   "metadata": {},
   "outputs": [
    {
     "data": {
      "image/png": "[encoded data removed]",
      "text/plain": [
       "<Figure size 432x288 with 1 Axes>"
      ]
     },
     "metadata": {
      "needs_background": "light"
     },
     "output_type": "display_data"
    }
   ],
   "source": [
    "purpose_ = fully_paid.groupby('purpose')[[\"return\"]].median().sort_values(by=\"return\", ascending=False)\n",
    "purpose_.plot.barh().invert_yaxis()\n",
    "\n",
    "#Small_Business, house, debt_consolidation , credit_card, home_improvement have good return ratios."
   ]
  },
  {
   "cell_type": "code",
   "execution_count": 100,
   "metadata": {},
   "outputs": [],
   "source": [
    "fully_paid[\"issue_d\"]= pd.to_datetime(fully_paid[\"issue_d\"], format='%Y%m', errors='ignore')\n",
    "fully_paid.index = fully_paid[\"issue_d\"]"
   ]
  },
  {
   "cell_type": "code",
   "execution_count": 101,
   "metadata": {},
   "outputs": [
    {
     "data": {
      "text/plain": [
       "issue_d\n",
       "2014-12-01   2014-12-01\n",
       "2014-12-01   2014-12-01\n",
       "2014-12-01   2014-12-01\n",
       "2014-12-01   2014-12-01\n",
       "2014-12-01   2014-12-01\n",
       "Name: issue_d, dtype: datetime64[ns]"
      ]
     },
     "execution_count": 101,
     "metadata": {},
     "output_type": "execute_result"
    }
   ],
   "source": [
    "fully_paid[\"issue_d\"].head()"
   ]
  },
  {
   "cell_type": "code",
   "execution_count": 102,
   "metadata": {},
   "outputs": [
    {
     "data": {
      "text/html": [
       "<div>\n",
       "<style scoped>\n",
       "    .dataframe tbody tr th:only-of-type {\n",
       "        vertical-align: middle;\n",
       "    }\n",
       "\n",
       "    .dataframe tbody tr th {\n",
       "        vertical-align: top;\n",
       "    }\n",
       "\n",
       "    .dataframe thead th {\n",
       "        text-align: right;\n",
       "    }\n",
       "</style>\n",
       "<table border=\"1\" class=\"dataframe\">\n",
       "  <thead>\n",
       "    <tr style=\"text-align: right;\">\n",
       "      <th></th>\n",
       "      <th></th>\n",
       "      <th>return</th>\n",
       "    </tr>\n",
       "    <tr>\n",
       "      <th>grade</th>\n",
       "      <th>issue_d</th>\n",
       "      <th></th>\n",
       "    </tr>\n",
       "  </thead>\n",
       "  <tbody>\n",
       "    <tr>\n",
       "      <td rowspan=\"16\" valign=\"top\">G</td>\n",
       "      <td>2012-11-30</td>\n",
       "      <td>22653.6</td>\n",
       "    </tr>\n",
       "    <tr>\n",
       "      <td>2012-05-31</td>\n",
       "      <td>22285.8</td>\n",
       "    </tr>\n",
       "    <tr>\n",
       "      <td>2011-09-30</td>\n",
       "      <td>21187.4</td>\n",
       "    </tr>\n",
       "    <tr>\n",
       "      <td>2012-10-31</td>\n",
       "      <td>20696.8</td>\n",
       "    </tr>\n",
       "    <tr>\n",
       "      <td>2012-06-30</td>\n",
       "      <td>20652.8</td>\n",
       "    </tr>\n",
       "    <tr>\n",
       "      <td>2012-08-31</td>\n",
       "      <td>20558.4</td>\n",
       "    </tr>\n",
       "    <tr>\n",
       "      <td>2012-09-30</td>\n",
       "      <td>20502.0</td>\n",
       "    </tr>\n",
       "    <tr>\n",
       "      <td>2011-11-30</td>\n",
       "      <td>20474.4</td>\n",
       "    </tr>\n",
       "    <tr>\n",
       "      <td>2012-12-31</td>\n",
       "      <td>20445.0</td>\n",
       "    </tr>\n",
       "    <tr>\n",
       "      <td>2013-06-30</td>\n",
       "      <td>19950.2</td>\n",
       "    </tr>\n",
       "    <tr>\n",
       "      <td>2013-08-31</td>\n",
       "      <td>19733.6</td>\n",
       "    </tr>\n",
       "    <tr>\n",
       "      <td>2013-07-31</td>\n",
       "      <td>19539.7</td>\n",
       "    </tr>\n",
       "    <tr>\n",
       "      <td>2012-07-31</td>\n",
       "      <td>19399.0</td>\n",
       "    </tr>\n",
       "    <tr>\n",
       "      <td>2013-09-30</td>\n",
       "      <td>19165.8</td>\n",
       "    </tr>\n",
       "    <tr>\n",
       "      <td>2011-10-31</td>\n",
       "      <td>18999.0</td>\n",
       "    </tr>\n",
       "    <tr>\n",
       "      <td>2012-03-31</td>\n",
       "      <td>18808.8</td>\n",
       "    </tr>\n",
       "    <tr>\n",
       "      <td rowspan=\"3\" valign=\"top\">F</td>\n",
       "      <td>2012-10-31</td>\n",
       "      <td>18004.4</td>\n",
       "    </tr>\n",
       "    <tr>\n",
       "      <td>2012-11-30</td>\n",
       "      <td>17831.0</td>\n",
       "    </tr>\n",
       "    <tr>\n",
       "      <td>2012-04-30</td>\n",
       "      <td>17570.6</td>\n",
       "    </tr>\n",
       "    <tr>\n",
       "      <td>G</td>\n",
       "      <td>2013-02-28</td>\n",
       "      <td>17518.4</td>\n",
       "    </tr>\n",
       "  </tbody>\n",
       "</table>\n",
       "</div>"
      ],
      "text/plain": [
       "                   return\n",
       "grade issue_d            \n",
       "G     2012-11-30  22653.6\n",
       "      2012-05-31  22285.8\n",
       "      2011-09-30  21187.4\n",
       "      2012-10-31  20696.8\n",
       "      2012-06-30  20652.8\n",
       "      2012-08-31  20558.4\n",
       "      2012-09-30  20502.0\n",
       "      2011-11-30  20474.4\n",
       "      2012-12-31  20445.0\n",
       "      2013-06-30  19950.2\n",
       "      2013-08-31  19733.6\n",
       "      2013-07-31  19539.7\n",
       "      2012-07-31  19399.0\n",
       "      2013-09-30  19165.8\n",
       "      2011-10-31  18999.0\n",
       "      2012-03-31  18808.8\n",
       "F     2012-10-31  18004.4\n",
       "      2012-11-30  17831.0\n",
       "      2012-04-30  17570.6\n",
       "G     2013-02-28  17518.4"
      ]
     },
     "execution_count": 102,
     "metadata": {},
     "output_type": "execute_result"
    }
   ],
   "source": [
    "fully_paid.groupby([\"grade\", pd.Grouper(freq='M')])[[\"return\"]].median().nlargest(20, \"return\")\n",
    "#largest return rates by month"
   ]
  },
  {
   "cell_type": "code",
   "execution_count": 129,
   "metadata": {},
   "outputs": [],
   "source": [
    "G = fully_paid[fully_paid['grade']==\"G\"]"
   ]
  },
  {
   "cell_type": "code",
   "execution_count": 130,
   "metadata": {},
   "outputs": [
    {
     "name": "stderr",
     "output_type": "stream",
     "text": [
      "/Users/kisaki/opt/anaconda3/lib/python3.7/site-packages/ipykernel_launcher.py:6: SettingWithCopyWarning: \n",
      "A value is trying to be set on a copy of a slice from a DataFrame.\n",
      "Try using .loc[row_indexer,col_indexer] = value instead\n",
      "\n",
      "See the caveats in the documentation: http://pandas.pydata.org/pandas-docs/stable/user_guide/indexing.html#returning-a-view-versus-a-copy\n",
      "  \n"
     ]
    },
    {
     "data": {
      "text/plain": [
       "<matplotlib.axes._subplots.AxesSubplot at 0x1557ef0d0>"
      ]
     },
     "execution_count": 130,
     "metadata": {},
     "output_type": "execute_result"
    },
    {
     "data": {
      "image/png": "[encoded data removed]",
      "text/plain": [
       "<Figure size 432x288 with 1 Axes>"
      ]
     },
     "metadata": {
      "needs_background": "light"
     },
     "output_type": "display_data"
    }
   ],
   "source": [
    "#Time series analysis for grade G loans' returns by year\n",
    "\n",
    "from scipy.signal import lfilter\n",
    "n = 20  # the larger n is, the smoother curve will be\n",
    "b = [1.0 / n] * n\n",
    "a = 1\n",
    "\n",
    "G['return'] = lfilter(b, a, G['return'])\n",
    "plt.figure()\n",
    "#G['return'].cumsum()\n",
    "\n",
    "#G['return'] = G[\"return\"].rolling(window=len(G)).mean().iloc[len(G)-1:].values\n",
    "G['return'].plot()"
   ]
  },
  {
   "cell_type": "code",
   "execution_count": null,
   "metadata": {},
   "outputs": [],
   "source": []
  }
 ],
 "metadata": {
  "kernelspec": {
   "display_name": "Python 3",
   "language": "python",
   "name": "python3"
  },
  "language_info": {
   "codemirror_mode": {
    "name": "ipython",
    "version": 3
   },
   "file_extension": ".py",
   "mimetype": "text/x-python",
   "name": "python",
   "nbconvert_exporter": "python",
   "pygments_lexer": "ipython3",
   "version": "3.7.4"
  }
 },
 "nbformat": 4,
 "nbformat_minor": 2
}
