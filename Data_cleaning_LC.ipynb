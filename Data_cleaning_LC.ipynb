{
 "cells": [
  {
   "cell_type": "code",
   "execution_count": 1,
   "metadata": {},
   "outputs": [],
   "source": [
    "import pandas as pd\n",
    "import numpy as np \n",
    "import seaborn as sns\n",
    "import matplotlib.pyplot as plt\n",
    "import re"
   ]
  },
  {
   "cell_type": "code",
   "execution_count": 2,
   "metadata": {},
   "outputs": [],
   "source": [
    "pd.options.display.max_rows = 1000\n",
    "pd.options.display.max_columns = 50"
   ]
  },
  {
   "cell_type": "markdown",
   "metadata": {},
   "source": [
    "# Reading CSV"
   ]
  },
  {
   "cell_type": "code",
   "execution_count": null,
   "metadata": {},
   "outputs": [],
   "source": [
    "# dtypes = {'term':'str', 'grade':'str', 'sub_grade':'str', \n",
    "#           'emp_title':'str', 'emp_length':'str', 'home_ownership':'str',\n",
    "#           'verification_status':'str', 'issue_d': 'str', 'loan_status':'str',\n",
    "#           'purpose':'str', 'add_state':'str', \n",
    "#           'sec_app_earliest_cr_line':'str', 'earliest_cr_line':'str',\n",
    "#           'initial_list_status':'str', 'last_pymnt_d':'str', \n",
    "#           'last_credit_pull_d':'str'}\n",
    "\n",
    "# accepted = pd.read_csv('/Users/ivanpassoni/Downloads/lending-club/accepted_2007_to_2018Q4.csv',\n",
    "#                        low_memory = False, dtype = dtypes)"
   ]
  },
  {
   "cell_type": "markdown",
   "metadata": {},
   "source": [
    "# Dropping bad Id's"
   ]
  },
  {
   "cell_type": "code",
   "execution_count": null,
   "metadata": {},
   "outputs": [],
   "source": [
    "# remove bad id's\n",
    "# accepted.drop(index= accepted.loc[accepted['id'].apply(lambda s: len(str(s))) > 10, :].index, inplace = True)"
   ]
  },
  {
   "cell_type": "markdown",
   "metadata": {},
   "source": [
    "# Parsing Datas"
   ]
  },
  {
   "cell_type": "code",
   "execution_count": null,
   "metadata": {},
   "outputs": [],
   "source": [
    "# # Parsing issue_date, last_pymnt_d, earliest_cr_line, last_credit_pull_d datetime\n",
    "# def parse_date(d):\n",
    "#     return pd.to_datetime(d, format='%b-%Y')\n",
    "\n",
    "# accepted['issue_d']            = accepted['issue_d'].apply(parse_date)\n",
    "# accepted['last_pymnt_d']       = accepted['last_pymnt_d'].apply(parse_date)\n",
    "# accepted['earliest_cr_line']   = accepted['earliest_cr_line'].apply(parse_date)\n",
    "# accepted['last_credit_pull_d'] = accepted['last_credit_pull_d'].apply(parse_date)\n",
    "# next_pymnt_d will be droped later"
   ]
  },
  {
   "cell_type": "markdown",
   "metadata": {},
   "source": [
    "# Saved and reading the data parsed"
   ]
  },
  {
   "cell_type": "code",
   "execution_count": null,
   "metadata": {},
   "outputs": [],
   "source": [
    "# accepted.to_csv('/Users/ivanpassoni/Downloads/lending-club/accepted_2007_to_2018Q4_parsed_data.csv', index = False)"
   ]
  },
  {
   "cell_type": "code",
   "execution_count": 4,
   "metadata": {},
   "outputs": [],
   "source": [
    "# dtypes = {'term':'str', 'grade':'str', 'sub_grade':'str', \n",
    "#           'emp_title':'str', 'emp_length':'str', 'home_ownership':'str',\n",
    "#           'verification_status':'str', 'issue_d': 'str', 'loan_status':'str',\n",
    "#           'purpose':'str', 'add_state':'str', \n",
    "#           'sec_app_earliest_cr_line':'str', 'earliest_cr_line':'str',\n",
    "#           'initial_list_status':'str', 'last_pymnt_d':'str', \n",
    "#           'last_credit_pull_d':'str'}\n",
    "\n",
    "parse_dates = ['issue_d', 'last_pymnt_d', 'earliest_cr_line', 'last_credit_pull_d']\n",
    "\n",
    "accepted = pd.read_csv('/Users/ivanpassoni/Downloads/lending-club/accepted_2007_to_2018Q4_parsed_data.csv',\n",
    "                       low_memory = False, dtype = dtypes, parse_dates = parse_dates)"
   ]
  },
  {
   "cell_type": "markdown",
   "metadata": {},
   "source": [
    "# Merging joint and individual loan applications"
   ]
  },
  {
   "cell_type": "markdown",
   "metadata": {},
   "source": [
    "We consider a joint application as an individual application with the annual_inc, dti and revol_bal given by their joint values."
   ]
  },
  {
   "cell_type": "code",
   "execution_count": 5,
   "metadata": {},
   "outputs": [],
   "source": [
    "# Considering annual_inc == annual_inc_joint, dti == dti_joint\n",
    "accepted['annual_inc'] = accepted[['application_type', 'annual_inc', 'annual_inc_joint']]\\\n",
    ".apply(lambda row: row['annual_inc'] if row['application_type'] == 'Individual' else row['annual_inc_joint'], axis = 1)\n",
    "\n",
    "accepted['dti'] = accepted[['application_type', 'dti', 'dti_joint']]\\\n",
    ".apply(lambda row: row['dti'] if row['application_type'] == 'Individual' else row['dti_joint'], axis = 1)\n",
    "\n",
    "accepted['revol_bal'] = accepted[['application_type', 'revol_bal', 'revol_bal_joint']]\\\n",
    ".apply(lambda row: row['revol_bal'] if row['application_type'] == 'Individual' else row['revol_bal_joint'], axis = 1)"
   ]
  },
  {
   "cell_type": "markdown",
   "metadata": {},
   "source": [
    "# Imputing Last Payment Date"
   ]
  },
  {
   "cell_type": "markdown",
   "metadata": {},
   "source": [
    "We impute the last_pymnt_d by adding to issue_d the number of months given by total_pymnt/installment"
   ]
  },
  {
   "cell_type": "code",
   "execution_count": 6,
   "metadata": {},
   "outputs": [],
   "source": [
    "from dateutil.relativedelta import relativedelta\n",
    "from datetime import timedelta\n",
    "\n",
    "def increment_months(s, length):\n",
    "    while length > 0:\n",
    "        if s.month == 12:\n",
    "            s = s + timedelta(days = 31)\n",
    "        else:\n",
    "            s = s + relativedelta(months = 1)\n",
    "        length -= 1\n",
    "    return s\n",
    "\n",
    "accepted['last_pymnt_d'].fillna(accepted.loc[accepted['last_pymnt_d'].isnull(), \n",
    "                                             ['issue_d', 'total_pymnt', 'installment']]\\\n",
    "                        .apply(lambda s: increment_months(s[0],np.floor(s[1]/s[2])), axis = 1),\n",
    "                                inplace = True)"
   ]
  },
  {
   "cell_type": "markdown",
   "metadata": {},
   "source": [
    "# Defining the Apriori columns and droping irrelevant columns"
   ]
  },
  {
   "cell_type": "code",
   "execution_count": 7,
   "metadata": {},
   "outputs": [],
   "source": [
    "apriori_columns = ['id', 'member_id', 'loan_amnt', 'funded_amnt', \n",
    "                   'funded_amnt_inv','term','int_rate',\n",
    "                   'installment','grade','sub_grade','emp_title',\n",
    "                   'emp_length','home_ownership', 'annual_inc',\n",
    "                   'issue_d','url','desc','purpose','title',\n",
    "                   'zip_code','addr_state','dti','delinq_2yrs',\n",
    "                   'earliest_cr_line','fico_range_low',\n",
    "                   'fico_range_high','inq_last_6mths',\n",
    "                   'mths_since_last_delinq','mths_since_last_record',\n",
    "                   'open_acc','pub_rec','revol_bal','revol_util',\n",
    "                   'total_acc','initial_list_status',\n",
    "                   'collections_12_mths_ex_med',\n",
    "                   'mths_since_last_major_derog','application_type',\n",
    "                   'annual_inc_joint','dti_joint','acc_now_delinq',\n",
    "                   'tot_coll_amt','tot_cur_bal','open_acc_6m',\n",
    "                   'open_act_il','open_il_12m','open_il_24m',\n",
    "                   'mths_since_rcnt_il','total_bal_il','il_util',\n",
    "                   'open_rv_12m','open_rv_24m','max_bal_bc','all_util',\n",
    "                   'total_rev_hi_lim','inq_fi','total_cu_tl','inq_last_12m',\n",
    "                   'acc_open_past_24mths','avg_cur_bal','bc_open_to_buy',\n",
    "                   'bc_util','chargeoff_within_12_mths','delinq_amnt',\n",
    "                   'mo_sin_old_rev_tl_op','mo_sin_rcnt_rev_tl_op',\n",
    "                   'mo_sin_rcnt_tl','mort_acc','mths_since_recent_bc',\n",
    "                   'mths_since_recent_revol_delinq','num_accts_ever_120_pd',\n",
    "                   'num_actv_bc_tl','num_actv_rev_tl','num_bc_sats','num_bc_tl',\n",
    "                   'num_il_tl','num_op_rev_tl','num_rev_accts',\n",
    "                   'num_rev_tl_bal_gt_0','num_sats','num_tl_120dpd_2m',\n",
    "                   'num_tl_30dpd','num_tl_90g_dpd_24m','num_tl_op_past_12m',\n",
    "                   'pct_tl_nvr_dlq','percent_bc_gt_75','pub_rec_bankruptcies',\n",
    "                   'tax_liens','tot_hi_cred_lim','total_bal_ex_mort',\n",
    "                   'total_bc_limit','total_il_high_credit_limit',\n",
    "                   'revol_bal_joint','sec_app_fico_range_low',\n",
    "                   'sec_app_fico_range_high','sec_app_earliest_cr_line',\n",
    "                   'sec_app_inq_last_6mths','sec_app_mort_acc',\n",
    "                   'sec_app_open_acc','sec_app_revol_util',\n",
    "                   'sec_app_open_act_il','sec_app_num_rev_accts',\n",
    "                   'sec_app_chargeoff_within_12_mths',\n",
    "                   'sec_app_collections_12_mths_ex_med',\n",
    "                   'sec_app_mths_since_last_major_derog', \n",
    "                   'disbursement_method']"
   ]
  },
  {
   "cell_type": "markdown",
   "metadata": {},
   "source": [
    "## Droping some columns"
   ]
  },
  {
   "cell_type": "code",
   "execution_count": 8,
   "metadata": {},
   "outputs": [],
   "source": [
    "# Drop irrelevant columns\n",
    "hardships = [col for col in accepted.columns if 'hard' in col]\n",
    "hardships.extend(['payment_plan_start_date', 'orig_projected_additional_accrued_interest'])\n",
    "\n",
    "investors = [col for col in accepted.columns if 'inv' in col]\n",
    "\n",
    "secundary_applicants = [col for col in accepted.columns if 'sec' in col]\n",
    "\n",
    "settlements = [col for col in accepted.columns if 'settlement' in col]\n",
    "\n",
    "joint = [col for col in accepted.columns if 'joint' in col]\n",
    "\n",
    "drop_columns = ['member_id', 'url', 'desc', \n",
    "                'pymnt_plan', 'title', \n",
    "                'zip_code', 'disbursement_method',\n",
    "                'next_pymnt_d', 'policy_code',\n",
    "                'deferral_term', 'emp_title',\n",
    "                'application_type']     +\\\n",
    "                hardships + settlements           +\\\n",
    "                secundary_applicants + investors  +\\\n",
    "                joint\n",
    "\n",
    "accepted.drop(columns = drop_columns, inplace = True)\n",
    "\n",
    "# updating the apriori columns list\n",
    "\n",
    "apriori_columns = [col for col in apriori_columns if col not in drop_columns]"
   ]
  },
  {
   "cell_type": "markdown",
   "metadata": {},
   "source": [
    "# From now on, we consider only loans before 2015"
   ]
  },
  {
   "cell_type": "code",
   "execution_count": 9,
   "metadata": {},
   "outputs": [],
   "source": [
    "accepted2 = accepted.loc[accepted['issue_d'] < '2015-01-1', :]"
   ]
  },
  {
   "cell_type": "markdown",
   "metadata": {},
   "source": [
    "# Filling the apriori columns NA's"
   ]
  },
  {
   "cell_type": "markdown",
   "metadata": {},
   "source": [
    "Finding missing values below .01 percent"
   ]
  },
  {
   "cell_type": "code",
   "execution_count": 10,
   "metadata": {},
   "outputs": [
    {
     "data": {
      "text/plain": [
       "pub_rec_bankruptcies          1365\n",
       "revol_util                     340\n",
       "chargeoff_within_12_mths       145\n",
       "collections_12_mths_ex_med     145\n",
       "tax_liens                      105\n",
       "delinq_amnt                     29\n",
       "acc_now_delinq                  29\n",
       "total_acc                       29\n",
       "pub_rec                         29\n",
       "open_acc                        29\n",
       "inq_last_6mths                  29\n",
       "earliest_cr_line                29\n",
       "delinq_2yrs                     29\n",
       "annual_inc                       4\n",
       "dtype: int64"
      ]
     },
     "execution_count": 10,
     "metadata": {},
     "output_type": "execute_result"
    }
   ],
   "source": [
    "null_sum = accepted2[apriori_columns].isnull().sum()\n",
    "p_null_sum = null_sum[null_sum > 0]\n",
    "p_null_sum[p_null_sum.sort_values(ascending = False)/accepted2.shape[0] < .01].sort_values(ascending = False)"
   ]
  },
  {
   "cell_type": "markdown",
   "metadata": {},
   "source": [
    "Fill NA's of pub_rec_bankruptcies and drop observations that have missing values of the rest of the columns"
   ]
  },
  {
   "cell_type": "code",
   "execution_count": 11,
   "metadata": {},
   "outputs": [
    {
     "name": "stderr",
     "output_type": "stream",
     "text": [
      "/usr/local/anaconda3/lib/python3.7/site-packages/pandas/core/generic.py:6287: SettingWithCopyWarning: \n",
      "A value is trying to be set on a copy of a slice from a DataFrame\n",
      "\n",
      "See the caveats in the documentation: http://pandas.pydata.org/pandas-docs/stable/user_guide/indexing.html#returning-a-view-versus-a-copy\n",
      "  self._update_inplace(new_data)\n"
     ]
    }
   ],
   "source": [
    "accepted2['pub_rec_bankruptcies'].fillna(0, inplace = True)"
   ]
  },
  {
   "cell_type": "code",
   "execution_count": 12,
   "metadata": {},
   "outputs": [],
   "source": [
    "columns_na = p_null_sum[p_null_sum.sort_values(ascending = False)/accepted2.shape[0] < .01].index"
   ]
  },
  {
   "cell_type": "code",
   "execution_count": 13,
   "metadata": {},
   "outputs": [],
   "source": [
    "idx = accepted2.loc[accepted2[columns_na].isnull().any(axis = 1), :].index\n",
    "accepted2 = accepted2.drop(index = idx)"
   ]
  },
  {
   "cell_type": "markdown",
   "metadata": {},
   "source": [
    "### Updating the NA list"
   ]
  },
  {
   "cell_type": "code",
   "execution_count": 14,
   "metadata": {},
   "outputs": [
    {
     "data": {
      "text/plain": [
       "open_il_24m                       1.000000\n",
       "open_il_12m                       1.000000\n",
       "total_cu_tl                       1.000000\n",
       "inq_fi                            1.000000\n",
       "all_util                          1.000000\n",
       "max_bal_bc                        1.000000\n",
       "open_rv_24m                       1.000000\n",
       "open_rv_12m                       1.000000\n",
       "il_util                           1.000000\n",
       "total_bal_il                      1.000000\n",
       "mths_since_rcnt_il                1.000000\n",
       "inq_last_12m                      1.000000\n",
       "open_act_il                       1.000000\n",
       "open_acc_6m                       1.000000\n",
       "mths_since_last_record            0.865780\n",
       "mths_since_last_major_derog       0.787687\n",
       "mths_since_recent_revol_delinq    0.701444\n",
       "mths_since_last_delinq            0.537026\n",
       "num_tl_120dpd_2m                  0.167760\n",
       "pct_tl_nvr_dlq                    0.150668\n",
       "avg_cur_bal                       0.150340\n",
       "tot_cur_bal                       0.150340\n",
       "tot_coll_amt                      0.150340\n",
       "total_rev_hi_lim                  0.150340\n",
       "total_il_high_credit_limit        0.150340\n",
       "mo_sin_old_rev_tl_op              0.150340\n",
       "num_bc_tl                         0.150340\n",
       "num_rev_tl_bal_gt_0               0.150340\n",
       "tot_hi_cred_lim                   0.150340\n",
       "num_tl_op_past_12m                0.150340\n",
       "mo_sin_rcnt_rev_tl_op             0.150340\n",
       "mo_sin_rcnt_tl                    0.150340\n",
       "num_tl_90g_dpd_24m                0.150340\n",
       "num_tl_30dpd                      0.150340\n",
       "num_accts_ever_120_pd             0.150340\n",
       "num_actv_bc_tl                    0.150340\n",
       "num_actv_rev_tl                   0.150340\n",
       "num_il_tl                         0.150340\n",
       "num_op_rev_tl                     0.150340\n",
       "num_rev_accts                     0.150340\n",
       "num_bc_sats                       0.125276\n",
       "num_sats                          0.125276\n",
       "bc_util                           0.115488\n",
       "percent_bc_gt_75                  0.115286\n",
       "bc_open_to_buy                    0.115040\n",
       "mths_since_recent_bc              0.114241\n",
       "mort_acc                          0.106924\n",
       "acc_open_past_24mths              0.106924\n",
       "total_bc_limit                    0.106924\n",
       "total_bal_ex_mort                 0.106924\n",
       "emp_length                        0.045088\n",
       "dtype: float64"
      ]
     },
     "execution_count": 14,
     "metadata": {},
     "output_type": "execute_result"
    }
   ],
   "source": [
    "null_sum = accepted2[apriori_columns].isnull().sum()\n",
    "p_null_sum = null_sum[null_sum > 0]\n",
    "p_null_sum.sort_values(ascending = False)/accepted2.shape[0]"
   ]
  },
  {
   "cell_type": "markdown",
   "metadata": {},
   "source": [
    "We drop all the columns that have more than 50% missing values. In this case, the only one that is close to 50% is the mths_since_last_delinq"
   ]
  },
  {
   "cell_type": "code",
   "execution_count": 15,
   "metadata": {},
   "outputs": [],
   "source": [
    "drop_na_columns = p_null_sum[p_null_sum.sort_values(ascending = False)/accepted2.shape[0] > .5].index"
   ]
  },
  {
   "cell_type": "code",
   "execution_count": 16,
   "metadata": {},
   "outputs": [],
   "source": [
    "accepted2.drop(columns = drop_na_columns, inplace = True)\n",
    "\n",
    "# We also update the apriori_columns\n",
    "apriori_columns = [col for col in apriori_columns if col not in drop_na_columns]"
   ]
  },
  {
   "cell_type": "markdown",
   "metadata": {},
   "source": [
    "### Updating the NA list again"
   ]
  },
  {
   "cell_type": "code",
   "execution_count": 17,
   "metadata": {},
   "outputs": [
    {
     "data": {
      "text/plain": [
       "num_tl_120dpd_2m              78158\n",
       "pct_tl_nvr_dlq                70195\n",
       "total_il_high_credit_limit    70042\n",
       "num_rev_accts                 70042\n",
       "mo_sin_old_rev_tl_op          70042\n",
       "num_accts_ever_120_pd         70042\n",
       "num_actv_bc_tl                70042\n",
       "num_actv_rev_tl               70042\n",
       "avg_cur_bal                   70042\n",
       "num_bc_tl                     70042\n",
       "num_il_tl                     70042\n",
       "num_op_rev_tl                 70042\n",
       "num_rev_tl_bal_gt_0           70042\n",
       "mo_sin_rcnt_tl                70042\n",
       "total_rev_hi_lim              70042\n",
       "num_tl_30dpd                  70042\n",
       "num_tl_90g_dpd_24m            70042\n",
       "num_tl_op_past_12m            70042\n",
       "tot_cur_bal                   70042\n",
       "tot_hi_cred_lim               70042\n",
       "tot_coll_amt                  70042\n",
       "mo_sin_rcnt_rev_tl_op         70042\n",
       "num_bc_sats                   58365\n",
       "num_sats                      58365\n",
       "bc_util                       53805\n",
       "percent_bc_gt_75              53711\n",
       "bc_open_to_buy                53596\n",
       "mths_since_recent_bc          53224\n",
       "mort_acc                      49815\n",
       "total_bc_limit                49815\n",
       "acc_open_past_24mths          49815\n",
       "total_bal_ex_mort             49815\n",
       "emp_length                    21006\n",
       "dtype: int64"
      ]
     },
     "execution_count": 17,
     "metadata": {},
     "output_type": "execute_result"
    }
   ],
   "source": [
    "null_sum = accepted2[apriori_columns].isnull().sum()\n",
    "p_null_sum = null_sum[null_sum > 0]\n",
    "p_null_sum.sort_values(ascending = False)"
   ]
  },
  {
   "cell_type": "markdown",
   "metadata": {},
   "source": [
    "### Fill emp_length NA's"
   ]
  },
  {
   "cell_type": "code",
   "execution_count": 18,
   "metadata": {},
   "outputs": [],
   "source": [
    "a = accepted2['emp_length'].value_counts()/accepted2['emp_length'].shape[0]*1000\n",
    "a = a.apply(lambda x: int(x))\n",
    "x = pd.Series(range(1, np.sum(a)+1))\n",
    "\n",
    "n = np.sum(accepted2['emp_length'].isnull())\n",
    "\n",
    "x = x.sample(n, replace = True).reset_index()\\\n",
    ".set_index(accepted2.loc[accepted2['emp_length'].isnull(), 'emp_length'].index)[0]\n",
    "\n",
    "accepted2.fillna({'emp_length':pd.cut(x, bins = [0]+list(np.cumsum(a)), labels = a.index)}, inplace = True)"
   ]
  },
  {
   "cell_type": "code",
   "execution_count": 19,
   "metadata": {},
   "outputs": [
    {
     "data": {
      "text/plain": [
       "num_tl_120dpd_2m              78158\n",
       "pct_tl_nvr_dlq                70195\n",
       "total_il_high_credit_limit    70042\n",
       "num_il_tl                     70042\n",
       "tot_cur_bal                   70042\n",
       "total_rev_hi_lim              70042\n",
       "avg_cur_bal                   70042\n",
       "mo_sin_old_rev_tl_op          70042\n",
       "mo_sin_rcnt_rev_tl_op         70042\n",
       "mo_sin_rcnt_tl                70042\n",
       "num_accts_ever_120_pd         70042\n",
       "num_actv_bc_tl                70042\n",
       "num_actv_rev_tl               70042\n",
       "num_bc_tl                     70042\n",
       "tot_coll_amt                  70042\n",
       "num_op_rev_tl                 70042\n",
       "num_tl_30dpd                  70042\n",
       "tot_hi_cred_lim               70042\n",
       "num_tl_op_past_12m            70042\n",
       "num_tl_90g_dpd_24m            70042\n",
       "num_rev_tl_bal_gt_0           70042\n",
       "num_rev_accts                 70042\n",
       "num_sats                      58365\n",
       "num_bc_sats                   58365\n",
       "bc_util                       53805\n",
       "percent_bc_gt_75              53711\n",
       "bc_open_to_buy                53596\n",
       "mths_since_recent_bc          53224\n",
       "mort_acc                      49815\n",
       "total_bc_limit                49815\n",
       "acc_open_past_24mths          49815\n",
       "total_bal_ex_mort             49815\n",
       "dtype: int64"
      ]
     },
     "execution_count": 19,
     "metadata": {},
     "output_type": "execute_result"
    }
   ],
   "source": [
    "null_sum = accepted2[apriori_columns].isnull().sum()\n",
    "p_null_sum = null_sum[null_sum > 0]\n",
    "p_null_sum.sort_values(ascending = False)"
   ]
  },
  {
   "cell_type": "markdown",
   "metadata": {},
   "source": [
    "### Fill the rest of apriori columns NA's by the median of the sub_grade"
   ]
  },
  {
   "cell_type": "code",
   "execution_count": 20,
   "metadata": {},
   "outputs": [],
   "source": [
    "null_sum = accepted2[apriori_columns].isnull().sum()\n",
    "for col in null_sum[null_sum > 0].index:\n",
    "    a = accepted2.groupby(['sub_grade'])[col].agg('median')\n",
    "    accepted2.fillna({col:accepted2.loc[accepted2[col].isnull(), \n",
    "                                       ['sub_grade', col]].apply(lambda s: a[s[0]], axis = 1)},\n",
    "                     inplace = True)"
   ]
  },
  {
   "cell_type": "code",
   "execution_count": 22,
   "metadata": {},
   "outputs": [
    {
     "data": {
      "text/plain": [
       "Series([], dtype: int64)"
      ]
     },
     "execution_count": 22,
     "metadata": {},
     "output_type": "execute_result"
    }
   ],
   "source": [
    "null_sum = accepted2[apriori_columns].isnull().sum()\n",
    "p_null_sum = null_sum[null_sum > 0]\n",
    "p_null_sum.sort_values(ascending = False)"
   ]
  },
  {
   "cell_type": "markdown",
   "metadata": {},
   "source": [
    "### removing all the non apriori columns with NA's, only keeping last_credit_pull_d"
   ]
  },
  {
   "cell_type": "code",
   "execution_count": 23,
   "metadata": {},
   "outputs": [
    {
     "data": {
      "text/plain": [
       "last_credit_pull_d              38\n",
       "mo_sin_old_il_acct           83339\n",
       "mths_since_recent_bc_dlq    366962\n",
       "mths_since_recent_inq        91827\n",
       "dtype: int64"
      ]
     },
     "execution_count": 23,
     "metadata": {},
     "output_type": "execute_result"
    }
   ],
   "source": [
    "accepted2.isnull().sum()[accepted2.isnull().sum() > 0]"
   ]
  },
  {
   "cell_type": "code",
   "execution_count": 24,
   "metadata": {},
   "outputs": [],
   "source": [
    "accepted2.fillna({'last_credit_pull_d':np.mean(accepted2['last_credit_pull_d'])}, inplace = True)"
   ]
  },
  {
   "cell_type": "code",
   "execution_count": 25,
   "metadata": {},
   "outputs": [],
   "source": [
    "columns_drop = accepted2.isnull().sum()[accepted2.isnull().sum() > 0].index\n",
    "accepted2.drop(columns = columns_drop, inplace = True)"
   ]
  },
  {
   "cell_type": "markdown",
   "metadata": {},
   "source": [
    "### reseting index"
   ]
  },
  {
   "cell_type": "code",
   "execution_count": 26,
   "metadata": {},
   "outputs": [],
   "source": [
    "accepted2.reset_index(drop = True, inplace = True)"
   ]
  },
  {
   "cell_type": "markdown",
   "metadata": {},
   "source": [
    "# Feature engeniering"
   ]
  },
  {
   "cell_type": "markdown",
   "metadata": {},
   "source": [
    "calculate the loan duration in days and months"
   ]
  },
  {
   "cell_type": "code",
   "execution_count": 27,
   "metadata": {},
   "outputs": [],
   "source": [
    "def loan_length(d1, d2):\n",
    "    return (d1.year - d2.year) * 12 + d1.month - d2.month\n",
    "\n",
    "loan_months = []\n",
    "for end, start in zip(accepted2['last_pymnt_d'], accepted2['issue_d']):\n",
    "    loan_months.append(loan_length(end, start))\n",
    "\n",
    "\n",
    "accepted2['duration_days']   = accepted2['last_pymnt_d'] - accepted2['issue_d']\n",
    "accepted2['duration_months'] = loan_months"
   ]
  },
  {
   "cell_type": "code",
   "execution_count": 38,
   "metadata": {},
   "outputs": [],
   "source": [
    "accepted2['duration_days'] = accepted2['duration_days'].dt.days"
   ]
  },
  {
   "cell_type": "markdown",
   "metadata": {},
   "source": [
    "Simplifying loan_status and removing current ones"
   ]
  },
  {
   "cell_type": "code",
   "execution_count": 28,
   "metadata": {},
   "outputs": [],
   "source": [
    "paid_f = ['Fully Paid', 'Does not meet the credit policy. Status:Fully Paid']\n",
    " \n",
    "current = ['Current','In Grace Period']\n",
    "\n",
    "defaulted = ['Default','Does not meet the credit policy. Status:Charged Off', \n",
    "             'Charged Off', 'Late (31-120 days)',  'Late (16-30 days)']\n",
    "\n",
    "accepted2.drop(\n",
    "    index = accepted2.loc[[True if row in current else False for row in accepted2['loan_status']], 'loan_status'].index,\n",
    "    inplace = True)\n",
    "\n",
    "accepted2.loc[:, 'loan_status'] = accepted2['loan_status'].apply(lambda s: 'FullyPaid' if s in paid_f else 'Defaulted')"
   ]
  },
  {
   "cell_type": "markdown",
   "metadata": {},
   "source": [
    "Calculating the investment return"
   ]
  },
  {
   "cell_type": "code",
   "execution_count": 29,
   "metadata": {},
   "outputs": [],
   "source": [
    "accepted2['invest_return_per'] = list(map(lambda x: round(x,2), \n",
    "                                          (accepted2['total_pymnt'] - accepted2['funded_amnt'])/accepted2['funded_amnt']*100))\n",
    "accepted2['invest_return'] = list(map(lambda x: round(x,2), accepted2['total_pymnt'] - accepted2['funded_amnt']))"
   ]
  },
  {
   "cell_type": "markdown",
   "metadata": {},
   "source": [
    "# Saving the new dataset"
   ]
  },
  {
   "cell_type": "code",
   "execution_count": 39,
   "metadata": {},
   "outputs": [],
   "source": [
    "# accepted2.to_csv('/Users/ivanpassoni/Google Drive/LendingClubData/accepted_b_2015.csv', index = False)"
   ]
  },
  {
   "cell_type": "code",
   "execution_count": 34,
   "metadata": {},
   "outputs": [],
   "source": [
    "# # To read accepted2\n",
    "# parse_dates = ['issue_d', 'last_pymnt_d', 'earliest_cr_line', 'last_credit_pull_d']\n",
    "\n",
    "# accepted2 = pd.read_csv('/Users/ivanpassoni/Google Drive/LendingClubData/accepted_b_2015.csv',\n",
    "#                        low_memory = False, dtype = dtypes, parse_dates = parse_dates)"
   ]
  }
 ],
 "metadata": {
  "kernelspec": {
   "display_name": "Python 3",
   "language": "python",
   "name": "python3"
  },
  "language_info": {
   "codemirror_mode": {
    "name": "ipython",
    "version": 3
   },
   "file_extension": ".py",
   "mimetype": "text/x-python",
   "name": "python",
   "nbconvert_exporter": "python",
   "pygments_lexer": "ipython3",
   "version": "3.7.4"
  }
 },
 "nbformat": 4,
 "nbformat_minor": 2
}
