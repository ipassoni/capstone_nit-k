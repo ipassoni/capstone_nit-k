{
 "cells": [
  {
   "cell_type": "code",
   "execution_count": 1,
   "metadata": {},
   "outputs": [],
   "source": [
    "import pandas as pd\n",
    "import numpy as np \n",
    "import seaborn as sns\n",
    "import matplotlib.pyplot as plt\n",
    "import re"
   ]
  },
  {
   "cell_type": "code",
   "execution_count": 2,
   "metadata": {},
   "outputs": [],
   "source": [
    "pd.options.display.max_rows = 1000\n",
    "pd.options.display.max_columns = 50"
   ]
  },
  {
   "cell_type": "code",
   "execution_count": 3,
   "metadata": {},
   "outputs": [
    {
     "name": "stderr",
     "output_type": "stream",
     "text": [
      "/usr/local/anaconda3/lib/python3.7/site-packages/IPython/core/interactiveshell.py:3058: DtypeWarning: Columns (0,19,49,59,118,129,130,131,134,135,136,139,145,146,147) have mixed types. Specify dtype option on import or set low_memory=False.\n",
      "  interactivity=interactivity, compiler=compiler, result=result)\n"
     ]
    }
   ],
   "source": [
    "accepted = pd.read_csv('accepted_2007_to_2018Q4.csv')"
   ]
  },
  {
   "cell_type": "code",
   "execution_count": 4,
   "metadata": {},
   "outputs": [],
   "source": [
    "accepted.drop(index= accepted.loc[accepted['id'].apply(lambda s: len(str(s))) > 10, :].index, inplace = True)"
   ]
  },
  {
   "cell_type": "code",
   "execution_count": 5,
   "metadata": {},
   "outputs": [],
   "source": [
    "accepted['issue_d'] = accepted['issue_d'].apply(lambda s: pd.to_datetime(s, format='%b-%Y'))"
   ]
  },
  {
   "cell_type": "code",
   "execution_count": 17,
   "metadata": {},
   "outputs": [],
   "source": [
    "accepted2 = accepted[accepted['issue_d'] < '2015-01-01']"
   ]
  },
  {
   "cell_type": "code",
   "execution_count": 19,
   "metadata": {},
   "outputs": [],
   "source": [
    "# Fill NA's\n",
    "accepted2.loc[:, 'pub_rec_bankruptcies'] = accepted2['pub_rec_bankruptcies'].fillna(value = 0)"
   ]
  },
  {
   "cell_type": "code",
   "execution_count": 20,
   "metadata": {},
   "outputs": [
    {
     "name": "stderr",
     "output_type": "stream",
     "text": [
      "/usr/local/anaconda3/lib/python3.7/site-packages/ipykernel_launcher.py:16: SettingWithCopyWarning: \n",
      "A value is trying to be set on a copy of a slice from a DataFrame.\n",
      "Try using .loc[row_indexer,col_indexer] = value instead\n",
      "\n",
      "See the caveats in the documentation: http://pandas.pydata.org/pandas-docs/stable/user_guide/indexing.html#returning-a-view-versus-a-copy\n",
      "  app.launch_new_instance()\n",
      "/usr/local/anaconda3/lib/python3.7/site-packages/ipykernel_launcher.py:22: SettingWithCopyWarning: \n",
      "A value is trying to be set on a copy of a slice from a DataFrame.\n",
      "Try using .loc[row_indexer,col_indexer] = value instead\n",
      "\n",
      "See the caveats in the documentation: http://pandas.pydata.org/pandas-docs/stable/user_guide/indexing.html#returning-a-view-versus-a-copy\n"
     ]
    }
   ],
   "source": [
    "from dateutil.relativedelta import relativedelta\n",
    "from datetime import timedelta\n",
    "\n",
    "def increment_months(s, length):\n",
    "    while length >0:\n",
    "        if s.month == 12:\n",
    "            s = s + timedelta(days = 31)\n",
    "        else:\n",
    "            s = s + relativedelta(months = 1)\n",
    "        length -= 1\n",
    "    return s\n",
    "\n",
    "accepted2.loc[~accepted2['last_pymnt_d'].isnull(), 'last_pymnt_d'] = \\\n",
    "    accepted2.loc[~accepted2['last_pymnt_d'].isnull(), 'last_pymnt_d'].apply(lambda s: pd.to_datetime(s, format='%b-%Y'))\n",
    "\n",
    "accepted2['last_pymnt_d'] = accepted2['last_pymnt_d'].astype(np.datetime64)\n",
    "\n",
    "a = accepted2.loc[accepted2['last_pymnt_d'].isnull(), ['issue_d', 'total_pymnt', 'installment']].apply(lambda s: increment_months(s[0],np.floor(s[1]/s[2])), axis = 1)\n",
    "\n",
    "accepted2.loc[accepted2['last_pymnt_d'].isnull(), 'last_pymnt_d'] = a\n",
    "\n",
    "accepted2['last_pymnt_d'] = accepted2['last_pymnt_d'].astype(np.datetime64)\n",
    "\n",
    "a = accepted2['last_credit_pull_d'].apply(lambda s: pd.to_datetime(s, format = '%b-%Y'))\n",
    "\n",
    "accepted2.loc[:, 'last_credit_pull_d'] = a"
   ]
  },
  {
   "cell_type": "code",
   "execution_count": 24,
   "metadata": {},
   "outputs": [
    {
     "data": {
      "text/plain": [
       "id                                                                                     36805548\n",
       "member_id                                                                                   NaN\n",
       "loan_amnt                                                                                 10400\n",
       "funded_amnt                                                                               10400\n",
       "funded_amnt_inv                                                                           10400\n",
       "term                                                                                  36 months\n",
       "int_rate                                                                                   6.99\n",
       "installment                                                                              321.08\n",
       "grade                                                                                         A\n",
       "sub_grade                                                                                    A3\n",
       "emp_title                                                        Truck Driver Delivery Personel\n",
       "emp_length                                                                              8 years\n",
       "home_ownership                                                                         MORTGAGE\n",
       "annual_inc                                                                                58000\n",
       "verification_status                                                                Not Verified\n",
       "issue_d                                                                     2014-12-01 00:00:00\n",
       "loan_status                                                                         Charged Off\n",
       "pymnt_plan                                                                                    n\n",
       "url                                           https://lendingclub.com/browse/loanDetail.acti...\n",
       "desc                                                                                        NaN\n",
       "purpose                                                                             credit_card\n",
       "title                                                                   Credit card refinancing\n",
       "zip_code                                                                                  937xx\n",
       "addr_state                                                                                   CA\n",
       "dti                                                                                       14.92\n",
       "delinq_2yrs                                                                                   0\n",
       "earliest_cr_line                                                                       Sep-1989\n",
       "fico_range_low                                                                              710\n",
       "fico_range_high                                                                             714\n",
       "inq_last_6mths                                                                                2\n",
       "mths_since_last_delinq                                                                       42\n",
       "mths_since_last_record                                                                      NaN\n",
       "open_acc                                                                                     17\n",
       "pub_rec                                                                                       0\n",
       "revol_bal                                                                                  6133\n",
       "revol_util                                                                                 31.6\n",
       "total_acc                                                                                    36\n",
       "initial_list_status                                                                           w\n",
       "out_prncp                                                                                     0\n",
       "out_prncp_inv                                                                                 0\n",
       "total_pymnt                                                                             6611.69\n",
       "total_pymnt_inv                                                                         6611.69\n",
       "total_rec_prncp                                                                         5217.75\n",
       "total_rec_int                                                                            872.67\n",
       "total_rec_late_fee                                                                            0\n",
       "recoveries                                                                               521.27\n",
       "collection_recovery_fee                                                                 93.8286\n",
       "last_pymnt_d                                                                2016-08-01 00:00:00\n",
       "last_pymnt_amnt                                                                          321.08\n",
       "next_pymnt_d                                                                                NaN\n",
       "last_credit_pull_d                                                          2017-02-01 00:00:00\n",
       "last_fico_range_high                                                                        564\n",
       "last_fico_range_low                                                                         560\n",
       "collections_12_mths_ex_med                                                                    0\n",
       "mths_since_last_major_derog                                                                  59\n",
       "policy_code                                                                                   1\n",
       "application_type                                                                     Individual\n",
       "annual_inc_joint                                                                            NaN\n",
       "dti_joint                                                                                   NaN\n",
       "verification_status_joint                                                                   NaN\n",
       "acc_now_delinq                                                                                0\n",
       "tot_coll_amt                                                                                  0\n",
       "tot_cur_bal                                                                              162110\n",
       "open_acc_6m                                                                                 NaN\n",
       "open_act_il                                                                                 NaN\n",
       "open_il_12m                                                                                 NaN\n",
       "open_il_24m                                                                                 NaN\n",
       "mths_since_rcnt_il                                                                          NaN\n",
       "total_bal_il                                                                                NaN\n",
       "il_util                                                                                     NaN\n",
       "open_rv_12m                                                                                 NaN\n",
       "open_rv_24m                                                                                 NaN\n",
       "max_bal_bc                                                                                  NaN\n",
       "all_util                                                                                    NaN\n",
       "total_rev_hi_lim                                                                          19400\n",
       "inq_fi                                                                                      NaN\n",
       "total_cu_tl                                                                                 NaN\n",
       "inq_last_12m                                                                                NaN\n",
       "acc_open_past_24mths                                                                          7\n",
       "avg_cur_bal                                                                                9536\n",
       "bc_open_to_buy                                                                             7599\n",
       "bc_util                                                                                    41.5\n",
       "chargeoff_within_12_mths                                                                      0\n",
       "delinq_amnt                                                                                   0\n",
       "mo_sin_old_il_acct                                                                           76\n",
       "mo_sin_old_rev_tl_op                                                                        290\n",
       "mo_sin_rcnt_rev_tl_op                                                                         1\n",
       "mo_sin_rcnt_tl                                                                                1\n",
       "mort_acc                                                                                      1\n",
       "mths_since_recent_bc                                                                          5\n",
       "mths_since_recent_bc_dlq                                                                     42\n",
       "mths_since_recent_inq                                                                         1\n",
       "mths_since_recent_revol_delinq                                                               42\n",
       "num_accts_ever_120_pd                                                                         4\n",
       "num_actv_bc_tl                                                                                6\n",
       "num_actv_rev_tl                                                                               9\n",
       "num_bc_sats                                                                                   7\n",
       "num_bc_tl                                                                                    18\n",
       "num_il_tl                                                                                     2\n",
       "num_op_rev_tl                                                                                14\n",
       "num_rev_accts                                                                                32\n",
       "num_rev_tl_bal_gt_0                                                                           9\n",
       "num_sats                                                                                     17\n",
       "num_tl_120dpd_2m                                                                              0\n",
       "num_tl_30dpd                                                                                  0\n",
       "num_tl_90g_dpd_24m                                                                            0\n",
       "num_tl_op_past_12m                                                                            4\n",
       "pct_tl_nvr_dlq                                                                             83.3\n",
       "percent_bc_gt_75                                                                           14.3\n",
       "pub_rec_bankruptcies                                                                          0\n",
       "tax_liens                                                                                     0\n",
       "tot_hi_cred_lim                                                                          179407\n",
       "total_bal_ex_mort                                                                         15030\n",
       "total_bc_limit                                                                            13000\n",
       "total_il_high_credit_limit                                                                11325\n",
       "revol_bal_joint                                                                             NaN\n",
       "sec_app_fico_range_low                                                                      NaN\n",
       "sec_app_fico_range_high                                                                     NaN\n",
       "sec_app_earliest_cr_line                                                                    NaN\n",
       "sec_app_inq_last_6mths                                                                      NaN\n",
       "sec_app_mort_acc                                                                            NaN\n",
       "sec_app_open_acc                                                                            NaN\n",
       "sec_app_revol_util                                                                          NaN\n",
       "sec_app_open_act_il                                                                         NaN\n",
       "sec_app_num_rev_accts                                                                       NaN\n",
       "sec_app_chargeoff_within_12_mths                                                            NaN\n",
       "sec_app_collections_12_mths_ex_med                                                          NaN\n",
       "sec_app_mths_since_last_major_derog                                                         NaN\n",
       "hardship_flag                                                                                 N\n",
       "hardship_type                                                                               NaN\n",
       "hardship_reason                                                                             NaN\n",
       "hardship_status                                                                             NaN\n",
       "deferral_term                                                                               NaN\n",
       "hardship_amount                                                                             NaN\n",
       "hardship_start_date                                                                         NaN\n",
       "hardship_end_date                                                                           NaN\n",
       "payment_plan_start_date                                                                     NaN\n",
       "hardship_length                                                                             NaN\n",
       "hardship_dpd                                                                                NaN\n",
       "hardship_loan_status                                                                        NaN\n",
       "orig_projected_additional_accrued_interest                                                  NaN\n",
       "hardship_payoff_balance_amount                                                              NaN\n",
       "hardship_last_payment_amount                                                                NaN\n",
       "disbursement_method                                                                        Cash\n",
       "debt_settlement_flag                                                                          N\n",
       "debt_settlement_flag_date                                                                   NaN\n",
       "settlement_status                                                                           NaN\n",
       "settlement_date                                                                             NaN\n",
       "settlement_amount                                                                           NaN\n",
       "settlement_percentage                                                                       NaN\n",
       "settlement_term                                                                             NaN\n",
       "Name: 1117060, dtype: object"
      ]
     },
     "execution_count": 24,
     "metadata": {},
     "output_type": "execute_result"
    }
   ],
   "source": [
    "accepted2.iloc[0,:]"
   ]
  },
  {
   "cell_type": "code",
   "execution_count": 23,
   "metadata": {
    "scrolled": false
   },
   "outputs": [
    {
     "data": {
      "text/plain": [
       "Series([], dtype: int64)"
      ]
     },
     "execution_count": 23,
     "metadata": {},
     "output_type": "execute_result"
    }
   ],
   "source": [
    "accepted2.isnull().sum()[(accepted2.isnull().sum() >0) &\\\n",
    "                              (accepted2.isnull().sum() < 10000)]"
   ]
  },
  {
   "cell_type": "code",
   "execution_count": 22,
   "metadata": {},
   "outputs": [
    {
     "name": "stderr",
     "output_type": "stream",
     "text": [
      "/usr/local/anaconda3/lib/python3.7/site-packages/pandas/core/frame.py:4102: SettingWithCopyWarning: \n",
      "A value is trying to be set on a copy of a slice from a DataFrame\n",
      "\n",
      "See the caveats in the documentation: http://pandas.pydata.org/pandas-docs/stable/user_guide/indexing.html#returning-a-view-versus-a-copy\n",
      "  errors=errors,\n"
     ]
    }
   ],
   "source": [
    "temp = accepted2.isnull().sum()[(accepted2.isnull().sum() >0) &\\\n",
    "                              (accepted2.isnull().sum() < 10000)].index\n",
    "\n",
    "accepted2.drop(index = accepted2.loc[accepted2[temp].isnull().any(axis = 1), :].index, inplace = True)"
   ]
  },
  {
   "cell_type": "code",
   "execution_count": 25,
   "metadata": {},
   "outputs": [],
   "source": [
    "a = accepted2.groupby(['grade','sub_grade'])['mths_since_last_delinq'].agg('median')\n",
    "\n",
    "accepted2.loc[accepted2['mths_since_last_delinq'].isnull(),'mths_since_last_delinq'] = \\\n",
    "accepted2.loc[accepted2['mths_since_last_delinq'].isnull(), ['grade','sub_grade', 'mths_since_last_delinq']].apply(lambda s: a[s[0], s[1]], axis = 1)"
   ]
  },
  {
   "cell_type": "code",
   "execution_count": 26,
   "metadata": {},
   "outputs": [],
   "source": [
    "#drop columns that have more than 70% NA's\n",
    "mask = accepted2.isnull().sum()[(accepted2.isnull().sum() >0)]/accepted2.shape[0]*100 > 70\n",
    "drop_columns = accepted2.isnull().sum()[(accepted2.isnull().sum() >0)][mask].index\n",
    "\n",
    "accepted2.drop(columns = drop_columns, inplace = True)"
   ]
  },
  {
   "cell_type": "code",
   "execution_count": 53,
   "metadata": {},
   "outputs": [
    {
     "data": {
      "text/plain": [
       "debt_settlement_flag          0\n",
       "initial_list_status           0\n",
       "fico_range_low                0\n",
       "fico_range_high               0\n",
       "inq_last_6mths                0\n",
       "mths_since_last_delinq        0\n",
       "open_acc                      0\n",
       "pub_rec                       0\n",
       "revol_bal                     0\n",
       "revol_util                    0\n",
       "total_acc                     0\n",
       "out_prncp                     0\n",
       "delinq_2yrs                   0\n",
       "out_prncp_inv                 0\n",
       "total_pymnt                   0\n",
       "total_pymnt_inv               0\n",
       "total_rec_prncp               0\n",
       "total_rec_int                 0\n",
       "total_rec_late_fee            0\n",
       "recoveries                    0\n",
       "collection_recovery_fee       0\n",
       "last_pymnt_d                  0\n",
       "earliest_cr_line              0\n",
       "dti                           0\n",
       "disbursement_method           0\n",
       "emp_length                    0\n",
       "loan_amnt                     0\n",
       "funded_amnt                   0\n",
       "funded_amnt_inv               0\n",
       "term                          0\n",
       "int_rate                      0\n",
       "installment                   0\n",
       "grade                         0\n",
       "sub_grade                     0\n",
       "emp_title                     0\n",
       "home_ownership                0\n",
       "addr_state                    0\n",
       "annual_inc                    0\n",
       "verification_status           0\n",
       "issue_d                       0\n",
       "loan_status                   0\n",
       "pymnt_plan                    0\n",
       "url                           0\n",
       "purpose                       0\n",
       "title                         0\n",
       "zip_code                      0\n",
       "last_pymnt_amnt               0\n",
       "last_credit_pull_d            0\n",
       "last_fico_range_high          0\n",
       "num_tl_90g_dpd_24m            0\n",
       "num_bc_sats                   0\n",
       "num_bc_tl                     0\n",
       "num_il_tl                     0\n",
       "num_op_rev_tl                 0\n",
       "num_rev_accts                 0\n",
       "num_rev_tl_bal_gt_0           0\n",
       "num_sats                      0\n",
       "num_tl_120dpd_2m              0\n",
       "num_tl_30dpd                  0\n",
       "num_tl_op_past_12m            0\n",
       "last_fico_range_low           0\n",
       "pct_tl_nvr_dlq                0\n",
       "percent_bc_gt_75              0\n",
       "pub_rec_bankruptcies          0\n",
       "tax_liens                     0\n",
       "tot_hi_cred_lim               0\n",
       "total_bal_ex_mort             0\n",
       "total_bc_limit                0\n",
       "total_il_high_credit_limit    0\n",
       "hardship_flag                 0\n",
       "num_actv_rev_tl               0\n",
       "num_actv_bc_tl                0\n",
       "num_accts_ever_120_pd         0\n",
       "mths_since_recent_inq         0\n",
       "collections_12_mths_ex_med    0\n",
       "policy_code                   0\n",
       "application_type              0\n",
       "acc_now_delinq                0\n",
       "tot_coll_amt                  0\n",
       "tot_cur_bal                   0\n",
       "total_rev_hi_lim              0\n",
       "acc_open_past_24mths          0\n",
       "avg_cur_bal                   0\n",
       "bc_open_to_buy                0\n",
       "bc_util                       0\n",
       "chargeoff_within_12_mths      0\n",
       "delinq_amnt                   0\n",
       "mo_sin_old_il_acct            0\n",
       "mo_sin_old_rev_tl_op          0\n",
       "mo_sin_rcnt_rev_tl_op         0\n",
       "mo_sin_rcnt_tl                0\n",
       "mort_acc                      0\n",
       "mths_since_recent_bc          0\n",
       "id                            0\n",
       "dtype: int64"
      ]
     },
     "execution_count": 53,
     "metadata": {},
     "output_type": "execute_result"
    }
   ],
   "source": [
    "accepted2.isnull().sum().sort_values(ascending = False)"
   ]
  },
  {
   "cell_type": "code",
   "execution_count": 28,
   "metadata": {},
   "outputs": [
    {
     "name": "stderr",
     "output_type": "stream",
     "text": [
      "/usr/local/anaconda3/lib/python3.7/site-packages/pandas/core/generic.py:6287: SettingWithCopyWarning: \n",
      "A value is trying to be set on a copy of a slice from a DataFrame\n",
      "\n",
      "See the caveats in the documentation: http://pandas.pydata.org/pandas-docs/stable/user_guide/indexing.html#returning-a-view-versus-a-copy\n",
      "  self._update_inplace(new_data)\n"
     ]
    }
   ],
   "source": [
    "accepted2.loc[:, 'emp_length'].fillna(value = '2 years', inplace = True)\n",
    "accepted2.loc[:, 'emp_title'].fillna(value = 'not_provided', inplace = True)"
   ]
  },
  {
   "cell_type": "code",
   "execution_count": 49,
   "metadata": {},
   "outputs": [
    {
     "name": "stderr",
     "output_type": "stream",
     "text": [
      "/usr/local/anaconda3/lib/python3.7/site-packages/pandas/core/indexing.py:494: SettingWithCopyWarning: \n",
      "A value is trying to be set on a copy of a slice from a DataFrame.\n",
      "Try using .loc[row_indexer,col_indexer] = value instead\n",
      "\n",
      "See the caveats in the documentation: http://pandas.pydata.org/pandas-docs/stable/user_guide/indexing.html#returning-a-view-versus-a-copy\n",
      "  self.obj[item] = s\n"
     ]
    }
   ],
   "source": [
    "for col in accepted2.isnull().sum()[accepted2.isnull().sum() > 0].index:\n",
    "    a = accepted2.groupby(['grade','sub_grade'])[col].agg('median')\n",
    "    accepted2.loc[accepted2[col].isnull(), col] = \\\n",
    "    accepted2.loc[accepted2[col].isnull(), ['grade','sub_grade', col]].apply(lambda s: a[s[0], s[1]], axis = 1)"
   ]
  },
  {
   "cell_type": "code",
   "execution_count": null,
   "metadata": {},
   "outputs": [],
   "source": [
    "# Installment is calculated by the following formula\n",
    "def installment(loan_amnt, int_rate, term):\n",
    "    r = int_rate/1200\n",
    "    return loan_amnt*r/(1-(1+r)**(-term))"
   ]
  },
  {
   "cell_type": "markdown",
   "metadata": {},
   "source": [
    "$$installment = \\frac{r PV}{1 - (1+r)^{-term}}$$"
   ]
  },
  {
   "cell_type": "code",
   "execution_count": 51,
   "metadata": {},
   "outputs": [],
   "source": [
    "accepted2.to_csv('accepted_before_2015.csv', index = False)"
   ]
  }
 ],
 "metadata": {
  "kernelspec": {
   "display_name": "Python 3",
   "language": "python",
   "name": "python3"
  },
  "language_info": {
   "codemirror_mode": {
    "name": "ipython",
    "version": 3
   },
   "file_extension": ".py",
   "mimetype": "text/x-python",
   "name": "python",
   "nbconvert_exporter": "python",
   "pygments_lexer": "ipython3",
   "version": "3.7.4"
  }
 },
 "nbformat": 4,
 "nbformat_minor": 2
}
